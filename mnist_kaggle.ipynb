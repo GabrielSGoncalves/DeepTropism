{
 "cells": [
  {
   "cell_type": "markdown",
   "metadata": {},
   "source": [
    "## Following MNIST notebook from Kaggle\n",
    "https://www.kaggle.com/sdelecourt/cnn-with-pytorch-for-mnist/notebook"
   ]
  },
  {
   "cell_type": "code",
   "execution_count": 1,
   "metadata": {},
   "outputs": [],
   "source": [
    "import numpy as np # to handle matrix and data operation\n",
    "import pandas as pd # to read csv and handle dataframe\n",
    "\n",
    "import torch\n",
    "import torch.nn as nn\n",
    "import torch.nn.functional as F\n",
    "import torch.utils.data\n",
    "from torch.autograd import Variable\n",
    "\n",
    "from sklearn.model_selection import train_test_split"
   ]
  },
  {
   "cell_type": "code",
   "execution_count": 2,
   "metadata": {},
   "outputs": [
    {
     "name": "stdout",
     "output_type": "stream",
     "text": [
      "(42000, 785)\n"
     ]
    }
   ],
   "source": [
    "df = pd.read_csv('datasets/train_mnist.csv')\n",
    "print(df.shape)"
   ]
  },
  {
   "cell_type": "code",
   "execution_count": 3,
   "metadata": {},
   "outputs": [],
   "source": [
    "y = df['label'].values\n",
    "X = df.drop(['label'],1).values\n",
    "\n",
    "\n",
    "X_train, X_test, y_train, y_test = train_test_split(X, y, test_size=0.15)"
   ]
  },
  {
   "cell_type": "code",
   "execution_count": 4,
   "metadata": {},
   "outputs": [
    {
     "name": "stdout",
     "output_type": "stream",
     "text": [
      "(6300,)\n"
     ]
    }
   ],
   "source": [
    "print(y_test.shape)\n"
   ]
  },
  {
   "cell_type": "code",
   "execution_count": 5,
   "metadata": {},
   "outputs": [],
   "source": [
    "BATCH_SIZE = 32\n",
    "\n",
    "torch_X_train = torch.from_numpy(X_train).type(torch.LongTensor)\n",
    "torch_y_train = torch.from_numpy(y_train).type(torch.LongTensor) # data type is long\n",
    "\n",
    "# create feature and targets tensor for test set.\n",
    "torch_X_test = torch.from_numpy(X_test).type(torch.LongTensor)\n",
    "torch_y_test = torch.from_numpy(y_test).type(torch.LongTensor) # data type is long\n",
    "\n",
    "# Pytorch train and test sets\n",
    "train = torch.utils.data.TensorDataset(torch_X_train,torch_y_train)\n",
    "test = torch.utils.data.TensorDataset(torch_X_test,torch_y_test)\n",
    "\n",
    "# data loader\n",
    "train_loader = torch.utils.data.DataLoader(train, batch_size = BATCH_SIZE, shuffle = False)\n",
    "test_loader = torch.utils.data.DataLoader(test, batch_size = BATCH_SIZE, shuffle = False)"
   ]
  },
  {
   "cell_type": "code",
   "execution_count": 6,
   "metadata": {},
   "outputs": [
    {
     "name": "stdout",
     "output_type": "stream",
     "text": [
      "MLP(\n",
      "  (linear1): Linear(in_features=784, out_features=250, bias=True)\n",
      "  (linear2): Linear(in_features=250, out_features=100, bias=True)\n",
      "  (linear3): Linear(in_features=100, out_features=10, bias=True)\n",
      ")\n"
     ]
    }
   ],
   "source": [
    "class MLP(nn.Module):\n",
    "    def __init__(self):\n",
    "        super(MLP, self).__init__()\n",
    "        self.linear1 = nn.Linear(784,250)\n",
    "        self.linear2 = nn.Linear(250,100)\n",
    "        self.linear3 = nn.Linear(100,10)\n",
    "    \n",
    "    def forward(self,X):\n",
    "        X = F.relu(self.linear1(X))\n",
    "        X = F.relu(self.linear2(X))\n",
    "        X = self.linear3(X)\n",
    "        return F.log_softmax(X, dim=1)\n",
    " \n",
    "mlp = MLP()\n",
    "print(mlp)"
   ]
  },
  {
   "cell_type": "code",
   "execution_count": 19,
   "metadata": {},
   "outputs": [],
   "source": [
    "def fit(model, train_loader):\n",
    "    optimizer = torch.optim.Adam(model.parameters())#,lr=0.001, betas=(0.9,0.999))\n",
    "    error = nn.CrossEntropyLoss()\n",
    "    EPOCHS = 5\n",
    "    model.train()\n",
    "    for epoch in range(EPOCHS):\n",
    "        correct = 0\n",
    "        for batch_idx, (X_batch, y_batch) in enumerate(train_loader):\n",
    "            var_X_batch = Variable(X_batch).float()\n",
    "            var_y_batch = Variable(y_batch)\n",
    "            optimizer.zero_grad()\n",
    "            output = model(var_X_batch)\n",
    "            loss = error(output, var_y_batch)\n",
    "            loss.backward()\n",
    "            optimizer.step()\n",
    "\n",
    "            # Total correct predictions\n",
    "            predicted = torch.max(output.data, 1)[1] \n",
    "            correct += (predicted == var_y_batch).sum()\n",
    "            #print(correct)\n",
    "            if batch_idx % 50 == 0:\n",
    "                print('Epoch : {} [{}/{} ({:.0f}%)]\\tLoss: {:.6f}\\t Accuracy:{:.3f}%'.format(\n",
    "                    epoch, batch_idx*len(X_batch), \n",
    "                    len(train_loader.dataset), 100.*batch_idx / len(train_loader),\n",
    "                    loss.data.item(), \n",
    "                    float(correct*100) / float(BATCH_SIZE*(batch_idx+1))))\n",
    "                "
   ]
  },
  {
   "cell_type": "code",
   "execution_count": 20,
   "metadata": {},
   "outputs": [
    {
     "name": "stdout",
     "output_type": "stream",
     "text": [
      "Epoch : 0 [0/35700 (0%)]\tLoss: 0.268432\t Accuracy:96.875%\n",
      "Epoch : 0 [1600/35700 (4%)]\tLoss: 1.023677\t Accuracy:72.243%\n",
      "Epoch : 0 [3200/35700 (9%)]\tLoss: 1.402571\t Accuracy:78.775%\n",
      "Epoch : 0 [4800/35700 (13%)]\tLoss: 0.075768\t Accuracy:82.036%\n",
      "Epoch : 0 [6400/35700 (18%)]\tLoss: 0.328967\t Accuracy:83.753%\n",
      "Epoch : 0 [8000/35700 (22%)]\tLoss: 0.325341\t Accuracy:85.072%\n",
      "Epoch : 0 [9600/35700 (27%)]\tLoss: 0.880647\t Accuracy:86.057%\n",
      "Epoch : 0 [11200/35700 (31%)]\tLoss: 0.317782\t Accuracy:86.547%\n",
      "Epoch : 0 [12800/35700 (36%)]\tLoss: 0.378937\t Accuracy:86.947%\n",
      "Epoch : 0 [14400/35700 (40%)]\tLoss: 0.471968\t Accuracy:87.327%\n",
      "Epoch : 0 [16000/35700 (45%)]\tLoss: 0.070400\t Accuracy:87.824%\n",
      "Epoch : 0 [17600/35700 (49%)]\tLoss: 0.240379\t Accuracy:88.254%\n",
      "Epoch : 0 [19200/35700 (54%)]\tLoss: 0.143644\t Accuracy:88.597%\n",
      "Epoch : 0 [20800/35700 (58%)]\tLoss: 0.232884\t Accuracy:88.935%\n",
      "Epoch : 0 [22400/35700 (63%)]\tLoss: 0.569138\t Accuracy:89.203%\n",
      "Epoch : 0 [24000/35700 (67%)]\tLoss: 0.286306\t Accuracy:89.564%\n",
      "Epoch : 0 [25600/35700 (72%)]\tLoss: 0.292841\t Accuracy:89.739%\n",
      "Epoch : 0 [27200/35700 (76%)]\tLoss: 0.255589\t Accuracy:90.001%\n",
      "Epoch : 0 [28800/35700 (81%)]\tLoss: 0.476311\t Accuracy:90.119%\n",
      "Epoch : 0 [30400/35700 (85%)]\tLoss: 0.430756\t Accuracy:90.290%\n",
      "Epoch : 0 [32000/35700 (90%)]\tLoss: 0.156811\t Accuracy:90.460%\n",
      "Epoch : 0 [33600/35700 (94%)]\tLoss: 0.090852\t Accuracy:90.628%\n",
      "Epoch : 0 [35200/35700 (99%)]\tLoss: 0.177230\t Accuracy:90.775%\n",
      "Epoch : 1 [0/35700 (0%)]\tLoss: 0.124367\t Accuracy:93.750%\n",
      "Epoch : 1 [1600/35700 (4%)]\tLoss: 0.160879\t Accuracy:95.282%\n",
      "Epoch : 1 [3200/35700 (9%)]\tLoss: 0.303197\t Accuracy:95.575%\n",
      "Epoch : 1 [4800/35700 (13%)]\tLoss: 0.005718\t Accuracy:95.571%\n",
      "Epoch : 1 [6400/35700 (18%)]\tLoss: 0.075095\t Accuracy:95.398%\n",
      "Epoch : 1 [8000/35700 (22%)]\tLoss: 0.059316\t Accuracy:95.418%\n",
      "Epoch : 1 [9600/35700 (27%)]\tLoss: 0.368186\t Accuracy:95.235%\n",
      "Epoch : 1 [11200/35700 (31%)]\tLoss: 0.488232\t Accuracy:95.157%\n",
      "Epoch : 1 [12800/35700 (36%)]\tLoss: 0.086177\t Accuracy:95.137%\n",
      "Epoch : 1 [14400/35700 (40%)]\tLoss: 0.157564\t Accuracy:95.122%\n",
      "Epoch : 1 [16000/35700 (45%)]\tLoss: 0.009857\t Accuracy:95.166%\n",
      "Epoch : 1 [17600/35700 (49%)]\tLoss: 0.074432\t Accuracy:95.225%\n",
      "Epoch : 1 [19200/35700 (54%)]\tLoss: 0.014347\t Accuracy:95.294%\n",
      "Epoch : 1 [20800/35700 (58%)]\tLoss: 0.260605\t Accuracy:95.267%\n",
      "Epoch : 1 [22400/35700 (63%)]\tLoss: 0.269499\t Accuracy:95.266%\n",
      "Epoch : 1 [24000/35700 (67%)]\tLoss: 0.595566\t Accuracy:95.256%\n",
      "Epoch : 1 [25600/35700 (72%)]\tLoss: 0.229065\t Accuracy:95.275%\n",
      "Epoch : 1 [27200/35700 (76%)]\tLoss: 0.106419\t Accuracy:95.296%\n",
      "Epoch : 1 [28800/35700 (81%)]\tLoss: 0.139532\t Accuracy:95.286%\n",
      "Epoch : 1 [30400/35700 (85%)]\tLoss: 0.228680\t Accuracy:95.294%\n",
      "Epoch : 1 [32000/35700 (90%)]\tLoss: 0.187975\t Accuracy:95.305%\n",
      "Epoch : 1 [33600/35700 (94%)]\tLoss: 0.249889\t Accuracy:95.311%\n",
      "Epoch : 1 [35200/35700 (99%)]\tLoss: 0.143377\t Accuracy:95.334%\n",
      "Epoch : 2 [0/35700 (0%)]\tLoss: 0.064580\t Accuracy:96.875%\n",
      "Epoch : 2 [1600/35700 (4%)]\tLoss: 0.062974\t Accuracy:95.833%\n",
      "Epoch : 2 [3200/35700 (9%)]\tLoss: 0.140764\t Accuracy:96.163%\n",
      "Epoch : 2 [4800/35700 (13%)]\tLoss: 0.077622\t Accuracy:96.213%\n",
      "Epoch : 2 [6400/35700 (18%)]\tLoss: 0.057966\t Accuracy:95.958%\n",
      "Epoch : 2 [8000/35700 (22%)]\tLoss: 0.053981\t Accuracy:96.066%\n",
      "Epoch : 2 [9600/35700 (27%)]\tLoss: 0.777593\t Accuracy:95.941%\n",
      "Epoch : 2 [11200/35700 (31%)]\tLoss: 0.045815\t Accuracy:95.869%\n",
      "Epoch : 2 [12800/35700 (36%)]\tLoss: 0.258799\t Accuracy:95.854%\n",
      "Epoch : 2 [14400/35700 (40%)]\tLoss: 0.087791\t Accuracy:95.891%\n",
      "Epoch : 2 [16000/35700 (45%)]\tLoss: 0.035939\t Accuracy:95.964%\n",
      "Epoch : 2 [17600/35700 (49%)]\tLoss: 0.033349\t Accuracy:96.024%\n",
      "Epoch : 2 [19200/35700 (54%)]\tLoss: 0.212383\t Accuracy:96.048%\n",
      "Epoch : 2 [20800/35700 (58%)]\tLoss: 0.298932\t Accuracy:96.078%\n",
      "Epoch : 2 [22400/35700 (63%)]\tLoss: 0.063490\t Accuracy:96.024%\n",
      "Epoch : 2 [24000/35700 (67%)]\tLoss: 0.073507\t Accuracy:96.051%\n",
      "Epoch : 2 [25600/35700 (72%)]\tLoss: 0.134979\t Accuracy:96.079%\n",
      "Epoch : 2 [27200/35700 (76%)]\tLoss: 0.066442\t Accuracy:96.119%\n",
      "Epoch : 2 [28800/35700 (81%)]\tLoss: 0.047743\t Accuracy:96.074%\n",
      "Epoch : 2 [30400/35700 (85%)]\tLoss: 0.310502\t Accuracy:96.067%\n",
      "Epoch : 2 [32000/35700 (90%)]\tLoss: 0.008638\t Accuracy:96.038%\n",
      "Epoch : 2 [33600/35700 (94%)]\tLoss: 0.153908\t Accuracy:96.031%\n",
      "Epoch : 2 [35200/35700 (99%)]\tLoss: 0.080515\t Accuracy:96.046%\n",
      "Epoch : 3 [0/35700 (0%)]\tLoss: 0.007362\t Accuracy:100.000%\n",
      "Epoch : 3 [1600/35700 (4%)]\tLoss: 0.368850\t Accuracy:95.956%\n",
      "Epoch : 3 [3200/35700 (9%)]\tLoss: 0.255971\t Accuracy:96.040%\n",
      "Epoch : 3 [4800/35700 (13%)]\tLoss: 0.004030\t Accuracy:96.316%\n",
      "Epoch : 3 [6400/35700 (18%)]\tLoss: 0.161328\t Accuracy:96.269%\n",
      "Epoch : 3 [8000/35700 (22%)]\tLoss: 0.048261\t Accuracy:96.514%\n",
      "Epoch : 3 [9600/35700 (27%)]\tLoss: 0.274713\t Accuracy:96.564%\n",
      "Epoch : 3 [11200/35700 (31%)]\tLoss: 0.034705\t Accuracy:96.617%\n",
      "Epoch : 3 [12800/35700 (36%)]\tLoss: 0.121938\t Accuracy:96.563%\n",
      "Epoch : 3 [14400/35700 (40%)]\tLoss: 0.139988\t Accuracy:96.584%\n",
      "Epoch : 3 [16000/35700 (45%)]\tLoss: 0.032054\t Accuracy:96.619%\n",
      "Epoch : 3 [17600/35700 (49%)]\tLoss: 0.029453\t Accuracy:96.512%\n",
      "Epoch : 3 [19200/35700 (54%)]\tLoss: 0.061666\t Accuracy:96.506%\n",
      "Epoch : 3 [20800/35700 (58%)]\tLoss: 0.234156\t Accuracy:96.477%\n",
      "Epoch : 3 [22400/35700 (63%)]\tLoss: 0.063990\t Accuracy:96.380%\n",
      "Epoch : 3 [24000/35700 (67%)]\tLoss: 0.035724\t Accuracy:96.409%\n",
      "Epoch : 3 [25600/35700 (72%)]\tLoss: 0.329088\t Accuracy:96.442%\n",
      "Epoch : 3 [27200/35700 (76%)]\tLoss: 0.235439\t Accuracy:96.471%\n",
      "Epoch : 3 [28800/35700 (81%)]\tLoss: 0.192234\t Accuracy:96.424%\n",
      "Epoch : 3 [30400/35700 (85%)]\tLoss: 0.137792\t Accuracy:96.408%\n",
      "Epoch : 3 [32000/35700 (90%)]\tLoss: 0.375181\t Accuracy:96.404%\n",
      "Epoch : 3 [33600/35700 (94%)]\tLoss: 0.039699\t Accuracy:96.361%\n",
      "Epoch : 3 [35200/35700 (99%)]\tLoss: 0.048037\t Accuracy:96.347%\n",
      "Epoch : 4 [0/35700 (0%)]\tLoss: 0.072989\t Accuracy:96.875%\n",
      "Epoch : 4 [1600/35700 (4%)]\tLoss: 0.054433\t Accuracy:97.304%\n",
      "Epoch : 4 [3200/35700 (9%)]\tLoss: 0.145403\t Accuracy:97.246%\n",
      "Epoch : 4 [4800/35700 (13%)]\tLoss: 0.000529\t Accuracy:97.351%\n",
      "Epoch : 4 [6400/35700 (18%)]\tLoss: 0.149293\t Accuracy:97.264%\n",
      "Epoch : 4 [8000/35700 (22%)]\tLoss: 0.126749\t Accuracy:97.236%\n",
      "Epoch : 4 [9600/35700 (27%)]\tLoss: 0.432748\t Accuracy:97.186%\n",
      "Epoch : 4 [11200/35700 (31%)]\tLoss: 0.059835\t Accuracy:97.160%\n",
      "Epoch : 4 [12800/35700 (36%)]\tLoss: 0.002467\t Accuracy:97.163%\n",
      "Epoch : 4 [14400/35700 (40%)]\tLoss: 0.086878\t Accuracy:97.111%\n",
      "Epoch : 4 [16000/35700 (45%)]\tLoss: 0.034068\t Accuracy:97.131%\n",
      "Epoch : 4 [17600/35700 (49%)]\tLoss: 0.159738\t Accuracy:97.108%\n",
      "Epoch : 4 [19200/35700 (54%)]\tLoss: 0.027573\t Accuracy:97.171%\n",
      "Epoch : 4 [20800/35700 (58%)]\tLoss: 0.191775\t Accuracy:97.153%\n",
      "Epoch : 4 [22400/35700 (63%)]\tLoss: 0.110589\t Accuracy:97.134%\n",
      "Epoch : 4 [24000/35700 (67%)]\tLoss: 0.105420\t Accuracy:97.191%\n",
      "Epoch : 4 [25600/35700 (72%)]\tLoss: 0.265157\t Accuracy:97.203%\n",
      "Epoch : 4 [27200/35700 (76%)]\tLoss: 0.119184\t Accuracy:97.217%\n",
      "Epoch : 4 [28800/35700 (81%)]\tLoss: 0.127495\t Accuracy:97.149%\n",
      "Epoch : 4 [30400/35700 (85%)]\tLoss: 0.253058\t Accuracy:97.125%\n",
      "Epoch : 4 [32000/35700 (90%)]\tLoss: 0.061817\t Accuracy:97.156%\n",
      "Epoch : 4 [33600/35700 (94%)]\tLoss: 0.108317\t Accuracy:97.134%\n",
      "Epoch : 4 [35200/35700 (99%)]\tLoss: 0.079113\t Accuracy:97.099%\n"
     ]
    }
   ],
   "source": [
    "fit(mlp, train_loader)\n"
   ]
  },
  {
   "cell_type": "code",
   "execution_count": null,
   "metadata": {},
   "outputs": [],
   "source": []
  }
 ],
 "metadata": {
  "kernelspec": {
   "display_name": "deeptropism",
   "language": "python",
   "name": "deeptropism"
  },
  "language_info": {
   "codemirror_mode": {
    "name": "ipython",
    "version": 3
   },
   "file_extension": ".py",
   "mimetype": "text/x-python",
   "name": "python",
   "nbconvert_exporter": "python",
   "pygments_lexer": "ipython3",
   "version": "3.7.4"
  }
 },
 "nbformat": 4,
 "nbformat_minor": 4
}
