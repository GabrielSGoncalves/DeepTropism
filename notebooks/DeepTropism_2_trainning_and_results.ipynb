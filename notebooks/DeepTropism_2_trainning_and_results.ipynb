{
 "cells": [
  {
   "cell_type": "markdown",
   "metadata": {},
   "source": [
    "# Loading and splitting Dataset\n",
    "The goal of this notebook is to continue the development of the DeepTropism model using a Pytorch.<br>\n",
    "The dataset was already created on the previous notebook and all the HIV-1 env V3 loop sequences where aligned.\n"
   ]
  },
  {
   "cell_type": "code",
   "execution_count": 1,
   "metadata": {},
   "outputs": [],
   "source": [
    "# Libraries used on the analysis\n",
    "import pandas as pd\n",
    "import numpy as np\n",
    "import torch\n",
    "import torch.nn as nn\n",
    "import torch.nn.functional as F\n",
    "import torch.optim as optim\n",
    "import matplotlib.pyplot as plt\n",
    "import os\n",
    "import random"
   ]
  },
  {
   "cell_type": "markdown",
   "metadata": {},
   "source": [
    "First we load the Dataframe with all the sequences published on referenced articles.<br>\n"
   ]
  },
  {
   "cell_type": "code",
   "execution_count": 2,
   "metadata": {},
   "outputs": [
    {
     "data": {
      "text/html": [
       "<div>\n",
       "<style scoped>\n",
       "    .dataframe tbody tr th:only-of-type {\n",
       "        vertical-align: middle;\n",
       "    }\n",
       "\n",
       "    .dataframe tbody tr th {\n",
       "        vertical-align: top;\n",
       "    }\n",
       "\n",
       "    .dataframe thead th {\n",
       "        text-align: right;\n",
       "    }\n",
       "</style>\n",
       "<table border=\"1\" class=\"dataframe\">\n",
       "  <thead>\n",
       "    <tr style=\"text-align: right;\">\n",
       "      <th></th>\n",
       "      <th>seq_name</th>\n",
       "      <th>dataset</th>\n",
       "      <th>sequence</th>\n",
       "      <th>seq_len</th>\n",
       "      <th>sequence_aligned</th>\n",
       "      <th>label</th>\n",
       "      <th>label_numeric</th>\n",
       "    </tr>\n",
       "  </thead>\n",
       "  <tbody>\n",
       "    <tr>\n",
       "      <td>0</td>\n",
       "      <td>X138.EU074781.BG.CXCR4</td>\n",
       "      <td>cm</td>\n",
       "      <td>CRPNNTRKSGPQYTIIGDIAC</td>\n",
       "      <td>21</td>\n",
       "      <td>C-RPNN--TRKS------GPQ-----------YTIIGDIA---C</td>\n",
       "      <td>CXCR4</td>\n",
       "      <td>1</td>\n",
       "    </tr>\n",
       "    <tr>\n",
       "      <td>1</td>\n",
       "      <td>115.KF770295.C.CCR5</td>\n",
       "      <td>cm</td>\n",
       "      <td>CIRPNNNTRKSVRIGPGQTFYATGEIIGDIRKAHC</td>\n",
       "      <td>35</td>\n",
       "      <td>CIRPNNNTRKSVRI----GPGQTFYAT-----GEIIGDIRKAHC</td>\n",
       "      <td>CCR5</td>\n",
       "      <td>0</td>\n",
       "    </tr>\n",
       "    <tr>\n",
       "      <td>2</td>\n",
       "      <td>NIRT379.KF766537.C.CCR5</td>\n",
       "      <td>cm</td>\n",
       "      <td>CIRPNNNTRKSIRIGPGQTFYATGEIIGDIRQAHC</td>\n",
       "      <td>35</td>\n",
       "      <td>CIRPNNNTRKSIRI----GPGQTFYAT-----GEIIGDIRQAHC</td>\n",
       "      <td>CCR5</td>\n",
       "      <td>0</td>\n",
       "    </tr>\n",
       "    <tr>\n",
       "      <td>3</td>\n",
       "      <td>703010167.JQ779893.C.CCR5</td>\n",
       "      <td>cm</td>\n",
       "      <td>CIRPGNNTRKSIRIGPGQTYFSTGEIIGNIRQAHC</td>\n",
       "      <td>35</td>\n",
       "      <td>CIRPGNNTRKSIRI----GPGQTYFST-----GEIIGNIRQAHC</td>\n",
       "      <td>CCR5</td>\n",
       "      <td>0</td>\n",
       "    </tr>\n",
       "    <tr>\n",
       "      <td>4</td>\n",
       "      <td>19956.GU455522.B.CCR5</td>\n",
       "      <td>cm</td>\n",
       "      <td>CIRPNNNTRKSIPMGPGKAFYTTGDIIGDIRQAHC</td>\n",
       "      <td>35</td>\n",
       "      <td>CIRPNNNTRKSIPM----GPGKAFYTT-----GDIIGDIRQAHC</td>\n",
       "      <td>CCR5</td>\n",
       "      <td>0</td>\n",
       "    </tr>\n",
       "  </tbody>\n",
       "</table>\n",
       "</div>"
      ],
      "text/plain": [
       "                    seq_name dataset                             sequence  \\\n",
       "0     X138.EU074781.BG.CXCR4      cm                CRPNNTRKSGPQYTIIGDIAC   \n",
       "1        115.KF770295.C.CCR5      cm  CIRPNNNTRKSVRIGPGQTFYATGEIIGDIRKAHC   \n",
       "2    NIRT379.KF766537.C.CCR5      cm  CIRPNNNTRKSIRIGPGQTFYATGEIIGDIRQAHC   \n",
       "3  703010167.JQ779893.C.CCR5      cm  CIRPGNNTRKSIRIGPGQTYFSTGEIIGNIRQAHC   \n",
       "4      19956.GU455522.B.CCR5      cm  CIRPNNNTRKSIPMGPGKAFYTTGDIIGDIRQAHC   \n",
       "\n",
       "   seq_len                              sequence_aligned  label  label_numeric  \n",
       "0       21  C-RPNN--TRKS------GPQ-----------YTIIGDIA---C  CXCR4              1  \n",
       "1       35  CIRPNNNTRKSVRI----GPGQTFYAT-----GEIIGDIRKAHC   CCR5              0  \n",
       "2       35  CIRPNNNTRKSIRI----GPGQTFYAT-----GEIIGDIRQAHC   CCR5              0  \n",
       "3       35  CIRPGNNTRKSIRI----GPGQTYFST-----GEIIGNIRQAHC   CCR5              0  \n",
       "4       35  CIRPNNNTRKSIPM----GPGKAFYTT-----GDIIGDIRQAHC   CCR5              0  "
      ]
     },
     "execution_count": 2,
     "metadata": {},
     "output_type": "execute_result"
    }
   ],
   "source": [
    "df = pd.read_csv('/home/gabriel/Documents/Repos/DeepTropism/datasets/processed_tsv/deeptropism_profiled_dataset.tsv', \n",
    "                 sep='\\t')\n",
    "df.head()"
   ]
  },
  {
   "cell_type": "code",
   "execution_count": 3,
   "metadata": {},
   "outputs": [
    {
     "data": {
      "text/plain": [
       "(9550, 7)"
      ]
     },
     "execution_count": 3,
     "metadata": {},
     "output_type": "execute_result"
    }
   ],
   "source": [
    "df.shape"
   ]
  },
  {
   "cell_type": "markdown",
   "metadata": {},
   "source": [
    "Check the size of the column of the alig"
   ]
  },
  {
   "cell_type": "code",
   "execution_count": 4,
   "metadata": {},
   "outputs": [
    {
     "data": {
      "text/plain": [
       "{44}"
      ]
     },
     "execution_count": 4,
     "metadata": {},
     "output_type": "execute_result"
    }
   ],
   "source": [
    "set(df['sequence_aligned'].apply(len))"
   ]
  },
  {
   "cell_type": "code",
   "execution_count": 5,
   "metadata": {},
   "outputs": [
    {
     "data": {
      "text/plain": [
       "(9550, 7)"
      ]
     },
     "execution_count": 5,
     "metadata": {},
     "output_type": "execute_result"
    }
   ],
   "source": [
    "df = df[df.label != 'validation']\n",
    "df.shape"
   ]
  },
  {
   "cell_type": "code",
   "execution_count": 6,
   "metadata": {},
   "outputs": [
    {
     "data": {
      "text/plain": [
       "CCR5     7705\n",
       "CXCR4     937\n",
       "R5X4      908\n",
       "Name: label, dtype: int64"
      ]
     },
     "execution_count": 6,
     "metadata": {},
     "output_type": "execute_result"
    }
   ],
   "source": [
    "df.label.value_counts()"
   ]
  },
  {
   "cell_type": "code",
   "execution_count": 7,
   "metadata": {},
   "outputs": [
    {
     "data": {
      "text/plain": [
       "0    7705\n",
       "1    1845\n",
       "Name: label_numeric, dtype: int64"
      ]
     },
     "execution_count": 7,
     "metadata": {},
     "output_type": "execute_result"
    }
   ],
   "source": [
    "df.label_numeric.value_counts()"
   ]
  },
  {
   "cell_type": "markdown",
   "metadata": {},
   "source": [
    "# Filtering the dataset by unique sequences\n",
    "To improve the quality of our training and avoid bias we are going to create a dataset with only unique sequences from the original Dataframe.\n",
    "This is going to be the dataset for the development of our model based on Deep Neural Network."
   ]
  },
  {
   "cell_type": "code",
   "execution_count": 8,
   "metadata": {},
   "outputs": [],
   "source": [
    "df_unique = df.drop_duplicates(subset=['sequence_aligned'], keep='first')"
   ]
  },
  {
   "cell_type": "code",
   "execution_count": 9,
   "metadata": {},
   "outputs": [
    {
     "data": {
      "text/plain": [
       "(3608, 7)"
      ]
     },
     "execution_count": 9,
     "metadata": {},
     "output_type": "execute_result"
    }
   ],
   "source": [
    "df_unique.shape"
   ]
  },
  {
   "cell_type": "code",
   "execution_count": 10,
   "metadata": {},
   "outputs": [
    {
     "data": {
      "text/html": [
       "<div>\n",
       "<style scoped>\n",
       "    .dataframe tbody tr th:only-of-type {\n",
       "        vertical-align: middle;\n",
       "    }\n",
       "\n",
       "    .dataframe tbody tr th {\n",
       "        vertical-align: top;\n",
       "    }\n",
       "\n",
       "    .dataframe thead th {\n",
       "        text-align: right;\n",
       "    }\n",
       "</style>\n",
       "<table border=\"1\" class=\"dataframe\">\n",
       "  <thead>\n",
       "    <tr style=\"text-align: right;\">\n",
       "      <th></th>\n",
       "      <th>seq_name</th>\n",
       "      <th>dataset</th>\n",
       "      <th>sequence</th>\n",
       "      <th>seq_len</th>\n",
       "      <th>sequence_aligned</th>\n",
       "      <th>label</th>\n",
       "      <th>label_numeric</th>\n",
       "    </tr>\n",
       "  </thead>\n",
       "  <tbody>\n",
       "    <tr>\n",
       "      <td>0</td>\n",
       "      <td>X138.EU074781.BG.CXCR4</td>\n",
       "      <td>cm</td>\n",
       "      <td>CRPNNTRKSGPQYTIIGDIAC</td>\n",
       "      <td>21</td>\n",
       "      <td>C-RPNN--TRKS------GPQ-----------YTIIGDIA---C</td>\n",
       "      <td>CXCR4</td>\n",
       "      <td>1</td>\n",
       "    </tr>\n",
       "    <tr>\n",
       "      <td>1</td>\n",
       "      <td>115.KF770295.C.CCR5</td>\n",
       "      <td>cm</td>\n",
       "      <td>CIRPNNNTRKSVRIGPGQTFYATGEIIGDIRKAHC</td>\n",
       "      <td>35</td>\n",
       "      <td>CIRPNNNTRKSVRI----GPGQTFYAT-----GEIIGDIRKAHC</td>\n",
       "      <td>CCR5</td>\n",
       "      <td>0</td>\n",
       "    </tr>\n",
       "    <tr>\n",
       "      <td>2</td>\n",
       "      <td>NIRT379.KF766537.C.CCR5</td>\n",
       "      <td>cm</td>\n",
       "      <td>CIRPNNNTRKSIRIGPGQTFYATGEIIGDIRQAHC</td>\n",
       "      <td>35</td>\n",
       "      <td>CIRPNNNTRKSIRI----GPGQTFYAT-----GEIIGDIRQAHC</td>\n",
       "      <td>CCR5</td>\n",
       "      <td>0</td>\n",
       "    </tr>\n",
       "    <tr>\n",
       "      <td>3</td>\n",
       "      <td>703010167.JQ779893.C.CCR5</td>\n",
       "      <td>cm</td>\n",
       "      <td>CIRPGNNTRKSIRIGPGQTYFSTGEIIGNIRQAHC</td>\n",
       "      <td>35</td>\n",
       "      <td>CIRPGNNTRKSIRI----GPGQTYFST-----GEIIGNIRQAHC</td>\n",
       "      <td>CCR5</td>\n",
       "      <td>0</td>\n",
       "    </tr>\n",
       "    <tr>\n",
       "      <td>4</td>\n",
       "      <td>19956.GU455522.B.CCR5</td>\n",
       "      <td>cm</td>\n",
       "      <td>CIRPNNNTRKSIPMGPGKAFYTTGDIIGDIRQAHC</td>\n",
       "      <td>35</td>\n",
       "      <td>CIRPNNNTRKSIPM----GPGKAFYTT-----GDIIGDIRQAHC</td>\n",
       "      <td>CCR5</td>\n",
       "      <td>0</td>\n",
       "    </tr>\n",
       "  </tbody>\n",
       "</table>\n",
       "</div>"
      ],
      "text/plain": [
       "                    seq_name dataset                             sequence  \\\n",
       "0     X138.EU074781.BG.CXCR4      cm                CRPNNTRKSGPQYTIIGDIAC   \n",
       "1        115.KF770295.C.CCR5      cm  CIRPNNNTRKSVRIGPGQTFYATGEIIGDIRKAHC   \n",
       "2    NIRT379.KF766537.C.CCR5      cm  CIRPNNNTRKSIRIGPGQTFYATGEIIGDIRQAHC   \n",
       "3  703010167.JQ779893.C.CCR5      cm  CIRPGNNTRKSIRIGPGQTYFSTGEIIGNIRQAHC   \n",
       "4      19956.GU455522.B.CCR5      cm  CIRPNNNTRKSIPMGPGKAFYTTGDIIGDIRQAHC   \n",
       "\n",
       "   seq_len                              sequence_aligned  label  label_numeric  \n",
       "0       21  C-RPNN--TRKS------GPQ-----------YTIIGDIA---C  CXCR4              1  \n",
       "1       35  CIRPNNNTRKSVRI----GPGQTFYAT-----GEIIGDIRKAHC   CCR5              0  \n",
       "2       35  CIRPNNNTRKSIRI----GPGQTFYAT-----GEIIGDIRQAHC   CCR5              0  \n",
       "3       35  CIRPGNNTRKSIRI----GPGQTYFST-----GEIIGNIRQAHC   CCR5              0  \n",
       "4       35  CIRPNNNTRKSIPM----GPGKAFYTT-----GDIIGDIRQAHC   CCR5              0  "
      ]
     },
     "execution_count": 10,
     "metadata": {},
     "output_type": "execute_result"
    }
   ],
   "source": [
    "df_unique.head()"
   ]
  },
  {
   "cell_type": "code",
   "execution_count": 11,
   "metadata": {},
   "outputs": [
    {
     "data": {
      "text/plain": [
       "0    2779\n",
       "1     829\n",
       "Name: label_numeric, dtype: int64"
      ]
     },
     "execution_count": 11,
     "metadata": {},
     "output_type": "execute_result"
    }
   ],
   "source": [
    "df_unique.label_numeric.value_counts()"
   ]
  },
  {
   "cell_type": "code",
   "execution_count": 12,
   "metadata": {},
   "outputs": [
    {
     "data": {
      "text/plain": [
       "CCR5     2779\n",
       "R5X4      485\n",
       "CXCR4     344\n",
       "Name: label, dtype: int64"
      ]
     },
     "execution_count": 12,
     "metadata": {},
     "output_type": "execute_result"
    }
   ],
   "source": [
    "df_unique.label.value_counts()"
   ]
  },
  {
   "cell_type": "code",
   "execution_count": 13,
   "metadata": {},
   "outputs": [
    {
     "data": {
      "text/plain": [
       "(3608, 7)"
      ]
     },
     "execution_count": 13,
     "metadata": {},
     "output_type": "execute_result"
    }
   ],
   "source": [
    "df_unique.shape"
   ]
  },
  {
   "cell_type": "markdown",
   "metadata": {},
   "source": [
    "## Creating Dataframes for comparing performance against other methods\n",
    "In order to evaluate our model against the others already published, we are going to create separate Dataframes for each method filterinf by the 'dataset' column"
   ]
  },
  {
   "cell_type": "code",
   "execution_count": 14,
   "metadata": {},
   "outputs": [
    {
     "data": {
      "text/plain": [
       "newdb         2998\n",
       "cm            2679\n",
       "hivcopred     2335\n",
       "geno2pheno    1188\n",
       "webpssm        350\n",
       "Name: dataset, dtype: int64"
      ]
     },
     "execution_count": 14,
     "metadata": {},
     "output_type": "execute_result"
    }
   ],
   "source": [
    "df.dataset.value_counts()"
   ]
  },
  {
   "cell_type": "code",
   "execution_count": 15,
   "metadata": {},
   "outputs": [],
   "source": [
    "df_newdb = df[df.dataset == 'newdb']\n",
    "df_cm = df[df.dataset == 'cm']\n",
    "df_hivcopred = df[df.dataset == 'hivcopred']\n",
    "df_geno2pheno = df[df.dataset == 'geno2pheno']\n",
    "df_webpssm = df[df.dataset == 'webpssm']"
   ]
  },
  {
   "cell_type": "markdown",
   "metadata": {},
   "source": [
    "We are going to create indices and set it to variables to make our cross validation reproducible. Our dataset is going to consist on:<br>\n",
    "* Training = 80 %\n",
    "* Validation = 10 %\n",
    "* Test = 10 %"
   ]
  },
  {
   "cell_type": "code",
   "execution_count": 16,
   "metadata": {},
   "outputs": [],
   "source": [
    "# Create a list of indices and shuffle it using seed\n",
    "random.seed(42)\n",
    "size = df_unique.shape[0]\n",
    "list_indices = list(range(size))\n",
    "random.shuffle(list_indices)"
   ]
  },
  {
   "cell_type": "code",
   "execution_count": 17,
   "metadata": {},
   "outputs": [],
   "source": [
    "# Now create the list of indices for trainning, validation and test\n",
    "test_indices = list_indices[:int(size/10)]\n",
    "train_val_indices = list_indices[int(size/10):]"
   ]
  },
  {
   "cell_type": "code",
   "execution_count": 18,
   "metadata": {},
   "outputs": [
    {
     "data": {
      "text/plain": [
       "360"
      ]
     },
     "execution_count": 18,
     "metadata": {},
     "output_type": "execute_result"
    }
   ],
   "source": [
    "len(test_indices)"
   ]
  },
  {
   "cell_type": "code",
   "execution_count": 19,
   "metadata": {},
   "outputs": [
    {
     "data": {
      "text/plain": [
       "3248"
      ]
     },
     "execution_count": 19,
     "metadata": {},
     "output_type": "execute_result"
    }
   ],
   "source": [
    "len(train_val_indices)"
   ]
  },
  {
   "cell_type": "code",
   "execution_count": 20,
   "metadata": {},
   "outputs": [],
   "source": [
    "assert len(train_val_indices) + len(test_indices) == len(list_indices), \"Splitting indices with error\""
   ]
  },
  {
   "cell_type": "markdown",
   "metadata": {},
   "source": [
    "## Creating the Dataloaders for training"
   ]
  },
  {
   "cell_type": "code",
   "execution_count": 21,
   "metadata": {},
   "outputs": [],
   "source": [
    "def get_array_from_sequence(protein_sequence):\n",
    "    \"\"\"\n",
    "    Function to convert a protein sequence into a tensor.\n",
    "    Each amino acid is represented by an numpy array of zeros of size 26,\n",
    "    and the dict_aa_pos defines the position to be converted to 1.\n",
    "    \n",
    "    The function iterates over the protein sequences and stacks the arrays.\n",
    "    At the end the arrays are linearized and converted to a tensor of size\n",
    "    n x 26, with n the size of the protein.\n",
    "    \n",
    "    If the character is not present on the dict_aa_pos (eg. '-') the respective\n",
    "    array is formed by zeros, and represents a missing value.\n",
    "    \"\"\"\n",
    "    dict_aa_pos = {\n",
    "    'A':1, 'R':2, 'N':3, 'D':4, 'C':5, 'Q':6, 'E':7, 'G':8,\n",
    "    'H':9, 'I':10, 'L':11, 'K':12, 'M':13, 'F':14, 'P':15, \n",
    "    'O':16, 'S':17, 'U':18, 'T':19, 'W':20, 'Y':21, 'V':22, \n",
    "    'B':23, 'Z':24, 'J':25, 'X':0}\n",
    "    \n",
    "    f_array = np.zeros(26)\n",
    "    for aa in protein_sequence:\n",
    "        arr = np.zeros(26)\n",
    "        if dict_aa_pos.get(aa):\n",
    "            arr[dict_aa_pos.get(aa)] = 1\n",
    "        f_array = np.vstack((f_array, arr))\n",
    "    f_array = np.delete(f_array, 0,0)\n",
    "    \n",
    "    #return torch.from_numpy((f_array.flatten()).astype(float))\n",
    "    return f_array.flatten().astype(float)"
   ]
  },
  {
   "cell_type": "code",
   "execution_count": 24,
   "metadata": {},
   "outputs": [],
   "source": [
    "dict_aa_pos = {\n",
    "    'A':1, 'R':2, 'N':3, 'D':4, 'C':5, 'Q':6, 'E':7, 'G':8,\n",
    "    'H':9, 'I':10, 'L':11, 'K':12, 'M':13, 'F':14, 'P':15, \n",
    "    'O':16, 'S':17, 'U':18, 'T':19, 'W':20, 'Y':21, 'V':22, \n",
    "    'B':23, 'Z':24, 'J':25, 'X':0}"
   ]
  },
  {
   "cell_type": "code",
   "execution_count": 25,
   "metadata": {},
   "outputs": [],
   "source": [
    "protein_sequence = 'CTRPSNNTRKSVRI----GPGQAFFAT-----GEIIGDIRQAHC'\n",
    "f_array = np.zeros(26)\n",
    "for aa in protein_sequence:\n",
    "    arr = np.zeros(26)\n",
    "    if dict_aa_pos.get(aa):\n",
    "        arr[dict_aa_pos.get(aa)] = 1\n",
    "    f_array = np.vstack((f_array, arr))\n",
    "f_array = np.delete(f_array, 0,0)"
   ]
  },
  {
   "cell_type": "code",
   "execution_count": 27,
   "metadata": {},
   "outputs": [
    {
     "data": {
      "text/plain": [
       "array([0., 0., 0., 0., 0., 1., 0., 0., 0., 0., 0., 0., 0., 0., 0., 0., 0.,\n",
       "       0., 0., 0., 0., 0., 0., 0., 0., 0.])"
      ]
     },
     "execution_count": 27,
     "metadata": {},
     "output_type": "execute_result"
    }
   ],
   "source": [
    "f_array[0]"
   ]
  },
  {
   "cell_type": "code",
   "execution_count": 68,
   "metadata": {},
   "outputs": [
    {
     "data": {
      "text/plain": [
       "26"
      ]
     },
     "execution_count": 68,
     "metadata": {},
     "output_type": "execute_result"
    }
   ],
   "source": [
    "len(dict_aa_pos.keys())"
   ]
  },
  {
   "cell_type": "code",
   "execution_count": 69,
   "metadata": {},
   "outputs": [],
   "source": [
    "# Create list to append data from the df\n",
    "list_data = []\n",
    "list_labels = []\n",
    "\n",
    "# Convert the sequences and labels to arrays to use as data on pytorch\n",
    "for index, row in df.iterrows():\n",
    "    list_data.append(get_array_from_sequence(str(row.sequence_aligned)))\n",
    "    list_labels.append(int(row.label_numeric))"
   ]
  },
  {
   "cell_type": "code",
   "execution_count": 70,
   "metadata": {},
   "outputs": [
    {
     "data": {
      "text/plain": [
       "True"
      ]
     },
     "execution_count": 70,
     "metadata": {},
     "output_type": "execute_result"
    }
   ],
   "source": [
    "len(list_data) == len(list_labels)"
   ]
  },
  {
   "cell_type": "code",
   "execution_count": 71,
   "metadata": {},
   "outputs": [],
   "source": [
    "# For Test set\n",
    "test_data = []\n",
    "test_label = []\n",
    "for j in test_indices:\n",
    "    test_data.append(list_data[j])\n",
    "    test_label.append(np.array(list_labels[j]))\n",
    "\n",
    "test_tensor_x = torch.stack([torch.from_numpy(i) for i in test_data]) # transform to torch tensors\n",
    "test_tensor_y = torch.stack([torch.from_numpy(i) for i in test_label])\n",
    "\n",
    "test_dataset = torch.utils.data.TensorDataset(test_tensor_x,test_tensor_y) # create your test dataset\n",
    "test_dataloader = torch.utils.data.DataLoader(test_dataset, batch_size=64) # create your dataloader\n"
   ]
  },
  {
   "cell_type": "code",
   "execution_count": 73,
   "metadata": {},
   "outputs": [
    {
     "data": {
      "text/plain": [
       "3248"
      ]
     },
     "execution_count": 73,
     "metadata": {},
     "output_type": "execute_result"
    }
   ],
   "source": [
    "# Now we define the\n",
    "len(train_val_indices)"
   ]
  },
  {
   "cell_type": "code",
   "execution_count": 74,
   "metadata": {},
   "outputs": [],
   "source": [
    "crossval_val_indices = np.array_split(train_val_indices,5)"
   ]
  },
  {
   "cell_type": "code",
   "execution_count": 75,
   "metadata": {},
   "outputs": [
    {
     "data": {
      "text/plain": [
       "650"
      ]
     },
     "execution_count": 75,
     "metadata": {},
     "output_type": "execute_result"
    }
   ],
   "source": [
    "len(crossval_val_indices[0])"
   ]
  },
  {
   "cell_type": "code",
   "execution_count": 77,
   "metadata": {},
   "outputs": [
    {
     "name": "stdout",
     "output_type": "stream",
     "text": [
      "Cross Validation: 1\n",
      "Cross Validation: 2\n",
      "Cross Validation: 3\n",
      "Cross Validation: 4\n",
      "Cross Validation: 5\n"
     ]
    }
   ],
   "source": [
    "# For training and validation set\n",
    "# Define the cross validation indices for training and validation sets\n",
    "crossval_val_indices = np.array_split(train_val_indices,5)\n",
    "\n",
    "# Iterate over crossval_val_indices defining the Dataloaders\n",
    "for n in range(len(crossval_val_indices)):\n",
    "    print(f'Cross Validation: {n + 1}')\n",
    "    training_data = []\n",
    "    training_label = []\n",
    "    validation_data = []\n",
    "    validation_label = []\n",
    "\n",
    "    validation_indices = list(crossval_val_indices[n])\n",
    "    training_indices = list(set(train_val_indices) - set(validation_indices))\n",
    "\n",
    "    for j in validation_indices:\n",
    "        validation_data.append(list_data[j])\n",
    "        validation_label.append(np.array(list_labels[j]))\n",
    "\n",
    "    validation_tensor_x = torch.stack([torch.from_numpy(i) for i in validation_data]) # transform to torch tensors\n",
    "    validation_tensor_y = torch.stack([torch.from_numpy(i) for i in validation_label])\n",
    "\n",
    "    validation_dataset = torch.utils.data.TensorDataset(validation_tensor_x,validation_tensor_y) # create your test dataset\n",
    "    validation_dataloader = torch.utils.data.DataLoader(validation_dataset, batch_size=64) # create your dataloader\n",
    "    \n",
    "    for k in training_indices:\n",
    "        training_data.append(list_data[k])\n",
    "        training_label.append(np.array(list_labels[k]))\n",
    "\n",
    "    training_tensor_x = torch.stack([torch.from_numpy(i) for i in training_data]) # transform to torch tensors\n",
    "    training_tensor_y = torch.stack([torch.from_numpy(i) for i in training_label])\n",
    "\n",
    "    training_dataset = torch.utils.data.TensorDataset(training_tensor_x,training_tensor_y) # create your test dataset\n",
    "    training_dataloader = torch.utils.data.DataLoader(training_dataset, batch_size=64) # create your dataloader"
   ]
  },
  {
   "cell_type": "markdown",
   "metadata": {},
   "source": [
    "## Define the Deep Neural Network Architecture\n"
   ]
  },
  {
   "cell_type": "code",
   "execution_count": 80,
   "metadata": {},
   "outputs": [
    {
     "data": {
      "text/plain": [
       "DeepTropism_1(\n",
       "  (linear1): Linear(in_features=1144, out_features=250, bias=True)\n",
       "  (linear2): Linear(in_features=250, out_features=100, bias=True)\n",
       "  (linear3): Linear(in_features=100, out_features=2, bias=True)\n",
       ")"
      ]
     },
     "execution_count": 80,
     "metadata": {},
     "output_type": "execute_result"
    }
   ],
   "source": [
    "class DeepTropism_1(nn.Module):\n",
    "    def __init__(self):\n",
    "        super(DeepTropism_1, self).__init__()\n",
    "        self.linear1 = nn.Linear(1144,250)\n",
    "        self.linear2 = nn.Linear(250,100)\n",
    "        self.linear3 = nn.Linear(100,2)\n",
    "    \n",
    "    def forward(self,X):\n",
    "        X = F.relu(self.linear1(X))\n",
    "        X = F.relu(self.linear2(X))\n",
    "        X = self.linear3(X)\n",
    "        return F.log_softmax(X, dim=1)\n",
    " \n",
    "model = DeepTropism_1().float()\n",
    "#model = model.float()\n",
    "model"
   ]
  },
  {
   "cell_type": "markdown",
   "metadata": {},
   "source": [
    "### For showing the metrics of the model"
   ]
  },
  {
   "cell_type": "code",
   "execution_count": 81,
   "metadata": {},
   "outputs": [],
   "source": [
    "def show_metrics(y_true, y_score):\n",
    "    # True positive\n",
    "    tp = np.sum(y_true * y_score)\n",
    "    # False positive\n",
    "    fp = np.sum((y_true == 0) * y_score)\n",
    "    # True negative\n",
    "    tn = np.sum((y_true==0) * (y_score==0))\n",
    "    # False negative\n",
    "    fn = np.sum(y_true * (y_score==0))\n",
    "\n",
    "    # True positive rate (sensitivity or recall)\n",
    "    tpr = tp / (tp + fn)\n",
    "    # False positive rate (fall-out)\n",
    "    fpr = fp / (fp + tn)\n",
    "    # Precision\n",
    "    precision = tp / (tp + fp)\n",
    "    # True negatvie tate (specificity)\n",
    "    tnr = 1 - fpr\n",
    "    # F1 score\n",
    "    f1 = 2*tp / (2*tp + fp + fn)\n",
    "    # ROC-AUC for binary classification\n",
    "    auc = (tpr+tnr) / 2\n",
    "    # MCC\n",
    "    mcc = (tp * tn - fp * fn) / np.sqrt((tp + fp) * (tp + fn) * (tn + fp) * (tn + fn))\n",
    "\n",
    "    print(\"True positive: \", tp)\n",
    "    print(\"False positive: \", fp)\n",
    "    print(\"True negative: \", tn)\n",
    "    print(\"False negative: \", fn)\n",
    "\n",
    "    print(\"True positive rate (recall): \", tpr)\n",
    "    print(\"False positive rate: \", fpr)\n",
    "    print(\"Precision: \", precision)\n",
    "    print(\"True negative rate (Specificity): \", tnr)\n",
    "    print(\"F1: \", f1)\n",
    "    print(\"ROC-AUC: \", auc)\n",
    "    print(\"MCC: \", mcc)"
   ]
  },
  {
   "cell_type": "code",
   "execution_count": 82,
   "metadata": {},
   "outputs": [],
   "source": [
    "# Define the Loss Function and Optimizer\n",
    "criterion = nn.CrossEntropyLoss()\n",
    "optimizer = optim.SGD(model.parameters(), lr=0.001, momentum=0.9)"
   ]
  },
  {
   "cell_type": "code",
   "execution_count": 83,
   "metadata": {},
   "outputs": [
    {
     "name": "stdout",
     "output_type": "stream",
     "text": [
      "Cross Validation: 1\n",
      "[1,   1] loss: 0.014330550\n",
      "Neural Network accuracy for validation set 1: 12.46%\n",
      "Neural Network accuracy on test set: 14.44%\n",
      "[21,   1] loss: 0.001926502\n",
      "Neural Network accuracy for validation set 1: 87.54%\n",
      "Neural Network accuracy on test set: 85.56%\n",
      "[41,   1] loss: 0.001328466\n",
      "Neural Network accuracy for validation set 1: 94.46%\n",
      "Neural Network accuracy on test set: 90.56%\n",
      "[61,   1] loss: 0.000966116\n",
      "Neural Network accuracy for validation set 1: 95.54%\n",
      "Neural Network accuracy on test set: 93.06%\n",
      "[81,   1] loss: 0.000792519\n",
      "Neural Network accuracy for validation set 1: 96.0%\n",
      "Neural Network accuracy on test set: 94.72%\n",
      "[101,   1] loss: 0.000720771\n",
      "Neural Network accuracy for validation set 1: 96.31%\n",
      "Neural Network accuracy on test set: 95.28%\n",
      "[121,   1] loss: 0.000680599\n",
      "Neural Network accuracy for validation set 1: 96.15%\n",
      "Neural Network accuracy on test set: 95.0%\n",
      "[141,   1] loss: 0.000659886\n",
      "Neural Network accuracy for validation set 1: 96.15%\n",
      "Neural Network accuracy on test set: 95.56%\n",
      "[161,   1] loss: 0.000646837\n",
      "Neural Network accuracy for validation set 1: 96.0%\n",
      "Neural Network accuracy on test set: 95.56%\n",
      "[181,   1] loss: 0.000633620\n",
      "Neural Network accuracy for validation set 1: 95.85%\n",
      "Neural Network accuracy on test set: 95.56%\n",
      "[201,   1] loss: 0.000623929\n",
      "Neural Network accuracy for validation set 1: 95.38%\n",
      "Neural Network accuracy on test set: 95.56%\n",
      "[221,   1] loss: 0.000613187\n",
      "Neural Network accuracy for validation set 1: 95.23%\n",
      "Neural Network accuracy on test set: 95.56%\n",
      "[241,   1] loss: 0.000604694\n",
      "Neural Network accuracy for validation set 1: 95.23%\n",
      "Neural Network accuracy on test set: 95.56%\n",
      "[261,   1] loss: 0.000592987\n",
      "Neural Network accuracy for validation set 1: 95.23%\n",
      "Neural Network accuracy on test set: 95.56%\n",
      "[281,   1] loss: 0.000586678\n",
      "Neural Network accuracy for validation set 1: 95.08%\n",
      "Neural Network accuracy on test set: 95.56%\n",
      "[301,   1] loss: 0.000580342\n",
      "Neural Network accuracy for validation set 1: 95.08%\n",
      "Neural Network accuracy on test set: 95.56%\n",
      "[321,   1] loss: 0.000577634\n",
      "Neural Network accuracy for validation set 1: 94.92%\n",
      "Neural Network accuracy on test set: 95.28%\n",
      "[341,   1] loss: 0.000572135\n",
      "Neural Network accuracy for validation set 1: 94.62%\n",
      "Neural Network accuracy on test set: 95.28%\n",
      "[361,   1] loss: 0.000570951\n",
      "Neural Network accuracy for validation set 1: 94.77%\n",
      "Neural Network accuracy on test set: 95.28%\n",
      "[381,   1] loss: 0.000557927\n",
      "Neural Network accuracy for validation set 1: 94.46%\n",
      "Neural Network accuracy on test set: 95.56%\n",
      "Finished Training\n",
      "Cross Validation: 2\n",
      "[1,   1] loss: 0.000562810\n",
      "Neural Network accuracy for validation set 2: 97.69%\n",
      "Neural Network accuracy on test set: 95.56%\n",
      "[21,   1] loss: 0.000204013\n",
      "Neural Network accuracy for validation set 2: 97.69%\n",
      "Neural Network accuracy on test set: 95.56%\n",
      "[41,   1] loss: 0.000198511\n",
      "Neural Network accuracy for validation set 2: 97.54%\n",
      "Neural Network accuracy on test set: 95.56%\n",
      "[61,   1] loss: 0.000198046\n",
      "Neural Network accuracy for validation set 2: 97.38%\n",
      "Neural Network accuracy on test set: 95.56%\n",
      "[81,   1] loss: 0.000195891\n",
      "Neural Network accuracy for validation set 2: 97.38%\n",
      "Neural Network accuracy on test set: 95.83%\n",
      "[101,   1] loss: 0.000192569\n",
      "Neural Network accuracy for validation set 2: 97.23%\n",
      "Neural Network accuracy on test set: 95.83%\n",
      "[121,   1] loss: 0.000183739\n",
      "Neural Network accuracy for validation set 2: 97.23%\n",
      "Neural Network accuracy on test set: 95.83%\n",
      "[141,   1] loss: 0.000176496\n",
      "Neural Network accuracy for validation set 2: 97.23%\n",
      "Neural Network accuracy on test set: 96.11%\n",
      "[161,   1] loss: 0.000169122\n",
      "Neural Network accuracy for validation set 2: 97.23%\n",
      "Neural Network accuracy on test set: 96.11%\n",
      "[181,   1] loss: 0.000157524\n",
      "Neural Network accuracy for validation set 2: 97.23%\n",
      "Neural Network accuracy on test set: 96.11%\n",
      "[201,   1] loss: 0.000150143\n",
      "Neural Network accuracy for validation set 2: 97.23%\n",
      "Neural Network accuracy on test set: 96.39%\n",
      "[221,   1] loss: 0.000140835\n",
      "Neural Network accuracy for validation set 2: 97.08%\n",
      "Neural Network accuracy on test set: 96.94%\n",
      "[241,   1] loss: 0.000134627\n",
      "Neural Network accuracy for validation set 2: 97.08%\n",
      "Neural Network accuracy on test set: 96.94%\n",
      "[261,   1] loss: 0.000124335\n",
      "Neural Network accuracy for validation set 2: 97.08%\n",
      "Neural Network accuracy on test set: 97.22%\n",
      "[281,   1] loss: 0.000118782\n",
      "Neural Network accuracy for validation set 2: 96.92%\n",
      "Neural Network accuracy on test set: 97.22%\n",
      "[301,   1] loss: 0.000110039\n",
      "Neural Network accuracy for validation set 2: 96.92%\n",
      "Neural Network accuracy on test set: 97.22%\n",
      "[321,   1] loss: 0.000105488\n",
      "Neural Network accuracy for validation set 2: 96.92%\n",
      "Neural Network accuracy on test set: 97.5%\n",
      "[341,   1] loss: 0.000095632\n",
      "Neural Network accuracy for validation set 2: 96.77%\n",
      "Neural Network accuracy on test set: 97.5%\n",
      "[361,   1] loss: 0.000089086\n",
      "Neural Network accuracy for validation set 2: 96.92%\n",
      "Neural Network accuracy on test set: 97.5%\n",
      "[381,   1] loss: 0.000081512\n",
      "Neural Network accuracy for validation set 2: 96.92%\n",
      "Neural Network accuracy on test set: 97.5%\n",
      "Finished Training\n",
      "Cross Validation: 3\n",
      "[1,   1] loss: 0.000142269\n",
      "Neural Network accuracy for validation set 3: 99.69%\n",
      "Neural Network accuracy on test set: 97.22%\n",
      "[21,   1] loss: 0.000782967\n",
      "Neural Network accuracy for validation set 3: 98.0%\n",
      "Neural Network accuracy on test set: 94.72%\n",
      "[41,   1] loss: 0.000633855\n",
      "Neural Network accuracy for validation set 3: 97.08%\n",
      "Neural Network accuracy on test set: 93.89%\n",
      "[61,   1] loss: 0.000508105\n",
      "Neural Network accuracy for validation set 3: 96.46%\n",
      "Neural Network accuracy on test set: 94.17%\n",
      "[81,   1] loss: 0.000388697\n",
      "Neural Network accuracy for validation set 3: 96.77%\n",
      "Neural Network accuracy on test set: 94.17%\n",
      "[101,   1] loss: 0.000301427\n",
      "Neural Network accuracy for validation set 3: 97.38%\n",
      "Neural Network accuracy on test set: 94.72%\n",
      "[121,   1] loss: 0.000230347\n",
      "Neural Network accuracy for validation set 3: 97.85%\n",
      "Neural Network accuracy on test set: 95.0%\n",
      "[141,   1] loss: 0.000186030\n",
      "Neural Network accuracy for validation set 3: 97.85%\n",
      "Neural Network accuracy on test set: 95.0%\n",
      "[161,   1] loss: 0.000146363\n",
      "Neural Network accuracy for validation set 3: 98.15%\n",
      "Neural Network accuracy on test set: 95.56%\n",
      "[181,   1] loss: 0.000116590\n",
      "Neural Network accuracy for validation set 3: 98.31%\n",
      "Neural Network accuracy on test set: 96.11%\n",
      "[201,   1] loss: 0.000098287\n",
      "Neural Network accuracy for validation set 3: 98.62%\n",
      "Neural Network accuracy on test set: 96.39%\n",
      "[221,   1] loss: 0.000080405\n",
      "Neural Network accuracy for validation set 3: 98.62%\n",
      "Neural Network accuracy on test set: 96.67%\n",
      "[241,   1] loss: 0.000071421\n",
      "Neural Network accuracy for validation set 3: 98.46%\n",
      "Neural Network accuracy on test set: 96.67%\n",
      "[261,   1] loss: 0.000061974\n",
      "Neural Network accuracy for validation set 3: 98.62%\n",
      "Neural Network accuracy on test set: 96.67%\n",
      "[281,   1] loss: 0.000049664\n",
      "Neural Network accuracy for validation set 3: 98.62%\n",
      "Neural Network accuracy on test set: 96.94%\n",
      "[301,   1] loss: 0.000043727\n",
      "Neural Network accuracy for validation set 3: 98.46%\n",
      "Neural Network accuracy on test set: 96.94%\n",
      "[321,   1] loss: 0.000037545\n",
      "Neural Network accuracy for validation set 3: 98.46%\n",
      "Neural Network accuracy on test set: 96.94%\n",
      "[341,   1] loss: 0.000031650\n",
      "Neural Network accuracy for validation set 3: 98.46%\n",
      "Neural Network accuracy on test set: 96.94%\n",
      "[361,   1] loss: 0.000026611\n",
      "Neural Network accuracy for validation set 3: 98.46%\n",
      "Neural Network accuracy on test set: 96.94%\n",
      "[381,   1] loss: 0.000023206\n",
      "Neural Network accuracy for validation set 3: 98.31%\n",
      "Neural Network accuracy on test set: 96.94%\n",
      "Finished Training\n",
      "Cross Validation: 4\n",
      "[1,   1] loss: 0.000050789\n",
      "Neural Network accuracy for validation set 4: 99.54%\n",
      "Neural Network accuracy on test set: 96.94%\n",
      "[21,   1] loss: 0.000061458\n",
      "Neural Network accuracy for validation set 4: 99.38%\n",
      "Neural Network accuracy on test set: 96.67%\n",
      "[41,   1] loss: 0.000053946\n",
      "Neural Network accuracy for validation set 4: 99.23%\n",
      "Neural Network accuracy on test set: 96.39%\n",
      "[61,   1] loss: 0.000046553\n",
      "Neural Network accuracy for validation set 4: 99.23%\n",
      "Neural Network accuracy on test set: 96.39%\n",
      "[81,   1] loss: 0.000040612\n",
      "Neural Network accuracy for validation set 4: 99.08%\n",
      "Neural Network accuracy on test set: 96.67%\n",
      "[101,   1] loss: 0.000036745\n",
      "Neural Network accuracy for validation set 4: 99.08%\n",
      "Neural Network accuracy on test set: 96.67%\n",
      "[121,   1] loss: 0.000034964\n",
      "Neural Network accuracy for validation set 4: 98.92%\n",
      "Neural Network accuracy on test set: 96.67%\n",
      "[141,   1] loss: 0.000032067\n",
      "Neural Network accuracy for validation set 4: 98.92%\n",
      "Neural Network accuracy on test set: 96.67%\n",
      "[161,   1] loss: 0.000029476\n",
      "Neural Network accuracy for validation set 4: 98.92%\n",
      "Neural Network accuracy on test set: 96.67%\n",
      "[181,   1] loss: 0.000027306\n",
      "Neural Network accuracy for validation set 4: 98.77%\n",
      "Neural Network accuracy on test set: 96.67%\n",
      "[201,   1] loss: 0.000026823\n",
      "Neural Network accuracy for validation set 4: 98.77%\n",
      "Neural Network accuracy on test set: 96.67%\n",
      "[221,   1] loss: 0.000024842\n",
      "Neural Network accuracy for validation set 4: 98.77%\n",
      "Neural Network accuracy on test set: 96.67%\n",
      "[241,   1] loss: 0.000023706\n",
      "Neural Network accuracy for validation set 4: 98.77%\n",
      "Neural Network accuracy on test set: 96.67%\n",
      "[261,   1] loss: 0.000022545\n",
      "Neural Network accuracy for validation set 4: 98.77%\n",
      "Neural Network accuracy on test set: 96.67%\n",
      "[281,   1] loss: 0.000021715\n",
      "Neural Network accuracy for validation set 4: 98.77%\n",
      "Neural Network accuracy on test set: 96.67%\n",
      "[301,   1] loss: 0.000020377\n",
      "Neural Network accuracy for validation set 4: 98.77%\n",
      "Neural Network accuracy on test set: 96.67%\n",
      "[321,   1] loss: 0.000019696\n",
      "Neural Network accuracy for validation set 4: 98.77%\n",
      "Neural Network accuracy on test set: 96.67%\n",
      "[341,   1] loss: 0.000018717\n",
      "Neural Network accuracy for validation set 4: 98.77%\n",
      "Neural Network accuracy on test set: 96.67%\n",
      "[361,   1] loss: 0.000017718\n",
      "Neural Network accuracy for validation set 4: 98.77%\n",
      "Neural Network accuracy on test set: 96.67%\n",
      "[381,   1] loss: 0.000016848\n",
      "Neural Network accuracy for validation set 4: 98.77%\n",
      "Neural Network accuracy on test set: 96.67%\n",
      "Finished Training\n",
      "Cross Validation: 5\n",
      "[1,   1] loss: 0.000022690\n",
      "Neural Network accuracy for validation set 5: 99.85%\n",
      "Neural Network accuracy on test set: 96.67%\n",
      "[21,   1] loss: 0.000028128\n",
      "Neural Network accuracy for validation set 5: 99.69%\n",
      "Neural Network accuracy on test set: 96.67%\n",
      "[41,   1] loss: 0.000020890\n",
      "Neural Network accuracy for validation set 5: 99.54%\n",
      "Neural Network accuracy on test set: 96.67%\n",
      "[61,   1] loss: 0.000017474\n",
      "Neural Network accuracy for validation set 5: 99.54%\n",
      "Neural Network accuracy on test set: 96.67%\n",
      "[81,   1] loss: 0.000015056\n",
      "Neural Network accuracy for validation set 5: 99.54%\n",
      "Neural Network accuracy on test set: 96.67%\n",
      "[101,   1] loss: 0.000014427\n",
      "Neural Network accuracy for validation set 5: 99.54%\n",
      "Neural Network accuracy on test set: 96.67%\n",
      "[121,   1] loss: 0.000013649\n",
      "Neural Network accuracy for validation set 5: 99.54%\n",
      "Neural Network accuracy on test set: 96.67%\n",
      "[141,   1] loss: 0.000014300\n",
      "Neural Network accuracy for validation set 5: 99.54%\n",
      "Neural Network accuracy on test set: 96.67%\n",
      "[161,   1] loss: 0.000013320\n",
      "Neural Network accuracy for validation set 5: 99.54%\n",
      "Neural Network accuracy on test set: 96.67%\n",
      "[181,   1] loss: 0.000013232\n",
      "Neural Network accuracy for validation set 5: 99.54%\n",
      "Neural Network accuracy on test set: 96.67%\n",
      "[201,   1] loss: 0.000012110\n",
      "Neural Network accuracy for validation set 5: 99.54%\n",
      "Neural Network accuracy on test set: 96.67%\n",
      "[221,   1] loss: 0.000011890\n",
      "Neural Network accuracy for validation set 5: 99.54%\n",
      "Neural Network accuracy on test set: 96.94%\n",
      "[241,   1] loss: 0.000011463\n",
      "Neural Network accuracy for validation set 5: 99.54%\n",
      "Neural Network accuracy on test set: 96.94%\n",
      "[261,   1] loss: 0.000010717\n",
      "Neural Network accuracy for validation set 5: 99.38%\n",
      "Neural Network accuracy on test set: 96.94%\n",
      "[281,   1] loss: 0.000010663\n",
      "Neural Network accuracy for validation set 5: 99.38%\n",
      "Neural Network accuracy on test set: 96.94%\n",
      "[301,   1] loss: 0.000010224\n",
      "Neural Network accuracy for validation set 5: 99.38%\n",
      "Neural Network accuracy on test set: 96.94%\n",
      "[321,   1] loss: 0.000009549\n",
      "Neural Network accuracy for validation set 5: 99.38%\n",
      "Neural Network accuracy on test set: 96.94%\n",
      "[341,   1] loss: 0.000009733\n",
      "Neural Network accuracy for validation set 5: 99.38%\n",
      "Neural Network accuracy on test set: 96.94%\n",
      "[361,   1] loss: 0.000009270\n",
      "Neural Network accuracy for validation set 5: 99.38%\n",
      "Neural Network accuracy on test set: 96.94%\n",
      "[381,   1] loss: 0.000008819\n",
      "Neural Network accuracy for validation set 5: 99.38%\n",
      "Neural Network accuracy on test set: 96.94%\n",
      "Finished Training\n"
     ]
    }
   ],
   "source": [
    "# For Trainning and validation set DeepTropism_1\n",
    "# Define the cross validation indices for trainning and validation sets\n",
    "crossval_val_indices = np.array_split(train_val_indices,5)\n",
    "\n",
    "# Iterate over crossval_val_indices defining the Dataloaders\n",
    "for n in range(len(crossval_val_indices)):\n",
    "    print(f'Cross Validation: {n + 1}')\n",
    "    trainning_data = []\n",
    "    trainning_label = []\n",
    "    validation_data = []\n",
    "    validation_label = []\n",
    "\n",
    "    validation_indices = list(crossval_val_indices[n])\n",
    "    trainning_indices = list(set(train_val_indices) - set(validation_indices))\n",
    "\n",
    "    for j in validation_indices:\n",
    "        validation_data.append(list_data[j])\n",
    "        validation_label.append(np.array(list_labels[j]))\n",
    "\n",
    "    validation_tensor_x = torch.stack([torch.from_numpy(i) for i in validation_data]) # transform to torch tensors\n",
    "    validation_tensor_y = torch.stack([torch.from_numpy(i) for i in validation_label])\n",
    "\n",
    "    validation_dataset = torch.utils.data.TensorDataset(validation_tensor_x,validation_tensor_y) # create your test dataset\n",
    "    validation_dataloader = torch.utils.data.DataLoader(validation_dataset, batch_size=64) # create your dataloader\n",
    "    \n",
    "    for k in trainning_indices:\n",
    "        trainning_data.append(list_data[k])\n",
    "        trainning_label.append(np.array(list_labels[k]))\n",
    "\n",
    "    trainning_tensor_x = torch.stack([torch.from_numpy(i) for i in trainning_data]) # transform to torch tensors\n",
    "    trainning_tensor_y = torch.stack([torch.from_numpy(i) for i in trainning_label])\n",
    "\n",
    "    trainning_dataset = torch.utils.data.TensorDataset(trainning_tensor_x,trainning_tensor_y) # create your test dataset\n",
    "    trainning_dataloader = torch.utils.data.DataLoader(trainning_dataset, batch_size=64) # create your dataloader\n",
    "    \n",
    "    # Instantiante new model\n",
    "    #model = DeepTropism_1().float()\n",
    "        \n",
    "    # Define Cross Validation Trainning Loop\n",
    "    for epoch in range(400):  # loop over the dataset multiple times\n",
    "\n",
    "        running_loss = 0.0\n",
    "        for i, data in enumerate(trainning_dataloader, 0):\n",
    "            # get the inputs; data is a list of [inputs, labels]\n",
    "            inputs, labels = data\n",
    "\n",
    "            # zero the parameter gradients\n",
    "            optimizer.zero_grad()\n",
    "\n",
    "            # forward + backward + optimize\n",
    "            outputs = model(inputs.float())\n",
    "            loss = criterion(outputs, labels)\n",
    "            loss.backward()\n",
    "            optimizer.step()\n",
    "\n",
    "            # print statistics\n",
    "            running_loss += loss.item()\n",
    "            #print(running_loss)\n",
    "            #if i % 3239 == 0:    # print every 3239 mini-batches\n",
    "            if epoch % 20 == 0 and i % 3248 == 0:\n",
    "                print('[%d, %3d] loss: %.9f' %\n",
    "                      (epoch + 1, i + 1, running_loss / 50))\n",
    "                correct = 0\n",
    "                total = 0\n",
    "                error = 0\n",
    "                labels_array = np.empty([0])\n",
    "                predict_array = np.empty([0])\n",
    "\n",
    "                with torch.no_grad():\n",
    "                    for data in validation_dataloader:\n",
    "                        images, labels = data\n",
    "                        outputs = model(images.float())\n",
    "                        _, predicted = torch.max(outputs.data, 1)\n",
    "\n",
    "                        labels_array = np.concatenate([labels_array, labels])\n",
    "                        predict_array = np.concatenate([predict_array, predicted])\n",
    "\n",
    "                        total += labels.size(0)\n",
    "                        correct += (predicted == labels).sum().item()\n",
    "                        error += (predicted != labels).sum().item()\n",
    "\n",
    "                print(f'Neural Network accuracy for validation set {n + 1}: {round(100.0 * correct/total, 2)}%')\n",
    "                \n",
    "                # Evaluate model against test set\n",
    "                correct = 0\n",
    "                total = 0\n",
    "                error = 0\n",
    "                labels_array = np.empty([0])\n",
    "                predict_array = np.empty([0])\n",
    "\n",
    "                with torch.no_grad():\n",
    "                    for data in test_dataloader:\n",
    "                        images, labels = data\n",
    "                        outputs = model(images.float())\n",
    "                        _, predicted = torch.max(outputs.data, 1)\n",
    "\n",
    "                        labels_array = np.concatenate([labels_array, labels])\n",
    "                        predict_array = np.concatenate([predict_array, predicted])\n",
    "\n",
    "                        total += labels.size(0)\n",
    "                        correct += (predicted == labels).sum().item()\n",
    "                        error += (predicted != labels).sum().item()\n",
    "\n",
    "                print(f'Neural Network accuracy on test set: {round(100.0 * correct/total, 2)}%')\n",
    "\n",
    "                \n",
    "            running_loss = 0.0\n",
    "            \n",
    "            \n",
    "    torch.save(model.state_dict(), f'model_cv{n+1}.ptb')\n",
    "    print('Finished Training')\n",
    "    "
   ]
  },
  {
   "cell_type": "code",
   "execution_count": 84,
   "metadata": {},
   "outputs": [
    {
     "name": "stdout",
     "output_type": "stream",
     "text": [
      "Neural Network accuracy for test set: 96.94%\n"
     ]
    }
   ],
   "source": [
    "correct = 0\n",
    "total = 0\n",
    "error = 0\n",
    "labels_array = np.empty([0])\n",
    "predict_array = np.empty([0])\n",
    "\n",
    "with torch.no_grad():\n",
    "    for data in test_dataloader:\n",
    "        images, labels = data\n",
    "        outputs = model(images.float())\n",
    "        _, predicted = torch.max(outputs.data, 1)\n",
    "        \n",
    "        labels_array = np.concatenate([labels_array, labels])\n",
    "        predict_array = np.concatenate([predict_array, predicted])\n",
    "        \n",
    "        total += labels.size(0)\n",
    "        correct += (predicted == labels).sum().item()\n",
    "        error += (predicted != labels).sum().item()\n",
    "\n",
    "print(f'Neural Network accuracy for test set: {round(100.0 * correct/total, 2)}%')"
   ]
  },
  {
   "cell_type": "code",
   "execution_count": 86,
   "metadata": {},
   "outputs": [
    {
     "name": "stdout",
     "output_type": "stream",
     "text": [
      "True positive:  43.0\n",
      "False positive:  2.0\n",
      "True negative:  306\n",
      "False negative:  9.0\n",
      "True positive rate (recall):  0.8269230769230769\n",
      "False positive rate:  0.006493506493506494\n",
      "Precision:  0.9555555555555556\n",
      "True negative rate (Specificity):  0.9935064935064936\n",
      "F1:  0.8865979381443299\n",
      "ROC-AUC:  0.9102147852147853\n",
      "MCC:  0.872080953293109\n"
     ]
    }
   ],
   "source": [
    "show_metrics(labels_array, predict_array)"
   ]
  },
  {
   "cell_type": "markdown",
   "metadata": {},
   "source": [
    "## Performance of DNN model against published datasets"
   ]
  },
  {
   "cell_type": "markdown",
   "metadata": {},
   "source": [
    "## For Newdb dataset"
   ]
  },
  {
   "cell_type": "code",
   "execution_count": 90,
   "metadata": {},
   "outputs": [],
   "source": [
    "# Create list to append data from the df\n",
    "list_data_newdb = []\n",
    "list_labels_newdb = []\n",
    "\n",
    "# Convert the sequences and labels to arrays to use as data on pytorch\n",
    "for index, row in df_newdb.iterrows():\n",
    "    list_data_newdb.append(get_array_from_sequence(str(row.sequence_aligned)))\n",
    "    list_labels_newdb.append(np.array(int(row.label_numeric)))\n",
    "\n",
    "newdb_tensor_x = torch.stack([torch.from_numpy(i) for i in list_data_newdb]) # transform to torch tensors\n",
    "newdb_tensor_y = torch.stack([torch.from_numpy(i) for i in list_labels_newdb])\n",
    "\n",
    "newdb_dataset = torch.utils.data.TensorDataset(newdb_tensor_x,newdb_tensor_y) # create your test dataset\n",
    "newdb_dataloader = torch.utils.data.DataLoader(newdb_dataset, batch_size=64) # create your dataloader"
   ]
  },
  {
   "cell_type": "code",
   "execution_count": 91,
   "metadata": {},
   "outputs": [
    {
     "name": "stdout",
     "output_type": "stream",
     "text": [
      "Neural Network accuracy on test set: 92.23%\n",
      "True positive:  436.0\n",
      "False positive:  6.0\n",
      "True negative:  2329\n",
      "False negative:  227.0\n",
      "True positive rate (recall):  0.6576168929110106\n",
      "False positive rate:  0.002569593147751606\n",
      "Precision:  0.9864253393665159\n",
      "True negative rate (Specificity):  0.9974304068522484\n",
      "F1:  0.7891402714932126\n",
      "ROC-AUC:  0.8275236498816294\n",
      "MCC:  0.7667985941443346\n",
      "Finished Training\n"
     ]
    }
   ],
   "source": [
    "correct = 0\n",
    "total = 0\n",
    "error = 0\n",
    "labels_array = np.empty([0])\n",
    "predict_array = np.empty([0])\n",
    "\n",
    "with torch.no_grad():\n",
    "    for data in newdb_dataloader:\n",
    "        images, labels = data\n",
    "        outputs = model(images.float())\n",
    "        _, predicted = torch.max(outputs.data, 1)\n",
    "\n",
    "        labels_array = np.concatenate([labels_array, labels])\n",
    "        predict_array = np.concatenate([predict_array, predicted])\n",
    "\n",
    "        total += labels.size(0)\n",
    "        correct += (predicted == labels).sum().item()\n",
    "        error += (predicted != labels).sum().item()\n",
    "\n",
    "print(f'Neural Network accuracy on test set: {round(100.0 * correct/total, 2)}%')\n",
    "show_metrics(labels_array, predict_array)\n",
    "print('Finished Training')"
   ]
  },
  {
   "cell_type": "markdown",
   "metadata": {},
   "source": [
    "## For CM dataset"
   ]
  },
  {
   "cell_type": "code",
   "execution_count": 92,
   "metadata": {},
   "outputs": [],
   "source": [
    "# Create list to append data from the df\n",
    "list_data_cm = []\n",
    "list_labels_cm = []\n",
    "\n",
    "# Convert the sequences and labels to arrays to use as data on pytorch\n",
    "for index, row in df_cm.iterrows():\n",
    "    list_data_cm.append(get_array_from_sequence(str(row.sequence_aligned)))\n",
    "    list_labels_cm.append(np.array(int(row.label_numeric)))\n",
    "\n",
    "cm_tensor_x = torch.stack([torch.from_numpy(i) for i in list_data_cm]) # transform to torch tensors\n",
    "cm_tensor_y = torch.stack([torch.from_numpy(i) for i in list_labels_cm])\n",
    "\n",
    "cm_dataset = torch.utils.data.TensorDataset(cm_tensor_x,cm_tensor_y) # create your test dataset\n",
    "cm_dataloader = torch.utils.data.DataLoader(cm_dataset, batch_size=64) # create your dataloader"
   ]
  },
  {
   "cell_type": "code",
   "execution_count": 93,
   "metadata": {},
   "outputs": [
    {
     "name": "stdout",
     "output_type": "stream",
     "text": [
      "Neural Network accuracy on test set: 99.81%\n",
      "True positive:  322.0\n",
      "False positive:  2.0\n",
      "True negative:  2352\n",
      "False negative:  3.0\n",
      "True positive rate (recall):  0.9907692307692307\n",
      "False positive rate:  0.0008496176720475786\n",
      "Precision:  0.9938271604938271\n",
      "True negative rate (Specificity):  0.9991503823279524\n",
      "F1:  0.9922958397534669\n",
      "ROC-AUC:  0.9949598065485916\n",
      "MCC:  0.9912355694326168\n"
     ]
    }
   ],
   "source": [
    "correct = 0\n",
    "total = 0\n",
    "error = 0\n",
    "labels_array = np.empty([0])\n",
    "predict_array = np.empty([0])\n",
    "\n",
    "with torch.no_grad():\n",
    "    for data in cm_dataloader:\n",
    "        images, labels = data\n",
    "        outputs = model(images.float())\n",
    "        _, predicted = torch.max(outputs.data, 1)\n",
    "\n",
    "        labels_array = np.concatenate([labels_array, labels])\n",
    "        predict_array = np.concatenate([predict_array, predicted])\n",
    "\n",
    "        total += labels.size(0)\n",
    "        correct += (predicted == labels).sum().item()\n",
    "        error += (predicted != labels).sum().item()\n",
    "\n",
    "print(f'Neural Network accuracy on test set: {round(100.0 * correct/total, 2)}%')\n",
    "show_metrics(labels_array, predict_array)"
   ]
  },
  {
   "cell_type": "markdown",
   "metadata": {},
   "source": [
    "## For hivcopred dataset"
   ]
  },
  {
   "cell_type": "code",
   "execution_count": 94,
   "metadata": {},
   "outputs": [],
   "source": [
    "# Create list to append data from the df\n",
    "list_data_hivcopred = []\n",
    "list_labels_hivcopred = []\n",
    "\n",
    "# Convert the sequences and labels to arrays to use as data on pytorch\n",
    "for index, row in df_hivcopred.iterrows():\n",
    "    list_data_hivcopred.append(get_array_from_sequence(str(row.sequence_aligned)))\n",
    "    list_labels_hivcopred.append(np.array(int(row.label_numeric)))\n",
    "\n",
    "hivcopred_tensor_x = torch.stack([torch.from_numpy(i) for i in list_data_hivcopred]) # transform to torch tensors\n",
    "hivcopred_tensor_y = torch.stack([torch.from_numpy(i) for i in list_labels_hivcopred])\n",
    "\n",
    "hivcopred_dataset = torch.utils.data.TensorDataset(hivcopred_tensor_x,hivcopred_tensor_y) # create your test dataset\n",
    "hivcopred_dataloader = torch.utils.data.DataLoader(hivcopred_dataset, batch_size=64) # create your dataloader"
   ]
  },
  {
   "cell_type": "code",
   "execution_count": 95,
   "metadata": {},
   "outputs": [
    {
     "name": "stdout",
     "output_type": "stream",
     "text": [
      "Neural Network accuracy on hivcopred set: 91.43%\n",
      "True positive:  373.0\n",
      "False positive:  6.0\n",
      "True negative:  1762\n",
      "False negative:  194.0\n",
      "True positive rate (recall):  0.6578483245149912\n",
      "False positive rate:  0.003393665158371041\n",
      "Precision:  0.9841688654353562\n",
      "True negative rate (Specificity):  0.996606334841629\n",
      "F1:  0.7885835095137421\n",
      "ROC-AUC:  0.8272273296783101\n",
      "MCC:  0.7610412438737292\n"
     ]
    }
   ],
   "source": [
    "correct = 0\n",
    "total = 0\n",
    "error = 0\n",
    "labels_array = np.empty([0])\n",
    "predict_array = np.empty([0])\n",
    "\n",
    "with torch.no_grad():\n",
    "    for data in hivcopred_dataloader:\n",
    "        images, labels = data\n",
    "        outputs = model(images.float())\n",
    "        _, predicted = torch.max(outputs.data, 1)\n",
    "\n",
    "        labels_array = np.concatenate([labels_array, labels])\n",
    "        predict_array = np.concatenate([predict_array, predicted])\n",
    "\n",
    "        total += labels.size(0)\n",
    "        correct += (predicted == labels).sum().item()\n",
    "        error += (predicted != labels).sum().item()\n",
    "\n",
    "print(f'Neural Network accuracy on hivcopred set: {round(100.0 * correct/total, 2)}%')\n",
    "show_metrics(labels_array, predict_array)"
   ]
  },
  {
   "cell_type": "markdown",
   "metadata": {},
   "source": [
    "## For geno2pheno dataset"
   ]
  },
  {
   "cell_type": "code",
   "execution_count": 96,
   "metadata": {},
   "outputs": [],
   "source": [
    "# Create list to append data from the df\n",
    "list_data_geno2pheno = []\n",
    "list_labels_geno2pheno = []\n",
    "\n",
    "# Convert the sequences and labels to arrays to use as data on pytorch\n",
    "for index, row in df_geno2pheno.iterrows():\n",
    "    list_data_geno2pheno.append(get_array_from_sequence(str(row.sequence_aligned)))\n",
    "    list_labels_geno2pheno.append(np.array(int(row.label_numeric)))\n",
    "\n",
    "geno2pheno_tensor_x = torch.stack([torch.from_numpy(i) for i in list_data_geno2pheno]) # transform to torch tensors\n",
    "geno2pheno_tensor_y = torch.stack([torch.from_numpy(i) for i in list_labels_geno2pheno])\n",
    "\n",
    "geno2pheno_dataset = torch.utils.data.TensorDataset(geno2pheno_tensor_x,geno2pheno_tensor_y) # create your test dataset\n",
    "geno2pheno_dataloader = torch.utils.data.DataLoader(geno2pheno_dataset, batch_size=64) # create your dataloader"
   ]
  },
  {
   "cell_type": "code",
   "execution_count": 97,
   "metadata": {},
   "outputs": [
    {
     "name": "stdout",
     "output_type": "stream",
     "text": [
      "Neural Network accuracy on hivcopred set: 96.89%\n",
      "True positive:  182.0\n",
      "False positive:  4.0\n",
      "True negative:  969\n",
      "False negative:  33.0\n",
      "True positive rate (recall):  0.8465116279069768\n",
      "False positive rate:  0.0041109969167523125\n",
      "Precision:  0.978494623655914\n",
      "True negative rate (Specificity):  0.9958890030832477\n",
      "F1:  0.9077306733167082\n",
      "ROC-AUC:  0.9212003154951123\n",
      "MCC:  0.8924913193036215\n"
     ]
    }
   ],
   "source": [
    "correct = 0\n",
    "total = 0\n",
    "error = 0\n",
    "labels_array = np.empty([0])\n",
    "predict_array = np.empty([0])\n",
    "\n",
    "with torch.no_grad():\n",
    "    for data in geno2pheno_dataloader:\n",
    "        images, labels = data\n",
    "        outputs = model(images.float())\n",
    "        _, predicted = torch.max(outputs.data, 1)\n",
    "\n",
    "        labels_array = np.concatenate([labels_array, labels])\n",
    "        predict_array = np.concatenate([predict_array, predicted])\n",
    "\n",
    "        total += labels.size(0)\n",
    "        correct += (predicted == labels).sum().item()\n",
    "        error += (predicted != labels).sum().item()\n",
    "\n",
    "print(f'Neural Network accuracy on hivcopred set: {round(100.0 * correct/total, 2)}%')\n",
    "show_metrics(labels_array, predict_array)"
   ]
  },
  {
   "cell_type": "markdown",
   "metadata": {},
   "source": [
    "## For webpssm"
   ]
  },
  {
   "cell_type": "code",
   "execution_count": 98,
   "metadata": {},
   "outputs": [],
   "source": [
    "# Create list to append data from the df\n",
    "list_data_webpssm = []\n",
    "list_labels_webpssm = []\n",
    "\n",
    "# Convert the sequences and labels to arrays to use as data on pytorch\n",
    "for index, row in df_webpssm.iterrows():\n",
    "    list_data_webpssm.append(get_array_from_sequence(str(row.sequence_aligned)))\n",
    "    list_labels_webpssm.append(np.array(int(row.label_numeric)))\n",
    "\n",
    "webpssm_tensor_x = torch.stack([torch.from_numpy(i) for i in list_data_webpssm]) # transform to torch tensors\n",
    "webpssm_tensor_y = torch.stack([torch.from_numpy(i) for i in list_labels_webpssm])\n",
    "\n",
    "webpssm_dataset = torch.utils.data.TensorDataset(webpssm_tensor_x,webpssm_tensor_y) # create your test dataset\n",
    "webpssm_dataloader = torch.utils.data.DataLoader(webpssm_dataset, batch_size=64) # create your dataloader"
   ]
  },
  {
   "cell_type": "code",
   "execution_count": 99,
   "metadata": {},
   "outputs": [
    {
     "name": "stdout",
     "output_type": "stream",
     "text": [
      "Neural Network accuracy on webpssm set: 92.86%\n",
      "True positive:  54.0\n",
      "False positive:  4.0\n",
      "True negative:  271\n",
      "False negative:  21.0\n",
      "True positive rate (recall):  0.72\n",
      "False positive rate:  0.014545454545454545\n",
      "Precision:  0.9310344827586207\n",
      "True negative rate (Specificity):  0.9854545454545455\n",
      "F1:  0.8120300751879699\n",
      "ROC-AUC:  0.8527272727272728\n",
      "MCC:  0.7785035408587704\n"
     ]
    }
   ],
   "source": [
    "correct = 0\n",
    "total = 0\n",
    "error = 0\n",
    "labels_array = np.empty([0])\n",
    "predict_array = np.empty([0])\n",
    "\n",
    "with torch.no_grad():\n",
    "    for data in webpssm_dataloader:\n",
    "        images, labels = data\n",
    "        outputs = model(images.float())\n",
    "        _, predicted = torch.max(outputs.data, 1)\n",
    "\n",
    "        labels_array = np.concatenate([labels_array, labels])\n",
    "        predict_array = np.concatenate([predict_array, predicted])\n",
    "\n",
    "        total += labels.size(0)\n",
    "        correct += (predicted == labels).sum().item()\n",
    "        error += (predicted != labels).sum().item()\n",
    "\n",
    "print(f'Neural Network accuracy on webpssm set: {round(100.0 * correct/total, 2)}%')\n",
    "show_metrics(labels_array, predict_array)"
   ]
  },
  {
   "cell_type": "code",
   "execution_count": null,
   "metadata": {},
   "outputs": [],
   "source": []
  },
  {
   "cell_type": "code",
   "execution_count": null,
   "metadata": {},
   "outputs": [],
   "source": []
  }
 ],
 "metadata": {
  "kernelspec": {
   "display_name": "deeptropism",
   "language": "python",
   "name": "deeptropism"
  },
  "language_info": {
   "codemirror_mode": {
    "name": "ipython",
    "version": 3
   },
   "file_extension": ".py",
   "mimetype": "text/x-python",
   "name": "python",
   "nbconvert_exporter": "python",
   "pygments_lexer": "ipython3",
   "version": "3.7.4"
  }
 },
 "nbformat": 4,
 "nbformat_minor": 4
}
