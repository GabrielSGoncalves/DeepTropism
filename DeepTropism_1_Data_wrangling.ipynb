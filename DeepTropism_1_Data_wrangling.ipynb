{
 "cells": [
  {
   "cell_type": "markdown",
   "metadata": {},
   "source": [
    "# DeepTropism Notebook 1 - Data Wrangling\n",
    "On this notebook we are going to start organizing our HIV-1 V3 loop Dataset to develop the Deep Learning model.<br>\n",
    "The goal of our model is to define the tropism of the virus solely based on the aminoacid sequence of virus V3 loop."
   ]
  },
  {
   "cell_type": "code",
   "execution_count": 16,
   "metadata": {},
   "outputs": [],
   "source": [
    "import pandas as pd\n",
    "import numpy as np\n",
    "import torch\n",
    "import torch.nn.functional as F\n",
    "import torchvision\n",
    "import matplotlib.pyplot as plt\n",
    "import os"
   ]
  },
  {
   "cell_type": "code",
   "execution_count": 130,
   "metadata": {},
   "outputs": [
    {
     "name": "stdout",
     "output_type": "stream",
     "text": [
      "/home/gabriel/Documents/Repos/DeepTropism/datasets\n"
     ]
    }
   ],
   "source": [
    "cd datasets"
   ]
  },
  {
   "cell_type": "markdown",
   "metadata": {},
   "source": [
    "## Creating one Dataframe with all the sequences from the different datasets"
   ]
  },
  {
   "cell_type": "code",
   "execution_count": 23,
   "metadata": {},
   "outputs": [],
   "source": [
    "df_newdb = pd.read_csv('datasets/processed_tsv/newdb_all.tsv', sep='\\t',\n",
    "                       names=['seq_name', 'dataset', 'label', 'sequence'])\n",
    "df_webpssm = pd.read_csv('datasets/processed_tsv/webpssm_all.tsv',sep='\\t',\n",
    "                       names=['seq_name', 'dataset', 'label', 'sequence'])\n",
    "df_hivcopred = pd.read_csv('datasets/processed_tsv/hivcopred_all.tsv',sep='\\t',\n",
    "                       names=['seq_name', 'dataset', 'label', 'sequence'])"
   ]
  },
  {
   "cell_type": "code",
   "execution_count": 24,
   "metadata": {},
   "outputs": [
    {
     "data": {
      "text/html": [
       "<div>\n",
       "<style scoped>\n",
       "    .dataframe tbody tr th:only-of-type {\n",
       "        vertical-align: middle;\n",
       "    }\n",
       "\n",
       "    .dataframe tbody tr th {\n",
       "        vertical-align: top;\n",
       "    }\n",
       "\n",
       "    .dataframe thead th {\n",
       "        text-align: right;\n",
       "    }\n",
       "</style>\n",
       "<table border=\"1\" class=\"dataframe\">\n",
       "  <thead>\n",
       "    <tr style=\"text-align: right;\">\n",
       "      <th></th>\n",
       "      <th>seq_name</th>\n",
       "      <th>dataset</th>\n",
       "      <th>label</th>\n",
       "      <th>sequence</th>\n",
       "    </tr>\n",
       "  </thead>\n",
       "  <tbody>\n",
       "    <tr>\n",
       "      <td>0</td>\n",
       "      <td>RAB014775</td>\n",
       "      <td>newdb</td>\n",
       "      <td>CCR5</td>\n",
       "      <td>CTRPSNNTRTGITIGPGQVWYRTGDIIGDIRKAYC</td>\n",
       "    </tr>\n",
       "    <tr>\n",
       "      <td>1</td>\n",
       "      <td>RAB014776</td>\n",
       "      <td>newdb</td>\n",
       "      <td>CCR5</td>\n",
       "      <td>CTRPSNNTRTSITIGPGQVWYRTGDIIGDIRQAYC</td>\n",
       "    </tr>\n",
       "    <tr>\n",
       "      <td>2</td>\n",
       "      <td>RAB014778</td>\n",
       "      <td>newdb</td>\n",
       "      <td>CCR5</td>\n",
       "      <td>CTRPSNNTRTSITIGPGQVWYRTGDIIGDIRKAYC</td>\n",
       "    </tr>\n",
       "    <tr>\n",
       "      <td>3</td>\n",
       "      <td>RAB014781</td>\n",
       "      <td>newdb</td>\n",
       "      <td>CCR5</td>\n",
       "      <td>CTRPSNNTRTSVTIGPGQVWYRTGDIIGDIRQAYC</td>\n",
       "    </tr>\n",
       "    <tr>\n",
       "      <td>4</td>\n",
       "      <td>RAB014834</td>\n",
       "      <td>newdb</td>\n",
       "      <td>CCR5</td>\n",
       "      <td>CTRPSNNTRTSITIGPGQVWYRTGDIIGNIRKAYC</td>\n",
       "    </tr>\n",
       "  </tbody>\n",
       "</table>\n",
       "</div>"
      ],
      "text/plain": [
       "    seq_name dataset label                             sequence\n",
       "0  RAB014775   newdb  CCR5  CTRPSNNTRTGITIGPGQVWYRTGDIIGDIRKAYC\n",
       "1  RAB014776   newdb  CCR5  CTRPSNNTRTSITIGPGQVWYRTGDIIGDIRQAYC\n",
       "2  RAB014778   newdb  CCR5  CTRPSNNTRTSITIGPGQVWYRTGDIIGDIRKAYC\n",
       "3  RAB014781   newdb  CCR5  CTRPSNNTRTSVTIGPGQVWYRTGDIIGDIRQAYC\n",
       "4  RAB014834   newdb  CCR5  CTRPSNNTRTSITIGPGQVWYRTGDIIGNIRKAYC"
      ]
     },
     "execution_count": 24,
     "metadata": {},
     "output_type": "execute_result"
    }
   ],
   "source": [
    "df_newdb.head()"
   ]
  },
  {
   "cell_type": "code",
   "execution_count": 25,
   "metadata": {},
   "outputs": [
    {
     "data": {
      "text/html": [
       "<div>\n",
       "<style scoped>\n",
       "    .dataframe tbody tr th:only-of-type {\n",
       "        vertical-align: middle;\n",
       "    }\n",
       "\n",
       "    .dataframe tbody tr th {\n",
       "        vertical-align: top;\n",
       "    }\n",
       "\n",
       "    .dataframe thead th {\n",
       "        text-align: right;\n",
       "    }\n",
       "</style>\n",
       "<table border=\"1\" class=\"dataframe\">\n",
       "  <thead>\n",
       "    <tr style=\"text-align: right;\">\n",
       "      <th></th>\n",
       "      <th>seq_name</th>\n",
       "      <th>dataset</th>\n",
       "      <th>label</th>\n",
       "      <th>sequence</th>\n",
       "    </tr>\n",
       "  </thead>\n",
       "  <tbody>\n",
       "    <tr>\n",
       "      <td>0</td>\n",
       "      <td>95ZW84_ZW_C_NSI_u20_BATRA_(2000)</td>\n",
       "      <td>webpssm</td>\n",
       "      <td>CCR5</td>\n",
       "      <td>CTRPNNNTRKSMRIGPGQTFYATGDIIGDIRQAHC</td>\n",
       "    </tr>\n",
       "    <tr>\n",
       "      <td>1</td>\n",
       "      <td>95ZW295_ZW_C_NSI_u21_BATRA_(2000)</td>\n",
       "      <td>webpssm</td>\n",
       "      <td>CCR5</td>\n",
       "      <td>CTRPNNNTRKSMRIGPGQVFYATDGIIGDIRQAHC</td>\n",
       "    </tr>\n",
       "    <tr>\n",
       "      <td>2</td>\n",
       "      <td>95ZW377_ZW_C_NSI_u22_BATRA_(2000)</td>\n",
       "      <td>webpssm</td>\n",
       "      <td>CCR5</td>\n",
       "      <td>CTRPSNNTRKSIRIGPGQTFYATNDIIGDIRQAHC</td>\n",
       "    </tr>\n",
       "    <tr>\n",
       "      <td>3</td>\n",
       "      <td>95ZW530_ZW_C_NSI_u23_BATRA_(2000)</td>\n",
       "      <td>webpssm</td>\n",
       "      <td>CCR5</td>\n",
       "      <td>CTRPGNNTRKSIRIGPGQAFFATGDIIGDIRQAHC</td>\n",
       "    </tr>\n",
       "    <tr>\n",
       "      <td>4</td>\n",
       "      <td>95ZW560_ZW_C_NSI_u24_BATRA_(2000)</td>\n",
       "      <td>webpssm</td>\n",
       "      <td>CCR5</td>\n",
       "      <td>CTRPGNNTRKSIRIGPGQTFYAANGIIGDIRQAHC</td>\n",
       "    </tr>\n",
       "  </tbody>\n",
       "</table>\n",
       "</div>"
      ],
      "text/plain": [
       "                            seq_name  dataset label  \\\n",
       "0   95ZW84_ZW_C_NSI_u20_BATRA_(2000)  webpssm  CCR5   \n",
       "1  95ZW295_ZW_C_NSI_u21_BATRA_(2000)  webpssm  CCR5   \n",
       "2  95ZW377_ZW_C_NSI_u22_BATRA_(2000)  webpssm  CCR5   \n",
       "3  95ZW530_ZW_C_NSI_u23_BATRA_(2000)  webpssm  CCR5   \n",
       "4  95ZW560_ZW_C_NSI_u24_BATRA_(2000)  webpssm  CCR5   \n",
       "\n",
       "                              sequence  \n",
       "0  CTRPNNNTRKSMRIGPGQTFYATGDIIGDIRQAHC  \n",
       "1  CTRPNNNTRKSMRIGPGQVFYATDGIIGDIRQAHC  \n",
       "2  CTRPSNNTRKSIRIGPGQTFYATNDIIGDIRQAHC  \n",
       "3  CTRPGNNTRKSIRIGPGQAFFATGDIIGDIRQAHC  \n",
       "4  CTRPGNNTRKSIRIGPGQTFYAANGIIGDIRQAHC  "
      ]
     },
     "execution_count": 25,
     "metadata": {},
     "output_type": "execute_result"
    }
   ],
   "source": [
    "df_webpssm.head()"
   ]
  },
  {
   "cell_type": "code",
   "execution_count": 26,
   "metadata": {},
   "outputs": [
    {
     "data": {
      "text/html": [
       "<div>\n",
       "<style scoped>\n",
       "    .dataframe tbody tr th:only-of-type {\n",
       "        vertical-align: middle;\n",
       "    }\n",
       "\n",
       "    .dataframe tbody tr th {\n",
       "        vertical-align: top;\n",
       "    }\n",
       "\n",
       "    .dataframe thead th {\n",
       "        text-align: right;\n",
       "    }\n",
       "</style>\n",
       "<table border=\"1\" class=\"dataframe\">\n",
       "  <thead>\n",
       "    <tr style=\"text-align: right;\">\n",
       "      <th></th>\n",
       "      <th>seq_name</th>\n",
       "      <th>dataset</th>\n",
       "      <th>label</th>\n",
       "      <th>sequence</th>\n",
       "    </tr>\n",
       "  </thead>\n",
       "  <tbody>\n",
       "    <tr>\n",
       "      <td>0</td>\n",
       "      <td>RFJ977091</td>\n",
       "      <td>hivcopred</td>\n",
       "      <td>CCR5</td>\n",
       "      <td>CARPGNNTKKSVRIGPGQTFYATGDIIGDIRQAHC</td>\n",
       "    </tr>\n",
       "    <tr>\n",
       "      <td>1</td>\n",
       "      <td>RFJ977094</td>\n",
       "      <td>hivcopred</td>\n",
       "      <td>CCR5</td>\n",
       "      <td>CARPGNNTRKSVRIGPGQAFYATGDIIGDIRQAHC</td>\n",
       "    </tr>\n",
       "    <tr>\n",
       "      <td>2</td>\n",
       "      <td>RDQ382364</td>\n",
       "      <td>hivcopred</td>\n",
       "      <td>CCR5</td>\n",
       "      <td>CARPGNNTRKSVRIGPGQTFFATGDIIGDIRKAHC</td>\n",
       "    </tr>\n",
       "    <tr>\n",
       "      <td>3</td>\n",
       "      <td>RFJ376003</td>\n",
       "      <td>hivcopred</td>\n",
       "      <td>CCR5</td>\n",
       "      <td>CARPGNNTRKSXRIGPGQSFHATGEIIGNIREAHC</td>\n",
       "    </tr>\n",
       "    <tr>\n",
       "      <td>4</td>\n",
       "      <td>RDQ382371</td>\n",
       "      <td>hivcopred</td>\n",
       "      <td>CCR5</td>\n",
       "      <td>CARPGNNTRRSVRIGPGQAFYATGEIIGDIRKAHC</td>\n",
       "    </tr>\n",
       "  </tbody>\n",
       "</table>\n",
       "</div>"
      ],
      "text/plain": [
       "    seq_name    dataset label                             sequence\n",
       "0  RFJ977091  hivcopred  CCR5  CARPGNNTKKSVRIGPGQTFYATGDIIGDIRQAHC\n",
       "1  RFJ977094  hivcopred  CCR5  CARPGNNTRKSVRIGPGQAFYATGDIIGDIRQAHC\n",
       "2  RDQ382364  hivcopred  CCR5  CARPGNNTRKSVRIGPGQTFFATGDIIGDIRKAHC\n",
       "3  RFJ376003  hivcopred  CCR5  CARPGNNTRKSXRIGPGQSFHATGEIIGNIREAHC\n",
       "4  RDQ382371  hivcopred  CCR5  CARPGNNTRRSVRIGPGQAFYATGEIIGDIRKAHC"
      ]
     },
     "execution_count": 26,
     "metadata": {},
     "output_type": "execute_result"
    }
   ],
   "source": [
    "df_hivcopred.head()"
   ]
  },
  {
   "cell_type": "markdown",
   "metadata": {},
   "source": [
    "These three datasets were separated in different list based on the tropism classification already. <br>\n",
    "The datasets Geno2pheno and CM the classification was defined on the sequence name, so need to extract it.\n"
   ]
  },
  {
   "cell_type": "code",
   "execution_count": 27,
   "metadata": {},
   "outputs": [],
   "source": [
    "df_cm = pd.read_csv('datasets/processed_tsv/cm.tsv', sep='\\t',\n",
    "                       names=['seq_name', 'dataset', 'sequence'])\n",
    "df_g2p = pd.read_csv('datasets/processed_tsv/g2p_str.tsv',sep='\\t',\n",
    "                       names=['seq_name', 'dataset', 'sequence'])"
   ]
  },
  {
   "cell_type": "code",
   "execution_count": 28,
   "metadata": {},
   "outputs": [
    {
     "data": {
      "text/html": [
       "<div>\n",
       "<style scoped>\n",
       "    .dataframe tbody tr th:only-of-type {\n",
       "        vertical-align: middle;\n",
       "    }\n",
       "\n",
       "    .dataframe tbody tr th {\n",
       "        vertical-align: top;\n",
       "    }\n",
       "\n",
       "    .dataframe thead th {\n",
       "        text-align: right;\n",
       "    }\n",
       "</style>\n",
       "<table border=\"1\" class=\"dataframe\">\n",
       "  <thead>\n",
       "    <tr style=\"text-align: right;\">\n",
       "      <th></th>\n",
       "      <th>seq_name</th>\n",
       "      <th>dataset</th>\n",
       "      <th>sequence</th>\n",
       "    </tr>\n",
       "  </thead>\n",
       "  <tbody>\n",
       "    <tr>\n",
       "      <td>0</td>\n",
       "      <td>-.HM246206.A.CCR5</td>\n",
       "      <td>cm</td>\n",
       "      <td>CVRPNNNTKKSVIGPGQTYANNIIGDIRKAC</td>\n",
       "    </tr>\n",
       "    <tr>\n",
       "      <td>1</td>\n",
       "      <td>ACH142.HQ644967.B.CCR5</td>\n",
       "      <td>cm</td>\n",
       "      <td>CTRPNNNTRKSIHIGPGRAFYATGDIIGDIRKAHC</td>\n",
       "    </tr>\n",
       "    <tr>\n",
       "      <td>2</td>\n",
       "      <td>TH020.U08754.01_AE.CCR5</td>\n",
       "      <td>cm</td>\n",
       "      <td>CTRPFNNTRTSLTIGPGQVFYRTGDIIGDIRKAYC</td>\n",
       "    </tr>\n",
       "    <tr>\n",
       "      <td>3</td>\n",
       "      <td>CW012.AJ418502.B.CCR5</td>\n",
       "      <td>cm</td>\n",
       "      <td>CTRLNNNTRKSIHMGPGRAFYTTGEIIGDIRQAHC</td>\n",
       "    </tr>\n",
       "    <tr>\n",
       "      <td>4</td>\n",
       "      <td>BP00069.JN687773.B.CCR5</td>\n",
       "      <td>cm</td>\n",
       "      <td>CTRPYNNTRRSIPIGPGRAFYATGEVIGNIRKAYC</td>\n",
       "    </tr>\n",
       "  </tbody>\n",
       "</table>\n",
       "</div>"
      ],
      "text/plain": [
       "                  seq_name dataset                             sequence\n",
       "0        -.HM246206.A.CCR5      cm      CVRPNNNTKKSVIGPGQTYANNIIGDIRKAC\n",
       "1   ACH142.HQ644967.B.CCR5      cm  CTRPNNNTRKSIHIGPGRAFYATGDIIGDIRKAHC\n",
       "2  TH020.U08754.01_AE.CCR5      cm  CTRPFNNTRTSLTIGPGQVFYRTGDIIGDIRKAYC\n",
       "3    CW012.AJ418502.B.CCR5      cm  CTRLNNNTRKSIHMGPGRAFYTTGEIIGDIRQAHC\n",
       "4  BP00069.JN687773.B.CCR5      cm  CTRPYNNTRRSIPIGPGRAFYATGEVIGNIRKAYC"
      ]
     },
     "execution_count": 28,
     "metadata": {},
     "output_type": "execute_result"
    }
   ],
   "source": [
    "df_cm.head()"
   ]
  },
  {
   "cell_type": "code",
   "execution_count": 29,
   "metadata": {},
   "outputs": [
    {
     "data": {
      "text/html": [
       "<div>\n",
       "<style scoped>\n",
       "    .dataframe tbody tr th:only-of-type {\n",
       "        vertical-align: middle;\n",
       "    }\n",
       "\n",
       "    .dataframe tbody tr th {\n",
       "        vertical-align: top;\n",
       "    }\n",
       "\n",
       "    .dataframe thead th {\n",
       "        text-align: right;\n",
       "    }\n",
       "</style>\n",
       "<table border=\"1\" class=\"dataframe\">\n",
       "  <thead>\n",
       "    <tr style=\"text-align: right;\">\n",
       "      <th></th>\n",
       "      <th>seq_name</th>\n",
       "      <th>dataset</th>\n",
       "      <th>sequence</th>\n",
       "    </tr>\n",
       "  </thead>\n",
       "  <tbody>\n",
       "    <tr>\n",
       "      <td>0</td>\n",
       "      <td>CCR5_1471_29187_CN_2003_B</td>\n",
       "      <td>geno2pheno</td>\n",
       "      <td>CTQTQQQYK-K-KYTSR-------TRASMVCNR---RNNRR---YK...</td>\n",
       "    </tr>\n",
       "    <tr>\n",
       "      <td>1</td>\n",
       "      <td>CCR5_AM262114_21502_FR_1995_O</td>\n",
       "      <td>geno2pheno</td>\n",
       "      <td>CVRPGSN-S-V-QEIKI---GP---MAWYSMQL---EQDGKRANAR...</td>\n",
       "    </tr>\n",
       "    <tr>\n",
       "      <td>2</td>\n",
       "      <td>CCR5_BCF02_13870_FR_1990_O</td>\n",
       "      <td>geno2pheno</td>\n",
       "      <td>CQRPGHQ-T-V-QEIRI---GP---MAWYS-MG---LAAGNGSESR...</td>\n",
       "    </tr>\n",
       "    <tr>\n",
       "      <td>3</td>\n",
       "      <td>CCR5_CA9_357_CM_1993_O</td>\n",
       "      <td>geno2pheno</td>\n",
       "      <td>CERPGNH-T-V-QEIRI---GP---LAWYS-MGIEKNSKNS---SR...</td>\n",
       "    </tr>\n",
       "    <tr>\n",
       "      <td>4</td>\n",
       "      <td>CCR5_BCF01_572_FR_1990_O</td>\n",
       "      <td>geno2pheno</td>\n",
       "      <td>CHRPGNL-S-V-QEMKI---GP---LSWYS-MG---LAANSSIKSR...</td>\n",
       "    </tr>\n",
       "  </tbody>\n",
       "</table>\n",
       "</div>"
      ],
      "text/plain": [
       "                        seq_name     dataset  \\\n",
       "0      CCR5_1471_29187_CN_2003_B  geno2pheno   \n",
       "1  CCR5_AM262114_21502_FR_1995_O  geno2pheno   \n",
       "2     CCR5_BCF02_13870_FR_1990_O  geno2pheno   \n",
       "3         CCR5_CA9_357_CM_1993_O  geno2pheno   \n",
       "4       CCR5_BCF01_572_FR_1990_O  geno2pheno   \n",
       "\n",
       "                                            sequence  \n",
       "0  CTQTQQQYK-K-KYTSR-------TRASMVCNR---RNNRR---YK...  \n",
       "1  CVRPGSN-S-V-QEIKI---GP---MAWYSMQL---EQDGKRANAR...  \n",
       "2  CQRPGHQ-T-V-QEIRI---GP---MAWYS-MG---LAAGNGSESR...  \n",
       "3  CERPGNH-T-V-QEIRI---GP---LAWYS-MGIEKNSKNS---SR...  \n",
       "4  CHRPGNL-S-V-QEMKI---GP---LSWYS-MG---LAANSSIKSR...  "
      ]
     },
     "execution_count": 29,
     "metadata": {},
     "output_type": "execute_result"
    }
   ],
   "source": [
    "df_g2p.head()"
   ]
  },
  {
   "cell_type": "markdown",
   "metadata": {},
   "source": [
    "To make it easier to process the two remaining Datasets we are going to concatenate them."
   ]
  },
  {
   "cell_type": "code",
   "execution_count": 30,
   "metadata": {},
   "outputs": [],
   "source": [
    "df_g2p_cm = pd.concat([df_cm, df_g2p])"
   ]
  },
  {
   "cell_type": "code",
   "execution_count": 31,
   "metadata": {},
   "outputs": [
    {
     "name": "stdout",
     "output_type": "stream",
     "text": [
      "(2679, 3)\n",
      "(1188, 3)\n",
      "(3867, 3)\n"
     ]
    }
   ],
   "source": [
    "# Print sizes\n",
    "print(df_cm.shape)\n",
    "print(df_g2p.shape)\n",
    "print(df_g2p_cm.shape)"
   ]
  },
  {
   "cell_type": "code",
   "execution_count": 32,
   "metadata": {},
   "outputs": [
    {
     "data": {
      "text/html": [
       "<div>\n",
       "<style scoped>\n",
       "    .dataframe tbody tr th:only-of-type {\n",
       "        vertical-align: middle;\n",
       "    }\n",
       "\n",
       "    .dataframe tbody tr th {\n",
       "        vertical-align: top;\n",
       "    }\n",
       "\n",
       "    .dataframe thead th {\n",
       "        text-align: right;\n",
       "    }\n",
       "</style>\n",
       "<table border=\"1\" class=\"dataframe\">\n",
       "  <thead>\n",
       "    <tr style=\"text-align: right;\">\n",
       "      <th></th>\n",
       "      <th>seq_name</th>\n",
       "      <th>dataset</th>\n",
       "      <th>sequence</th>\n",
       "    </tr>\n",
       "  </thead>\n",
       "  <tbody>\n",
       "    <tr>\n",
       "      <td>0</td>\n",
       "      <td>-.HM246206.A.CCR5</td>\n",
       "      <td>cm</td>\n",
       "      <td>CVRPNNNTKKSVIGPGQTYANNIIGDIRKAC</td>\n",
       "    </tr>\n",
       "    <tr>\n",
       "      <td>1</td>\n",
       "      <td>ACH142.HQ644967.B.CCR5</td>\n",
       "      <td>cm</td>\n",
       "      <td>CTRPNNNTRKSIHIGPGRAFYATGDIIGDIRKAHC</td>\n",
       "    </tr>\n",
       "    <tr>\n",
       "      <td>2</td>\n",
       "      <td>TH020.U08754.01_AE.CCR5</td>\n",
       "      <td>cm</td>\n",
       "      <td>CTRPFNNTRTSLTIGPGQVFYRTGDIIGDIRKAYC</td>\n",
       "    </tr>\n",
       "    <tr>\n",
       "      <td>3</td>\n",
       "      <td>CW012.AJ418502.B.CCR5</td>\n",
       "      <td>cm</td>\n",
       "      <td>CTRLNNNTRKSIHMGPGRAFYTTGEIIGDIRQAHC</td>\n",
       "    </tr>\n",
       "    <tr>\n",
       "      <td>4</td>\n",
       "      <td>BP00069.JN687773.B.CCR5</td>\n",
       "      <td>cm</td>\n",
       "      <td>CTRPYNNTRRSIPIGPGRAFYATGEVIGNIRKAYC</td>\n",
       "    </tr>\n",
       "    <tr>\n",
       "      <td>5</td>\n",
       "      <td>I.DQ061525.B.CCR5</td>\n",
       "      <td>cm</td>\n",
       "      <td>CIRPNNNTRKSIHIGPGRAFYATGEIIGDIRQAHC</td>\n",
       "    </tr>\n",
       "    <tr>\n",
       "      <td>6</td>\n",
       "      <td>500.HQ377462.B.CCR5</td>\n",
       "      <td>cm</td>\n",
       "      <td>CTRPNNNTRKSISMGPGRAFYATGGIIGNIRQAHC</td>\n",
       "    </tr>\n",
       "    <tr>\n",
       "      <td>7</td>\n",
       "      <td>Pat1.AF541040.B.CCR5</td>\n",
       "      <td>cm</td>\n",
       "      <td>CTRPNNNTRKSIHIGPGRAFYTTGEIIGDIRQAHC</td>\n",
       "    </tr>\n",
       "    <tr>\n",
       "      <td>8</td>\n",
       "      <td>CMP013.JX140646.02_AG.CCR5</td>\n",
       "      <td>cm</td>\n",
       "      <td>CMRPNNNTRESVRIGPGQAFYATGEIIGDIRQAHC</td>\n",
       "    </tr>\n",
       "    <tr>\n",
       "      <td>9</td>\n",
       "      <td>U.DQ061827.B.CCR5</td>\n",
       "      <td>cm</td>\n",
       "      <td>CTRPNNNTRKGIHMGPGKVFYATGQIIGDIRQAHC</td>\n",
       "    </tr>\n",
       "  </tbody>\n",
       "</table>\n",
       "</div>"
      ],
      "text/plain": [
       "                     seq_name dataset                             sequence\n",
       "0           -.HM246206.A.CCR5      cm      CVRPNNNTKKSVIGPGQTYANNIIGDIRKAC\n",
       "1      ACH142.HQ644967.B.CCR5      cm  CTRPNNNTRKSIHIGPGRAFYATGDIIGDIRKAHC\n",
       "2     TH020.U08754.01_AE.CCR5      cm  CTRPFNNTRTSLTIGPGQVFYRTGDIIGDIRKAYC\n",
       "3       CW012.AJ418502.B.CCR5      cm  CTRLNNNTRKSIHMGPGRAFYTTGEIIGDIRQAHC\n",
       "4     BP00069.JN687773.B.CCR5      cm  CTRPYNNTRRSIPIGPGRAFYATGEVIGNIRKAYC\n",
       "5           I.DQ061525.B.CCR5      cm  CIRPNNNTRKSIHIGPGRAFYATGEIIGDIRQAHC\n",
       "6         500.HQ377462.B.CCR5      cm  CTRPNNNTRKSISMGPGRAFYATGGIIGNIRQAHC\n",
       "7        Pat1.AF541040.B.CCR5      cm  CTRPNNNTRKSIHIGPGRAFYTTGEIIGDIRQAHC\n",
       "8  CMP013.JX140646.02_AG.CCR5      cm  CMRPNNNTRESVRIGPGQAFYATGEIIGDIRQAHC\n",
       "9           U.DQ061827.B.CCR5      cm  CTRPNNNTRKGIHMGPGKVFYATGQIIGDIRQAHC"
      ]
     },
     "execution_count": 32,
     "metadata": {},
     "output_type": "execute_result"
    }
   ],
   "source": [
    "df_g2p_cm.head(10)"
   ]
  },
  {
   "cell_type": "markdown",
   "metadata": {},
   "source": [
    "Check if there are labels 'CCR5' or 'CXCR4' on every row of the df_g2p_cm Dataframe."
   ]
  },
  {
   "cell_type": "code",
   "execution_count": 33,
   "metadata": {},
   "outputs": [
    {
     "data": {
      "text/html": [
       "<div>\n",
       "<style scoped>\n",
       "    .dataframe tbody tr th:only-of-type {\n",
       "        vertical-align: middle;\n",
       "    }\n",
       "\n",
       "    .dataframe tbody tr th {\n",
       "        vertical-align: top;\n",
       "    }\n",
       "\n",
       "    .dataframe thead th {\n",
       "        text-align: right;\n",
       "    }\n",
       "</style>\n",
       "<table border=\"1\" class=\"dataframe\">\n",
       "  <thead>\n",
       "    <tr style=\"text-align: right;\">\n",
       "      <th></th>\n",
       "      <th>seq_name</th>\n",
       "      <th>dataset</th>\n",
       "      <th>sequence</th>\n",
       "    </tr>\n",
       "  </thead>\n",
       "  <tbody>\n",
       "  </tbody>\n",
       "</table>\n",
       "</div>"
      ],
      "text/plain": [
       "Empty DataFrame\n",
       "Columns: [seq_name, dataset, sequence]\n",
       "Index: []"
      ]
     },
     "execution_count": 33,
     "metadata": {},
     "output_type": "execute_result"
    }
   ],
   "source": [
    "df_g2p_cm[~((df_g2p_cm.seq_name.str.contains('CCR5'))|\n",
    "          (df_g2p_cm.seq_name.str.contains('CXCR4')))]"
   ]
  },
  {
   "cell_type": "code",
   "execution_count": 36,
   "metadata": {},
   "outputs": [],
   "source": [
    "def get_label(row):\n",
    "    \"\"\"\n",
    "    Function to return co-receptor type based on seq_name\n",
    "    \n",
    "    Parameters\n",
    "     - row (Series): A row of a Dataframe containing information for sample\n",
    "    \n",
    "    return (string): A type of co-receptor: 'R5X4', 'CCR5', 'CXCR4'\n",
    "    \n",
    "    \"\"\"\n",
    "    if 'CCR5' in row['seq_name'] and 'CXCR4' in row['seq_name']:\n",
    "        return 'R5X4'\n",
    "    elif 'CCR5' in row['seq_name']:\n",
    "        return 'CCR5'\n",
    "    elif 'CXCR4' in row['seq_name']:\n",
    "        return 'CXCR4'"
   ]
  },
  {
   "cell_type": "markdown",
   "metadata": {},
   "source": [
    "Apply get_label to df_g2p_cm"
   ]
  },
  {
   "cell_type": "code",
   "execution_count": 37,
   "metadata": {},
   "outputs": [],
   "source": [
    "df_g2p_cm['label'] =  df_g2p_cm.apply(get_label, axis=1)\n",
    "\n",
    "# Reorder columns\n",
    "df_g2p_cm = df_g2p_cm[['seq_name', 'dataset', 'label', 'sequence']]"
   ]
  },
  {
   "cell_type": "code",
   "execution_count": 38,
   "metadata": {},
   "outputs": [
    {
     "data": {
      "text/html": [
       "<div>\n",
       "<style scoped>\n",
       "    .dataframe tbody tr th:only-of-type {\n",
       "        vertical-align: middle;\n",
       "    }\n",
       "\n",
       "    .dataframe tbody tr th {\n",
       "        vertical-align: top;\n",
       "    }\n",
       "\n",
       "    .dataframe thead th {\n",
       "        text-align: right;\n",
       "    }\n",
       "</style>\n",
       "<table border=\"1\" class=\"dataframe\">\n",
       "  <thead>\n",
       "    <tr style=\"text-align: right;\">\n",
       "      <th></th>\n",
       "      <th>seq_name</th>\n",
       "      <th>dataset</th>\n",
       "      <th>label</th>\n",
       "      <th>sequence</th>\n",
       "    </tr>\n",
       "  </thead>\n",
       "  <tbody>\n",
       "    <tr>\n",
       "      <td>0</td>\n",
       "      <td>-.HM246206.A.CCR5</td>\n",
       "      <td>cm</td>\n",
       "      <td>CCR5</td>\n",
       "      <td>CVRPNNNTKKSVIGPGQTYANNIIGDIRKAC</td>\n",
       "    </tr>\n",
       "    <tr>\n",
       "      <td>1</td>\n",
       "      <td>ACH142.HQ644967.B.CCR5</td>\n",
       "      <td>cm</td>\n",
       "      <td>CCR5</td>\n",
       "      <td>CTRPNNNTRKSIHIGPGRAFYATGDIIGDIRKAHC</td>\n",
       "    </tr>\n",
       "    <tr>\n",
       "      <td>2</td>\n",
       "      <td>TH020.U08754.01_AE.CCR5</td>\n",
       "      <td>cm</td>\n",
       "      <td>CCR5</td>\n",
       "      <td>CTRPFNNTRTSLTIGPGQVFYRTGDIIGDIRKAYC</td>\n",
       "    </tr>\n",
       "    <tr>\n",
       "      <td>3</td>\n",
       "      <td>CW012.AJ418502.B.CCR5</td>\n",
       "      <td>cm</td>\n",
       "      <td>CCR5</td>\n",
       "      <td>CTRLNNNTRKSIHMGPGRAFYTTGEIIGDIRQAHC</td>\n",
       "    </tr>\n",
       "    <tr>\n",
       "      <td>4</td>\n",
       "      <td>BP00069.JN687773.B.CCR5</td>\n",
       "      <td>cm</td>\n",
       "      <td>CCR5</td>\n",
       "      <td>CTRPYNNTRRSIPIGPGRAFYATGEVIGNIRKAYC</td>\n",
       "    </tr>\n",
       "    <tr>\n",
       "      <td>5</td>\n",
       "      <td>I.DQ061525.B.CCR5</td>\n",
       "      <td>cm</td>\n",
       "      <td>CCR5</td>\n",
       "      <td>CIRPNNNTRKSIHIGPGRAFYATGEIIGDIRQAHC</td>\n",
       "    </tr>\n",
       "    <tr>\n",
       "      <td>6</td>\n",
       "      <td>500.HQ377462.B.CCR5</td>\n",
       "      <td>cm</td>\n",
       "      <td>CCR5</td>\n",
       "      <td>CTRPNNNTRKSISMGPGRAFYATGGIIGNIRQAHC</td>\n",
       "    </tr>\n",
       "    <tr>\n",
       "      <td>7</td>\n",
       "      <td>Pat1.AF541040.B.CCR5</td>\n",
       "      <td>cm</td>\n",
       "      <td>CCR5</td>\n",
       "      <td>CTRPNNNTRKSIHIGPGRAFYTTGEIIGDIRQAHC</td>\n",
       "    </tr>\n",
       "    <tr>\n",
       "      <td>8</td>\n",
       "      <td>CMP013.JX140646.02_AG.CCR5</td>\n",
       "      <td>cm</td>\n",
       "      <td>CCR5</td>\n",
       "      <td>CMRPNNNTRESVRIGPGQAFYATGEIIGDIRQAHC</td>\n",
       "    </tr>\n",
       "    <tr>\n",
       "      <td>9</td>\n",
       "      <td>U.DQ061827.B.CCR5</td>\n",
       "      <td>cm</td>\n",
       "      <td>CCR5</td>\n",
       "      <td>CTRPNNNTRKGIHMGPGKVFYATGQIIGDIRQAHC</td>\n",
       "    </tr>\n",
       "  </tbody>\n",
       "</table>\n",
       "</div>"
      ],
      "text/plain": [
       "                     seq_name dataset label  \\\n",
       "0           -.HM246206.A.CCR5      cm  CCR5   \n",
       "1      ACH142.HQ644967.B.CCR5      cm  CCR5   \n",
       "2     TH020.U08754.01_AE.CCR5      cm  CCR5   \n",
       "3       CW012.AJ418502.B.CCR5      cm  CCR5   \n",
       "4     BP00069.JN687773.B.CCR5      cm  CCR5   \n",
       "5           I.DQ061525.B.CCR5      cm  CCR5   \n",
       "6         500.HQ377462.B.CCR5      cm  CCR5   \n",
       "7        Pat1.AF541040.B.CCR5      cm  CCR5   \n",
       "8  CMP013.JX140646.02_AG.CCR5      cm  CCR5   \n",
       "9           U.DQ061827.B.CCR5      cm  CCR5   \n",
       "\n",
       "                              sequence  \n",
       "0      CVRPNNNTKKSVIGPGQTYANNIIGDIRKAC  \n",
       "1  CTRPNNNTRKSIHIGPGRAFYATGDIIGDIRKAHC  \n",
       "2  CTRPFNNTRTSLTIGPGQVFYRTGDIIGDIRKAYC  \n",
       "3  CTRLNNNTRKSIHMGPGRAFYTTGEIIGDIRQAHC  \n",
       "4  CTRPYNNTRRSIPIGPGRAFYATGEVIGNIRKAYC  \n",
       "5  CIRPNNNTRKSIHIGPGRAFYATGEIIGDIRQAHC  \n",
       "6  CTRPNNNTRKSISMGPGRAFYATGGIIGNIRQAHC  \n",
       "7  CTRPNNNTRKSIHIGPGRAFYTTGEIIGDIRQAHC  \n",
       "8  CMRPNNNTRESVRIGPGQAFYATGEIIGDIRQAHC  \n",
       "9  CTRPNNNTRKGIHMGPGKVFYATGQIIGDIRQAHC  "
      ]
     },
     "execution_count": 38,
     "metadata": {},
     "output_type": "execute_result"
    }
   ],
   "source": [
    "df_g2p_cm.head(10)"
   ]
  },
  {
   "cell_type": "markdown",
   "metadata": {},
   "source": [
    "Now that all Dataframes have labels, we concatenate them into one main Dataframe."
   ]
  },
  {
   "cell_type": "code",
   "execution_count": 72,
   "metadata": {},
   "outputs": [],
   "source": [
    "df_datasets = pd.concat([df_newdb,df_webpssm,df_hivcopred, df_g2p_cm])"
   ]
  },
  {
   "cell_type": "code",
   "execution_count": 73,
   "metadata": {},
   "outputs": [
    {
     "data": {
      "text/plain": [
       "(9550, 4)"
      ]
     },
     "execution_count": 73,
     "metadata": {},
     "output_type": "execute_result"
    }
   ],
   "source": [
    "df_datasets.shape"
   ]
  },
  {
   "cell_type": "code",
   "execution_count": 74,
   "metadata": {},
   "outputs": [
    {
     "data": {
      "text/html": [
       "<div>\n",
       "<style scoped>\n",
       "    .dataframe tbody tr th:only-of-type {\n",
       "        vertical-align: middle;\n",
       "    }\n",
       "\n",
       "    .dataframe tbody tr th {\n",
       "        vertical-align: top;\n",
       "    }\n",
       "\n",
       "    .dataframe thead th {\n",
       "        text-align: right;\n",
       "    }\n",
       "</style>\n",
       "<table border=\"1\" class=\"dataframe\">\n",
       "  <thead>\n",
       "    <tr style=\"text-align: right;\">\n",
       "      <th></th>\n",
       "      <th>seq_name</th>\n",
       "      <th>dataset</th>\n",
       "      <th>label</th>\n",
       "      <th>sequence</th>\n",
       "    </tr>\n",
       "  </thead>\n",
       "  <tbody>\n",
       "    <tr>\n",
       "      <td>0</td>\n",
       "      <td>RAB014775</td>\n",
       "      <td>newdb</td>\n",
       "      <td>CCR5</td>\n",
       "      <td>CTRPSNNTRTGITIGPGQVWYRTGDIIGDIRKAYC</td>\n",
       "    </tr>\n",
       "    <tr>\n",
       "      <td>1</td>\n",
       "      <td>RAB014776</td>\n",
       "      <td>newdb</td>\n",
       "      <td>CCR5</td>\n",
       "      <td>CTRPSNNTRTSITIGPGQVWYRTGDIIGDIRQAYC</td>\n",
       "    </tr>\n",
       "    <tr>\n",
       "      <td>2</td>\n",
       "      <td>RAB014778</td>\n",
       "      <td>newdb</td>\n",
       "      <td>CCR5</td>\n",
       "      <td>CTRPSNNTRTSITIGPGQVWYRTGDIIGDIRKAYC</td>\n",
       "    </tr>\n",
       "    <tr>\n",
       "      <td>3</td>\n",
       "      <td>RAB014781</td>\n",
       "      <td>newdb</td>\n",
       "      <td>CCR5</td>\n",
       "      <td>CTRPSNNTRTSVTIGPGQVWYRTGDIIGDIRQAYC</td>\n",
       "    </tr>\n",
       "    <tr>\n",
       "      <td>4</td>\n",
       "      <td>RAB014834</td>\n",
       "      <td>newdb</td>\n",
       "      <td>CCR5</td>\n",
       "      <td>CTRPSNNTRTSITIGPGQVWYRTGDIIGNIRKAYC</td>\n",
       "    </tr>\n",
       "    <tr>\n",
       "      <td>5</td>\n",
       "      <td>RAB023804</td>\n",
       "      <td>newdb</td>\n",
       "      <td>CCR5</td>\n",
       "      <td>CTRPNNNTRKSIRIGPGQTFYATGDIIGDIRQAHC</td>\n",
       "    </tr>\n",
       "    <tr>\n",
       "      <td>6</td>\n",
       "      <td>RAB287376</td>\n",
       "      <td>newdb</td>\n",
       "      <td>CCR5</td>\n",
       "      <td>CVRPNNNTRTSVRIGPGQTFYATGEIIGDIRQAFC</td>\n",
       "    </tr>\n",
       "    <tr>\n",
       "      <td>7</td>\n",
       "      <td>RAB553911</td>\n",
       "      <td>newdb</td>\n",
       "      <td>CCR5</td>\n",
       "      <td>CERPNNNTRRSIQIGPGRAWFEAEDIIGDIRKAHC</td>\n",
       "    </tr>\n",
       "    <tr>\n",
       "      <td>8</td>\n",
       "      <td>RAB553912</td>\n",
       "      <td>newdb</td>\n",
       "      <td>CCR5</td>\n",
       "      <td>CTRPNDNTRKSINIAPGRAFYATGDIIGDIRQAHC</td>\n",
       "    </tr>\n",
       "    <tr>\n",
       "      <td>9</td>\n",
       "      <td>RAB553913</td>\n",
       "      <td>newdb</td>\n",
       "      <td>CCR5</td>\n",
       "      <td>CTRPNNNTRKGIHMGPGRAIYTTDIIGDIRQAHC</td>\n",
       "    </tr>\n",
       "  </tbody>\n",
       "</table>\n",
       "</div>"
      ],
      "text/plain": [
       "    seq_name dataset label                             sequence\n",
       "0  RAB014775   newdb  CCR5  CTRPSNNTRTGITIGPGQVWYRTGDIIGDIRKAYC\n",
       "1  RAB014776   newdb  CCR5  CTRPSNNTRTSITIGPGQVWYRTGDIIGDIRQAYC\n",
       "2  RAB014778   newdb  CCR5  CTRPSNNTRTSITIGPGQVWYRTGDIIGDIRKAYC\n",
       "3  RAB014781   newdb  CCR5  CTRPSNNTRTSVTIGPGQVWYRTGDIIGDIRQAYC\n",
       "4  RAB014834   newdb  CCR5  CTRPSNNTRTSITIGPGQVWYRTGDIIGNIRKAYC\n",
       "5  RAB023804   newdb  CCR5  CTRPNNNTRKSIRIGPGQTFYATGDIIGDIRQAHC\n",
       "6  RAB287376   newdb  CCR5  CVRPNNNTRTSVRIGPGQTFYATGEIIGDIRQAFC\n",
       "7  RAB553911   newdb  CCR5  CERPNNNTRRSIQIGPGRAWFEAEDIIGDIRKAHC\n",
       "8  RAB553912   newdb  CCR5  CTRPNDNTRKSINIAPGRAFYATGDIIGDIRQAHC\n",
       "9  RAB553913   newdb  CCR5   CTRPNNNTRKGIHMGPGRAIYTTDIIGDIRQAHC"
      ]
     },
     "execution_count": 74,
     "metadata": {},
     "output_type": "execute_result"
    }
   ],
   "source": [
    "df_datasets.head(10)"
   ]
  },
  {
   "cell_type": "code",
   "execution_count": 75,
   "metadata": {},
   "outputs": [
    {
     "data": {
      "text/html": [
       "<div>\n",
       "<style scoped>\n",
       "    .dataframe tbody tr th:only-of-type {\n",
       "        vertical-align: middle;\n",
       "    }\n",
       "\n",
       "    .dataframe tbody tr th {\n",
       "        vertical-align: top;\n",
       "    }\n",
       "\n",
       "    .dataframe thead th {\n",
       "        text-align: right;\n",
       "    }\n",
       "</style>\n",
       "<table border=\"1\" class=\"dataframe\">\n",
       "  <thead>\n",
       "    <tr style=\"text-align: right;\">\n",
       "      <th></th>\n",
       "      <th>seq_name</th>\n",
       "      <th>dataset</th>\n",
       "      <th>label</th>\n",
       "      <th>sequence</th>\n",
       "    </tr>\n",
       "  </thead>\n",
       "  <tbody>\n",
       "    <tr>\n",
       "      <td>279</td>\n",
       "      <td>C.ZM.89.ZM20__phen_SI</td>\n",
       "      <td>webpssm</td>\n",
       "      <td>validation</td>\n",
       "      <td>CARPGNNTRKSIRIGPGQTFFATGAIIGDIRQAHC</td>\n",
       "    </tr>\n",
       "    <tr>\n",
       "      <td>280</td>\n",
       "      <td>C.ZW.01.TC28_2__phen_SI</td>\n",
       "      <td>webpssm</td>\n",
       "      <td>validation</td>\n",
       "      <td>CGRPNNHRIKGLRIGPGRAFFAMGAIGGEIRQAHC</td>\n",
       "    </tr>\n",
       "    <tr>\n",
       "      <td>281</td>\n",
       "      <td>C.ZW.01.TC03_1__phen_SI</td>\n",
       "      <td>webpssm</td>\n",
       "      <td>validation</td>\n",
       "      <td>CIRPGNNTSKSIRIGQRRPVYVH-KIIGDIRQAHC</td>\n",
       "    </tr>\n",
       "    <tr>\n",
       "      <td>282</td>\n",
       "      <td>C.ET.97.PHD79C1__phen_SI</td>\n",
       "      <td>webpssm</td>\n",
       "      <td>validation</td>\n",
       "      <td>CIRPNNNTRKSVRIGPGQAFYATGDIIGDIRQAHC</td>\n",
       "    </tr>\n",
       "    <tr>\n",
       "      <td>283</td>\n",
       "      <td>C.ZW.01.TC28_1__phen_SI</td>\n",
       "      <td>webpssm</td>\n",
       "      <td>validation</td>\n",
       "      <td>CMRPNNNTRKSVRIGPGQTFFATGAIIGNIRQAHC</td>\n",
       "    </tr>\n",
       "    <tr>\n",
       "      <td>284</td>\n",
       "      <td>AC.RW.92.92RW009_di1sCD__phen_SI</td>\n",
       "      <td>webpssm</td>\n",
       "      <td>validation</td>\n",
       "      <td>CPRPNNNTRKSVHIGPGQAFYATGDVIGDIRQAYC</td>\n",
       "    </tr>\n",
       "    <tr>\n",
       "      <td>285</td>\n",
       "      <td>AC.RW.92.92RW009_1gCR_AC.RW.92.92RW009_1gER_AC...</td>\n",
       "      <td>webpssm</td>\n",
       "      <td>validation</td>\n",
       "      <td>CSRPNNNTRKSVHIGPGQAFYATGDVIGDIRQAYC</td>\n",
       "    </tr>\n",
       "    <tr>\n",
       "      <td>286</td>\n",
       "      <td>C.ZW.01.TC22__phen_SI</td>\n",
       "      <td>webpssm</td>\n",
       "      <td>validation</td>\n",
       "      <td>CTRPGNKTRQSIRIGRGQSFHATGAIIGDIRKAYC</td>\n",
       "    </tr>\n",
       "    <tr>\n",
       "      <td>287</td>\n",
       "      <td>C.ZW.01.TC30__phen_SI</td>\n",
       "      <td>webpssm</td>\n",
       "      <td>validation</td>\n",
       "      <td>CTRPGNNT-----IGPGRTFYATDRIIGDIRQAHC</td>\n",
       "    </tr>\n",
       "    <tr>\n",
       "      <td>288</td>\n",
       "      <td>C.ZW.01.TC29__phen_SI</td>\n",
       "      <td>webpssm</td>\n",
       "      <td>validation</td>\n",
       "      <td>CTRPGNNTRKGLRIGPGRTIYATEVTVGDIRQAYC</td>\n",
       "    </tr>\n",
       "  </tbody>\n",
       "</table>\n",
       "</div>"
      ],
      "text/plain": [
       "                                              seq_name  dataset       label  \\\n",
       "279                              C.ZM.89.ZM20__phen_SI  webpssm  validation   \n",
       "280                            C.ZW.01.TC28_2__phen_SI  webpssm  validation   \n",
       "281                            C.ZW.01.TC03_1__phen_SI  webpssm  validation   \n",
       "282                           C.ET.97.PHD79C1__phen_SI  webpssm  validation   \n",
       "283                            C.ZW.01.TC28_1__phen_SI  webpssm  validation   \n",
       "284                   AC.RW.92.92RW009_di1sCD__phen_SI  webpssm  validation   \n",
       "285  AC.RW.92.92RW009_1gCR_AC.RW.92.92RW009_1gER_AC...  webpssm  validation   \n",
       "286                              C.ZW.01.TC22__phen_SI  webpssm  validation   \n",
       "287                              C.ZW.01.TC30__phen_SI  webpssm  validation   \n",
       "288                              C.ZW.01.TC29__phen_SI  webpssm  validation   \n",
       "\n",
       "                                sequence  \n",
       "279  CARPGNNTRKSIRIGPGQTFFATGAIIGDIRQAHC  \n",
       "280  CGRPNNHRIKGLRIGPGRAFFAMGAIGGEIRQAHC  \n",
       "281  CIRPGNNTSKSIRIGQRRPVYVH-KIIGDIRQAHC  \n",
       "282  CIRPNNNTRKSVRIGPGQAFYATGDIIGDIRQAHC  \n",
       "283  CMRPNNNTRKSVRIGPGQTFFATGAIIGNIRQAHC  \n",
       "284  CPRPNNNTRKSVHIGPGQAFYATGDVIGDIRQAYC  \n",
       "285  CSRPNNNTRKSVHIGPGQAFYATGDVIGDIRQAYC  \n",
       "286  CTRPGNKTRQSIRIGRGQSFHATGAIIGDIRKAYC  \n",
       "287  CTRPGNNT-----IGPGRTFYATDRIIGDIRQAHC  \n",
       "288  CTRPGNNTRKGLRIGPGRTIYATEVTVGDIRQAYC  "
      ]
     },
     "execution_count": 75,
     "metadata": {},
     "output_type": "execute_result"
    }
   ],
   "source": [
    "df_datasets_validation = df_datasets[df_datasets.label == 'validation']\n",
    "df_datasets_validation.head(10)"
   ]
  },
  {
   "cell_type": "code",
   "execution_count": 76,
   "metadata": {},
   "outputs": [
    {
     "data": {
      "text/plain": [
       "(71, 4)"
      ]
     },
     "execution_count": 76,
     "metadata": {},
     "output_type": "execute_result"
    }
   ],
   "source": [
    "df_datasets_validation.shape"
   ]
  },
  {
   "cell_type": "code",
   "execution_count": 77,
   "metadata": {},
   "outputs": [],
   "source": [
    "def label_validation_dataset(row):\n",
    "    \"\"\"\n",
    "    Function to return co-receptor type based on seq_name for Webpssm \n",
    "    \n",
    "    Parameters\n",
    "     - row (Series): A row of a Dataframe containing information for sample\n",
    "    \n",
    "    return (string): A type of co-receptor: 'CCR5', 'CXCR4'\n",
    "    \n",
    "    \"\"\"\n",
    "    if 'NSI' in row.seq_name:\n",
    "        return 'CCR5'\n",
    "    elif 'SI' in row.seq_name:\n",
    "        return 'CXCR4'"
   ]
  },
  {
   "cell_type": "code",
   "execution_count": 78,
   "metadata": {},
   "outputs": [
    {
     "name": "stderr",
     "output_type": "stream",
     "text": [
      "/home/gabriel/miniconda3/envs/deeptropism/lib/python3.7/site-packages/ipykernel_launcher.py:1: SettingWithCopyWarning: \n",
      "A value is trying to be set on a copy of a slice from a DataFrame.\n",
      "Try using .loc[row_indexer,col_indexer] = value instead\n",
      "\n",
      "See the caveats in the documentation: http://pandas.pydata.org/pandas-docs/stable/user_guide/indexing.html#returning-a-view-versus-a-copy\n",
      "  \"\"\"Entry point for launching an IPython kernel.\n"
     ]
    }
   ],
   "source": [
    "df_datasets_validation['label'] = df_datasets_validation.apply(label_validation_dataset, axis=1)"
   ]
  },
  {
   "cell_type": "code",
   "execution_count": 79,
   "metadata": {},
   "outputs": [
    {
     "data": {
      "text/html": [
       "<div>\n",
       "<style scoped>\n",
       "    .dataframe tbody tr th:only-of-type {\n",
       "        vertical-align: middle;\n",
       "    }\n",
       "\n",
       "    .dataframe tbody tr th {\n",
       "        vertical-align: top;\n",
       "    }\n",
       "\n",
       "    .dataframe thead th {\n",
       "        text-align: right;\n",
       "    }\n",
       "</style>\n",
       "<table border=\"1\" class=\"dataframe\">\n",
       "  <thead>\n",
       "    <tr style=\"text-align: right;\">\n",
       "      <th></th>\n",
       "      <th>seq_name</th>\n",
       "      <th>dataset</th>\n",
       "      <th>label</th>\n",
       "      <th>sequence</th>\n",
       "    </tr>\n",
       "  </thead>\n",
       "  <tbody>\n",
       "    <tr>\n",
       "      <td>279</td>\n",
       "      <td>C.ZM.89.ZM20__phen_SI</td>\n",
       "      <td>webpssm</td>\n",
       "      <td>CXCR4</td>\n",
       "      <td>CARPGNNTRKSIRIGPGQTFFATGAIIGDIRQAHC</td>\n",
       "    </tr>\n",
       "    <tr>\n",
       "      <td>280</td>\n",
       "      <td>C.ZW.01.TC28_2__phen_SI</td>\n",
       "      <td>webpssm</td>\n",
       "      <td>CXCR4</td>\n",
       "      <td>CGRPNNHRIKGLRIGPGRAFFAMGAIGGEIRQAHC</td>\n",
       "    </tr>\n",
       "    <tr>\n",
       "      <td>281</td>\n",
       "      <td>C.ZW.01.TC03_1__phen_SI</td>\n",
       "      <td>webpssm</td>\n",
       "      <td>CXCR4</td>\n",
       "      <td>CIRPGNNTSKSIRIGQRRPVYVH-KIIGDIRQAHC</td>\n",
       "    </tr>\n",
       "    <tr>\n",
       "      <td>282</td>\n",
       "      <td>C.ET.97.PHD79C1__phen_SI</td>\n",
       "      <td>webpssm</td>\n",
       "      <td>CXCR4</td>\n",
       "      <td>CIRPNNNTRKSVRIGPGQAFYATGDIIGDIRQAHC</td>\n",
       "    </tr>\n",
       "    <tr>\n",
       "      <td>283</td>\n",
       "      <td>C.ZW.01.TC28_1__phen_SI</td>\n",
       "      <td>webpssm</td>\n",
       "      <td>CXCR4</td>\n",
       "      <td>CMRPNNNTRKSVRIGPGQTFFATGAIIGNIRQAHC</td>\n",
       "    </tr>\n",
       "    <tr>\n",
       "      <td>...</td>\n",
       "      <td>...</td>\n",
       "      <td>...</td>\n",
       "      <td>...</td>\n",
       "      <td>...</td>\n",
       "    </tr>\n",
       "    <tr>\n",
       "      <td>345</td>\n",
       "      <td>C.ZW.01.TC33__phen_NSI</td>\n",
       "      <td>webpssm</td>\n",
       "      <td>CCR5</td>\n",
       "      <td>CTRPNNNTRTSVRIGPGQAFYATGDIIGDIRQAHC</td>\n",
       "    </tr>\n",
       "    <tr>\n",
       "      <td>346</td>\n",
       "      <td>C.FR.93.FRMP37__phen_NSI</td>\n",
       "      <td>webpssm</td>\n",
       "      <td>CCR5</td>\n",
       "      <td>CTRPSNNTRKSIRIGPGQAFYATNGIIGDIRAAHC</td>\n",
       "    </tr>\n",
       "    <tr>\n",
       "      <td>347</td>\n",
       "      <td>C.ZW.01.TC32__phen_NSI</td>\n",
       "      <td>webpssm</td>\n",
       "      <td>CCR5</td>\n",
       "      <td>CTRPSNNTRKSVWLGPGRAFYT-NKVIGNIRKAHC</td>\n",
       "    </tr>\n",
       "    <tr>\n",
       "      <td>348</td>\n",
       "      <td>C.FR.91.FRMP197__phen_NSI</td>\n",
       "      <td>webpssm</td>\n",
       "      <td>CCR5</td>\n",
       "      <td>CTRPYNNTRQSIRIGPGQTFYATGDIIGDIRKAHC</td>\n",
       "    </tr>\n",
       "    <tr>\n",
       "      <td>349</td>\n",
       "      <td>C.SO.89.89SM_145__phen_NSI</td>\n",
       "      <td>webpssm</td>\n",
       "      <td>CCR5</td>\n",
       "      <td>CTRYANNTRKSVRIGPGQTFY-TNDIIGDIRQAHC</td>\n",
       "    </tr>\n",
       "  </tbody>\n",
       "</table>\n",
       "<p>71 rows × 4 columns</p>\n",
       "</div>"
      ],
      "text/plain": [
       "                       seq_name  dataset  label  \\\n",
       "279       C.ZM.89.ZM20__phen_SI  webpssm  CXCR4   \n",
       "280     C.ZW.01.TC28_2__phen_SI  webpssm  CXCR4   \n",
       "281     C.ZW.01.TC03_1__phen_SI  webpssm  CXCR4   \n",
       "282    C.ET.97.PHD79C1__phen_SI  webpssm  CXCR4   \n",
       "283     C.ZW.01.TC28_1__phen_SI  webpssm  CXCR4   \n",
       "..                          ...      ...    ...   \n",
       "345      C.ZW.01.TC33__phen_NSI  webpssm   CCR5   \n",
       "346    C.FR.93.FRMP37__phen_NSI  webpssm   CCR5   \n",
       "347      C.ZW.01.TC32__phen_NSI  webpssm   CCR5   \n",
       "348   C.FR.91.FRMP197__phen_NSI  webpssm   CCR5   \n",
       "349  C.SO.89.89SM_145__phen_NSI  webpssm   CCR5   \n",
       "\n",
       "                                sequence  \n",
       "279  CARPGNNTRKSIRIGPGQTFFATGAIIGDIRQAHC  \n",
       "280  CGRPNNHRIKGLRIGPGRAFFAMGAIGGEIRQAHC  \n",
       "281  CIRPGNNTSKSIRIGQRRPVYVH-KIIGDIRQAHC  \n",
       "282  CIRPNNNTRKSVRIGPGQAFYATGDIIGDIRQAHC  \n",
       "283  CMRPNNNTRKSVRIGPGQTFFATGAIIGNIRQAHC  \n",
       "..                                   ...  \n",
       "345  CTRPNNNTRTSVRIGPGQAFYATGDIIGDIRQAHC  \n",
       "346  CTRPSNNTRKSIRIGPGQAFYATNGIIGDIRAAHC  \n",
       "347  CTRPSNNTRKSVWLGPGRAFYT-NKVIGNIRKAHC  \n",
       "348  CTRPYNNTRQSIRIGPGQTFYATGDIIGDIRKAHC  \n",
       "349  CTRYANNTRKSVRIGPGQTFY-TNDIIGDIRQAHC  \n",
       "\n",
       "[71 rows x 4 columns]"
      ]
     },
     "execution_count": 79,
     "metadata": {},
     "output_type": "execute_result"
    }
   ],
   "source": [
    "df_datasets_validation"
   ]
  },
  {
   "cell_type": "code",
   "execution_count": 80,
   "metadata": {},
   "outputs": [],
   "source": [
    "# Save validation dataset to TSV\n",
    "df_datasets_validation.to_csv('webpssm_validation_labeled.tsv', sep='\\t')"
   ]
  },
  {
   "cell_type": "code",
   "execution_count": 95,
   "metadata": {},
   "outputs": [
    {
     "name": "stderr",
     "output_type": "stream",
     "text": [
      "/home/gabriel/miniconda3/envs/deeptropism/lib/python3.7/site-packages/ipykernel_launcher.py:2: FutureWarning: Sorting because non-concatenation axis is not aligned. A future version\n",
      "of pandas will change to not sort by default.\n",
      "\n",
      "To accept the future behavior, pass 'sort=False'.\n",
      "\n",
      "To retain the current behavior and silence the warning, pass 'sort=True'.\n",
      "\n",
      "  \n"
     ]
    }
   ],
   "source": [
    "# Now concatenate the parsed df_datasets_validation to df_datasets\n",
    "df_datasets_final = pd.concat([df_datasets[df_datasets.label != 'validation'], df_datasets_validation])"
   ]
  },
  {
   "cell_type": "code",
   "execution_count": 96,
   "metadata": {},
   "outputs": [
    {
     "data": {
      "text/html": [
       "<div>\n",
       "<style scoped>\n",
       "    .dataframe tbody tr th:only-of-type {\n",
       "        vertical-align: middle;\n",
       "    }\n",
       "\n",
       "    .dataframe tbody tr th {\n",
       "        vertical-align: top;\n",
       "    }\n",
       "\n",
       "    .dataframe thead th {\n",
       "        text-align: right;\n",
       "    }\n",
       "</style>\n",
       "<table border=\"1\" class=\"dataframe\">\n",
       "  <thead>\n",
       "    <tr style=\"text-align: right;\">\n",
       "      <th></th>\n",
       "      <th>dataset</th>\n",
       "      <th>index</th>\n",
       "      <th>label</th>\n",
       "      <th>seq_name</th>\n",
       "      <th>sequence</th>\n",
       "    </tr>\n",
       "  </thead>\n",
       "  <tbody>\n",
       "    <tr>\n",
       "      <td>0</td>\n",
       "      <td>newdb</td>\n",
       "      <td>0.0</td>\n",
       "      <td>CCR5</td>\n",
       "      <td>RAB014775</td>\n",
       "      <td>CTRPSNNTRTGITIGPGQVWYRTGDIIGDIRKAYC</td>\n",
       "    </tr>\n",
       "    <tr>\n",
       "      <td>1</td>\n",
       "      <td>newdb</td>\n",
       "      <td>1.0</td>\n",
       "      <td>CCR5</td>\n",
       "      <td>RAB014776</td>\n",
       "      <td>CTRPSNNTRTSITIGPGQVWYRTGDIIGDIRQAYC</td>\n",
       "    </tr>\n",
       "    <tr>\n",
       "      <td>2</td>\n",
       "      <td>newdb</td>\n",
       "      <td>2.0</td>\n",
       "      <td>CCR5</td>\n",
       "      <td>RAB014778</td>\n",
       "      <td>CTRPSNNTRTSITIGPGQVWYRTGDIIGDIRKAYC</td>\n",
       "    </tr>\n",
       "    <tr>\n",
       "      <td>3</td>\n",
       "      <td>newdb</td>\n",
       "      <td>3.0</td>\n",
       "      <td>CCR5</td>\n",
       "      <td>RAB014781</td>\n",
       "      <td>CTRPSNNTRTSVTIGPGQVWYRTGDIIGDIRQAYC</td>\n",
       "    </tr>\n",
       "    <tr>\n",
       "      <td>4</td>\n",
       "      <td>newdb</td>\n",
       "      <td>4.0</td>\n",
       "      <td>CCR5</td>\n",
       "      <td>RAB014834</td>\n",
       "      <td>CTRPSNNTRTSITIGPGQVWYRTGDIIGNIRKAYC</td>\n",
       "    </tr>\n",
       "  </tbody>\n",
       "</table>\n",
       "</div>"
      ],
      "text/plain": [
       "  dataset  index label   seq_name                             sequence\n",
       "0   newdb    0.0  CCR5  RAB014775  CTRPSNNTRTGITIGPGQVWYRTGDIIGDIRKAYC\n",
       "1   newdb    1.0  CCR5  RAB014776  CTRPSNNTRTSITIGPGQVWYRTGDIIGDIRQAYC\n",
       "2   newdb    2.0  CCR5  RAB014778  CTRPSNNTRTSITIGPGQVWYRTGDIIGDIRKAYC\n",
       "3   newdb    3.0  CCR5  RAB014781  CTRPSNNTRTSVTIGPGQVWYRTGDIIGDIRQAYC\n",
       "4   newdb    4.0  CCR5  RAB014834  CTRPSNNTRTSITIGPGQVWYRTGDIIGNIRKAYC"
      ]
     },
     "execution_count": 96,
     "metadata": {},
     "output_type": "execute_result"
    }
   ],
   "source": [
    "df_datasets_final.head()"
   ]
  },
  {
   "cell_type": "code",
   "execution_count": 97,
   "metadata": {},
   "outputs": [
    {
     "data": {
      "text/plain": [
       "(9550, 5)"
      ]
     },
     "execution_count": 97,
     "metadata": {},
     "output_type": "execute_result"
    }
   ],
   "source": [
    "df_datasets_final.shape"
   ]
  },
  {
   "cell_type": "markdown",
   "metadata": {},
   "source": [
    "Now we replace the '-' on sequences to remove duplicated ones.<br>\n",
    "First we check the number of sequences with '-' on the Dataframe."
   ]
  },
  {
   "cell_type": "code",
   "execution_count": 98,
   "metadata": {},
   "outputs": [
    {
     "data": {
      "text/plain": [
       "(1225, 5)"
      ]
     },
     "execution_count": 98,
     "metadata": {},
     "output_type": "execute_result"
    }
   ],
   "source": [
    "df_datasets_final[df_datasets_final.sequence.str.contains('-')].shape"
   ]
  },
  {
   "cell_type": "code",
   "execution_count": 99,
   "metadata": {},
   "outputs": [
    {
     "data": {
      "text/html": [
       "<div>\n",
       "<style scoped>\n",
       "    .dataframe tbody tr th:only-of-type {\n",
       "        vertical-align: middle;\n",
       "    }\n",
       "\n",
       "    .dataframe tbody tr th {\n",
       "        vertical-align: top;\n",
       "    }\n",
       "\n",
       "    .dataframe thead th {\n",
       "        text-align: right;\n",
       "    }\n",
       "</style>\n",
       "<table border=\"1\" class=\"dataframe\">\n",
       "  <thead>\n",
       "    <tr style=\"text-align: right;\">\n",
       "      <th></th>\n",
       "      <th>dataset</th>\n",
       "      <th>index</th>\n",
       "      <th>label</th>\n",
       "      <th>seq_name</th>\n",
       "      <th>sequence</th>\n",
       "    </tr>\n",
       "  </thead>\n",
       "  <tbody>\n",
       "    <tr>\n",
       "      <td>3106</td>\n",
       "      <td>webpssm</td>\n",
       "      <td>108.0</td>\n",
       "      <td>CCR5</td>\n",
       "      <td>TV013_ZA_C_NSI/CCR5_u125_TREURNICHT_(2002)</td>\n",
       "      <td>CTRPNNNTRRSIRIGPGQAFY-TNDIIGDIRQAHC</td>\n",
       "    </tr>\n",
       "    <tr>\n",
       "      <td>3125</td>\n",
       "      <td>webpssm</td>\n",
       "      <td>127.0</td>\n",
       "      <td>CCR5</td>\n",
       "      <td>98TZ013_TZ_C_CCR5_u144_RODENBURG_(2001)</td>\n",
       "      <td>CTRPGNNTRKSVRIGPGQTFY-TNDIIGDIRQAYC</td>\n",
       "    </tr>\n",
       "    <tr>\n",
       "      <td>3143</td>\n",
       "      <td>webpssm</td>\n",
       "      <td>145.0</td>\n",
       "      <td>CCR5</td>\n",
       "      <td>S018_MW_C_CCR5_u162_PING_(1999)</td>\n",
       "      <td>CVRPNNNTRKSIRIGPGQTFYA-NDIIGDIRQAHC</td>\n",
       "    </tr>\n",
       "    <tr>\n",
       "      <td>3151</td>\n",
       "      <td>webpssm</td>\n",
       "      <td>153.0</td>\n",
       "      <td>CCR5</td>\n",
       "      <td>S031_MW_C_CCR5_u170_PING_(1999)</td>\n",
       "      <td>CTRPNNNTRKSIRIGPGQTFYA-NDIIGDIRQAHC</td>\n",
       "    </tr>\n",
       "    <tr>\n",
       "      <td>3154</td>\n",
       "      <td>webpssm</td>\n",
       "      <td>156.0</td>\n",
       "      <td>CCR5</td>\n",
       "      <td>S180_MW_C_CCR5_u173_PING_(1999)</td>\n",
       "      <td>CTRPGNNTRTSIRIGPGQTFFANN-IIGDIRQAHC</td>\n",
       "    </tr>\n",
       "    <tr>\n",
       "      <td>3169</td>\n",
       "      <td>webpssm</td>\n",
       "      <td>171.0</td>\n",
       "      <td>CCR5</td>\n",
       "      <td>DU179MAY99U-R5_ZA_C_CCR5_u19_NICD_(UNPUBL)</td>\n",
       "      <td>CTRPGNNTRKSIRIGPGQAFY-TNHIIGDIRQAYC</td>\n",
       "    </tr>\n",
       "    <tr>\n",
       "      <td>3201</td>\n",
       "      <td>webpssm</td>\n",
       "      <td>203.0</td>\n",
       "      <td>CCR5</td>\n",
       "      <td>TM3__ZA_C_NSI/CCR5_u194_CHOGE_(IN_PRESS)</td>\n",
       "      <td>CTRPGNNTRKSIRIGPGQTFYA-NDIIGDIRQAYC</td>\n",
       "    </tr>\n",
       "    <tr>\n",
       "      <td>3205</td>\n",
       "      <td>webpssm</td>\n",
       "      <td>207.0</td>\n",
       "      <td>CCR5</td>\n",
       "      <td>TM10__ZA_C_NSI/CCR5_u198_CHOGE_(IN_PRESS)</td>\n",
       "      <td>CTRPNNNTRKSIRIGPGQTFYATN-IIGDIRQAYC</td>\n",
       "    </tr>\n",
       "    <tr>\n",
       "      <td>3214</td>\n",
       "      <td>webpssm</td>\n",
       "      <td>216.0</td>\n",
       "      <td>CCR5</td>\n",
       "      <td>TM31__ZA_C_NSI/CCR5_u207_CHOGE_(IN_PRESS)</td>\n",
       "      <td>CTRPGSNTRRSIRIGPGQAFY-TQDIIGDIRQAHC</td>\n",
       "    </tr>\n",
       "    <tr>\n",
       "      <td>3226</td>\n",
       "      <td>webpssm</td>\n",
       "      <td>228.0</td>\n",
       "      <td>CXCR4</td>\n",
       "      <td>95ZW748_ZW_C_SI_u1_BATRA_(2000)</td>\n",
       "      <td>CTRPNNNVRKHIRIGIGKVFYA-NDIIGDIRQARC</td>\n",
       "    </tr>\n",
       "  </tbody>\n",
       "</table>\n",
       "</div>"
      ],
      "text/plain": [
       "      dataset  index  label                                    seq_name  \\\n",
       "3106  webpssm  108.0   CCR5  TV013_ZA_C_NSI/CCR5_u125_TREURNICHT_(2002)   \n",
       "3125  webpssm  127.0   CCR5     98TZ013_TZ_C_CCR5_u144_RODENBURG_(2001)   \n",
       "3143  webpssm  145.0   CCR5             S018_MW_C_CCR5_u162_PING_(1999)   \n",
       "3151  webpssm  153.0   CCR5             S031_MW_C_CCR5_u170_PING_(1999)   \n",
       "3154  webpssm  156.0   CCR5             S180_MW_C_CCR5_u173_PING_(1999)   \n",
       "3169  webpssm  171.0   CCR5  DU179MAY99U-R5_ZA_C_CCR5_u19_NICD_(UNPUBL)   \n",
       "3201  webpssm  203.0   CCR5    TM3__ZA_C_NSI/CCR5_u194_CHOGE_(IN_PRESS)   \n",
       "3205  webpssm  207.0   CCR5   TM10__ZA_C_NSI/CCR5_u198_CHOGE_(IN_PRESS)   \n",
       "3214  webpssm  216.0   CCR5   TM31__ZA_C_NSI/CCR5_u207_CHOGE_(IN_PRESS)   \n",
       "3226  webpssm  228.0  CXCR4             95ZW748_ZW_C_SI_u1_BATRA_(2000)   \n",
       "\n",
       "                                 sequence  \n",
       "3106  CTRPNNNTRRSIRIGPGQAFY-TNDIIGDIRQAHC  \n",
       "3125  CTRPGNNTRKSVRIGPGQTFY-TNDIIGDIRQAYC  \n",
       "3143  CVRPNNNTRKSIRIGPGQTFYA-NDIIGDIRQAHC  \n",
       "3151  CTRPNNNTRKSIRIGPGQTFYA-NDIIGDIRQAHC  \n",
       "3154  CTRPGNNTRTSIRIGPGQTFFANN-IIGDIRQAHC  \n",
       "3169  CTRPGNNTRKSIRIGPGQAFY-TNHIIGDIRQAYC  \n",
       "3201  CTRPGNNTRKSIRIGPGQTFYA-NDIIGDIRQAYC  \n",
       "3205  CTRPNNNTRKSIRIGPGQTFYATN-IIGDIRQAYC  \n",
       "3214  CTRPGSNTRRSIRIGPGQAFY-TQDIIGDIRQAHC  \n",
       "3226  CTRPNNNVRKHIRIGIGKVFYA-NDIIGDIRQARC  "
      ]
     },
     "execution_count": 99,
     "metadata": {},
     "output_type": "execute_result"
    }
   ],
   "source": [
    "df_datasets_final[df_datasets_final.sequence.str.contains('-')].head(10)"
   ]
  },
  {
   "cell_type": "code",
   "execution_count": 100,
   "metadata": {},
   "outputs": [],
   "source": [
    "df_datasets_final['sequence'] = df_datasets_final['sequence'].str.replace('-', '', regex=False)"
   ]
  },
  {
   "cell_type": "markdown",
   "metadata": {},
   "source": [
    "Check if the replace worked:"
   ]
  },
  {
   "cell_type": "code",
   "execution_count": 101,
   "metadata": {},
   "outputs": [
    {
     "data": {
      "text/plain": [
       "(0, 5)"
      ]
     },
     "execution_count": 101,
     "metadata": {},
     "output_type": "execute_result"
    }
   ],
   "source": [
    "df_datasets_final[df_datasets_final.sequence.str.contains('-')].shape"
   ]
  },
  {
   "cell_type": "markdown",
   "metadata": {},
   "source": [
    "Now that our sequences don't have '-' we can drop the duplicated sequences to avoid repetitive data on our trainning set."
   ]
  },
  {
   "cell_type": "code",
   "execution_count": 102,
   "metadata": {},
   "outputs": [
    {
     "data": {
      "text/plain": [
       "(9550, 5)"
      ]
     },
     "execution_count": 102,
     "metadata": {},
     "output_type": "execute_result"
    }
   ],
   "source": [
    "df_datasets_final.shape"
   ]
  },
  {
   "cell_type": "code",
   "execution_count": 103,
   "metadata": {},
   "outputs": [
    {
     "data": {
      "text/html": [
       "<div>\n",
       "<style scoped>\n",
       "    .dataframe tbody tr th:only-of-type {\n",
       "        vertical-align: middle;\n",
       "    }\n",
       "\n",
       "    .dataframe tbody tr th {\n",
       "        vertical-align: top;\n",
       "    }\n",
       "\n",
       "    .dataframe thead th {\n",
       "        text-align: right;\n",
       "    }\n",
       "</style>\n",
       "<table border=\"1\" class=\"dataframe\">\n",
       "  <thead>\n",
       "    <tr style=\"text-align: right;\">\n",
       "      <th></th>\n",
       "      <th>dataset</th>\n",
       "      <th>index</th>\n",
       "      <th>label</th>\n",
       "      <th>seq_name</th>\n",
       "      <th>sequence</th>\n",
       "    </tr>\n",
       "  </thead>\n",
       "  <tbody>\n",
       "    <tr>\n",
       "      <td>0</td>\n",
       "      <td>newdb</td>\n",
       "      <td>0.0</td>\n",
       "      <td>CCR5</td>\n",
       "      <td>RAB014775</td>\n",
       "      <td>CTRPSNNTRTGITIGPGQVWYRTGDIIGDIRKAYC</td>\n",
       "    </tr>\n",
       "    <tr>\n",
       "      <td>1</td>\n",
       "      <td>newdb</td>\n",
       "      <td>1.0</td>\n",
       "      <td>CCR5</td>\n",
       "      <td>RAB014776</td>\n",
       "      <td>CTRPSNNTRTSITIGPGQVWYRTGDIIGDIRQAYC</td>\n",
       "    </tr>\n",
       "    <tr>\n",
       "      <td>2</td>\n",
       "      <td>newdb</td>\n",
       "      <td>2.0</td>\n",
       "      <td>CCR5</td>\n",
       "      <td>RAB014778</td>\n",
       "      <td>CTRPSNNTRTSITIGPGQVWYRTGDIIGDIRKAYC</td>\n",
       "    </tr>\n",
       "    <tr>\n",
       "      <td>3</td>\n",
       "      <td>newdb</td>\n",
       "      <td>3.0</td>\n",
       "      <td>CCR5</td>\n",
       "      <td>RAB014781</td>\n",
       "      <td>CTRPSNNTRTSVTIGPGQVWYRTGDIIGDIRQAYC</td>\n",
       "    </tr>\n",
       "    <tr>\n",
       "      <td>4</td>\n",
       "      <td>newdb</td>\n",
       "      <td>4.0</td>\n",
       "      <td>CCR5</td>\n",
       "      <td>RAB014834</td>\n",
       "      <td>CTRPSNNTRTSITIGPGQVWYRTGDIIGNIRKAYC</td>\n",
       "    </tr>\n",
       "    <tr>\n",
       "      <td>5</td>\n",
       "      <td>newdb</td>\n",
       "      <td>5.0</td>\n",
       "      <td>CCR5</td>\n",
       "      <td>RAB023804</td>\n",
       "      <td>CTRPNNNTRKSIRIGPGQTFYATGDIIGDIRQAHC</td>\n",
       "    </tr>\n",
       "    <tr>\n",
       "      <td>6</td>\n",
       "      <td>newdb</td>\n",
       "      <td>6.0</td>\n",
       "      <td>CCR5</td>\n",
       "      <td>RAB287376</td>\n",
       "      <td>CVRPNNNTRTSVRIGPGQTFYATGEIIGDIRQAFC</td>\n",
       "    </tr>\n",
       "    <tr>\n",
       "      <td>7</td>\n",
       "      <td>newdb</td>\n",
       "      <td>7.0</td>\n",
       "      <td>CCR5</td>\n",
       "      <td>RAB553911</td>\n",
       "      <td>CERPNNNTRRSIQIGPGRAWFEAEDIIGDIRKAHC</td>\n",
       "    </tr>\n",
       "    <tr>\n",
       "      <td>8</td>\n",
       "      <td>newdb</td>\n",
       "      <td>8.0</td>\n",
       "      <td>CCR5</td>\n",
       "      <td>RAB553912</td>\n",
       "      <td>CTRPNDNTRKSINIAPGRAFYATGDIIGDIRQAHC</td>\n",
       "    </tr>\n",
       "    <tr>\n",
       "      <td>9</td>\n",
       "      <td>newdb</td>\n",
       "      <td>9.0</td>\n",
       "      <td>CCR5</td>\n",
       "      <td>RAB553913</td>\n",
       "      <td>CTRPNNNTRKGIHMGPGRAIYTTDIIGDIRQAHC</td>\n",
       "    </tr>\n",
       "    <tr>\n",
       "      <td>10</td>\n",
       "      <td>newdb</td>\n",
       "      <td>10.0</td>\n",
       "      <td>CCR5</td>\n",
       "      <td>RAB553914</td>\n",
       "      <td>CTRPNNNTRKGIHFGPGQALYTTGAIIGDIREAHC</td>\n",
       "    </tr>\n",
       "    <tr>\n",
       "      <td>11</td>\n",
       "      <td>newdb</td>\n",
       "      <td>11.0</td>\n",
       "      <td>CCR5</td>\n",
       "      <td>RAF005495</td>\n",
       "      <td>CTRPNNNTRKSIPIGPGRAFYTTGEIIGDIRKAHC</td>\n",
       "    </tr>\n",
       "    <tr>\n",
       "      <td>12</td>\n",
       "      <td>newdb</td>\n",
       "      <td>12.0</td>\n",
       "      <td>CCR5</td>\n",
       "      <td>RAF021477</td>\n",
       "      <td>CTRPNNNTRKSIHIGPGRAFYTTGQIIGDIRQAYC</td>\n",
       "    </tr>\n",
       "    <tr>\n",
       "      <td>13</td>\n",
       "      <td>newdb</td>\n",
       "      <td>13.0</td>\n",
       "      <td>CCR5</td>\n",
       "      <td>RAF021494</td>\n",
       "      <td>CTRPNNNTRRSIHIGPGRAFYTTGRIIGDIRQAYC</td>\n",
       "    </tr>\n",
       "    <tr>\n",
       "      <td>14</td>\n",
       "      <td>newdb</td>\n",
       "      <td>14.0</td>\n",
       "      <td>CCR5</td>\n",
       "      <td>RAF021499</td>\n",
       "      <td>CTRPNNNTRKSIHIGPGGAFYTTGQIIGDIRQAYC</td>\n",
       "    </tr>\n",
       "    <tr>\n",
       "      <td>15</td>\n",
       "      <td>newdb</td>\n",
       "      <td>15.0</td>\n",
       "      <td>CCR5</td>\n",
       "      <td>RAF021500</td>\n",
       "      <td>CTRPNNNTRKSIPIGPGRAFYTTGQIIGDIRQAYC</td>\n",
       "    </tr>\n",
       "    <tr>\n",
       "      <td>16</td>\n",
       "      <td>newdb</td>\n",
       "      <td>16.0</td>\n",
       "      <td>CCR5</td>\n",
       "      <td>RAF021514</td>\n",
       "      <td>CTRPNNNTRKSITIGPGRAFYTTGQIIGDIRQAYC</td>\n",
       "    </tr>\n",
       "    <tr>\n",
       "      <td>17</td>\n",
       "      <td>newdb</td>\n",
       "      <td>17.0</td>\n",
       "      <td>CCR5</td>\n",
       "      <td>RAF021523</td>\n",
       "      <td>CTRPNNNTRKSITIGPGRAFYTTGQIIGDIRKAYC</td>\n",
       "    </tr>\n",
       "    <tr>\n",
       "      <td>18</td>\n",
       "      <td>newdb</td>\n",
       "      <td>18.0</td>\n",
       "      <td>CCR5</td>\n",
       "      <td>RAF022257</td>\n",
       "      <td>CTRPNNNTRKSISIGPGRAFYTTGEIIGDIRQAHC</td>\n",
       "    </tr>\n",
       "    <tr>\n",
       "      <td>19</td>\n",
       "      <td>newdb</td>\n",
       "      <td>19.0</td>\n",
       "      <td>CCR5</td>\n",
       "      <td>RAF022259</td>\n",
       "      <td>CTRPNNNTRKSISIGPGRAFYTTGEIIGNIRQAHC</td>\n",
       "    </tr>\n",
       "  </tbody>\n",
       "</table>\n",
       "</div>"
      ],
      "text/plain": [
       "   dataset  index label   seq_name                             sequence\n",
       "0    newdb    0.0  CCR5  RAB014775  CTRPSNNTRTGITIGPGQVWYRTGDIIGDIRKAYC\n",
       "1    newdb    1.0  CCR5  RAB014776  CTRPSNNTRTSITIGPGQVWYRTGDIIGDIRQAYC\n",
       "2    newdb    2.0  CCR5  RAB014778  CTRPSNNTRTSITIGPGQVWYRTGDIIGDIRKAYC\n",
       "3    newdb    3.0  CCR5  RAB014781  CTRPSNNTRTSVTIGPGQVWYRTGDIIGDIRQAYC\n",
       "4    newdb    4.0  CCR5  RAB014834  CTRPSNNTRTSITIGPGQVWYRTGDIIGNIRKAYC\n",
       "5    newdb    5.0  CCR5  RAB023804  CTRPNNNTRKSIRIGPGQTFYATGDIIGDIRQAHC\n",
       "6    newdb    6.0  CCR5  RAB287376  CVRPNNNTRTSVRIGPGQTFYATGEIIGDIRQAFC\n",
       "7    newdb    7.0  CCR5  RAB553911  CERPNNNTRRSIQIGPGRAWFEAEDIIGDIRKAHC\n",
       "8    newdb    8.0  CCR5  RAB553912  CTRPNDNTRKSINIAPGRAFYATGDIIGDIRQAHC\n",
       "9    newdb    9.0  CCR5  RAB553913   CTRPNNNTRKGIHMGPGRAIYTTDIIGDIRQAHC\n",
       "10   newdb   10.0  CCR5  RAB553914  CTRPNNNTRKGIHFGPGQALYTTGAIIGDIREAHC\n",
       "11   newdb   11.0  CCR5  RAF005495  CTRPNNNTRKSIPIGPGRAFYTTGEIIGDIRKAHC\n",
       "12   newdb   12.0  CCR5  RAF021477  CTRPNNNTRKSIHIGPGRAFYTTGQIIGDIRQAYC\n",
       "13   newdb   13.0  CCR5  RAF021494  CTRPNNNTRRSIHIGPGRAFYTTGRIIGDIRQAYC\n",
       "14   newdb   14.0  CCR5  RAF021499  CTRPNNNTRKSIHIGPGGAFYTTGQIIGDIRQAYC\n",
       "15   newdb   15.0  CCR5  RAF021500  CTRPNNNTRKSIPIGPGRAFYTTGQIIGDIRQAYC\n",
       "16   newdb   16.0  CCR5  RAF021514  CTRPNNNTRKSITIGPGRAFYTTGQIIGDIRQAYC\n",
       "17   newdb   17.0  CCR5  RAF021523  CTRPNNNTRKSITIGPGRAFYTTGQIIGDIRKAYC\n",
       "18   newdb   18.0  CCR5  RAF022257  CTRPNNNTRKSISIGPGRAFYTTGEIIGDIRQAHC\n",
       "19   newdb   19.0  CCR5  RAF022259  CTRPNNNTRKSISIGPGRAFYTTGEIIGNIRQAHC"
      ]
     },
     "execution_count": 103,
     "metadata": {},
     "output_type": "execute_result"
    }
   ],
   "source": [
    "df_datasets_final.head(20)"
   ]
  },
  {
   "cell_type": "code",
   "execution_count": 110,
   "metadata": {},
   "outputs": [
    {
     "data": {
      "text/html": [
       "<div>\n",
       "<style scoped>\n",
       "    .dataframe tbody tr th:only-of-type {\n",
       "        vertical-align: middle;\n",
       "    }\n",
       "\n",
       "    .dataframe tbody tr th {\n",
       "        vertical-align: top;\n",
       "    }\n",
       "\n",
       "    .dataframe thead th {\n",
       "        text-align: right;\n",
       "    }\n",
       "</style>\n",
       "<table border=\"1\" class=\"dataframe\">\n",
       "  <thead>\n",
       "    <tr style=\"text-align: right;\">\n",
       "      <th></th>\n",
       "      <th>dataset</th>\n",
       "      <th>index</th>\n",
       "      <th>label</th>\n",
       "      <th>seq_name</th>\n",
       "      <th>sequence</th>\n",
       "    </tr>\n",
       "  </thead>\n",
       "  <tbody>\n",
       "    <tr>\n",
       "      <td>0</td>\n",
       "      <td>newdb</td>\n",
       "      <td>0.0</td>\n",
       "      <td>CCR5</td>\n",
       "      <td>RAB014775</td>\n",
       "      <td>CTRPSNNTRTGITIGPGQVWYRTGDIIGDIRKAYC</td>\n",
       "    </tr>\n",
       "    <tr>\n",
       "      <td>1</td>\n",
       "      <td>newdb</td>\n",
       "      <td>1.0</td>\n",
       "      <td>CCR5</td>\n",
       "      <td>RAB014776</td>\n",
       "      <td>CTRPSNNTRTSITIGPGQVWYRTGDIIGDIRQAYC</td>\n",
       "    </tr>\n",
       "    <tr>\n",
       "      <td>2</td>\n",
       "      <td>newdb</td>\n",
       "      <td>2.0</td>\n",
       "      <td>CCR5</td>\n",
       "      <td>RAB014778</td>\n",
       "      <td>CTRPSNNTRTSITIGPGQVWYRTGDIIGDIRKAYC</td>\n",
       "    </tr>\n",
       "    <tr>\n",
       "      <td>3</td>\n",
       "      <td>newdb</td>\n",
       "      <td>3.0</td>\n",
       "      <td>CCR5</td>\n",
       "      <td>RAB014781</td>\n",
       "      <td>CTRPSNNTRTSVTIGPGQVWYRTGDIIGDIRQAYC</td>\n",
       "    </tr>\n",
       "    <tr>\n",
       "      <td>4</td>\n",
       "      <td>newdb</td>\n",
       "      <td>4.0</td>\n",
       "      <td>CCR5</td>\n",
       "      <td>RAB014834</td>\n",
       "      <td>CTRPSNNTRTSITIGPGQVWYRTGDIIGNIRKAYC</td>\n",
       "    </tr>\n",
       "    <tr>\n",
       "      <td>...</td>\n",
       "      <td>...</td>\n",
       "      <td>...</td>\n",
       "      <td>...</td>\n",
       "      <td>...</td>\n",
       "      <td>...</td>\n",
       "    </tr>\n",
       "    <tr>\n",
       "      <td>9545</td>\n",
       "      <td>webpssm</td>\n",
       "      <td>NaN</td>\n",
       "      <td>CCR5</td>\n",
       "      <td>C.ZW.01.TC33__phen_NSI</td>\n",
       "      <td>CTRPNNNTRTSVRIGPGQAFYATGDIIGDIRQAHC</td>\n",
       "    </tr>\n",
       "    <tr>\n",
       "      <td>9546</td>\n",
       "      <td>webpssm</td>\n",
       "      <td>NaN</td>\n",
       "      <td>CCR5</td>\n",
       "      <td>C.FR.93.FRMP37__phen_NSI</td>\n",
       "      <td>CTRPSNNTRKSIRIGPGQAFYATNGIIGDIRAAHC</td>\n",
       "    </tr>\n",
       "    <tr>\n",
       "      <td>9547</td>\n",
       "      <td>webpssm</td>\n",
       "      <td>NaN</td>\n",
       "      <td>CCR5</td>\n",
       "      <td>C.ZW.01.TC32__phen_NSI</td>\n",
       "      <td>CTRPSNNTRKSVWLGPGRAFYTNKVIGNIRKAHC</td>\n",
       "    </tr>\n",
       "    <tr>\n",
       "      <td>9548</td>\n",
       "      <td>webpssm</td>\n",
       "      <td>NaN</td>\n",
       "      <td>CCR5</td>\n",
       "      <td>C.FR.91.FRMP197__phen_NSI</td>\n",
       "      <td>CTRPYNNTRQSIRIGPGQTFYATGDIIGDIRKAHC</td>\n",
       "    </tr>\n",
       "    <tr>\n",
       "      <td>9549</td>\n",
       "      <td>webpssm</td>\n",
       "      <td>NaN</td>\n",
       "      <td>CCR5</td>\n",
       "      <td>C.SO.89.89SM_145__phen_NSI</td>\n",
       "      <td>CTRYANNTRKSVRIGPGQTFYTNDIIGDIRQAHC</td>\n",
       "    </tr>\n",
       "  </tbody>\n",
       "</table>\n",
       "<p>9550 rows × 5 columns</p>\n",
       "</div>"
      ],
      "text/plain": [
       "      dataset  index label                    seq_name  \\\n",
       "0       newdb    0.0  CCR5                   RAB014775   \n",
       "1       newdb    1.0  CCR5                   RAB014776   \n",
       "2       newdb    2.0  CCR5                   RAB014778   \n",
       "3       newdb    3.0  CCR5                   RAB014781   \n",
       "4       newdb    4.0  CCR5                   RAB014834   \n",
       "...       ...    ...   ...                         ...   \n",
       "9545  webpssm    NaN  CCR5      C.ZW.01.TC33__phen_NSI   \n",
       "9546  webpssm    NaN  CCR5    C.FR.93.FRMP37__phen_NSI   \n",
       "9547  webpssm    NaN  CCR5      C.ZW.01.TC32__phen_NSI   \n",
       "9548  webpssm    NaN  CCR5   C.FR.91.FRMP197__phen_NSI   \n",
       "9549  webpssm    NaN  CCR5  C.SO.89.89SM_145__phen_NSI   \n",
       "\n",
       "                                 sequence  \n",
       "0     CTRPSNNTRTGITIGPGQVWYRTGDIIGDIRKAYC  \n",
       "1     CTRPSNNTRTSITIGPGQVWYRTGDIIGDIRQAYC  \n",
       "2     CTRPSNNTRTSITIGPGQVWYRTGDIIGDIRKAYC  \n",
       "3     CTRPSNNTRTSVTIGPGQVWYRTGDIIGDIRQAYC  \n",
       "4     CTRPSNNTRTSITIGPGQVWYRTGDIIGNIRKAYC  \n",
       "...                                   ...  \n",
       "9545  CTRPNNNTRTSVRIGPGQAFYATGDIIGDIRQAHC  \n",
       "9546  CTRPSNNTRKSIRIGPGQAFYATNGIIGDIRAAHC  \n",
       "9547   CTRPSNNTRKSVWLGPGRAFYTNKVIGNIRKAHC  \n",
       "9548  CTRPYNNTRQSIRIGPGQTFYATGDIIGDIRKAHC  \n",
       "9549   CTRYANNTRKSVRIGPGQTFYTNDIIGDIRQAHC  \n",
       "\n",
       "[9550 rows x 5 columns]"
      ]
     },
     "execution_count": 110,
     "metadata": {},
     "output_type": "execute_result"
    }
   ],
   "source": [
    "df_datasets_final = df_datasets_final.reset_index(drop=True)\n",
    "df_datasets_final"
   ]
  },
  {
   "cell_type": "code",
   "execution_count": 116,
   "metadata": {},
   "outputs": [
    {
     "data": {
      "text/html": [
       "<div>\n",
       "<style scoped>\n",
       "    .dataframe tbody tr th:only-of-type {\n",
       "        vertical-align: middle;\n",
       "    }\n",
       "\n",
       "    .dataframe tbody tr th {\n",
       "        vertical-align: top;\n",
       "    }\n",
       "\n",
       "    .dataframe thead th {\n",
       "        text-align: right;\n",
       "    }\n",
       "</style>\n",
       "<table border=\"1\" class=\"dataframe\">\n",
       "  <thead>\n",
       "    <tr style=\"text-align: right;\">\n",
       "      <th></th>\n",
       "      <th>seq_name</th>\n",
       "      <th>dataset</th>\n",
       "      <th>label</th>\n",
       "      <th>sequence</th>\n",
       "    </tr>\n",
       "  </thead>\n",
       "  <tbody>\n",
       "    <tr>\n",
       "      <td>0</td>\n",
       "      <td>RAB014775</td>\n",
       "      <td>newdb</td>\n",
       "      <td>CCR5</td>\n",
       "      <td>CTRPSNNTRTGITIGPGQVWYRTGDIIGDIRKAYC</td>\n",
       "    </tr>\n",
       "    <tr>\n",
       "      <td>1</td>\n",
       "      <td>RAB014776</td>\n",
       "      <td>newdb</td>\n",
       "      <td>CCR5</td>\n",
       "      <td>CTRPSNNTRTSITIGPGQVWYRTGDIIGDIRQAYC</td>\n",
       "    </tr>\n",
       "    <tr>\n",
       "      <td>2</td>\n",
       "      <td>RAB014778</td>\n",
       "      <td>newdb</td>\n",
       "      <td>CCR5</td>\n",
       "      <td>CTRPSNNTRTSITIGPGQVWYRTGDIIGDIRKAYC</td>\n",
       "    </tr>\n",
       "    <tr>\n",
       "      <td>3</td>\n",
       "      <td>RAB014781</td>\n",
       "      <td>newdb</td>\n",
       "      <td>CCR5</td>\n",
       "      <td>CTRPSNNTRTSVTIGPGQVWYRTGDIIGDIRQAYC</td>\n",
       "    </tr>\n",
       "    <tr>\n",
       "      <td>4</td>\n",
       "      <td>RAB014834</td>\n",
       "      <td>newdb</td>\n",
       "      <td>CCR5</td>\n",
       "      <td>CTRPSNNTRTSITIGPGQVWYRTGDIIGNIRKAYC</td>\n",
       "    </tr>\n",
       "    <tr>\n",
       "      <td>...</td>\n",
       "      <td>...</td>\n",
       "      <td>...</td>\n",
       "      <td>...</td>\n",
       "      <td>...</td>\n",
       "    </tr>\n",
       "    <tr>\n",
       "      <td>9545</td>\n",
       "      <td>C.ZW.01.TC33__phen_NSI</td>\n",
       "      <td>webpssm</td>\n",
       "      <td>CCR5</td>\n",
       "      <td>CTRPNNNTRTSVRIGPGQAFYATGDIIGDIRQAHC</td>\n",
       "    </tr>\n",
       "    <tr>\n",
       "      <td>9546</td>\n",
       "      <td>C.FR.93.FRMP37__phen_NSI</td>\n",
       "      <td>webpssm</td>\n",
       "      <td>CCR5</td>\n",
       "      <td>CTRPSNNTRKSIRIGPGQAFYATNGIIGDIRAAHC</td>\n",
       "    </tr>\n",
       "    <tr>\n",
       "      <td>9547</td>\n",
       "      <td>C.ZW.01.TC32__phen_NSI</td>\n",
       "      <td>webpssm</td>\n",
       "      <td>CCR5</td>\n",
       "      <td>CTRPSNNTRKSVWLGPGRAFYTNKVIGNIRKAHC</td>\n",
       "    </tr>\n",
       "    <tr>\n",
       "      <td>9548</td>\n",
       "      <td>C.FR.91.FRMP197__phen_NSI</td>\n",
       "      <td>webpssm</td>\n",
       "      <td>CCR5</td>\n",
       "      <td>CTRPYNNTRQSIRIGPGQTFYATGDIIGDIRKAHC</td>\n",
       "    </tr>\n",
       "    <tr>\n",
       "      <td>9549</td>\n",
       "      <td>C.SO.89.89SM_145__phen_NSI</td>\n",
       "      <td>webpssm</td>\n",
       "      <td>CCR5</td>\n",
       "      <td>CTRYANNTRKSVRIGPGQTFYTNDIIGDIRQAHC</td>\n",
       "    </tr>\n",
       "  </tbody>\n",
       "</table>\n",
       "<p>9550 rows × 4 columns</p>\n",
       "</div>"
      ],
      "text/plain": [
       "                        seq_name  dataset label  \\\n",
       "0                      RAB014775    newdb  CCR5   \n",
       "1                      RAB014776    newdb  CCR5   \n",
       "2                      RAB014778    newdb  CCR5   \n",
       "3                      RAB014781    newdb  CCR5   \n",
       "4                      RAB014834    newdb  CCR5   \n",
       "...                          ...      ...   ...   \n",
       "9545      C.ZW.01.TC33__phen_NSI  webpssm  CCR5   \n",
       "9546    C.FR.93.FRMP37__phen_NSI  webpssm  CCR5   \n",
       "9547      C.ZW.01.TC32__phen_NSI  webpssm  CCR5   \n",
       "9548   C.FR.91.FRMP197__phen_NSI  webpssm  CCR5   \n",
       "9549  C.SO.89.89SM_145__phen_NSI  webpssm  CCR5   \n",
       "\n",
       "                                 sequence  \n",
       "0     CTRPSNNTRTGITIGPGQVWYRTGDIIGDIRKAYC  \n",
       "1     CTRPSNNTRTSITIGPGQVWYRTGDIIGDIRQAYC  \n",
       "2     CTRPSNNTRTSITIGPGQVWYRTGDIIGDIRKAYC  \n",
       "3     CTRPSNNTRTSVTIGPGQVWYRTGDIIGDIRQAYC  \n",
       "4     CTRPSNNTRTSITIGPGQVWYRTGDIIGNIRKAYC  \n",
       "...                                   ...  \n",
       "9545  CTRPNNNTRTSVRIGPGQAFYATGDIIGDIRQAHC  \n",
       "9546  CTRPSNNTRKSIRIGPGQAFYATNGIIGDIRAAHC  \n",
       "9547   CTRPSNNTRKSVWLGPGRAFYTNKVIGNIRKAHC  \n",
       "9548  CTRPYNNTRQSIRIGPGQTFYATGDIIGDIRKAHC  \n",
       "9549   CTRYANNTRKSVRIGPGQTFYTNDIIGDIRQAHC  \n",
       "\n",
       "[9550 rows x 4 columns]"
      ]
     },
     "execution_count": 116,
     "metadata": {},
     "output_type": "execute_result"
    }
   ],
   "source": [
    "#df_datasets_final.drop(['index'], axis=1, inplace=True)\n",
    "df_datasets_final = df_datasets_final[['seq_name', 'dataset', 'label', 'sequence']]\n",
    "df_datasets_final"
   ]
  },
  {
   "cell_type": "code",
   "execution_count": 129,
   "metadata": {},
   "outputs": [],
   "source": [
    "# Create TSV file from df_datasets\n",
    "df_datasets_final.to_csv('all_datasets_raw.tsv', sep='\\t')\n",
    "\n",
    "# Create fasta file from the df_unique_seqs\n",
    "with open('dataset_all_seqs.fasta', 'w') as f:\n",
    "    for index, row in df_datasets_final.iterrows():\n",
    "        f.write(f'>{row.seq_name}|{row.dataset}|{row.label}\\n')\n",
    "        f.write(f'{row.sequence}\\n')    "
   ]
  },
  {
   "cell_type": "code",
   "execution_count": 120,
   "metadata": {},
   "outputs": [
    {
     "data": {
      "text/plain": [
       "8765"
      ]
     },
     "execution_count": 120,
     "metadata": {},
     "output_type": "execute_result"
    }
   ],
   "source": [
    "# Check number of duplicated sequences\n",
    "df_datasets_final.duplicated(subset='sequence', keep=False).sum()"
   ]
  },
  {
   "cell_type": "code",
   "execution_count": 127,
   "metadata": {},
   "outputs": [
    {
     "data": {
      "text/html": [
       "<div>\n",
       "<style scoped>\n",
       "    .dataframe tbody tr th:only-of-type {\n",
       "        vertical-align: middle;\n",
       "    }\n",
       "\n",
       "    .dataframe tbody tr th {\n",
       "        vertical-align: top;\n",
       "    }\n",
       "\n",
       "    .dataframe thead th {\n",
       "        text-align: right;\n",
       "    }\n",
       "</style>\n",
       "<table border=\"1\" class=\"dataframe\">\n",
       "  <thead>\n",
       "    <tr style=\"text-align: right;\">\n",
       "      <th></th>\n",
       "      <th>seq_name</th>\n",
       "      <th>dataset</th>\n",
       "      <th>label</th>\n",
       "      <th>sequence</th>\n",
       "    </tr>\n",
       "  </thead>\n",
       "  <tbody>\n",
       "  </tbody>\n",
       "</table>\n",
       "</div>"
      ],
      "text/plain": [
       "Empty DataFrame\n",
       "Columns: [seq_name, dataset, label, sequence]\n",
       "Index: []"
      ]
     },
     "execution_count": 127,
     "metadata": {},
     "output_type": "execute_result"
    }
   ],
   "source": [
    "df_datasets_final[df_datasets_final.sequence.str.contains('-')]"
   ]
  },
  {
   "cell_type": "code",
   "execution_count": 135,
   "metadata": {},
   "outputs": [
    {
     "data": {
      "text/plain": [
       "{21, 28, 29, 30, 31, 32, 33, 34, 35, 36, 37, 38, 39}"
      ]
     },
     "execution_count": 135,
     "metadata": {},
     "output_type": "execute_result"
    }
   ],
   "source": [
    "# Get diversity of lenghts of sequences on df_datasets_final\n",
    "set(df_datasets_final['sequence'].apply(len))"
   ]
  },
  {
   "cell_type": "code",
   "execution_count": 136,
   "metadata": {},
   "outputs": [
    {
     "data": {
      "text/plain": [
       "3608"
      ]
     },
     "execution_count": 136,
     "metadata": {},
     "output_type": "execute_result"
    }
   ],
   "source": [
    "len(set(df_datasets_final.sequence.to_list()))"
   ]
  },
  {
   "cell_type": "code",
   "execution_count": 137,
   "metadata": {},
   "outputs": [
    {
     "data": {
      "text/plain": [
       "(3608, 4)"
      ]
     },
     "execution_count": 137,
     "metadata": {},
     "output_type": "execute_result"
    }
   ],
   "source": [
    "# Create a Dataframe with unique sequences\n",
    "df_unique_seqs = df_datasets_final.drop_duplicates(subset='sequence', keep='first')\n",
    "df_unique_seqs.shape"
   ]
  },
  {
   "cell_type": "code",
   "execution_count": 138,
   "metadata": {},
   "outputs": [
    {
     "data": {
      "text/html": [
       "<div>\n",
       "<style scoped>\n",
       "    .dataframe tbody tr th:only-of-type {\n",
       "        vertical-align: middle;\n",
       "    }\n",
       "\n",
       "    .dataframe tbody tr th {\n",
       "        vertical-align: top;\n",
       "    }\n",
       "\n",
       "    .dataframe thead th {\n",
       "        text-align: right;\n",
       "    }\n",
       "</style>\n",
       "<table border=\"1\" class=\"dataframe\">\n",
       "  <thead>\n",
       "    <tr style=\"text-align: right;\">\n",
       "      <th></th>\n",
       "      <th>seq_name</th>\n",
       "      <th>dataset</th>\n",
       "      <th>label</th>\n",
       "      <th>sequence</th>\n",
       "    </tr>\n",
       "  </thead>\n",
       "  <tbody>\n",
       "  </tbody>\n",
       "</table>\n",
       "</div>"
      ],
      "text/plain": [
       "Empty DataFrame\n",
       "Columns: [seq_name, dataset, label, sequence]\n",
       "Index: []"
      ]
     },
     "execution_count": 138,
     "metadata": {},
     "output_type": "execute_result"
    }
   ],
   "source": [
    "df_datasets_final[df_datasets_final.label == 'validation'].head()"
   ]
  },
  {
   "cell_type": "markdown",
   "metadata": {},
   "source": [
    "As we can see, there are 3608 unique sequences on our Dataset.<br>\n",
    "We are going to use these unique sequences to do the alignment and split data into trainning, validation and test sets.<br><br>\n",
    "To execute the alignment we are going to create a fasta file out of the Dataframe.\n"
   ]
  },
  {
   "cell_type": "code",
   "execution_count": 139,
   "metadata": {},
   "outputs": [],
   "source": [
    "# Create fasta file from the df_unique_seqs\n",
    "with open('dataset_unique_seqs.fasta', 'w') as f:\n",
    "    for index, row in df_unique_seqs.iterrows():\n",
    "        f.write(f'>{row.seq_name}|{row.dataset}|{row.label}\\n')\n",
    "        f.write(f'{row.sequence}\\n')        "
   ]
  },
  {
   "cell_type": "markdown",
   "metadata": {},
   "source": [
    "# Align sequences using Muscle aligner\n",
    "To get an alignment for the sequences on our dataset we are going to use [Muscle Aligner](https://www.drive5.com/muscle/)."
   ]
  },
  {
   "cell_type": "code",
   "execution_count": 45,
   "metadata": {},
   "outputs": [],
   "source": [
    "os.system('/home/gabriel/Documents/Bioinformatics/muscle3.8.31_i86linux64 -in datasets/dataset_unique_seqs.fasta -out datasets/dataset_unique_seqs_aligned.fasta -gapopen -15')"
   ]
  },
  {
   "cell_type": "code",
   "execution_count": 152,
   "metadata": {},
   "outputs": [],
   "source": [
    "# Creating Dataframe from Muscle aligned output\n",
    "df_aligned = pd.read_csv('/home/gabriel/Documents/Repos/DeepTropism/datasets/dataset_unique_seqs_aligned_gapopen15_MAIN.tsv',sep='\\t',\n",
    "                       names=['seq_name', 'dataset', 'label', 'sequence_aligned'])"
   ]
  },
  {
   "cell_type": "markdown",
   "metadata": {},
   "source": [
    "Now that we have a Dataframe with all the unique sequences aligned and labeled we are going to separate ou train set, validation set and test set on a proportion of 80/10/10."
   ]
  },
  {
   "cell_type": "markdown",
   "metadata": {},
   "source": [
    "# Using the df_unique_seqs\n",
    "This dataset was generated by the alignment of the original dataset, and the resulted alignment consists of a 60 position string for each sequence with '-' representing gaps."
   ]
  },
  {
   "cell_type": "code",
   "execution_count": 153,
   "metadata": {},
   "outputs": [
    {
     "data": {
      "text/html": [
       "<div>\n",
       "<style scoped>\n",
       "    .dataframe tbody tr th:only-of-type {\n",
       "        vertical-align: middle;\n",
       "    }\n",
       "\n",
       "    .dataframe tbody tr th {\n",
       "        vertical-align: top;\n",
       "    }\n",
       "\n",
       "    .dataframe thead th {\n",
       "        text-align: right;\n",
       "    }\n",
       "</style>\n",
       "<table border=\"1\" class=\"dataframe\">\n",
       "  <thead>\n",
       "    <tr style=\"text-align: right;\">\n",
       "      <th></th>\n",
       "      <th>seq_name</th>\n",
       "      <th>dataset</th>\n",
       "      <th>label</th>\n",
       "      <th>sequence_aligned</th>\n",
       "    </tr>\n",
       "  </thead>\n",
       "  <tbody>\n",
       "    <tr>\n",
       "      <td>0</td>\n",
       "      <td>CCR5_1471_29187_CN_2003_B</td>\n",
       "      <td>geno2pheno</td>\n",
       "      <td>CCR5</td>\n",
       "      <td>CTQTQQQY-KKKY---T----------SRTR-ASM-----V-CNRR...</td>\n",
       "    </tr>\n",
       "    <tr>\n",
       "      <td>1</td>\n",
       "      <td>CCR5/CXCR4/CCR1/CCR2b/CCR3/CCR4_MVP5180_67_CM_...</td>\n",
       "      <td>geno2pheno</td>\n",
       "      <td>R5X4</td>\n",
       "      <td>CIREGIAE-VQDI---Y--T--G-P-----M-RWRSMTLKR-SNNT...</td>\n",
       "    </tr>\n",
       "    <tr>\n",
       "      <td>2</td>\n",
       "      <td>RKF859742</td>\n",
       "      <td>newdb</td>\n",
       "      <td>CCR5</td>\n",
       "      <td>CERPTMDI-QDIH------I--G-P-----M-AWYSTYIER-QAKG...</td>\n",
       "    </tr>\n",
       "    <tr>\n",
       "      <td>3</td>\n",
       "      <td>RAF009608</td>\n",
       "      <td>hivcopred</td>\n",
       "      <td>CCR5</td>\n",
       "      <td>CSRPEMDV-QEIR---N-----G-P-----M-AWYSMALAK-GGTT...</td>\n",
       "    </tr>\n",
       "    <tr>\n",
       "      <td>4</td>\n",
       "      <td>RKF859743</td>\n",
       "      <td>newdb</td>\n",
       "      <td>CCR5</td>\n",
       "      <td>CRRPAMKV-QEMR---I----------G--PMAWY-----S-MALE...</td>\n",
       "    </tr>\n",
       "  </tbody>\n",
       "</table>\n",
       "</div>"
      ],
      "text/plain": [
       "                                            seq_name     dataset label  \\\n",
       "0                          CCR5_1471_29187_CN_2003_B  geno2pheno  CCR5   \n",
       "1  CCR5/CXCR4/CCR1/CCR2b/CCR3/CCR4_MVP5180_67_CM_...  geno2pheno  R5X4   \n",
       "2                                          RKF859742       newdb  CCR5   \n",
       "3                                          RAF009608   hivcopred  CCR5   \n",
       "4                                          RKF859743       newdb  CCR5   \n",
       "\n",
       "                                    sequence_aligned  \n",
       "0  CTQTQQQY-KKKY---T----------SRTR-ASM-----V-CNRR...  \n",
       "1  CIREGIAE-VQDI---Y--T--G-P-----M-RWRSMTLKR-SNNT...  \n",
       "2  CERPTMDI-QDIH------I--G-P-----M-AWYSTYIER-QAKG...  \n",
       "3  CSRPEMDV-QEIR---N-----G-P-----M-AWYSMALAK-GGTT...  \n",
       "4  CRRPAMKV-QEMR---I----------G--PMAWY-----S-MALE...  "
      ]
     },
     "execution_count": 153,
     "metadata": {},
     "output_type": "execute_result"
    }
   ],
   "source": [
    "df_aligned.head()"
   ]
  },
  {
   "cell_type": "code",
   "execution_count": 155,
   "metadata": {},
   "outputs": [
    {
     "data": {
      "text/plain": [
       "{60}"
      ]
     },
     "execution_count": 155,
     "metadata": {},
     "output_type": "execute_result"
    }
   ],
   "source": [
    "# Check sizes for sequence column\n",
    "set(df_aligned['sequence_aligned'].apply(len))"
   ]
  },
  {
   "cell_type": "markdown",
   "metadata": {},
   "source": [
    "## Append aligned sequence to df_datasets_final\n",
    "In order to create a Dataset with all the sequences and respective alignments, we are going to set on the df_datasets_final the respective aligned sequenced fetched on df_aligned"
   ]
  },
  {
   "cell_type": "code",
   "execution_count": 158,
   "metadata": {},
   "outputs": [
    {
     "data": {
      "text/html": [
       "<div>\n",
       "<style scoped>\n",
       "    .dataframe tbody tr th:only-of-type {\n",
       "        vertical-align: middle;\n",
       "    }\n",
       "\n",
       "    .dataframe tbody tr th {\n",
       "        vertical-align: top;\n",
       "    }\n",
       "\n",
       "    .dataframe thead th {\n",
       "        text-align: right;\n",
       "    }\n",
       "</style>\n",
       "<table border=\"1\" class=\"dataframe\">\n",
       "  <thead>\n",
       "    <tr style=\"text-align: right;\">\n",
       "      <th></th>\n",
       "      <th>seq_name</th>\n",
       "      <th>dataset</th>\n",
       "      <th>label</th>\n",
       "      <th>sequence</th>\n",
       "    </tr>\n",
       "  </thead>\n",
       "  <tbody>\n",
       "    <tr>\n",
       "      <td>0</td>\n",
       "      <td>RAB014775</td>\n",
       "      <td>newdb</td>\n",
       "      <td>CCR5</td>\n",
       "      <td>CTRPSNNTRTGITIGPGQVWYRTGDIIGDIRKAYC</td>\n",
       "    </tr>\n",
       "    <tr>\n",
       "      <td>1</td>\n",
       "      <td>RAB014776</td>\n",
       "      <td>newdb</td>\n",
       "      <td>CCR5</td>\n",
       "      <td>CTRPSNNTRTSITIGPGQVWYRTGDIIGDIRQAYC</td>\n",
       "    </tr>\n",
       "    <tr>\n",
       "      <td>2</td>\n",
       "      <td>RAB014778</td>\n",
       "      <td>newdb</td>\n",
       "      <td>CCR5</td>\n",
       "      <td>CTRPSNNTRTSITIGPGQVWYRTGDIIGDIRKAYC</td>\n",
       "    </tr>\n",
       "    <tr>\n",
       "      <td>3</td>\n",
       "      <td>RAB014781</td>\n",
       "      <td>newdb</td>\n",
       "      <td>CCR5</td>\n",
       "      <td>CTRPSNNTRTSVTIGPGQVWYRTGDIIGDIRQAYC</td>\n",
       "    </tr>\n",
       "    <tr>\n",
       "      <td>4</td>\n",
       "      <td>RAB014834</td>\n",
       "      <td>newdb</td>\n",
       "      <td>CCR5</td>\n",
       "      <td>CTRPSNNTRTSITIGPGQVWYRTGDIIGNIRKAYC</td>\n",
       "    </tr>\n",
       "    <tr>\n",
       "      <td>5</td>\n",
       "      <td>RAB023804</td>\n",
       "      <td>newdb</td>\n",
       "      <td>CCR5</td>\n",
       "      <td>CTRPNNNTRKSIRIGPGQTFYATGDIIGDIRQAHC</td>\n",
       "    </tr>\n",
       "    <tr>\n",
       "      <td>6</td>\n",
       "      <td>RAB287376</td>\n",
       "      <td>newdb</td>\n",
       "      <td>CCR5</td>\n",
       "      <td>CVRPNNNTRTSVRIGPGQTFYATGEIIGDIRQAFC</td>\n",
       "    </tr>\n",
       "    <tr>\n",
       "      <td>7</td>\n",
       "      <td>RAB553911</td>\n",
       "      <td>newdb</td>\n",
       "      <td>CCR5</td>\n",
       "      <td>CERPNNNTRRSIQIGPGRAWFEAEDIIGDIRKAHC</td>\n",
       "    </tr>\n",
       "    <tr>\n",
       "      <td>8</td>\n",
       "      <td>RAB553912</td>\n",
       "      <td>newdb</td>\n",
       "      <td>CCR5</td>\n",
       "      <td>CTRPNDNTRKSINIAPGRAFYATGDIIGDIRQAHC</td>\n",
       "    </tr>\n",
       "    <tr>\n",
       "      <td>9</td>\n",
       "      <td>RAB553913</td>\n",
       "      <td>newdb</td>\n",
       "      <td>CCR5</td>\n",
       "      <td>CTRPNNNTRKGIHMGPGRAIYTTDIIGDIRQAHC</td>\n",
       "    </tr>\n",
       "  </tbody>\n",
       "</table>\n",
       "</div>"
      ],
      "text/plain": [
       "    seq_name dataset label                             sequence\n",
       "0  RAB014775   newdb  CCR5  CTRPSNNTRTGITIGPGQVWYRTGDIIGDIRKAYC\n",
       "1  RAB014776   newdb  CCR5  CTRPSNNTRTSITIGPGQVWYRTGDIIGDIRQAYC\n",
       "2  RAB014778   newdb  CCR5  CTRPSNNTRTSITIGPGQVWYRTGDIIGDIRKAYC\n",
       "3  RAB014781   newdb  CCR5  CTRPSNNTRTSVTIGPGQVWYRTGDIIGDIRQAYC\n",
       "4  RAB014834   newdb  CCR5  CTRPSNNTRTSITIGPGQVWYRTGDIIGNIRKAYC\n",
       "5  RAB023804   newdb  CCR5  CTRPNNNTRKSIRIGPGQTFYATGDIIGDIRQAHC\n",
       "6  RAB287376   newdb  CCR5  CVRPNNNTRTSVRIGPGQTFYATGEIIGDIRQAFC\n",
       "7  RAB553911   newdb  CCR5  CERPNNNTRRSIQIGPGRAWFEAEDIIGDIRKAHC\n",
       "8  RAB553912   newdb  CCR5  CTRPNDNTRKSINIAPGRAFYATGDIIGDIRQAHC\n",
       "9  RAB553913   newdb  CCR5   CTRPNNNTRKGIHMGPGRAIYTTDIIGDIRQAHC"
      ]
     },
     "execution_count": 158,
     "metadata": {},
     "output_type": "execute_result"
    }
   ],
   "source": [
    "df_datasets_final.head(10)"
   ]
  },
  {
   "cell_type": "code",
   "execution_count": 159,
   "metadata": {},
   "outputs": [
    {
     "data": {
      "text/plain": [
       "(9550, 4)"
      ]
     },
     "execution_count": 159,
     "metadata": {},
     "output_type": "execute_result"
    }
   ],
   "source": [
    "df_datasets.shape"
   ]
  },
  {
   "cell_type": "code",
   "execution_count": 164,
   "metadata": {},
   "outputs": [],
   "source": [
    "# Create a column with raw sequence on df_aligned to use as reference\n",
    "df_aligned['raw_sequence'] = df_aligned['sequence_aligned'].str.replace('-', '', regex=False)"
   ]
  },
  {
   "cell_type": "code",
   "execution_count": 176,
   "metadata": {},
   "outputs": [],
   "source": [
    "# Iterate over df_datasets_final to set sequence_aligned\n",
    "for index, row in df_datasets_final.iterrows():\n",
    "    #if str(df[df.sequence_no_space == row.sequence ].sequence.values[0]):\n",
    "    \n",
    "    try:\n",
    "        df_datasets_final.at[index, 'sequence_aligned'] = str(df_aligned[\n",
    "                                     df_aligned.raw_sequence == row.sequence ].sequence_aligned.values[0])\n",
    "    \n",
    "    except IndexError:\n",
    "        try:\n",
    "            df_datasets_final.at[index, 'sequence_aligned'] = str(df_aligned[\n",
    "                                     df_aligned.seq_name == row.seq_name ].sequence_aligned.values[0])        \n",
    "        except IndexError:\n",
    "            print(index, row.seq_name)\n",
    "            print(index, f'Row sequence:{row.sequence}')\n",
    "            df_datasets_final.at[index, 'sequence_aligned'] = 'Error'"
   ]
  },
  {
   "cell_type": "code",
   "execution_count": 178,
   "metadata": {},
   "outputs": [
    {
     "data": {
      "text/html": [
       "<div>\n",
       "<style scoped>\n",
       "    .dataframe tbody tr th:only-of-type {\n",
       "        vertical-align: middle;\n",
       "    }\n",
       "\n",
       "    .dataframe tbody tr th {\n",
       "        vertical-align: top;\n",
       "    }\n",
       "\n",
       "    .dataframe thead th {\n",
       "        text-align: right;\n",
       "    }\n",
       "</style>\n",
       "<table border=\"1\" class=\"dataframe\">\n",
       "  <thead>\n",
       "    <tr style=\"text-align: right;\">\n",
       "      <th></th>\n",
       "      <th>seq_name</th>\n",
       "      <th>dataset</th>\n",
       "      <th>label</th>\n",
       "      <th>sequence</th>\n",
       "      <th>sequence_aligned</th>\n",
       "    </tr>\n",
       "  </thead>\n",
       "  <tbody>\n",
       "  </tbody>\n",
       "</table>\n",
       "</div>"
      ],
      "text/plain": [
       "Empty DataFrame\n",
       "Columns: [seq_name, dataset, label, sequence, sequence_aligned]\n",
       "Index: []"
      ]
     },
     "execution_count": 178,
     "metadata": {},
     "output_type": "execute_result"
    }
   ],
   "source": [
    "# Check if there were rows with Errors\n",
    "df_datasets_final[df_datasets_final.sequence_aligned == 'Error']"
   ]
  },
  {
   "cell_type": "markdown",
   "metadata": {},
   "source": [
    "# Check if all the rows have sequence and sequence_aligned matching"
   ]
  },
  {
   "cell_type": "code",
   "execution_count": 179,
   "metadata": {},
   "outputs": [
    {
     "data": {
      "text/html": [
       "<div>\n",
       "<style scoped>\n",
       "    .dataframe tbody tr th:only-of-type {\n",
       "        vertical-align: middle;\n",
       "    }\n",
       "\n",
       "    .dataframe tbody tr th {\n",
       "        vertical-align: top;\n",
       "    }\n",
       "\n",
       "    .dataframe thead th {\n",
       "        text-align: right;\n",
       "    }\n",
       "</style>\n",
       "<table border=\"1\" class=\"dataframe\">\n",
       "  <thead>\n",
       "    <tr style=\"text-align: right;\">\n",
       "      <th></th>\n",
       "      <th>seq_name</th>\n",
       "      <th>dataset</th>\n",
       "      <th>label</th>\n",
       "      <th>sequence</th>\n",
       "      <th>sequence_aligned</th>\n",
       "    </tr>\n",
       "  </thead>\n",
       "  <tbody>\n",
       "    <tr>\n",
       "      <td>4423</td>\n",
       "      <td>RFJ375975</td>\n",
       "      <td>hivcopred</td>\n",
       "      <td>CCR5</td>\n",
       "      <td>CTRPNNNTRKSJRIGPGQAFYATGDIIGDIREAHC</td>\n",
       "      <td>CTRPNNNT-RKSX---R--I--G-P--G--Q-AFY---A-T--GDI...</td>\n",
       "    </tr>\n",
       "    <tr>\n",
       "      <td>5064</td>\n",
       "      <td>DGQ401718</td>\n",
       "      <td>hivcopred</td>\n",
       "      <td>R5X4</td>\n",
       "      <td>CIRPGNNTRTSVXJGPGXTFYATGDIIGDIRQAHC</td>\n",
       "      <td>CIRPGNNT-RTSV---X--X--G-P--G--X-TFY---A-T--GDI...</td>\n",
       "    </tr>\n",
       "    <tr>\n",
       "      <td>5341</td>\n",
       "      <td>DFJ376010</td>\n",
       "      <td>hivcopred</td>\n",
       "      <td>R5X4</td>\n",
       "      <td>CTRPXXSXRRXIRJGPGXVXYXXXXIGDIRQAXC</td>\n",
       "      <td>CTRPXXSX-RRXI---R--X--G-P--G--X-VXY-----X-XXXI...</td>\n",
       "    </tr>\n",
       "  </tbody>\n",
       "</table>\n",
       "</div>"
      ],
      "text/plain": [
       "       seq_name    dataset label                             sequence  \\\n",
       "4423  RFJ375975  hivcopred  CCR5  CTRPNNNTRKSJRIGPGQAFYATGDIIGDIREAHC   \n",
       "5064  DGQ401718  hivcopred  R5X4  CIRPGNNTRTSVXJGPGXTFYATGDIIGDIRQAHC   \n",
       "5341  DFJ376010  hivcopred  R5X4   CTRPXXSXRRXIRJGPGXVXYXXXXIGDIRQAXC   \n",
       "\n",
       "                                       sequence_aligned  \n",
       "4423  CTRPNNNT-RKSX---R--I--G-P--G--Q-AFY---A-T--GDI...  \n",
       "5064  CIRPGNNT-RTSV---X--X--G-P--G--X-TFY---A-T--GDI...  \n",
       "5341  CTRPXXSX-RRXI---R--X--G-P--G--X-VXY-----X-XXXI...  "
      ]
     },
     "execution_count": 179,
     "metadata": {},
     "output_type": "execute_result"
    }
   ],
   "source": [
    "df_datasets_final[df_datasets_final.sequence != df_datasets_final.sequence_aligned.str.replace('-', '', regex=True)]"
   ]
  },
  {
   "cell_type": "markdown",
   "metadata": {},
   "source": [
    "As we can see, three rows showed an inconsistency between original and aligned sequence.<br>\n",
    "This was caused by the aligner that do not consider the 'J' as it is a dubious representation of Leucine or Isoleucine.<br>\n",
    "We decided to manually edit it to correspond to the original sequence."
   ]
  },
  {
   "cell_type": "code",
   "execution_count": 184,
   "metadata": {},
   "outputs": [],
   "source": [
    "dict_manual_edit = {'RFJ375975':[4423,'CTRPNNNT-RKSJ---R--I--G-P--G--Q-AFY---A-T--GDI-I--GDIREAHC--'],\n",
    "                    'DGQ401718':[5064, 'CIRPGNNT-RTSV---X--J--G-P--G--X-TFY---A-T--GDI-I--GDIRQAHC--'],\n",
    "                    'DFJ376010':[5341, 'CTRPXXSX-RRXI---R--J--G-P--G--X-VXY-----X-XXXI----GDIRQAXC--']}"
   ]
  },
  {
   "cell_type": "code",
   "execution_count": 187,
   "metadata": {},
   "outputs": [],
   "source": [
    "# Replace the sequences with new values from dict_manual_edit\n",
    "for key, value in dict_manual_edit.items():\n",
    "    df_datasets_final.at[value[0], 'sequence_aligned'] = value[1]    "
   ]
  },
  {
   "cell_type": "code",
   "execution_count": 188,
   "metadata": {},
   "outputs": [
    {
     "data": {
      "text/html": [
       "<div>\n",
       "<style scoped>\n",
       "    .dataframe tbody tr th:only-of-type {\n",
       "        vertical-align: middle;\n",
       "    }\n",
       "\n",
       "    .dataframe tbody tr th {\n",
       "        vertical-align: top;\n",
       "    }\n",
       "\n",
       "    .dataframe thead th {\n",
       "        text-align: right;\n",
       "    }\n",
       "</style>\n",
       "<table border=\"1\" class=\"dataframe\">\n",
       "  <thead>\n",
       "    <tr style=\"text-align: right;\">\n",
       "      <th></th>\n",
       "      <th>seq_name</th>\n",
       "      <th>dataset</th>\n",
       "      <th>label</th>\n",
       "      <th>sequence</th>\n",
       "      <th>sequence_aligned</th>\n",
       "    </tr>\n",
       "  </thead>\n",
       "  <tbody>\n",
       "  </tbody>\n",
       "</table>\n",
       "</div>"
      ],
      "text/plain": [
       "Empty DataFrame\n",
       "Columns: [seq_name, dataset, label, sequence, sequence_aligned]\n",
       "Index: []"
      ]
     },
     "execution_count": 188,
     "metadata": {},
     "output_type": "execute_result"
    }
   ],
   "source": [
    "# Check if the changes were correctly made\n",
    "df_datasets_final[df_datasets_final.sequence != df_datasets_final.sequence_aligned.str.replace('-', '', regex=True)]"
   ]
  },
  {
   "cell_type": "markdown",
   "metadata": {},
   "source": [
    "# Defining the label as numeric \n",
    "* 'CCR5' = 0 \n",
    "* 'CXCR4' = 1 \n",
    "* 'R5X4' = 1"
   ]
  },
  {
   "cell_type": "code",
   "execution_count": 205,
   "metadata": {},
   "outputs": [],
   "source": [
    "# Function to call labels\n",
    "def tropism_label(row):\n",
    "    \"\"\"\n",
    "    Define numeric label, 'CCR5' as 0 \n",
    "    and 'CXCR4' or 'R5X4' as 1\n",
    "    \"\"\"\n",
    "    # For CCR5\n",
    "    if str(row.label).strip() == 'CCR5':\n",
    "        return 0\n",
    "    # For CXCR4\n",
    "    elif str(row.label).strip() == 'CXCR4':\n",
    "        return 1\n",
    "    # For R5X4\n",
    "    elif str(row.label).strip() == 'R5X4':\n",
    "        return 1"
   ]
  },
  {
   "cell_type": "code",
   "execution_count": 208,
   "metadata": {},
   "outputs": [
    {
     "name": "stdout",
     "output_type": "stream",
     "text": [
      "<class 'pandas.core.frame.DataFrame'>\n",
      "RangeIndex: 9550 entries, 0 to 9549\n",
      "Data columns (total 6 columns):\n",
      "seq_name            9550 non-null object\n",
      "dataset             9550 non-null object\n",
      "label               9550 non-null object\n",
      "sequence            9550 non-null object\n",
      "sequence_aligned    9550 non-null object\n",
      "label_numeric       9479 non-null float64\n",
      "dtypes: float64(1), object(5)\n",
      "memory usage: 447.8+ KB\n"
     ]
    }
   ],
   "source": [
    "df_datasets_final.info()"
   ]
  },
  {
   "cell_type": "code",
   "execution_count": 213,
   "metadata": {},
   "outputs": [],
   "source": [
    "df_datasets_final['label_numeric'] = df_datasets_final.apply(tropism_label, axis=1)\n",
    "df_datasets_final['label_numeric'] = df_datasets_final['label_numeric'].astype(int)\n"
   ]
  },
  {
   "cell_type": "code",
   "execution_count": 214,
   "metadata": {},
   "outputs": [
    {
     "data": {
      "text/html": [
       "<div>\n",
       "<style scoped>\n",
       "    .dataframe tbody tr th:only-of-type {\n",
       "        vertical-align: middle;\n",
       "    }\n",
       "\n",
       "    .dataframe tbody tr th {\n",
       "        vertical-align: top;\n",
       "    }\n",
       "\n",
       "    .dataframe thead th {\n",
       "        text-align: right;\n",
       "    }\n",
       "</style>\n",
       "<table border=\"1\" class=\"dataframe\">\n",
       "  <thead>\n",
       "    <tr style=\"text-align: right;\">\n",
       "      <th></th>\n",
       "      <th>seq_name</th>\n",
       "      <th>dataset</th>\n",
       "      <th>label</th>\n",
       "      <th>sequence</th>\n",
       "      <th>sequence_aligned</th>\n",
       "      <th>label_numeric</th>\n",
       "    </tr>\n",
       "  </thead>\n",
       "  <tbody>\n",
       "    <tr>\n",
       "      <td>0</td>\n",
       "      <td>RAB014775</td>\n",
       "      <td>newdb</td>\n",
       "      <td>CCR5</td>\n",
       "      <td>CTRPSNNTRTGITIGPGQVWYRTGDIIGDIRKAYC</td>\n",
       "      <td>CTRPSNNT-RTGI---T--I--G-P--G--Q-VWY---R-T--GDI...</td>\n",
       "      <td>0</td>\n",
       "    </tr>\n",
       "    <tr>\n",
       "      <td>1</td>\n",
       "      <td>RAB014776</td>\n",
       "      <td>newdb</td>\n",
       "      <td>CCR5</td>\n",
       "      <td>CTRPSNNTRTSITIGPGQVWYRTGDIIGDIRQAYC</td>\n",
       "      <td>CTRPSNNT-RTSI---T--I--G-P--G--Q-VWY---R-T--GDI...</td>\n",
       "      <td>0</td>\n",
       "    </tr>\n",
       "    <tr>\n",
       "      <td>2</td>\n",
       "      <td>RAB014778</td>\n",
       "      <td>newdb</td>\n",
       "      <td>CCR5</td>\n",
       "      <td>CTRPSNNTRTSITIGPGQVWYRTGDIIGDIRKAYC</td>\n",
       "      <td>CTRPSNNT-RTSI---T--I--G-P--G--Q-VWY---R-T--GDI...</td>\n",
       "      <td>0</td>\n",
       "    </tr>\n",
       "    <tr>\n",
       "      <td>3</td>\n",
       "      <td>RAB014781</td>\n",
       "      <td>newdb</td>\n",
       "      <td>CCR5</td>\n",
       "      <td>CTRPSNNTRTSVTIGPGQVWYRTGDIIGDIRQAYC</td>\n",
       "      <td>CTRPSNNT-RTSV---T--I--G-P--G--Q-VWY---R-T--GDI...</td>\n",
       "      <td>0</td>\n",
       "    </tr>\n",
       "    <tr>\n",
       "      <td>4</td>\n",
       "      <td>RAB014834</td>\n",
       "      <td>newdb</td>\n",
       "      <td>CCR5</td>\n",
       "      <td>CTRPSNNTRTSITIGPGQVWYRTGDIIGNIRKAYC</td>\n",
       "      <td>CTRPSNNT-RTSI---T--I--G-P--G--Q-VWY---R-T--GDI...</td>\n",
       "      <td>0</td>\n",
       "    </tr>\n",
       "  </tbody>\n",
       "</table>\n",
       "</div>"
      ],
      "text/plain": [
       "    seq_name dataset label                             sequence  \\\n",
       "0  RAB014775   newdb  CCR5  CTRPSNNTRTGITIGPGQVWYRTGDIIGDIRKAYC   \n",
       "1  RAB014776   newdb  CCR5  CTRPSNNTRTSITIGPGQVWYRTGDIIGDIRQAYC   \n",
       "2  RAB014778   newdb  CCR5  CTRPSNNTRTSITIGPGQVWYRTGDIIGDIRKAYC   \n",
       "3  RAB014781   newdb  CCR5  CTRPSNNTRTSVTIGPGQVWYRTGDIIGDIRQAYC   \n",
       "4  RAB014834   newdb  CCR5  CTRPSNNTRTSITIGPGQVWYRTGDIIGNIRKAYC   \n",
       "\n",
       "                                    sequence_aligned  label_numeric  \n",
       "0  CTRPSNNT-RTGI---T--I--G-P--G--Q-VWY---R-T--GDI...              0  \n",
       "1  CTRPSNNT-RTSI---T--I--G-P--G--Q-VWY---R-T--GDI...              0  \n",
       "2  CTRPSNNT-RTSI---T--I--G-P--G--Q-VWY---R-T--GDI...              0  \n",
       "3  CTRPSNNT-RTSV---T--I--G-P--G--Q-VWY---R-T--GDI...              0  \n",
       "4  CTRPSNNT-RTSI---T--I--G-P--G--Q-VWY---R-T--GDI...              0  "
      ]
     },
     "execution_count": 214,
     "metadata": {},
     "output_type": "execute_result"
    }
   ],
   "source": [
    "df_datasets_final.head()"
   ]
  },
  {
   "cell_type": "code",
   "execution_count": 216,
   "metadata": {},
   "outputs": [
    {
     "data": {
      "text/plain": [
       "CCR5     7705\n",
       "CXCR4     937\n",
       "R5X4      908\n",
       "Name: label, dtype: int64"
      ]
     },
     "execution_count": 216,
     "metadata": {},
     "output_type": "execute_result"
    }
   ],
   "source": [
    "df_datasets_final.label.value_counts()"
   ]
  },
  {
   "cell_type": "code",
   "execution_count": 217,
   "metadata": {},
   "outputs": [
    {
     "data": {
      "text/plain": [
       "0    7705\n",
       "1    1845\n",
       "Name: label_numeric, dtype: int64"
      ]
     },
     "execution_count": 217,
     "metadata": {},
     "output_type": "execute_result"
    }
   ],
   "source": [
    "df_datasets_final.label_numeric.value_counts()"
   ]
  },
  {
   "cell_type": "code",
   "execution_count": 218,
   "metadata": {},
   "outputs": [
    {
     "data": {
      "text/html": [
       "<div>\n",
       "<style scoped>\n",
       "    .dataframe tbody tr th:only-of-type {\n",
       "        vertical-align: middle;\n",
       "    }\n",
       "\n",
       "    .dataframe tbody tr th {\n",
       "        vertical-align: top;\n",
       "    }\n",
       "\n",
       "    .dataframe thead th {\n",
       "        text-align: right;\n",
       "    }\n",
       "</style>\n",
       "<table border=\"1\" class=\"dataframe\">\n",
       "  <thead>\n",
       "    <tr style=\"text-align: right;\">\n",
       "      <th></th>\n",
       "      <th>seq_name</th>\n",
       "      <th>dataset</th>\n",
       "      <th>label</th>\n",
       "      <th>sequence</th>\n",
       "      <th>sequence_aligned</th>\n",
       "      <th>label_numeric</th>\n",
       "    </tr>\n",
       "  </thead>\n",
       "  <tbody>\n",
       "  </tbody>\n",
       "</table>\n",
       "</div>"
      ],
      "text/plain": [
       "Empty DataFrame\n",
       "Columns: [seq_name, dataset, label, sequence, sequence_aligned, label_numeric]\n",
       "Index: []"
      ]
     },
     "execution_count": 218,
     "metadata": {},
     "output_type": "execute_result"
    }
   ],
   "source": [
    "df_datasets_final[df_datasets_final.sequence_aligned.str.len() != 60]"
   ]
  },
  {
   "cell_type": "code",
   "execution_count": 223,
   "metadata": {},
   "outputs": [],
   "source": [
    "# Write down the \n",
    "df_datasets_final.to_csv('deeptropism_full_curated_dataset.tsv', sep='\\t' , index=False)"
   ]
  },
  {
   "cell_type": "code",
   "execution_count": 221,
   "metadata": {},
   "outputs": [
    {
     "data": {
      "text/plain": [
       "{60}"
      ]
     },
     "execution_count": 221,
     "metadata": {},
     "output_type": "execute_result"
    }
   ],
   "source": [
    "set(df_datasets_final['sequence_aligned'].apply(len))"
   ]
  },
  {
   "cell_type": "code",
   "execution_count": 222,
   "metadata": {},
   "outputs": [
    {
     "name": "stdout",
     "output_type": "stream",
     "text": [
      "<class 'pandas.core.frame.DataFrame'>\n",
      "RangeIndex: 9550 entries, 0 to 9549\n",
      "Data columns (total 4 columns):\n",
      "seq_name    9550 non-null object\n",
      "dataset     9550 non-null object\n",
      "label       9550 non-null object\n",
      "sequence    9550 non-null object\n",
      "dtypes: object(4)\n",
      "memory usage: 298.6+ KB\n"
     ]
    }
   ],
   "source": [
    "df_datasets.info()"
   ]
  },
  {
   "cell_type": "code",
   "execution_count": null,
   "metadata": {},
   "outputs": [],
   "source": []
  }
 ],
 "metadata": {
  "kernelspec": {
   "display_name": "deeptropism",
   "language": "python",
   "name": "deeptropism"
  },
  "language_info": {
   "codemirror_mode": {
    "name": "ipython",
    "version": 3
   },
   "file_extension": ".py",
   "mimetype": "text/x-python",
   "name": "python",
   "nbconvert_exporter": "python",
   "pygments_lexer": "ipython3",
   "version": "3.7.4"
  }
 },
 "nbformat": 4,
 "nbformat_minor": 4
}
