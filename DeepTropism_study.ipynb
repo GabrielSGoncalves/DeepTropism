{
 "cells": [
  {
   "cell_type": "code",
   "execution_count": 1,
   "metadata": {},
   "outputs": [],
   "source": [
    "import pandas as pd\n",
    "import numpy as np\n",
    "import torch\n",
    "import torch.nn.functional as F\n",
    "import torchvision\n",
    "import matplotlib.pyplot as plt\n",
    "import os"
   ]
  },
  {
   "cell_type": "code",
   "execution_count": 3,
   "metadata": {},
   "outputs": [
    {
     "name": "stdout",
     "output_type": "stream",
     "text": [
      "41598_2019_46420_MOESM2_ESM.xlsx   newdb_all_hxb2_aligned.fasta\n",
      "aminoacids_oneletter_code.csv      newdb_all_hxb2.fasta\n",
      "cm_aligned.fasta                   newdb_and_hivcopred_aligned.fasta\n",
      "cm_aligned.tsv                     newdb_and_hivcopred_aligned_refined.fasta\n",
      "cm.fasta                           newdb_and_hivcopred_aligned.tsv\n",
      "dataset_chen.csv                   newdb_and_hivcopred.fasta\n",
      "dataset_chen.fasta                 newdb_ccr5.fasta\n",
      "g2p_str.fasta                      newdb_cxcr4.fasta\n",
      "hivcopred_all.fasta                newdb_dualtropic.fasta\n",
      "hivcopred_ccr5.fasta               newdb_wrangled.tsv\n",
      "hivcopred_cxcr4.fasta              \u001b[0m\u001b[01;34mprocessed_tsv\u001b[0m/\n",
      "hivcopred_r5x4.fasta               \u001b[01;34msrep21280\u001b[0m/\n",
      "muscle_aligner_test_aligned.fasta  teste_1seq_to_all_aligned.fasta\n",
      "muscle_aligner_test.fasta          teste_1seq_to_all.fasta\n",
      "newdb_aligned_all_labels.tsv       train_mnist.csv\n",
      "newdb_aligned.csv                  webpssm_ccr5.fasta\n",
      "newdb_aligned_muscle.fasta         webpssm_cxcr4.fasta\n",
      "newdb_all_hxb2_aligned_2.fasta     webpssm_validation.fasta\n"
     ]
    }
   ],
   "source": [
    "ls datasets"
   ]
  },
  {
   "cell_type": "markdown",
   "metadata": {},
   "source": [
    "## Creating one Dataframe with all the sequences from the different datasets"
   ]
  },
  {
   "cell_type": "code",
   "execution_count": 4,
   "metadata": {},
   "outputs": [],
   "source": [
    "df_newdb = pd.read_csv('datasets/processed_tsv/newdb_all.tsv', sep='\\t',\n",
    "                       names=['seq_name', 'dataset', 'label', 'sequence'])\n",
    "df_webpssm = pd.read_csv('datasets/processed_tsv/webpssm_all.tsv',sep='\\t',\n",
    "                       names=['seq_name', 'dataset', 'label', 'sequence'])\n",
    "df_hivcopred = pd.read_csv('datasets/processed_tsv/hivcopred_all.tsv',sep='\\t',\n",
    "                       names=['seq_name', 'dataset', 'label', 'sequence'])"
   ]
  },
  {
   "cell_type": "code",
   "execution_count": 5,
   "metadata": {},
   "outputs": [
    {
     "data": {
      "text/html": [
       "<div>\n",
       "<style scoped>\n",
       "    .dataframe tbody tr th:only-of-type {\n",
       "        vertical-align: middle;\n",
       "    }\n",
       "\n",
       "    .dataframe tbody tr th {\n",
       "        vertical-align: top;\n",
       "    }\n",
       "\n",
       "    .dataframe thead th {\n",
       "        text-align: right;\n",
       "    }\n",
       "</style>\n",
       "<table border=\"1\" class=\"dataframe\">\n",
       "  <thead>\n",
       "    <tr style=\"text-align: right;\">\n",
       "      <th></th>\n",
       "      <th>seq_name</th>\n",
       "      <th>dataset</th>\n",
       "      <th>label</th>\n",
       "      <th>sequence</th>\n",
       "    </tr>\n",
       "  </thead>\n",
       "  <tbody>\n",
       "    <tr>\n",
       "      <td>0</td>\n",
       "      <td>RAB014775</td>\n",
       "      <td>newdb</td>\n",
       "      <td>CCR5</td>\n",
       "      <td>CTRPSNNTRTGITIGPGQVWYRTGDIIGDIRKAYC</td>\n",
       "    </tr>\n",
       "    <tr>\n",
       "      <td>1</td>\n",
       "      <td>RAB014776</td>\n",
       "      <td>newdb</td>\n",
       "      <td>CCR5</td>\n",
       "      <td>CTRPSNNTRTSITIGPGQVWYRTGDIIGDIRQAYC</td>\n",
       "    </tr>\n",
       "    <tr>\n",
       "      <td>2</td>\n",
       "      <td>RAB014778</td>\n",
       "      <td>newdb</td>\n",
       "      <td>CCR5</td>\n",
       "      <td>CTRPSNNTRTSITIGPGQVWYRTGDIIGDIRKAYC</td>\n",
       "    </tr>\n",
       "    <tr>\n",
       "      <td>3</td>\n",
       "      <td>RAB014781</td>\n",
       "      <td>newdb</td>\n",
       "      <td>CCR5</td>\n",
       "      <td>CTRPSNNTRTSVTIGPGQVWYRTGDIIGDIRQAYC</td>\n",
       "    </tr>\n",
       "    <tr>\n",
       "      <td>4</td>\n",
       "      <td>RAB014834</td>\n",
       "      <td>newdb</td>\n",
       "      <td>CCR5</td>\n",
       "      <td>CTRPSNNTRTSITIGPGQVWYRTGDIIGNIRKAYC</td>\n",
       "    </tr>\n",
       "  </tbody>\n",
       "</table>\n",
       "</div>"
      ],
      "text/plain": [
       "    seq_name dataset label                             sequence\n",
       "0  RAB014775   newdb  CCR5  CTRPSNNTRTGITIGPGQVWYRTGDIIGDIRKAYC\n",
       "1  RAB014776   newdb  CCR5  CTRPSNNTRTSITIGPGQVWYRTGDIIGDIRQAYC\n",
       "2  RAB014778   newdb  CCR5  CTRPSNNTRTSITIGPGQVWYRTGDIIGDIRKAYC\n",
       "3  RAB014781   newdb  CCR5  CTRPSNNTRTSVTIGPGQVWYRTGDIIGDIRQAYC\n",
       "4  RAB014834   newdb  CCR5  CTRPSNNTRTSITIGPGQVWYRTGDIIGNIRKAYC"
      ]
     },
     "execution_count": 5,
     "metadata": {},
     "output_type": "execute_result"
    }
   ],
   "source": [
    "df_newdb.head()"
   ]
  },
  {
   "cell_type": "code",
   "execution_count": 6,
   "metadata": {},
   "outputs": [
    {
     "data": {
      "text/html": [
       "<div>\n",
       "<style scoped>\n",
       "    .dataframe tbody tr th:only-of-type {\n",
       "        vertical-align: middle;\n",
       "    }\n",
       "\n",
       "    .dataframe tbody tr th {\n",
       "        vertical-align: top;\n",
       "    }\n",
       "\n",
       "    .dataframe thead th {\n",
       "        text-align: right;\n",
       "    }\n",
       "</style>\n",
       "<table border=\"1\" class=\"dataframe\">\n",
       "  <thead>\n",
       "    <tr style=\"text-align: right;\">\n",
       "      <th></th>\n",
       "      <th>seq_name</th>\n",
       "      <th>dataset</th>\n",
       "      <th>label</th>\n",
       "      <th>sequence</th>\n",
       "    </tr>\n",
       "  </thead>\n",
       "  <tbody>\n",
       "    <tr>\n",
       "      <td>0</td>\n",
       "      <td>95ZW84_ZW_C_NSI_u20_BATRA_(2000)</td>\n",
       "      <td>webpssm</td>\n",
       "      <td>CCR5</td>\n",
       "      <td>CTRPNNNTRKSMRIGPGQTFYATGDIIGDIRQAHC</td>\n",
       "    </tr>\n",
       "    <tr>\n",
       "      <td>1</td>\n",
       "      <td>95ZW295_ZW_C_NSI_u21_BATRA_(2000)</td>\n",
       "      <td>webpssm</td>\n",
       "      <td>CCR5</td>\n",
       "      <td>CTRPNNNTRKSMRIGPGQVFYATDGIIGDIRQAHC</td>\n",
       "    </tr>\n",
       "    <tr>\n",
       "      <td>2</td>\n",
       "      <td>95ZW377_ZW_C_NSI_u22_BATRA_(2000)</td>\n",
       "      <td>webpssm</td>\n",
       "      <td>CCR5</td>\n",
       "      <td>CTRPSNNTRKSIRIGPGQTFYATNDIIGDIRQAHC</td>\n",
       "    </tr>\n",
       "    <tr>\n",
       "      <td>3</td>\n",
       "      <td>95ZW530_ZW_C_NSI_u23_BATRA_(2000)</td>\n",
       "      <td>webpssm</td>\n",
       "      <td>CCR5</td>\n",
       "      <td>CTRPGNNTRKSIRIGPGQAFFATGDIIGDIRQAHC</td>\n",
       "    </tr>\n",
       "    <tr>\n",
       "      <td>4</td>\n",
       "      <td>95ZW560_ZW_C_NSI_u24_BATRA_(2000)</td>\n",
       "      <td>webpssm</td>\n",
       "      <td>CCR5</td>\n",
       "      <td>CTRPGNNTRKSIRIGPGQTFYAANGIIGDIRQAHC</td>\n",
       "    </tr>\n",
       "  </tbody>\n",
       "</table>\n",
       "</div>"
      ],
      "text/plain": [
       "                            seq_name  dataset label  \\\n",
       "0   95ZW84_ZW_C_NSI_u20_BATRA_(2000)  webpssm  CCR5   \n",
       "1  95ZW295_ZW_C_NSI_u21_BATRA_(2000)  webpssm  CCR5   \n",
       "2  95ZW377_ZW_C_NSI_u22_BATRA_(2000)  webpssm  CCR5   \n",
       "3  95ZW530_ZW_C_NSI_u23_BATRA_(2000)  webpssm  CCR5   \n",
       "4  95ZW560_ZW_C_NSI_u24_BATRA_(2000)  webpssm  CCR5   \n",
       "\n",
       "                              sequence  \n",
       "0  CTRPNNNTRKSMRIGPGQTFYATGDIIGDIRQAHC  \n",
       "1  CTRPNNNTRKSMRIGPGQVFYATDGIIGDIRQAHC  \n",
       "2  CTRPSNNTRKSIRIGPGQTFYATNDIIGDIRQAHC  \n",
       "3  CTRPGNNTRKSIRIGPGQAFFATGDIIGDIRQAHC  \n",
       "4  CTRPGNNTRKSIRIGPGQTFYAANGIIGDIRQAHC  "
      ]
     },
     "execution_count": 6,
     "metadata": {},
     "output_type": "execute_result"
    }
   ],
   "source": [
    "df_webpssm.head()"
   ]
  },
  {
   "cell_type": "code",
   "execution_count": 7,
   "metadata": {},
   "outputs": [
    {
     "data": {
      "text/html": [
       "<div>\n",
       "<style scoped>\n",
       "    .dataframe tbody tr th:only-of-type {\n",
       "        vertical-align: middle;\n",
       "    }\n",
       "\n",
       "    .dataframe tbody tr th {\n",
       "        vertical-align: top;\n",
       "    }\n",
       "\n",
       "    .dataframe thead th {\n",
       "        text-align: right;\n",
       "    }\n",
       "</style>\n",
       "<table border=\"1\" class=\"dataframe\">\n",
       "  <thead>\n",
       "    <tr style=\"text-align: right;\">\n",
       "      <th></th>\n",
       "      <th>seq_name</th>\n",
       "      <th>dataset</th>\n",
       "      <th>label</th>\n",
       "      <th>sequence</th>\n",
       "    </tr>\n",
       "  </thead>\n",
       "  <tbody>\n",
       "    <tr>\n",
       "      <td>0</td>\n",
       "      <td>RFJ977091</td>\n",
       "      <td>hivcopred</td>\n",
       "      <td>CCR5</td>\n",
       "      <td>CARPGNNTKKSVRIGPGQTFYATGDIIGDIRQAHC</td>\n",
       "    </tr>\n",
       "    <tr>\n",
       "      <td>1</td>\n",
       "      <td>RFJ977094</td>\n",
       "      <td>hivcopred</td>\n",
       "      <td>CCR5</td>\n",
       "      <td>CARPGNNTRKSVRIGPGQAFYATGDIIGDIRQAHC</td>\n",
       "    </tr>\n",
       "    <tr>\n",
       "      <td>2</td>\n",
       "      <td>RDQ382364</td>\n",
       "      <td>hivcopred</td>\n",
       "      <td>CCR5</td>\n",
       "      <td>CARPGNNTRKSVRIGPGQTFFATGDIIGDIRKAHC</td>\n",
       "    </tr>\n",
       "    <tr>\n",
       "      <td>3</td>\n",
       "      <td>RFJ376003</td>\n",
       "      <td>hivcopred</td>\n",
       "      <td>CCR5</td>\n",
       "      <td>CARPGNNTRKSXRIGPGQSFHATGEIIGNIREAHC</td>\n",
       "    </tr>\n",
       "    <tr>\n",
       "      <td>4</td>\n",
       "      <td>RDQ382371</td>\n",
       "      <td>hivcopred</td>\n",
       "      <td>CCR5</td>\n",
       "      <td>CARPGNNTRRSVRIGPGQAFYATGEIIGDIRKAHC</td>\n",
       "    </tr>\n",
       "  </tbody>\n",
       "</table>\n",
       "</div>"
      ],
      "text/plain": [
       "    seq_name    dataset label                             sequence\n",
       "0  RFJ977091  hivcopred  CCR5  CARPGNNTKKSVRIGPGQTFYATGDIIGDIRQAHC\n",
       "1  RFJ977094  hivcopred  CCR5  CARPGNNTRKSVRIGPGQAFYATGDIIGDIRQAHC\n",
       "2  RDQ382364  hivcopred  CCR5  CARPGNNTRKSVRIGPGQTFFATGDIIGDIRKAHC\n",
       "3  RFJ376003  hivcopred  CCR5  CARPGNNTRKSXRIGPGQSFHATGEIIGNIREAHC\n",
       "4  RDQ382371  hivcopred  CCR5  CARPGNNTRRSVRIGPGQAFYATGEIIGDIRKAHC"
      ]
     },
     "execution_count": 7,
     "metadata": {},
     "output_type": "execute_result"
    }
   ],
   "source": [
    "df_hivcopred.head()"
   ]
  },
  {
   "cell_type": "markdown",
   "metadata": {},
   "source": [
    "These three datasets were separated in different list based on the tropism classification already. <br>\n",
    "The datasets Geno2pheno and CM the classification was defined on the sequence name, so need to extract it.\n"
   ]
  },
  {
   "cell_type": "code",
   "execution_count": 8,
   "metadata": {},
   "outputs": [],
   "source": [
    "df_cm = pd.read_csv('datasets/processed_tsv/cm.tsv', sep='\\t',\n",
    "                       names=['seq_name', 'dataset', 'sequence'])\n",
    "df_g2p = pd.read_csv('datasets/processed_tsv/g2p_str.tsv',sep='\\t',\n",
    "                       names=['seq_name', 'dataset', 'sequence'])"
   ]
  },
  {
   "cell_type": "code",
   "execution_count": 9,
   "metadata": {},
   "outputs": [
    {
     "data": {
      "text/html": [
       "<div>\n",
       "<style scoped>\n",
       "    .dataframe tbody tr th:only-of-type {\n",
       "        vertical-align: middle;\n",
       "    }\n",
       "\n",
       "    .dataframe tbody tr th {\n",
       "        vertical-align: top;\n",
       "    }\n",
       "\n",
       "    .dataframe thead th {\n",
       "        text-align: right;\n",
       "    }\n",
       "</style>\n",
       "<table border=\"1\" class=\"dataframe\">\n",
       "  <thead>\n",
       "    <tr style=\"text-align: right;\">\n",
       "      <th></th>\n",
       "      <th>seq_name</th>\n",
       "      <th>dataset</th>\n",
       "      <th>sequence</th>\n",
       "    </tr>\n",
       "  </thead>\n",
       "  <tbody>\n",
       "    <tr>\n",
       "      <td>0</td>\n",
       "      <td>-.HM246206.A.CCR5</td>\n",
       "      <td>cm</td>\n",
       "      <td>CVRPNNNTKKSVIGPGQTYANNIIGDIRKAC</td>\n",
       "    </tr>\n",
       "    <tr>\n",
       "      <td>1</td>\n",
       "      <td>ACH142.HQ644967.B.CCR5</td>\n",
       "      <td>cm</td>\n",
       "      <td>CTRPNNNTRKSIHIGPGRAFYATGDIIGDIRKAHC</td>\n",
       "    </tr>\n",
       "    <tr>\n",
       "      <td>2</td>\n",
       "      <td>TH020.U08754.01_AE.CCR5</td>\n",
       "      <td>cm</td>\n",
       "      <td>CTRPFNNTRTSLTIGPGQVFYRTGDIIGDIRKAYC</td>\n",
       "    </tr>\n",
       "    <tr>\n",
       "      <td>3</td>\n",
       "      <td>CW012.AJ418502.B.CCR5</td>\n",
       "      <td>cm</td>\n",
       "      <td>CTRLNNNTRKSIHMGPGRAFYTTGEIIGDIRQAHC</td>\n",
       "    </tr>\n",
       "    <tr>\n",
       "      <td>4</td>\n",
       "      <td>BP00069.JN687773.B.CCR5</td>\n",
       "      <td>cm</td>\n",
       "      <td>CTRPYNNTRRSIPIGPGRAFYATGEVIGNIRKAYC</td>\n",
       "    </tr>\n",
       "  </tbody>\n",
       "</table>\n",
       "</div>"
      ],
      "text/plain": [
       "                  seq_name dataset                             sequence\n",
       "0        -.HM246206.A.CCR5      cm      CVRPNNNTKKSVIGPGQTYANNIIGDIRKAC\n",
       "1   ACH142.HQ644967.B.CCR5      cm  CTRPNNNTRKSIHIGPGRAFYATGDIIGDIRKAHC\n",
       "2  TH020.U08754.01_AE.CCR5      cm  CTRPFNNTRTSLTIGPGQVFYRTGDIIGDIRKAYC\n",
       "3    CW012.AJ418502.B.CCR5      cm  CTRLNNNTRKSIHMGPGRAFYTTGEIIGDIRQAHC\n",
       "4  BP00069.JN687773.B.CCR5      cm  CTRPYNNTRRSIPIGPGRAFYATGEVIGNIRKAYC"
      ]
     },
     "execution_count": 9,
     "metadata": {},
     "output_type": "execute_result"
    }
   ],
   "source": [
    "df_cm.head()"
   ]
  },
  {
   "cell_type": "code",
   "execution_count": 10,
   "metadata": {},
   "outputs": [
    {
     "data": {
      "text/html": [
       "<div>\n",
       "<style scoped>\n",
       "    .dataframe tbody tr th:only-of-type {\n",
       "        vertical-align: middle;\n",
       "    }\n",
       "\n",
       "    .dataframe tbody tr th {\n",
       "        vertical-align: top;\n",
       "    }\n",
       "\n",
       "    .dataframe thead th {\n",
       "        text-align: right;\n",
       "    }\n",
       "</style>\n",
       "<table border=\"1\" class=\"dataframe\">\n",
       "  <thead>\n",
       "    <tr style=\"text-align: right;\">\n",
       "      <th></th>\n",
       "      <th>seq_name</th>\n",
       "      <th>dataset</th>\n",
       "      <th>sequence</th>\n",
       "    </tr>\n",
       "  </thead>\n",
       "  <tbody>\n",
       "    <tr>\n",
       "      <td>0</td>\n",
       "      <td>CCR5_1471_29187_CN_2003_B</td>\n",
       "      <td>geno2pheno</td>\n",
       "      <td>CTQTQQQYK-K-KYTSR-------TRASMVCNR---RNNRR---YK...</td>\n",
       "    </tr>\n",
       "    <tr>\n",
       "      <td>1</td>\n",
       "      <td>CCR5_AM262114_21502_FR_1995_O</td>\n",
       "      <td>geno2pheno</td>\n",
       "      <td>CVRPGSN-S-V-QEIKI---GP---MAWYSMQL---EQDGKRANAR...</td>\n",
       "    </tr>\n",
       "    <tr>\n",
       "      <td>2</td>\n",
       "      <td>CCR5_BCF02_13870_FR_1990_O</td>\n",
       "      <td>geno2pheno</td>\n",
       "      <td>CQRPGHQ-T-V-QEIRI---GP---MAWYS-MG---LAAGNGSESR...</td>\n",
       "    </tr>\n",
       "    <tr>\n",
       "      <td>3</td>\n",
       "      <td>CCR5_CA9_357_CM_1993_O</td>\n",
       "      <td>geno2pheno</td>\n",
       "      <td>CERPGNH-T-V-QEIRI---GP---LAWYS-MGIEKNSKNS---SR...</td>\n",
       "    </tr>\n",
       "    <tr>\n",
       "      <td>4</td>\n",
       "      <td>CCR5_BCF01_572_FR_1990_O</td>\n",
       "      <td>geno2pheno</td>\n",
       "      <td>CHRPGNL-S-V-QEMKI---GP---LSWYS-MG---LAANSSIKSR...</td>\n",
       "    </tr>\n",
       "  </tbody>\n",
       "</table>\n",
       "</div>"
      ],
      "text/plain": [
       "                        seq_name     dataset  \\\n",
       "0      CCR5_1471_29187_CN_2003_B  geno2pheno   \n",
       "1  CCR5_AM262114_21502_FR_1995_O  geno2pheno   \n",
       "2     CCR5_BCF02_13870_FR_1990_O  geno2pheno   \n",
       "3         CCR5_CA9_357_CM_1993_O  geno2pheno   \n",
       "4       CCR5_BCF01_572_FR_1990_O  geno2pheno   \n",
       "\n",
       "                                            sequence  \n",
       "0  CTQTQQQYK-K-KYTSR-------TRASMVCNR---RNNRR---YK...  \n",
       "1  CVRPGSN-S-V-QEIKI---GP---MAWYSMQL---EQDGKRANAR...  \n",
       "2  CQRPGHQ-T-V-QEIRI---GP---MAWYS-MG---LAAGNGSESR...  \n",
       "3  CERPGNH-T-V-QEIRI---GP---LAWYS-MGIEKNSKNS---SR...  \n",
       "4  CHRPGNL-S-V-QEMKI---GP---LSWYS-MG---LAANSSIKSR...  "
      ]
     },
     "execution_count": 10,
     "metadata": {},
     "output_type": "execute_result"
    }
   ],
   "source": [
    "df_g2p.head()"
   ]
  },
  {
   "cell_type": "markdown",
   "metadata": {},
   "source": [
    "To make it easier to process the two remaining Datasets we are going to concatenate them."
   ]
  },
  {
   "cell_type": "code",
   "execution_count": 11,
   "metadata": {},
   "outputs": [],
   "source": [
    "df_g2p_cm = pd.concat([df_cm, df_g2p])"
   ]
  },
  {
   "cell_type": "code",
   "execution_count": 12,
   "metadata": {},
   "outputs": [
    {
     "name": "stdout",
     "output_type": "stream",
     "text": [
      "(2679, 3)\n",
      "(1188, 3)\n",
      "(3867, 3)\n"
     ]
    }
   ],
   "source": [
    "# Print sizes\n",
    "print(df_cm.shape)\n",
    "print(df_g2p.shape)\n",
    "print(df_g2p_cm.shape)"
   ]
  },
  {
   "cell_type": "code",
   "execution_count": 13,
   "metadata": {},
   "outputs": [
    {
     "data": {
      "text/html": [
       "<div>\n",
       "<style scoped>\n",
       "    .dataframe tbody tr th:only-of-type {\n",
       "        vertical-align: middle;\n",
       "    }\n",
       "\n",
       "    .dataframe tbody tr th {\n",
       "        vertical-align: top;\n",
       "    }\n",
       "\n",
       "    .dataframe thead th {\n",
       "        text-align: right;\n",
       "    }\n",
       "</style>\n",
       "<table border=\"1\" class=\"dataframe\">\n",
       "  <thead>\n",
       "    <tr style=\"text-align: right;\">\n",
       "      <th></th>\n",
       "      <th>seq_name</th>\n",
       "      <th>dataset</th>\n",
       "      <th>sequence</th>\n",
       "    </tr>\n",
       "  </thead>\n",
       "  <tbody>\n",
       "    <tr>\n",
       "      <td>0</td>\n",
       "      <td>-.HM246206.A.CCR5</td>\n",
       "      <td>cm</td>\n",
       "      <td>CVRPNNNTKKSVIGPGQTYANNIIGDIRKAC</td>\n",
       "    </tr>\n",
       "    <tr>\n",
       "      <td>1</td>\n",
       "      <td>ACH142.HQ644967.B.CCR5</td>\n",
       "      <td>cm</td>\n",
       "      <td>CTRPNNNTRKSIHIGPGRAFYATGDIIGDIRKAHC</td>\n",
       "    </tr>\n",
       "    <tr>\n",
       "      <td>2</td>\n",
       "      <td>TH020.U08754.01_AE.CCR5</td>\n",
       "      <td>cm</td>\n",
       "      <td>CTRPFNNTRTSLTIGPGQVFYRTGDIIGDIRKAYC</td>\n",
       "    </tr>\n",
       "    <tr>\n",
       "      <td>3</td>\n",
       "      <td>CW012.AJ418502.B.CCR5</td>\n",
       "      <td>cm</td>\n",
       "      <td>CTRLNNNTRKSIHMGPGRAFYTTGEIIGDIRQAHC</td>\n",
       "    </tr>\n",
       "    <tr>\n",
       "      <td>4</td>\n",
       "      <td>BP00069.JN687773.B.CCR5</td>\n",
       "      <td>cm</td>\n",
       "      <td>CTRPYNNTRRSIPIGPGRAFYATGEVIGNIRKAYC</td>\n",
       "    </tr>\n",
       "    <tr>\n",
       "      <td>5</td>\n",
       "      <td>I.DQ061525.B.CCR5</td>\n",
       "      <td>cm</td>\n",
       "      <td>CIRPNNNTRKSIHIGPGRAFYATGEIIGDIRQAHC</td>\n",
       "    </tr>\n",
       "    <tr>\n",
       "      <td>6</td>\n",
       "      <td>500.HQ377462.B.CCR5</td>\n",
       "      <td>cm</td>\n",
       "      <td>CTRPNNNTRKSISMGPGRAFYATGGIIGNIRQAHC</td>\n",
       "    </tr>\n",
       "    <tr>\n",
       "      <td>7</td>\n",
       "      <td>Pat1.AF541040.B.CCR5</td>\n",
       "      <td>cm</td>\n",
       "      <td>CTRPNNNTRKSIHIGPGRAFYTTGEIIGDIRQAHC</td>\n",
       "    </tr>\n",
       "    <tr>\n",
       "      <td>8</td>\n",
       "      <td>CMP013.JX140646.02_AG.CCR5</td>\n",
       "      <td>cm</td>\n",
       "      <td>CMRPNNNTRESVRIGPGQAFYATGEIIGDIRQAHC</td>\n",
       "    </tr>\n",
       "    <tr>\n",
       "      <td>9</td>\n",
       "      <td>U.DQ061827.B.CCR5</td>\n",
       "      <td>cm</td>\n",
       "      <td>CTRPNNNTRKGIHMGPGKVFYATGQIIGDIRQAHC</td>\n",
       "    </tr>\n",
       "  </tbody>\n",
       "</table>\n",
       "</div>"
      ],
      "text/plain": [
       "                     seq_name dataset                             sequence\n",
       "0           -.HM246206.A.CCR5      cm      CVRPNNNTKKSVIGPGQTYANNIIGDIRKAC\n",
       "1      ACH142.HQ644967.B.CCR5      cm  CTRPNNNTRKSIHIGPGRAFYATGDIIGDIRKAHC\n",
       "2     TH020.U08754.01_AE.CCR5      cm  CTRPFNNTRTSLTIGPGQVFYRTGDIIGDIRKAYC\n",
       "3       CW012.AJ418502.B.CCR5      cm  CTRLNNNTRKSIHMGPGRAFYTTGEIIGDIRQAHC\n",
       "4     BP00069.JN687773.B.CCR5      cm  CTRPYNNTRRSIPIGPGRAFYATGEVIGNIRKAYC\n",
       "5           I.DQ061525.B.CCR5      cm  CIRPNNNTRKSIHIGPGRAFYATGEIIGDIRQAHC\n",
       "6         500.HQ377462.B.CCR5      cm  CTRPNNNTRKSISMGPGRAFYATGGIIGNIRQAHC\n",
       "7        Pat1.AF541040.B.CCR5      cm  CTRPNNNTRKSIHIGPGRAFYTTGEIIGDIRQAHC\n",
       "8  CMP013.JX140646.02_AG.CCR5      cm  CMRPNNNTRESVRIGPGQAFYATGEIIGDIRQAHC\n",
       "9           U.DQ061827.B.CCR5      cm  CTRPNNNTRKGIHMGPGKVFYATGQIIGDIRQAHC"
      ]
     },
     "execution_count": 13,
     "metadata": {},
     "output_type": "execute_result"
    }
   ],
   "source": [
    "df_g2p_cm.head(10)"
   ]
  },
  {
   "cell_type": "markdown",
   "metadata": {},
   "source": [
    "Check if there are labels 'CCR5' or 'CXCR4' on every row of the df_g2p_cm Dataframe."
   ]
  },
  {
   "cell_type": "code",
   "execution_count": 14,
   "metadata": {},
   "outputs": [
    {
     "data": {
      "text/html": [
       "<div>\n",
       "<style scoped>\n",
       "    .dataframe tbody tr th:only-of-type {\n",
       "        vertical-align: middle;\n",
       "    }\n",
       "\n",
       "    .dataframe tbody tr th {\n",
       "        vertical-align: top;\n",
       "    }\n",
       "\n",
       "    .dataframe thead th {\n",
       "        text-align: right;\n",
       "    }\n",
       "</style>\n",
       "<table border=\"1\" class=\"dataframe\">\n",
       "  <thead>\n",
       "    <tr style=\"text-align: right;\">\n",
       "      <th></th>\n",
       "      <th>seq_name</th>\n",
       "      <th>dataset</th>\n",
       "      <th>sequence</th>\n",
       "    </tr>\n",
       "  </thead>\n",
       "  <tbody>\n",
       "  </tbody>\n",
       "</table>\n",
       "</div>"
      ],
      "text/plain": [
       "Empty DataFrame\n",
       "Columns: [seq_name, dataset, sequence]\n",
       "Index: []"
      ]
     },
     "execution_count": 14,
     "metadata": {},
     "output_type": "execute_result"
    }
   ],
   "source": [
    "df_g2p_cm[~((df_g2p_cm.seq_name.str.contains('CCR5'))|\n",
    "          (df_g2p_cm.seq_name.str.contains('CXCR4')))]"
   ]
  },
  {
   "cell_type": "code",
   "execution_count": 15,
   "metadata": {},
   "outputs": [],
   "source": [
    "def get_label(row):\n",
    "    if 'CCR5' in row['seq_name'] and 'CXCR4' in row['seq_name']:\n",
    "        return 'R5X4'\n",
    "    elif 'CCR5' in row['seq_name']:\n",
    "        return 'CCR5'\n",
    "    elif 'CXCR4' in row['seq_name']:\n",
    "        return 'CXCR4'"
   ]
  },
  {
   "cell_type": "markdown",
   "metadata": {},
   "source": [
    "Apply get_label to df_g2p_cm"
   ]
  },
  {
   "cell_type": "code",
   "execution_count": 16,
   "metadata": {},
   "outputs": [],
   "source": [
    "df_g2p_cm['label'] =  df_g2p_cm.apply(get_label, axis=1)\n",
    "\n",
    "# Reorder columns\n",
    "df_g2p_cm = df_g2p_cm[['seq_name', 'dataset', 'label', 'sequence']]"
   ]
  },
  {
   "cell_type": "code",
   "execution_count": 17,
   "metadata": {},
   "outputs": [
    {
     "data": {
      "text/html": [
       "<div>\n",
       "<style scoped>\n",
       "    .dataframe tbody tr th:only-of-type {\n",
       "        vertical-align: middle;\n",
       "    }\n",
       "\n",
       "    .dataframe tbody tr th {\n",
       "        vertical-align: top;\n",
       "    }\n",
       "\n",
       "    .dataframe thead th {\n",
       "        text-align: right;\n",
       "    }\n",
       "</style>\n",
       "<table border=\"1\" class=\"dataframe\">\n",
       "  <thead>\n",
       "    <tr style=\"text-align: right;\">\n",
       "      <th></th>\n",
       "      <th>seq_name</th>\n",
       "      <th>dataset</th>\n",
       "      <th>label</th>\n",
       "      <th>sequence</th>\n",
       "    </tr>\n",
       "  </thead>\n",
       "  <tbody>\n",
       "    <tr>\n",
       "      <td>0</td>\n",
       "      <td>-.HM246206.A.CCR5</td>\n",
       "      <td>cm</td>\n",
       "      <td>CCR5</td>\n",
       "      <td>CVRPNNNTKKSVIGPGQTYANNIIGDIRKAC</td>\n",
       "    </tr>\n",
       "    <tr>\n",
       "      <td>1</td>\n",
       "      <td>ACH142.HQ644967.B.CCR5</td>\n",
       "      <td>cm</td>\n",
       "      <td>CCR5</td>\n",
       "      <td>CTRPNNNTRKSIHIGPGRAFYATGDIIGDIRKAHC</td>\n",
       "    </tr>\n",
       "    <tr>\n",
       "      <td>2</td>\n",
       "      <td>TH020.U08754.01_AE.CCR5</td>\n",
       "      <td>cm</td>\n",
       "      <td>CCR5</td>\n",
       "      <td>CTRPFNNTRTSLTIGPGQVFYRTGDIIGDIRKAYC</td>\n",
       "    </tr>\n",
       "    <tr>\n",
       "      <td>3</td>\n",
       "      <td>CW012.AJ418502.B.CCR5</td>\n",
       "      <td>cm</td>\n",
       "      <td>CCR5</td>\n",
       "      <td>CTRLNNNTRKSIHMGPGRAFYTTGEIIGDIRQAHC</td>\n",
       "    </tr>\n",
       "    <tr>\n",
       "      <td>4</td>\n",
       "      <td>BP00069.JN687773.B.CCR5</td>\n",
       "      <td>cm</td>\n",
       "      <td>CCR5</td>\n",
       "      <td>CTRPYNNTRRSIPIGPGRAFYATGEVIGNIRKAYC</td>\n",
       "    </tr>\n",
       "    <tr>\n",
       "      <td>5</td>\n",
       "      <td>I.DQ061525.B.CCR5</td>\n",
       "      <td>cm</td>\n",
       "      <td>CCR5</td>\n",
       "      <td>CIRPNNNTRKSIHIGPGRAFYATGEIIGDIRQAHC</td>\n",
       "    </tr>\n",
       "    <tr>\n",
       "      <td>6</td>\n",
       "      <td>500.HQ377462.B.CCR5</td>\n",
       "      <td>cm</td>\n",
       "      <td>CCR5</td>\n",
       "      <td>CTRPNNNTRKSISMGPGRAFYATGGIIGNIRQAHC</td>\n",
       "    </tr>\n",
       "    <tr>\n",
       "      <td>7</td>\n",
       "      <td>Pat1.AF541040.B.CCR5</td>\n",
       "      <td>cm</td>\n",
       "      <td>CCR5</td>\n",
       "      <td>CTRPNNNTRKSIHIGPGRAFYTTGEIIGDIRQAHC</td>\n",
       "    </tr>\n",
       "    <tr>\n",
       "      <td>8</td>\n",
       "      <td>CMP013.JX140646.02_AG.CCR5</td>\n",
       "      <td>cm</td>\n",
       "      <td>CCR5</td>\n",
       "      <td>CMRPNNNTRESVRIGPGQAFYATGEIIGDIRQAHC</td>\n",
       "    </tr>\n",
       "    <tr>\n",
       "      <td>9</td>\n",
       "      <td>U.DQ061827.B.CCR5</td>\n",
       "      <td>cm</td>\n",
       "      <td>CCR5</td>\n",
       "      <td>CTRPNNNTRKGIHMGPGKVFYATGQIIGDIRQAHC</td>\n",
       "    </tr>\n",
       "  </tbody>\n",
       "</table>\n",
       "</div>"
      ],
      "text/plain": [
       "                     seq_name dataset label  \\\n",
       "0           -.HM246206.A.CCR5      cm  CCR5   \n",
       "1      ACH142.HQ644967.B.CCR5      cm  CCR5   \n",
       "2     TH020.U08754.01_AE.CCR5      cm  CCR5   \n",
       "3       CW012.AJ418502.B.CCR5      cm  CCR5   \n",
       "4     BP00069.JN687773.B.CCR5      cm  CCR5   \n",
       "5           I.DQ061525.B.CCR5      cm  CCR5   \n",
       "6         500.HQ377462.B.CCR5      cm  CCR5   \n",
       "7        Pat1.AF541040.B.CCR5      cm  CCR5   \n",
       "8  CMP013.JX140646.02_AG.CCR5      cm  CCR5   \n",
       "9           U.DQ061827.B.CCR5      cm  CCR5   \n",
       "\n",
       "                              sequence  \n",
       "0      CVRPNNNTKKSVIGPGQTYANNIIGDIRKAC  \n",
       "1  CTRPNNNTRKSIHIGPGRAFYATGDIIGDIRKAHC  \n",
       "2  CTRPFNNTRTSLTIGPGQVFYRTGDIIGDIRKAYC  \n",
       "3  CTRLNNNTRKSIHMGPGRAFYTTGEIIGDIRQAHC  \n",
       "4  CTRPYNNTRRSIPIGPGRAFYATGEVIGNIRKAYC  \n",
       "5  CIRPNNNTRKSIHIGPGRAFYATGEIIGDIRQAHC  \n",
       "6  CTRPNNNTRKSISMGPGRAFYATGGIIGNIRQAHC  \n",
       "7  CTRPNNNTRKSIHIGPGRAFYTTGEIIGDIRQAHC  \n",
       "8  CMRPNNNTRESVRIGPGQAFYATGEIIGDIRQAHC  \n",
       "9  CTRPNNNTRKGIHMGPGKVFYATGQIIGDIRQAHC  "
      ]
     },
     "execution_count": 17,
     "metadata": {},
     "output_type": "execute_result"
    }
   ],
   "source": [
    "df_g2p_cm.head(10)"
   ]
  },
  {
   "cell_type": "markdown",
   "metadata": {},
   "source": [
    "Now that all Dataframes have labels, we concatenate them into one main Dataframe."
   ]
  },
  {
   "cell_type": "code",
   "execution_count": 18,
   "metadata": {},
   "outputs": [],
   "source": [
    "df_datasets = pd.concat([df_newdb,df_webpssm,df_hivcopred, df_g2p_cm])"
   ]
  },
  {
   "cell_type": "code",
   "execution_count": 19,
   "metadata": {},
   "outputs": [
    {
     "data": {
      "text/plain": [
       "(9550, 4)"
      ]
     },
     "execution_count": 19,
     "metadata": {},
     "output_type": "execute_result"
    }
   ],
   "source": [
    "df_datasets.shape"
   ]
  },
  {
   "cell_type": "code",
   "execution_count": 20,
   "metadata": {},
   "outputs": [
    {
     "data": {
      "text/html": [
       "<div>\n",
       "<style scoped>\n",
       "    .dataframe tbody tr th:only-of-type {\n",
       "        vertical-align: middle;\n",
       "    }\n",
       "\n",
       "    .dataframe tbody tr th {\n",
       "        vertical-align: top;\n",
       "    }\n",
       "\n",
       "    .dataframe thead th {\n",
       "        text-align: right;\n",
       "    }\n",
       "</style>\n",
       "<table border=\"1\" class=\"dataframe\">\n",
       "  <thead>\n",
       "    <tr style=\"text-align: right;\">\n",
       "      <th></th>\n",
       "      <th>seq_name</th>\n",
       "      <th>dataset</th>\n",
       "      <th>label</th>\n",
       "      <th>sequence</th>\n",
       "    </tr>\n",
       "  </thead>\n",
       "  <tbody>\n",
       "    <tr>\n",
       "      <td>0</td>\n",
       "      <td>RAB014775</td>\n",
       "      <td>newdb</td>\n",
       "      <td>CCR5</td>\n",
       "      <td>CTRPSNNTRTGITIGPGQVWYRTGDIIGDIRKAYC</td>\n",
       "    </tr>\n",
       "    <tr>\n",
       "      <td>1</td>\n",
       "      <td>RAB014776</td>\n",
       "      <td>newdb</td>\n",
       "      <td>CCR5</td>\n",
       "      <td>CTRPSNNTRTSITIGPGQVWYRTGDIIGDIRQAYC</td>\n",
       "    </tr>\n",
       "    <tr>\n",
       "      <td>2</td>\n",
       "      <td>RAB014778</td>\n",
       "      <td>newdb</td>\n",
       "      <td>CCR5</td>\n",
       "      <td>CTRPSNNTRTSITIGPGQVWYRTGDIIGDIRKAYC</td>\n",
       "    </tr>\n",
       "    <tr>\n",
       "      <td>3</td>\n",
       "      <td>RAB014781</td>\n",
       "      <td>newdb</td>\n",
       "      <td>CCR5</td>\n",
       "      <td>CTRPSNNTRTSVTIGPGQVWYRTGDIIGDIRQAYC</td>\n",
       "    </tr>\n",
       "    <tr>\n",
       "      <td>4</td>\n",
       "      <td>RAB014834</td>\n",
       "      <td>newdb</td>\n",
       "      <td>CCR5</td>\n",
       "      <td>CTRPSNNTRTSITIGPGQVWYRTGDIIGNIRKAYC</td>\n",
       "    </tr>\n",
       "    <tr>\n",
       "      <td>5</td>\n",
       "      <td>RAB023804</td>\n",
       "      <td>newdb</td>\n",
       "      <td>CCR5</td>\n",
       "      <td>CTRPNNNTRKSIRIGPGQTFYATGDIIGDIRQAHC</td>\n",
       "    </tr>\n",
       "    <tr>\n",
       "      <td>6</td>\n",
       "      <td>RAB287376</td>\n",
       "      <td>newdb</td>\n",
       "      <td>CCR5</td>\n",
       "      <td>CVRPNNNTRTSVRIGPGQTFYATGEIIGDIRQAFC</td>\n",
       "    </tr>\n",
       "    <tr>\n",
       "      <td>7</td>\n",
       "      <td>RAB553911</td>\n",
       "      <td>newdb</td>\n",
       "      <td>CCR5</td>\n",
       "      <td>CERPNNNTRRSIQIGPGRAWFEAEDIIGDIRKAHC</td>\n",
       "    </tr>\n",
       "    <tr>\n",
       "      <td>8</td>\n",
       "      <td>RAB553912</td>\n",
       "      <td>newdb</td>\n",
       "      <td>CCR5</td>\n",
       "      <td>CTRPNDNTRKSINIAPGRAFYATGDIIGDIRQAHC</td>\n",
       "    </tr>\n",
       "    <tr>\n",
       "      <td>9</td>\n",
       "      <td>RAB553913</td>\n",
       "      <td>newdb</td>\n",
       "      <td>CCR5</td>\n",
       "      <td>CTRPNNNTRKGIHMGPGRAIYTTDIIGDIRQAHC</td>\n",
       "    </tr>\n",
       "  </tbody>\n",
       "</table>\n",
       "</div>"
      ],
      "text/plain": [
       "    seq_name dataset label                             sequence\n",
       "0  RAB014775   newdb  CCR5  CTRPSNNTRTGITIGPGQVWYRTGDIIGDIRKAYC\n",
       "1  RAB014776   newdb  CCR5  CTRPSNNTRTSITIGPGQVWYRTGDIIGDIRQAYC\n",
       "2  RAB014778   newdb  CCR5  CTRPSNNTRTSITIGPGQVWYRTGDIIGDIRKAYC\n",
       "3  RAB014781   newdb  CCR5  CTRPSNNTRTSVTIGPGQVWYRTGDIIGDIRQAYC\n",
       "4  RAB014834   newdb  CCR5  CTRPSNNTRTSITIGPGQVWYRTGDIIGNIRKAYC\n",
       "5  RAB023804   newdb  CCR5  CTRPNNNTRKSIRIGPGQTFYATGDIIGDIRQAHC\n",
       "6  RAB287376   newdb  CCR5  CVRPNNNTRTSVRIGPGQTFYATGEIIGDIRQAFC\n",
       "7  RAB553911   newdb  CCR5  CERPNNNTRRSIQIGPGRAWFEAEDIIGDIRKAHC\n",
       "8  RAB553912   newdb  CCR5  CTRPNDNTRKSINIAPGRAFYATGDIIGDIRQAHC\n",
       "9  RAB553913   newdb  CCR5   CTRPNNNTRKGIHMGPGRAIYTTDIIGDIRQAHC"
      ]
     },
     "execution_count": 20,
     "metadata": {},
     "output_type": "execute_result"
    }
   ],
   "source": [
    "df_datasets.head(10)"
   ]
  },
  {
   "cell_type": "code",
   "execution_count": 21,
   "metadata": {},
   "outputs": [
    {
     "data": {
      "text/html": [
       "<div>\n",
       "<style scoped>\n",
       "    .dataframe tbody tr th:only-of-type {\n",
       "        vertical-align: middle;\n",
       "    }\n",
       "\n",
       "    .dataframe tbody tr th {\n",
       "        vertical-align: top;\n",
       "    }\n",
       "\n",
       "    .dataframe thead th {\n",
       "        text-align: right;\n",
       "    }\n",
       "</style>\n",
       "<table border=\"1\" class=\"dataframe\">\n",
       "  <thead>\n",
       "    <tr style=\"text-align: right;\">\n",
       "      <th></th>\n",
       "      <th>seq_name</th>\n",
       "      <th>dataset</th>\n",
       "      <th>label</th>\n",
       "      <th>sequence</th>\n",
       "    </tr>\n",
       "  </thead>\n",
       "  <tbody>\n",
       "    <tr>\n",
       "      <td>279</td>\n",
       "      <td>C.ZM.89.ZM20__phen_SI</td>\n",
       "      <td>webpssm</td>\n",
       "      <td>validation</td>\n",
       "      <td>CARPGNNTRKSIRIGPGQTFFATGAIIGDIRQAHC</td>\n",
       "    </tr>\n",
       "    <tr>\n",
       "      <td>280</td>\n",
       "      <td>C.ZW.01.TC28_2__phen_SI</td>\n",
       "      <td>webpssm</td>\n",
       "      <td>validation</td>\n",
       "      <td>CGRPNNHRIKGLRIGPGRAFFAMGAIGGEIRQAHC</td>\n",
       "    </tr>\n",
       "    <tr>\n",
       "      <td>281</td>\n",
       "      <td>C.ZW.01.TC03_1__phen_SI</td>\n",
       "      <td>webpssm</td>\n",
       "      <td>validation</td>\n",
       "      <td>CIRPGNNTSKSIRIGQRRPVYVH-KIIGDIRQAHC</td>\n",
       "    </tr>\n",
       "    <tr>\n",
       "      <td>282</td>\n",
       "      <td>C.ET.97.PHD79C1__phen_SI</td>\n",
       "      <td>webpssm</td>\n",
       "      <td>validation</td>\n",
       "      <td>CIRPNNNTRKSVRIGPGQAFYATGDIIGDIRQAHC</td>\n",
       "    </tr>\n",
       "    <tr>\n",
       "      <td>283</td>\n",
       "      <td>C.ZW.01.TC28_1__phen_SI</td>\n",
       "      <td>webpssm</td>\n",
       "      <td>validation</td>\n",
       "      <td>CMRPNNNTRKSVRIGPGQTFFATGAIIGNIRQAHC</td>\n",
       "    </tr>\n",
       "    <tr>\n",
       "      <td>284</td>\n",
       "      <td>AC.RW.92.92RW009_di1sCD__phen_SI</td>\n",
       "      <td>webpssm</td>\n",
       "      <td>validation</td>\n",
       "      <td>CPRPNNNTRKSVHIGPGQAFYATGDVIGDIRQAYC</td>\n",
       "    </tr>\n",
       "    <tr>\n",
       "      <td>285</td>\n",
       "      <td>AC.RW.92.92RW009_1gCR_AC.RW.92.92RW009_1gER_AC...</td>\n",
       "      <td>webpssm</td>\n",
       "      <td>validation</td>\n",
       "      <td>CSRPNNNTRKSVHIGPGQAFYATGDVIGDIRQAYC</td>\n",
       "    </tr>\n",
       "    <tr>\n",
       "      <td>286</td>\n",
       "      <td>C.ZW.01.TC22__phen_SI</td>\n",
       "      <td>webpssm</td>\n",
       "      <td>validation</td>\n",
       "      <td>CTRPGNKTRQSIRIGRGQSFHATGAIIGDIRKAYC</td>\n",
       "    </tr>\n",
       "    <tr>\n",
       "      <td>287</td>\n",
       "      <td>C.ZW.01.TC30__phen_SI</td>\n",
       "      <td>webpssm</td>\n",
       "      <td>validation</td>\n",
       "      <td>CTRPGNNT-----IGPGRTFYATDRIIGDIRQAHC</td>\n",
       "    </tr>\n",
       "    <tr>\n",
       "      <td>288</td>\n",
       "      <td>C.ZW.01.TC29__phen_SI</td>\n",
       "      <td>webpssm</td>\n",
       "      <td>validation</td>\n",
       "      <td>CTRPGNNTRKGLRIGPGRTIYATEVTVGDIRQAYC</td>\n",
       "    </tr>\n",
       "  </tbody>\n",
       "</table>\n",
       "</div>"
      ],
      "text/plain": [
       "                                              seq_name  dataset       label  \\\n",
       "279                              C.ZM.89.ZM20__phen_SI  webpssm  validation   \n",
       "280                            C.ZW.01.TC28_2__phen_SI  webpssm  validation   \n",
       "281                            C.ZW.01.TC03_1__phen_SI  webpssm  validation   \n",
       "282                           C.ET.97.PHD79C1__phen_SI  webpssm  validation   \n",
       "283                            C.ZW.01.TC28_1__phen_SI  webpssm  validation   \n",
       "284                   AC.RW.92.92RW009_di1sCD__phen_SI  webpssm  validation   \n",
       "285  AC.RW.92.92RW009_1gCR_AC.RW.92.92RW009_1gER_AC...  webpssm  validation   \n",
       "286                              C.ZW.01.TC22__phen_SI  webpssm  validation   \n",
       "287                              C.ZW.01.TC30__phen_SI  webpssm  validation   \n",
       "288                              C.ZW.01.TC29__phen_SI  webpssm  validation   \n",
       "\n",
       "                                sequence  \n",
       "279  CARPGNNTRKSIRIGPGQTFFATGAIIGDIRQAHC  \n",
       "280  CGRPNNHRIKGLRIGPGRAFFAMGAIGGEIRQAHC  \n",
       "281  CIRPGNNTSKSIRIGQRRPVYVH-KIIGDIRQAHC  \n",
       "282  CIRPNNNTRKSVRIGPGQAFYATGDIIGDIRQAHC  \n",
       "283  CMRPNNNTRKSVRIGPGQTFFATGAIIGNIRQAHC  \n",
       "284  CPRPNNNTRKSVHIGPGQAFYATGDVIGDIRQAYC  \n",
       "285  CSRPNNNTRKSVHIGPGQAFYATGDVIGDIRQAYC  \n",
       "286  CTRPGNKTRQSIRIGRGQSFHATGAIIGDIRKAYC  \n",
       "287  CTRPGNNT-----IGPGRTFYATDRIIGDIRQAHC  \n",
       "288  CTRPGNNTRKGLRIGPGRTIYATEVTVGDIRQAYC  "
      ]
     },
     "execution_count": 21,
     "metadata": {},
     "output_type": "execute_result"
    }
   ],
   "source": [
    "df_datasets_validation = df_datasets[df_datasets.label == 'validation']\n",
    "df_datasets_validation.head(10)"
   ]
  },
  {
   "cell_type": "code",
   "execution_count": 62,
   "metadata": {},
   "outputs": [
    {
     "data": {
      "text/plain": [
       "(71, 4)"
      ]
     },
     "execution_count": 62,
     "metadata": {},
     "output_type": "execute_result"
    }
   ],
   "source": [
    "df_datasets_validation.shape"
   ]
  },
  {
   "cell_type": "code",
   "execution_count": 63,
   "metadata": {},
   "outputs": [],
   "source": [
    "def label_validation_dataset(row):\n",
    "    if 'NSI' in row.seq_name:\n",
    "        return 'CCR5'\n",
    "    elif 'SI' in row.seq_name:\n",
    "        return 'CXCR4'"
   ]
  },
  {
   "cell_type": "code",
   "execution_count": 64,
   "metadata": {},
   "outputs": [],
   "source": [
    "df_datasets_validation['label'] = df_datasets_validation.apply(label_validation_dataset, axis=1)"
   ]
  },
  {
   "cell_type": "code",
   "execution_count": 65,
   "metadata": {},
   "outputs": [
    {
     "data": {
      "text/html": [
       "<div>\n",
       "<style scoped>\n",
       "    .dataframe tbody tr th:only-of-type {\n",
       "        vertical-align: middle;\n",
       "    }\n",
       "\n",
       "    .dataframe tbody tr th {\n",
       "        vertical-align: top;\n",
       "    }\n",
       "\n",
       "    .dataframe thead th {\n",
       "        text-align: right;\n",
       "    }\n",
       "</style>\n",
       "<table border=\"1\" class=\"dataframe\">\n",
       "  <thead>\n",
       "    <tr style=\"text-align: right;\">\n",
       "      <th></th>\n",
       "      <th>seq_name</th>\n",
       "      <th>dataset</th>\n",
       "      <th>label</th>\n",
       "      <th>sequence</th>\n",
       "    </tr>\n",
       "  </thead>\n",
       "  <tbody>\n",
       "    <tr>\n",
       "      <td>279</td>\n",
       "      <td>C.ZM.89.ZM20__phen_SI</td>\n",
       "      <td>webpssm</td>\n",
       "      <td>CXCR4</td>\n",
       "      <td>CARPGNNTRKSIRIGPGQTFFATGAIIGDIRQAHC</td>\n",
       "    </tr>\n",
       "    <tr>\n",
       "      <td>280</td>\n",
       "      <td>C.ZW.01.TC28_2__phen_SI</td>\n",
       "      <td>webpssm</td>\n",
       "      <td>CXCR4</td>\n",
       "      <td>CGRPNNHRIKGLRIGPGRAFFAMGAIGGEIRQAHC</td>\n",
       "    </tr>\n",
       "    <tr>\n",
       "      <td>281</td>\n",
       "      <td>C.ZW.01.TC03_1__phen_SI</td>\n",
       "      <td>webpssm</td>\n",
       "      <td>CXCR4</td>\n",
       "      <td>CIRPGNNTSKSIRIGQRRPVYVH-KIIGDIRQAHC</td>\n",
       "    </tr>\n",
       "    <tr>\n",
       "      <td>282</td>\n",
       "      <td>C.ET.97.PHD79C1__phen_SI</td>\n",
       "      <td>webpssm</td>\n",
       "      <td>CXCR4</td>\n",
       "      <td>CIRPNNNTRKSVRIGPGQAFYATGDIIGDIRQAHC</td>\n",
       "    </tr>\n",
       "    <tr>\n",
       "      <td>283</td>\n",
       "      <td>C.ZW.01.TC28_1__phen_SI</td>\n",
       "      <td>webpssm</td>\n",
       "      <td>CXCR4</td>\n",
       "      <td>CMRPNNNTRKSVRIGPGQTFFATGAIIGNIRQAHC</td>\n",
       "    </tr>\n",
       "    <tr>\n",
       "      <td>...</td>\n",
       "      <td>...</td>\n",
       "      <td>...</td>\n",
       "      <td>...</td>\n",
       "      <td>...</td>\n",
       "    </tr>\n",
       "    <tr>\n",
       "      <td>345</td>\n",
       "      <td>C.ZW.01.TC33__phen_NSI</td>\n",
       "      <td>webpssm</td>\n",
       "      <td>CCR5</td>\n",
       "      <td>CTRPNNNTRTSVRIGPGQAFYATGDIIGDIRQAHC</td>\n",
       "    </tr>\n",
       "    <tr>\n",
       "      <td>346</td>\n",
       "      <td>C.FR.93.FRMP37__phen_NSI</td>\n",
       "      <td>webpssm</td>\n",
       "      <td>CCR5</td>\n",
       "      <td>CTRPSNNTRKSIRIGPGQAFYATNGIIGDIRAAHC</td>\n",
       "    </tr>\n",
       "    <tr>\n",
       "      <td>347</td>\n",
       "      <td>C.ZW.01.TC32__phen_NSI</td>\n",
       "      <td>webpssm</td>\n",
       "      <td>CCR5</td>\n",
       "      <td>CTRPSNNTRKSVWLGPGRAFYT-NKVIGNIRKAHC</td>\n",
       "    </tr>\n",
       "    <tr>\n",
       "      <td>348</td>\n",
       "      <td>C.FR.91.FRMP197__phen_NSI</td>\n",
       "      <td>webpssm</td>\n",
       "      <td>CCR5</td>\n",
       "      <td>CTRPYNNTRQSIRIGPGQTFYATGDIIGDIRKAHC</td>\n",
       "    </tr>\n",
       "    <tr>\n",
       "      <td>349</td>\n",
       "      <td>C.SO.89.89SM_145__phen_NSI</td>\n",
       "      <td>webpssm</td>\n",
       "      <td>CCR5</td>\n",
       "      <td>CTRYANNTRKSVRIGPGQTFY-TNDIIGDIRQAHC</td>\n",
       "    </tr>\n",
       "  </tbody>\n",
       "</table>\n",
       "<p>71 rows × 4 columns</p>\n",
       "</div>"
      ],
      "text/plain": [
       "                       seq_name  dataset  label  \\\n",
       "279       C.ZM.89.ZM20__phen_SI  webpssm  CXCR4   \n",
       "280     C.ZW.01.TC28_2__phen_SI  webpssm  CXCR4   \n",
       "281     C.ZW.01.TC03_1__phen_SI  webpssm  CXCR4   \n",
       "282    C.ET.97.PHD79C1__phen_SI  webpssm  CXCR4   \n",
       "283     C.ZW.01.TC28_1__phen_SI  webpssm  CXCR4   \n",
       "..                          ...      ...    ...   \n",
       "345      C.ZW.01.TC33__phen_NSI  webpssm   CCR5   \n",
       "346    C.FR.93.FRMP37__phen_NSI  webpssm   CCR5   \n",
       "347      C.ZW.01.TC32__phen_NSI  webpssm   CCR5   \n",
       "348   C.FR.91.FRMP197__phen_NSI  webpssm   CCR5   \n",
       "349  C.SO.89.89SM_145__phen_NSI  webpssm   CCR5   \n",
       "\n",
       "                                sequence  \n",
       "279  CARPGNNTRKSIRIGPGQTFFATGAIIGDIRQAHC  \n",
       "280  CGRPNNHRIKGLRIGPGRAFFAMGAIGGEIRQAHC  \n",
       "281  CIRPGNNTSKSIRIGQRRPVYVH-KIIGDIRQAHC  \n",
       "282  CIRPNNNTRKSVRIGPGQAFYATGDIIGDIRQAHC  \n",
       "283  CMRPNNNTRKSVRIGPGQTFFATGAIIGNIRQAHC  \n",
       "..                                   ...  \n",
       "345  CTRPNNNTRTSVRIGPGQAFYATGDIIGDIRQAHC  \n",
       "346  CTRPSNNTRKSIRIGPGQAFYATNGIIGDIRAAHC  \n",
       "347  CTRPSNNTRKSVWLGPGRAFYT-NKVIGNIRKAHC  \n",
       "348  CTRPYNNTRQSIRIGPGQTFYATGDIIGDIRKAHC  \n",
       "349  CTRYANNTRKSVRIGPGQTFY-TNDIIGDIRQAHC  \n",
       "\n",
       "[71 rows x 4 columns]"
      ]
     },
     "execution_count": 65,
     "metadata": {},
     "output_type": "execute_result"
    }
   ],
   "source": [
    "df_datasets_validation"
   ]
  },
  {
   "cell_type": "code",
   "execution_count": 26,
   "metadata": {},
   "outputs": [],
   "source": [
    "# Save validation dataset to TSV\n",
    "df_datasets_validation.to_csv('webpssm_validation_labeled.tsv', sep='\\t')"
   ]
  },
  {
   "cell_type": "code",
   "execution_count": 27,
   "metadata": {},
   "outputs": [],
   "source": [
    "# Now concatenate the parsed df_datasets_validation to df_datasets\n",
    "df_datasets = pd.concat([df_datasets[df_datasets.label != 'validation'], df_datasets_validation])"
   ]
  },
  {
   "cell_type": "code",
   "execution_count": 66,
   "metadata": {},
   "outputs": [],
   "source": [
    "# Save the full Dataset TSV\n",
    "df_datasets.to_csv('datasets_concat_raw.tsv', sep='\\t')"
   ]
  },
  {
   "cell_type": "code",
   "execution_count": 67,
   "metadata": {},
   "outputs": [
    {
     "data": {
      "text/html": [
       "<div>\n",
       "<style scoped>\n",
       "    .dataframe tbody tr th:only-of-type {\n",
       "        vertical-align: middle;\n",
       "    }\n",
       "\n",
       "    .dataframe tbody tr th {\n",
       "        vertical-align: top;\n",
       "    }\n",
       "\n",
       "    .dataframe thead th {\n",
       "        text-align: right;\n",
       "    }\n",
       "</style>\n",
       "<table border=\"1\" class=\"dataframe\">\n",
       "  <thead>\n",
       "    <tr style=\"text-align: right;\">\n",
       "      <th></th>\n",
       "      <th>seq_name</th>\n",
       "      <th>dataset</th>\n",
       "      <th>label</th>\n",
       "      <th>sequence</th>\n",
       "    </tr>\n",
       "  </thead>\n",
       "  <tbody>\n",
       "    <tr>\n",
       "      <td>0</td>\n",
       "      <td>RAB014775</td>\n",
       "      <td>newdb</td>\n",
       "      <td>CCR5</td>\n",
       "      <td>CTRPSNNTRTGITIGPGQVWYRTGDIIGDIRKAYC</td>\n",
       "    </tr>\n",
       "    <tr>\n",
       "      <td>1</td>\n",
       "      <td>RAB014776</td>\n",
       "      <td>newdb</td>\n",
       "      <td>CCR5</td>\n",
       "      <td>CTRPSNNTRTSITIGPGQVWYRTGDIIGDIRQAYC</td>\n",
       "    </tr>\n",
       "    <tr>\n",
       "      <td>2</td>\n",
       "      <td>RAB014778</td>\n",
       "      <td>newdb</td>\n",
       "      <td>CCR5</td>\n",
       "      <td>CTRPSNNTRTSITIGPGQVWYRTGDIIGDIRKAYC</td>\n",
       "    </tr>\n",
       "    <tr>\n",
       "      <td>3</td>\n",
       "      <td>RAB014781</td>\n",
       "      <td>newdb</td>\n",
       "      <td>CCR5</td>\n",
       "      <td>CTRPSNNTRTSVTIGPGQVWYRTGDIIGDIRQAYC</td>\n",
       "    </tr>\n",
       "    <tr>\n",
       "      <td>4</td>\n",
       "      <td>RAB014834</td>\n",
       "      <td>newdb</td>\n",
       "      <td>CCR5</td>\n",
       "      <td>CTRPSNNTRTSITIGPGQVWYRTGDIIGNIRKAYC</td>\n",
       "    </tr>\n",
       "  </tbody>\n",
       "</table>\n",
       "</div>"
      ],
      "text/plain": [
       "    seq_name dataset label                             sequence\n",
       "0  RAB014775   newdb  CCR5  CTRPSNNTRTGITIGPGQVWYRTGDIIGDIRKAYC\n",
       "1  RAB014776   newdb  CCR5  CTRPSNNTRTSITIGPGQVWYRTGDIIGDIRQAYC\n",
       "2  RAB014778   newdb  CCR5  CTRPSNNTRTSITIGPGQVWYRTGDIIGDIRKAYC\n",
       "3  RAB014781   newdb  CCR5  CTRPSNNTRTSVTIGPGQVWYRTGDIIGDIRQAYC\n",
       "4  RAB014834   newdb  CCR5  CTRPSNNTRTSITIGPGQVWYRTGDIIGNIRKAYC"
      ]
     },
     "execution_count": 67,
     "metadata": {},
     "output_type": "execute_result"
    }
   ],
   "source": [
    "df_datasets.head()\n"
   ]
  },
  {
   "cell_type": "code",
   "execution_count": 68,
   "metadata": {},
   "outputs": [
    {
     "data": {
      "text/plain": [
       "(9550, 4)"
      ]
     },
     "execution_count": 68,
     "metadata": {},
     "output_type": "execute_result"
    }
   ],
   "source": [
    "df_datasets.shape"
   ]
  },
  {
   "cell_type": "markdown",
   "metadata": {},
   "source": [
    "Now we replace the '-' on sequences to remove duplicated ones.<br>\n",
    "First we check the number of sequences with '-' on the Dataframe."
   ]
  },
  {
   "cell_type": "code",
   "execution_count": 69,
   "metadata": {},
   "outputs": [
    {
     "data": {
      "text/plain": [
       "(0, 4)"
      ]
     },
     "execution_count": 69,
     "metadata": {},
     "output_type": "execute_result"
    }
   ],
   "source": [
    "df_datasets[df_datasets.sequence.str.contains('-')].shape"
   ]
  },
  {
   "cell_type": "code",
   "execution_count": 70,
   "metadata": {},
   "outputs": [
    {
     "data": {
      "text/html": [
       "<div>\n",
       "<style scoped>\n",
       "    .dataframe tbody tr th:only-of-type {\n",
       "        vertical-align: middle;\n",
       "    }\n",
       "\n",
       "    .dataframe tbody tr th {\n",
       "        vertical-align: top;\n",
       "    }\n",
       "\n",
       "    .dataframe thead th {\n",
       "        text-align: right;\n",
       "    }\n",
       "</style>\n",
       "<table border=\"1\" class=\"dataframe\">\n",
       "  <thead>\n",
       "    <tr style=\"text-align: right;\">\n",
       "      <th></th>\n",
       "      <th>seq_name</th>\n",
       "      <th>dataset</th>\n",
       "      <th>label</th>\n",
       "      <th>sequence</th>\n",
       "    </tr>\n",
       "  </thead>\n",
       "  <tbody>\n",
       "  </tbody>\n",
       "</table>\n",
       "</div>"
      ],
      "text/plain": [
       "Empty DataFrame\n",
       "Columns: [seq_name, dataset, label, sequence]\n",
       "Index: []"
      ]
     },
     "execution_count": 70,
     "metadata": {},
     "output_type": "execute_result"
    }
   ],
   "source": [
    "df_datasets[df_datasets.sequence.str.contains('-')].head(10)"
   ]
  },
  {
   "cell_type": "code",
   "execution_count": 36,
   "metadata": {},
   "outputs": [],
   "source": [
    "df_datasets['sequence'] = df_datasets['sequence'].str.replace('-', '', regex=False)"
   ]
  },
  {
   "cell_type": "markdown",
   "metadata": {},
   "source": [
    "Check if the replace worked:"
   ]
  },
  {
   "cell_type": "code",
   "execution_count": 37,
   "metadata": {},
   "outputs": [
    {
     "data": {
      "text/plain": [
       "(0, 4)"
      ]
     },
     "execution_count": 37,
     "metadata": {},
     "output_type": "execute_result"
    }
   ],
   "source": [
    "df_datasets[df_datasets.sequence.str.contains('-')].shape"
   ]
  },
  {
   "cell_type": "markdown",
   "metadata": {},
   "source": [
    "Now that our sequences don't have '-' we can drop the duplicated sequences to avoid repetitive data on our trainning set."
   ]
  },
  {
   "cell_type": "code",
   "execution_count": 38,
   "metadata": {},
   "outputs": [
    {
     "data": {
      "text/plain": [
       "(9550, 4)"
      ]
     },
     "execution_count": 38,
     "metadata": {},
     "output_type": "execute_result"
    }
   ],
   "source": [
    "df_datasets.shape"
   ]
  },
  {
   "cell_type": "code",
   "execution_count": 39,
   "metadata": {},
   "outputs": [
    {
     "data": {
      "text/html": [
       "<div>\n",
       "<style scoped>\n",
       "    .dataframe tbody tr th:only-of-type {\n",
       "        vertical-align: middle;\n",
       "    }\n",
       "\n",
       "    .dataframe tbody tr th {\n",
       "        vertical-align: top;\n",
       "    }\n",
       "\n",
       "    .dataframe thead th {\n",
       "        text-align: right;\n",
       "    }\n",
       "</style>\n",
       "<table border=\"1\" class=\"dataframe\">\n",
       "  <thead>\n",
       "    <tr style=\"text-align: right;\">\n",
       "      <th></th>\n",
       "      <th>seq_name</th>\n",
       "      <th>dataset</th>\n",
       "      <th>label</th>\n",
       "      <th>sequence</th>\n",
       "    </tr>\n",
       "  </thead>\n",
       "  <tbody>\n",
       "    <tr>\n",
       "      <td>0</td>\n",
       "      <td>RAB014775</td>\n",
       "      <td>newdb</td>\n",
       "      <td>CCR5</td>\n",
       "      <td>CTRPSNNTRTGITIGPGQVWYRTGDIIGDIRKAYC</td>\n",
       "    </tr>\n",
       "    <tr>\n",
       "      <td>1</td>\n",
       "      <td>RAB014776</td>\n",
       "      <td>newdb</td>\n",
       "      <td>CCR5</td>\n",
       "      <td>CTRPSNNTRTSITIGPGQVWYRTGDIIGDIRQAYC</td>\n",
       "    </tr>\n",
       "    <tr>\n",
       "      <td>2</td>\n",
       "      <td>RAB014778</td>\n",
       "      <td>newdb</td>\n",
       "      <td>CCR5</td>\n",
       "      <td>CTRPSNNTRTSITIGPGQVWYRTGDIIGDIRKAYC</td>\n",
       "    </tr>\n",
       "    <tr>\n",
       "      <td>3</td>\n",
       "      <td>RAB014781</td>\n",
       "      <td>newdb</td>\n",
       "      <td>CCR5</td>\n",
       "      <td>CTRPSNNTRTSVTIGPGQVWYRTGDIIGDIRQAYC</td>\n",
       "    </tr>\n",
       "    <tr>\n",
       "      <td>4</td>\n",
       "      <td>RAB014834</td>\n",
       "      <td>newdb</td>\n",
       "      <td>CCR5</td>\n",
       "      <td>CTRPSNNTRTSITIGPGQVWYRTGDIIGNIRKAYC</td>\n",
       "    </tr>\n",
       "    <tr>\n",
       "      <td>5</td>\n",
       "      <td>RAB023804</td>\n",
       "      <td>newdb</td>\n",
       "      <td>CCR5</td>\n",
       "      <td>CTRPNNNTRKSIRIGPGQTFYATGDIIGDIRQAHC</td>\n",
       "    </tr>\n",
       "    <tr>\n",
       "      <td>6</td>\n",
       "      <td>RAB287376</td>\n",
       "      <td>newdb</td>\n",
       "      <td>CCR5</td>\n",
       "      <td>CVRPNNNTRTSVRIGPGQTFYATGEIIGDIRQAFC</td>\n",
       "    </tr>\n",
       "    <tr>\n",
       "      <td>7</td>\n",
       "      <td>RAB553911</td>\n",
       "      <td>newdb</td>\n",
       "      <td>CCR5</td>\n",
       "      <td>CERPNNNTRRSIQIGPGRAWFEAEDIIGDIRKAHC</td>\n",
       "    </tr>\n",
       "    <tr>\n",
       "      <td>8</td>\n",
       "      <td>RAB553912</td>\n",
       "      <td>newdb</td>\n",
       "      <td>CCR5</td>\n",
       "      <td>CTRPNDNTRKSINIAPGRAFYATGDIIGDIRQAHC</td>\n",
       "    </tr>\n",
       "    <tr>\n",
       "      <td>9</td>\n",
       "      <td>RAB553913</td>\n",
       "      <td>newdb</td>\n",
       "      <td>CCR5</td>\n",
       "      <td>CTRPNNNTRKGIHMGPGRAIYTTDIIGDIRQAHC</td>\n",
       "    </tr>\n",
       "    <tr>\n",
       "      <td>10</td>\n",
       "      <td>RAB553914</td>\n",
       "      <td>newdb</td>\n",
       "      <td>CCR5</td>\n",
       "      <td>CTRPNNNTRKGIHFGPGQALYTTGAIIGDIREAHC</td>\n",
       "    </tr>\n",
       "    <tr>\n",
       "      <td>11</td>\n",
       "      <td>RAF005495</td>\n",
       "      <td>newdb</td>\n",
       "      <td>CCR5</td>\n",
       "      <td>CTRPNNNTRKSIPIGPGRAFYTTGEIIGDIRKAHC</td>\n",
       "    </tr>\n",
       "    <tr>\n",
       "      <td>12</td>\n",
       "      <td>RAF021477</td>\n",
       "      <td>newdb</td>\n",
       "      <td>CCR5</td>\n",
       "      <td>CTRPNNNTRKSIHIGPGRAFYTTGQIIGDIRQAYC</td>\n",
       "    </tr>\n",
       "    <tr>\n",
       "      <td>13</td>\n",
       "      <td>RAF021494</td>\n",
       "      <td>newdb</td>\n",
       "      <td>CCR5</td>\n",
       "      <td>CTRPNNNTRRSIHIGPGRAFYTTGRIIGDIRQAYC</td>\n",
       "    </tr>\n",
       "    <tr>\n",
       "      <td>14</td>\n",
       "      <td>RAF021499</td>\n",
       "      <td>newdb</td>\n",
       "      <td>CCR5</td>\n",
       "      <td>CTRPNNNTRKSIHIGPGGAFYTTGQIIGDIRQAYC</td>\n",
       "    </tr>\n",
       "    <tr>\n",
       "      <td>15</td>\n",
       "      <td>RAF021500</td>\n",
       "      <td>newdb</td>\n",
       "      <td>CCR5</td>\n",
       "      <td>CTRPNNNTRKSIPIGPGRAFYTTGQIIGDIRQAYC</td>\n",
       "    </tr>\n",
       "    <tr>\n",
       "      <td>16</td>\n",
       "      <td>RAF021514</td>\n",
       "      <td>newdb</td>\n",
       "      <td>CCR5</td>\n",
       "      <td>CTRPNNNTRKSITIGPGRAFYTTGQIIGDIRQAYC</td>\n",
       "    </tr>\n",
       "    <tr>\n",
       "      <td>17</td>\n",
       "      <td>RAF021523</td>\n",
       "      <td>newdb</td>\n",
       "      <td>CCR5</td>\n",
       "      <td>CTRPNNNTRKSITIGPGRAFYTTGQIIGDIRKAYC</td>\n",
       "    </tr>\n",
       "    <tr>\n",
       "      <td>18</td>\n",
       "      <td>RAF022257</td>\n",
       "      <td>newdb</td>\n",
       "      <td>CCR5</td>\n",
       "      <td>CTRPNNNTRKSISIGPGRAFYTTGEIIGDIRQAHC</td>\n",
       "    </tr>\n",
       "    <tr>\n",
       "      <td>19</td>\n",
       "      <td>RAF022259</td>\n",
       "      <td>newdb</td>\n",
       "      <td>CCR5</td>\n",
       "      <td>CTRPNNNTRKSISIGPGRAFYTTGEIIGNIRQAHC</td>\n",
       "    </tr>\n",
       "  </tbody>\n",
       "</table>\n",
       "</div>"
      ],
      "text/plain": [
       "     seq_name dataset label                             sequence\n",
       "0   RAB014775   newdb  CCR5  CTRPSNNTRTGITIGPGQVWYRTGDIIGDIRKAYC\n",
       "1   RAB014776   newdb  CCR5  CTRPSNNTRTSITIGPGQVWYRTGDIIGDIRQAYC\n",
       "2   RAB014778   newdb  CCR5  CTRPSNNTRTSITIGPGQVWYRTGDIIGDIRKAYC\n",
       "3   RAB014781   newdb  CCR5  CTRPSNNTRTSVTIGPGQVWYRTGDIIGDIRQAYC\n",
       "4   RAB014834   newdb  CCR5  CTRPSNNTRTSITIGPGQVWYRTGDIIGNIRKAYC\n",
       "5   RAB023804   newdb  CCR5  CTRPNNNTRKSIRIGPGQTFYATGDIIGDIRQAHC\n",
       "6   RAB287376   newdb  CCR5  CVRPNNNTRTSVRIGPGQTFYATGEIIGDIRQAFC\n",
       "7   RAB553911   newdb  CCR5  CERPNNNTRRSIQIGPGRAWFEAEDIIGDIRKAHC\n",
       "8   RAB553912   newdb  CCR5  CTRPNDNTRKSINIAPGRAFYATGDIIGDIRQAHC\n",
       "9   RAB553913   newdb  CCR5   CTRPNNNTRKGIHMGPGRAIYTTDIIGDIRQAHC\n",
       "10  RAB553914   newdb  CCR5  CTRPNNNTRKGIHFGPGQALYTTGAIIGDIREAHC\n",
       "11  RAF005495   newdb  CCR5  CTRPNNNTRKSIPIGPGRAFYTTGEIIGDIRKAHC\n",
       "12  RAF021477   newdb  CCR5  CTRPNNNTRKSIHIGPGRAFYTTGQIIGDIRQAYC\n",
       "13  RAF021494   newdb  CCR5  CTRPNNNTRRSIHIGPGRAFYTTGRIIGDIRQAYC\n",
       "14  RAF021499   newdb  CCR5  CTRPNNNTRKSIHIGPGGAFYTTGQIIGDIRQAYC\n",
       "15  RAF021500   newdb  CCR5  CTRPNNNTRKSIPIGPGRAFYTTGQIIGDIRQAYC\n",
       "16  RAF021514   newdb  CCR5  CTRPNNNTRKSITIGPGRAFYTTGQIIGDIRQAYC\n",
       "17  RAF021523   newdb  CCR5  CTRPNNNTRKSITIGPGRAFYTTGQIIGDIRKAYC\n",
       "18  RAF022257   newdb  CCR5  CTRPNNNTRKSISIGPGRAFYTTGEIIGDIRQAHC\n",
       "19  RAF022259   newdb  CCR5  CTRPNNNTRKSISIGPGRAFYTTGEIIGNIRQAHC"
      ]
     },
     "execution_count": 39,
     "metadata": {},
     "output_type": "execute_result"
    }
   ],
   "source": [
    "df_datasets.head(20)"
   ]
  },
  {
   "cell_type": "code",
   "execution_count": 41,
   "metadata": {},
   "outputs": [],
   "source": [
    "# Create TSV file from df_datasets\n",
    "df_datasets.to_csv('all_datasets_raw.tsv', sep='\\t')\n",
    "\n",
    "# Create fasta file from the df_unique_seqs\n",
    "with open('dataset_all_seqs.fasta', 'w') as f:\n",
    "    for index, row in df_datasets.iterrows():\n",
    "        f.write(f'>{row.seq_name}|{row.dataset}|{row.label}\\n')\n",
    "        f.write(f'{row.sequence}\\n')    "
   ]
  },
  {
   "cell_type": "code",
   "execution_count": 71,
   "metadata": {},
   "outputs": [
    {
     "data": {
      "text/plain": [
       "8765"
      ]
     },
     "execution_count": 71,
     "metadata": {},
     "output_type": "execute_result"
    }
   ],
   "source": [
    "df_datasets.duplicated(subset='sequence', keep=False).sum()"
   ]
  },
  {
   "cell_type": "code",
   "execution_count": 72,
   "metadata": {},
   "outputs": [
    {
     "data": {
      "text/plain": [
       "{21, 28, 29, 30, 31, 32, 33, 34, 35, 36, 37, 38, 39}"
      ]
     },
     "execution_count": 72,
     "metadata": {},
     "output_type": "execute_result"
    }
   ],
   "source": [
    "set(df_datasets['sequence'].apply(len))"
   ]
  },
  {
   "cell_type": "code",
   "execution_count": 74,
   "metadata": {},
   "outputs": [
    {
     "data": {
      "text/plain": [
       "(9550, 4)"
      ]
     },
     "execution_count": 74,
     "metadata": {},
     "output_type": "execute_result"
    }
   ],
   "source": [
    "df_datasets.shape"
   ]
  },
  {
   "cell_type": "code",
   "execution_count": 75,
   "metadata": {},
   "outputs": [
    {
     "data": {
      "text/plain": [
       "3608"
      ]
     },
     "execution_count": 75,
     "metadata": {},
     "output_type": "execute_result"
    }
   ],
   "source": [
    "len(set(df_datasets.sequence.to_list()))"
   ]
  },
  {
   "cell_type": "code",
   "execution_count": 78,
   "metadata": {},
   "outputs": [
    {
     "data": {
      "text/plain": [
       "(3608, 4)"
      ]
     },
     "execution_count": 78,
     "metadata": {},
     "output_type": "execute_result"
    }
   ],
   "source": [
    "# Create a Dataframe with unique sequences\n",
    "df_unique_seqs = df_datasets.drop_duplicates(subset='sequence', keep='first')\n",
    "df_unique_seqs.shape"
   ]
  },
  {
   "cell_type": "code",
   "execution_count": 77,
   "metadata": {},
   "outputs": [
    {
     "data": {
      "text/html": [
       "<div>\n",
       "<style scoped>\n",
       "    .dataframe tbody tr th:only-of-type {\n",
       "        vertical-align: middle;\n",
       "    }\n",
       "\n",
       "    .dataframe tbody tr th {\n",
       "        vertical-align: top;\n",
       "    }\n",
       "\n",
       "    .dataframe thead th {\n",
       "        text-align: right;\n",
       "    }\n",
       "</style>\n",
       "<table border=\"1\" class=\"dataframe\">\n",
       "  <thead>\n",
       "    <tr style=\"text-align: right;\">\n",
       "      <th></th>\n",
       "      <th>seq_name</th>\n",
       "      <th>dataset</th>\n",
       "      <th>label</th>\n",
       "      <th>sequence</th>\n",
       "    </tr>\n",
       "  </thead>\n",
       "  <tbody>\n",
       "  </tbody>\n",
       "</table>\n",
       "</div>"
      ],
      "text/plain": [
       "Empty DataFrame\n",
       "Columns: [seq_name, dataset, label, sequence]\n",
       "Index: []"
      ]
     },
     "execution_count": 77,
     "metadata": {},
     "output_type": "execute_result"
    }
   ],
   "source": [
    "df_unique_seqs[df_unique_seqs.label == 'validation'].head()"
   ]
  },
  {
   "cell_type": "markdown",
   "metadata": {},
   "source": [
    "As we can see, there are 3608 unique sequences on our Dataset.<br>\n",
    "We are going to use these unique sequences to do the alignment and split data into trainning, validation and test sets.<br><br>\n",
    "To execute the alignment we are going to create a fasta file out of the Dataframe.\n"
   ]
  },
  {
   "cell_type": "code",
   "execution_count": 93,
   "metadata": {},
   "outputs": [],
   "source": [
    "# Create fasta file from the df_unique_seqs\n",
    "with open('dataset_unique_seqs.fasta', 'w') as f:\n",
    "    for index, row in df_unique_seqs.iterrows():\n",
    "        f.write(f'>{row.seq_name}|{row.dataset}|{row.label}\\n')\n",
    "        f.write(f'{row.sequence}\\n')        "
   ]
  },
  {
   "cell_type": "code",
   "execution_count": 45,
   "metadata": {},
   "outputs": [],
   "source": [
    "# Align sequences using Muscle\n",
    "#os.system('/home/gabriel/Documents/Bioinformatics/muscle3.8.31_i86linux64 -in dataset_unique_seqs.fasta -out dataset_unique_seqs_aligned.fasta -gapopen 15')"
   ]
  },
  {
   "cell_type": "code",
   "execution_count": 96,
   "metadata": {},
   "outputs": [
    {
     "ename": "KeyboardInterrupt",
     "evalue": "",
     "output_type": "error",
     "traceback": [
      "\u001b[0;31m---------------------------------------------------------------------------\u001b[0m",
      "\u001b[0;31mKeyboardInterrupt\u001b[0m                         Traceback (most recent call last)",
      "\u001b[0;32m<ipython-input-96-8c411abeeed5>\u001b[0m in \u001b[0;36m<module>\u001b[0;34m\u001b[0m\n\u001b[1;32m      2\u001b[0m \u001b[0;34m\u001b[0m\u001b[0m\n\u001b[1;32m      3\u001b[0m \u001b[0mbatcmd\u001b[0m\u001b[0;34m=\u001b[0m \u001b[0;34m'/home/gabriel/Documents/Bioinformatics/muscle3.8.31_i86linux64 -in dataset_unique_seqs.fasta -out dataset_unique_seqs_aligned.fasta -gapopen 15'\u001b[0m\u001b[0;34m\u001b[0m\u001b[0;34m\u001b[0m\u001b[0m\n\u001b[0;32m----> 4\u001b[0;31m \u001b[0msubprocess\u001b[0m\u001b[0;34m.\u001b[0m\u001b[0mcheck_output\u001b[0m\u001b[0;34m(\u001b[0m\u001b[0mbatcmd\u001b[0m\u001b[0;34m,\u001b[0m \u001b[0mshell\u001b[0m\u001b[0;34m=\u001b[0m\u001b[0;32mTrue\u001b[0m\u001b[0;34m)\u001b[0m\u001b[0;34m\u001b[0m\u001b[0;34m\u001b[0m\u001b[0m\n\u001b[0m",
      "\u001b[0;32m~/miniconda3/envs/deeptropism/lib/python3.7/subprocess.py\u001b[0m in \u001b[0;36mcheck_output\u001b[0;34m(timeout, *popenargs, **kwargs)\u001b[0m\n\u001b[1;32m    393\u001b[0m \u001b[0;34m\u001b[0m\u001b[0m\n\u001b[1;32m    394\u001b[0m     return run(*popenargs, stdout=PIPE, timeout=timeout, check=True,\n\u001b[0;32m--> 395\u001b[0;31m                **kwargs).stdout\n\u001b[0m\u001b[1;32m    396\u001b[0m \u001b[0;34m\u001b[0m\u001b[0m\n\u001b[1;32m    397\u001b[0m \u001b[0;34m\u001b[0m\u001b[0m\n",
      "\u001b[0;32m~/miniconda3/envs/deeptropism/lib/python3.7/subprocess.py\u001b[0m in \u001b[0;36mrun\u001b[0;34m(input, capture_output, timeout, check, *popenargs, **kwargs)\u001b[0m\n\u001b[1;32m    472\u001b[0m     \u001b[0;32mwith\u001b[0m \u001b[0mPopen\u001b[0m\u001b[0;34m(\u001b[0m\u001b[0;34m*\u001b[0m\u001b[0mpopenargs\u001b[0m\u001b[0;34m,\u001b[0m \u001b[0;34m**\u001b[0m\u001b[0mkwargs\u001b[0m\u001b[0;34m)\u001b[0m \u001b[0;32mas\u001b[0m \u001b[0mprocess\u001b[0m\u001b[0;34m:\u001b[0m\u001b[0;34m\u001b[0m\u001b[0;34m\u001b[0m\u001b[0m\n\u001b[1;32m    473\u001b[0m         \u001b[0;32mtry\u001b[0m\u001b[0;34m:\u001b[0m\u001b[0;34m\u001b[0m\u001b[0;34m\u001b[0m\u001b[0m\n\u001b[0;32m--> 474\u001b[0;31m             \u001b[0mstdout\u001b[0m\u001b[0;34m,\u001b[0m \u001b[0mstderr\u001b[0m \u001b[0;34m=\u001b[0m \u001b[0mprocess\u001b[0m\u001b[0;34m.\u001b[0m\u001b[0mcommunicate\u001b[0m\u001b[0;34m(\u001b[0m\u001b[0minput\u001b[0m\u001b[0;34m,\u001b[0m \u001b[0mtimeout\u001b[0m\u001b[0;34m=\u001b[0m\u001b[0mtimeout\u001b[0m\u001b[0;34m)\u001b[0m\u001b[0;34m\u001b[0m\u001b[0;34m\u001b[0m\u001b[0m\n\u001b[0m\u001b[1;32m    475\u001b[0m         \u001b[0;32mexcept\u001b[0m \u001b[0mTimeoutExpired\u001b[0m\u001b[0;34m:\u001b[0m\u001b[0;34m\u001b[0m\u001b[0;34m\u001b[0m\u001b[0m\n\u001b[1;32m    476\u001b[0m             \u001b[0mprocess\u001b[0m\u001b[0;34m.\u001b[0m\u001b[0mkill\u001b[0m\u001b[0;34m(\u001b[0m\u001b[0;34m)\u001b[0m\u001b[0;34m\u001b[0m\u001b[0;34m\u001b[0m\u001b[0m\n",
      "\u001b[0;32m~/miniconda3/envs/deeptropism/lib/python3.7/subprocess.py\u001b[0m in \u001b[0;36mcommunicate\u001b[0;34m(self, input, timeout)\u001b[0m\n\u001b[1;32m    924\u001b[0m                 \u001b[0mself\u001b[0m\u001b[0;34m.\u001b[0m\u001b[0m_stdin_write\u001b[0m\u001b[0;34m(\u001b[0m\u001b[0minput\u001b[0m\u001b[0;34m)\u001b[0m\u001b[0;34m\u001b[0m\u001b[0;34m\u001b[0m\u001b[0m\n\u001b[1;32m    925\u001b[0m             \u001b[0;32melif\u001b[0m \u001b[0mself\u001b[0m\u001b[0;34m.\u001b[0m\u001b[0mstdout\u001b[0m\u001b[0;34m:\u001b[0m\u001b[0;34m\u001b[0m\u001b[0;34m\u001b[0m\u001b[0m\n\u001b[0;32m--> 926\u001b[0;31m                 \u001b[0mstdout\u001b[0m \u001b[0;34m=\u001b[0m \u001b[0mself\u001b[0m\u001b[0;34m.\u001b[0m\u001b[0mstdout\u001b[0m\u001b[0;34m.\u001b[0m\u001b[0mread\u001b[0m\u001b[0;34m(\u001b[0m\u001b[0;34m)\u001b[0m\u001b[0;34m\u001b[0m\u001b[0;34m\u001b[0m\u001b[0m\n\u001b[0m\u001b[1;32m    927\u001b[0m                 \u001b[0mself\u001b[0m\u001b[0;34m.\u001b[0m\u001b[0mstdout\u001b[0m\u001b[0;34m.\u001b[0m\u001b[0mclose\u001b[0m\u001b[0;34m(\u001b[0m\u001b[0;34m)\u001b[0m\u001b[0;34m\u001b[0m\u001b[0;34m\u001b[0m\u001b[0m\n\u001b[1;32m    928\u001b[0m             \u001b[0;32melif\u001b[0m \u001b[0mself\u001b[0m\u001b[0;34m.\u001b[0m\u001b[0mstderr\u001b[0m\u001b[0;34m:\u001b[0m\u001b[0;34m\u001b[0m\u001b[0;34m\u001b[0m\u001b[0m\n",
      "\u001b[0;31mKeyboardInterrupt\u001b[0m: "
     ]
    }
   ],
   "source": [
    "# Creating Dataframe from Muscle aligned output\n",
    "df_aligned = pd.read_csv('datasets/',sep='\\t',\n",
    "                       names=['seq_name', 'dataset', 'label', 'sequence'])"
   ]
  },
  {
   "cell_type": "markdown",
   "metadata": {},
   "source": [
    "Now that we have a Dataframe with all the unique sequences aligned and labeled we are going to separate ou train set, validation set and test set on a proportion of 80/10/10."
   ]
  },
  {
   "cell_type": "markdown",
   "metadata": {},
   "source": [
    "## using the df_unique_seqs"
   ]
  },
  {
   "cell_type": "code",
   "execution_count": 80,
   "metadata": {},
   "outputs": [
    {
     "data": {
      "text/html": [
       "<div>\n",
       "<style scoped>\n",
       "    .dataframe tbody tr th:only-of-type {\n",
       "        vertical-align: middle;\n",
       "    }\n",
       "\n",
       "    .dataframe tbody tr th {\n",
       "        vertical-align: top;\n",
       "    }\n",
       "\n",
       "    .dataframe thead th {\n",
       "        text-align: right;\n",
       "    }\n",
       "</style>\n",
       "<table border=\"1\" class=\"dataframe\">\n",
       "  <thead>\n",
       "    <tr style=\"text-align: right;\">\n",
       "      <th></th>\n",
       "      <th>seq_name</th>\n",
       "      <th>dataset</th>\n",
       "      <th>label</th>\n",
       "      <th>sequence</th>\n",
       "    </tr>\n",
       "  </thead>\n",
       "  <tbody>\n",
       "    <tr>\n",
       "      <td>0</td>\n",
       "      <td>RAB014775</td>\n",
       "      <td>newdb</td>\n",
       "      <td>CCR5</td>\n",
       "      <td>CTRPSNNTRTGITIGPGQVWYRTGDIIGDIRKAYC</td>\n",
       "    </tr>\n",
       "    <tr>\n",
       "      <td>1</td>\n",
       "      <td>RAB014776</td>\n",
       "      <td>newdb</td>\n",
       "      <td>CCR5</td>\n",
       "      <td>CTRPSNNTRTSITIGPGQVWYRTGDIIGDIRQAYC</td>\n",
       "    </tr>\n",
       "    <tr>\n",
       "      <td>2</td>\n",
       "      <td>RAB014778</td>\n",
       "      <td>newdb</td>\n",
       "      <td>CCR5</td>\n",
       "      <td>CTRPSNNTRTSITIGPGQVWYRTGDIIGDIRKAYC</td>\n",
       "    </tr>\n",
       "    <tr>\n",
       "      <td>3</td>\n",
       "      <td>RAB014781</td>\n",
       "      <td>newdb</td>\n",
       "      <td>CCR5</td>\n",
       "      <td>CTRPSNNTRTSVTIGPGQVWYRTGDIIGDIRQAYC</td>\n",
       "    </tr>\n",
       "    <tr>\n",
       "      <td>4</td>\n",
       "      <td>RAB014834</td>\n",
       "      <td>newdb</td>\n",
       "      <td>CCR5</td>\n",
       "      <td>CTRPSNNTRTSITIGPGQVWYRTGDIIGNIRKAYC</td>\n",
       "    </tr>\n",
       "  </tbody>\n",
       "</table>\n",
       "</div>"
      ],
      "text/plain": [
       "    seq_name dataset label                             sequence\n",
       "0  RAB014775   newdb  CCR5  CTRPSNNTRTGITIGPGQVWYRTGDIIGDIRKAYC\n",
       "1  RAB014776   newdb  CCR5  CTRPSNNTRTSITIGPGQVWYRTGDIIGDIRQAYC\n",
       "2  RAB014778   newdb  CCR5  CTRPSNNTRTSITIGPGQVWYRTGDIIGDIRKAYC\n",
       "3  RAB014781   newdb  CCR5  CTRPSNNTRTSVTIGPGQVWYRTGDIIGDIRQAYC\n",
       "4  RAB014834   newdb  CCR5  CTRPSNNTRTSITIGPGQVWYRTGDIIGNIRKAYC"
      ]
     },
     "execution_count": 80,
     "metadata": {},
     "output_type": "execute_result"
    }
   ],
   "source": [
    "df_unique_seqs.head()"
   ]
  },
  {
   "cell_type": "code",
   "execution_count": 81,
   "metadata": {},
   "outputs": [],
   "source": []
  },
  {
   "cell_type": "code",
   "execution_count": 83,
   "metadata": {},
   "outputs": [
    {
     "data": {
      "text/plain": [
       "0    CTRPSNNTRTGITIGPGQVWYRTGDIIGDIRKAYC\n",
       "0        CVRPNNNTKKSVIGPGQTYANNIIGDIRKAC\n",
       "0    CTQTQQQYKKKYTSRTRASMVCNRRNNRRYKTSTL\n",
       "Name: sequence, dtype: object"
      ]
     },
     "execution_count": 83,
     "metadata": {},
     "output_type": "execute_result"
    }
   ],
   "source": [
    "seq = df_unique_seqs.loc[0, 'sequence']\n",
    "seq"
   ]
  },
  {
   "cell_type": "code",
   "execution_count": null,
   "metadata": {},
   "outputs": [],
   "source": []
  },
  {
   "cell_type": "code",
   "execution_count": null,
   "metadata": {},
   "outputs": [],
   "source": []
  },
  {
   "cell_type": "code",
   "execution_count": null,
   "metadata": {},
   "outputs": [],
   "source": []
  },
  {
   "cell_type": "code",
   "execution_count": null,
   "metadata": {},
   "outputs": [],
   "source": []
  },
  {
   "cell_type": "code",
   "execution_count": null,
   "metadata": {},
   "outputs": [],
   "source": []
  },
  {
   "cell_type": "code",
   "execution_count": null,
   "metadata": {},
   "outputs": [],
   "source": []
  },
  {
   "cell_type": "code",
   "execution_count": null,
   "metadata": {},
   "outputs": [],
   "source": []
  },
  {
   "cell_type": "code",
   "execution_count": null,
   "metadata": {},
   "outputs": [],
   "source": []
  },
  {
   "cell_type": "code",
   "execution_count": null,
   "metadata": {},
   "outputs": [],
   "source": []
  },
  {
   "cell_type": "code",
   "execution_count": null,
   "metadata": {},
   "outputs": [],
   "source": []
  },
  {
   "cell_type": "code",
   "execution_count": null,
   "metadata": {},
   "outputs": [],
   "source": []
  },
  {
   "cell_type": "code",
   "execution_count": null,
   "metadata": {},
   "outputs": [],
   "source": []
  },
  {
   "cell_type": "code",
   "execution_count": null,
   "metadata": {},
   "outputs": [],
   "source": []
  },
  {
   "cell_type": "code",
   "execution_count": null,
   "metadata": {},
   "outputs": [],
   "source": []
  },
  {
   "cell_type": "code",
   "execution_count": null,
   "metadata": {},
   "outputs": [],
   "source": []
  },
  {
   "cell_type": "code",
   "execution_count": null,
   "metadata": {},
   "outputs": [],
   "source": []
  },
  {
   "cell_type": "code",
   "execution_count": null,
   "metadata": {},
   "outputs": [],
   "source": []
  },
  {
   "cell_type": "code",
   "execution_count": null,
   "metadata": {},
   "outputs": [],
   "source": []
  },
  {
   "cell_type": "code",
   "execution_count": null,
   "metadata": {},
   "outputs": [],
   "source": []
  },
  {
   "cell_type": "code",
   "execution_count": null,
   "metadata": {},
   "outputs": [],
   "source": []
  },
  {
   "cell_type": "code",
   "execution_count": null,
   "metadata": {},
   "outputs": [],
   "source": []
  },
  {
   "cell_type": "code",
   "execution_count": null,
   "metadata": {},
   "outputs": [],
   "source": []
  },
  {
   "cell_type": "code",
   "execution_count": null,
   "metadata": {},
   "outputs": [],
   "source": []
  },
  {
   "cell_type": "code",
   "execution_count": null,
   "metadata": {},
   "outputs": [],
   "source": []
  },
  {
   "cell_type": "code",
   "execution_count": null,
   "metadata": {},
   "outputs": [],
   "source": []
  },
  {
   "cell_type": "code",
   "execution_count": null,
   "metadata": {},
   "outputs": [],
   "source": []
  },
  {
   "cell_type": "code",
   "execution_count": null,
   "metadata": {},
   "outputs": [],
   "source": []
  },
  {
   "cell_type": "code",
   "execution_count": null,
   "metadata": {},
   "outputs": [],
   "source": []
  },
  {
   "cell_type": "code",
   "execution_count": null,
   "metadata": {},
   "outputs": [],
   "source": []
  },
  {
   "cell_type": "code",
   "execution_count": null,
   "metadata": {},
   "outputs": [],
   "source": []
  },
  {
   "cell_type": "code",
   "execution_count": null,
   "metadata": {},
   "outputs": [],
   "source": []
  },
  {
   "cell_type": "code",
   "execution_count": null,
   "metadata": {},
   "outputs": [],
   "source": []
  },
  {
   "cell_type": "code",
   "execution_count": null,
   "metadata": {},
   "outputs": [],
   "source": []
  },
  {
   "cell_type": "markdown",
   "metadata": {},
   "source": [
    "## Unique sequences Dataset"
   ]
  },
  {
   "cell_type": "code",
   "execution_count": 84,
   "metadata": {},
   "outputs": [],
   "source": [
    "df = pd.read_csv('/home/gabriel/Documents/Repos/DeepTropism/dataset_unique_seqs_aligned_gapopen_15_old.tsv', sep='\\t', names=['name', 'dataset', 'label','sequence'])"
   ]
  },
  {
   "cell_type": "code",
   "execution_count": 85,
   "metadata": {},
   "outputs": [
    {
     "name": "stdout",
     "output_type": "stream",
     "text": [
      "<class 'pandas.core.frame.DataFrame'>\n",
      "RangeIndex: 3608 entries, 0 to 3607\n",
      "Data columns (total 4 columns):\n",
      "name        3608 non-null object\n",
      "dataset     3608 non-null object\n",
      "label       3608 non-null object\n",
      "sequence    3608 non-null object\n",
      "dtypes: object(4)\n",
      "memory usage: 112.9+ KB\n"
     ]
    }
   ],
   "source": [
    "df.info()"
   ]
  },
  {
   "cell_type": "code",
   "execution_count": 86,
   "metadata": {},
   "outputs": [
    {
     "data": {
      "text/html": [
       "<div>\n",
       "<style scoped>\n",
       "    .dataframe tbody tr th:only-of-type {\n",
       "        vertical-align: middle;\n",
       "    }\n",
       "\n",
       "    .dataframe tbody tr th {\n",
       "        vertical-align: top;\n",
       "    }\n",
       "\n",
       "    .dataframe thead th {\n",
       "        text-align: right;\n",
       "    }\n",
       "</style>\n",
       "<table border=\"1\" class=\"dataframe\">\n",
       "  <thead>\n",
       "    <tr style=\"text-align: right;\">\n",
       "      <th></th>\n",
       "      <th>name</th>\n",
       "      <th>dataset</th>\n",
       "      <th>label</th>\n",
       "      <th>sequence</th>\n",
       "    </tr>\n",
       "  </thead>\n",
       "  <tbody>\n",
       "    <tr>\n",
       "      <td>0</td>\n",
       "      <td>CCR5_1471_29187_CN_2003_B</td>\n",
       "      <td>geno2pheno</td>\n",
       "      <td>CCR5</td>\n",
       "      <td>CTQTQQQY-KKKY---T----------SRTR-ASM-----V-CNRR...</td>\n",
       "    </tr>\n",
       "    <tr>\n",
       "      <td>1</td>\n",
       "      <td>CCR5/CXCR4/CCR1/CCR2b/CCR3/CCR4_MVP5180_67_CM_...</td>\n",
       "      <td>geno2pheno</td>\n",
       "      <td>R5X4</td>\n",
       "      <td>CIREGIAE-VQDI---Y--T--G-P-----M-RWRSMTLKR-SNNT...</td>\n",
       "    </tr>\n",
       "    <tr>\n",
       "      <td>2</td>\n",
       "      <td>RKF859742</td>\n",
       "      <td>newdb</td>\n",
       "      <td>CCR5</td>\n",
       "      <td>CERPTMDI-QDIH------I--G-P-----M-AWYSTYIER-QAKG...</td>\n",
       "    </tr>\n",
       "    <tr>\n",
       "      <td>3</td>\n",
       "      <td>RAF009608</td>\n",
       "      <td>hivcopred</td>\n",
       "      <td>CCR5</td>\n",
       "      <td>CSRPEMDV-QEIR---N-----G-P-----M-AWYSMALAK-GGTT...</td>\n",
       "    </tr>\n",
       "    <tr>\n",
       "      <td>4</td>\n",
       "      <td>RKF859743</td>\n",
       "      <td>newdb</td>\n",
       "      <td>CCR5</td>\n",
       "      <td>CRRPAMKV-QEMR---I----------G--PMAWY-----S-MALE...</td>\n",
       "    </tr>\n",
       "    <tr>\n",
       "      <td>5</td>\n",
       "      <td>RAF009610</td>\n",
       "      <td>hivcopred</td>\n",
       "      <td>CCR5</td>\n",
       "      <td>CSRPAMEV--QEM---R--I--G-P-----M-AWYSMALER-GGTT...</td>\n",
       "    </tr>\n",
       "    <tr>\n",
       "      <td>6</td>\n",
       "      <td>RAM262120</td>\n",
       "      <td>newdb</td>\n",
       "      <td>CCR5</td>\n",
       "      <td>CVRPGNNS-VQEM---R--V--G-P-----M-AWYSMELEK-NGSR...</td>\n",
       "    </tr>\n",
       "    <tr>\n",
       "      <td>7</td>\n",
       "      <td>RAM262127</td>\n",
       "      <td>newdb</td>\n",
       "      <td>CCR5</td>\n",
       "      <td>CVRPGDNS-VKEM---R--A--G-P-----M-AWYSMELER-NGSR...</td>\n",
       "    </tr>\n",
       "    <tr>\n",
       "      <td>8</td>\n",
       "      <td>RAM262126</td>\n",
       "      <td>newdb</td>\n",
       "      <td>CCR5</td>\n",
       "      <td>CVRPGNNS-VKEM---R--V--G-P-----M-ALYSMELER-NGSR...</td>\n",
       "    </tr>\n",
       "    <tr>\n",
       "      <td>9</td>\n",
       "      <td>RAM262125</td>\n",
       "      <td>newdb</td>\n",
       "      <td>CCR5</td>\n",
       "      <td>CVRPGNNT-VKEM---R--V--G-P-----M-AWYSMELER-NGSR...</td>\n",
       "    </tr>\n",
       "  </tbody>\n",
       "</table>\n",
       "</div>"
      ],
      "text/plain": [
       "                                                name     dataset label  \\\n",
       "0                          CCR5_1471_29187_CN_2003_B  geno2pheno  CCR5   \n",
       "1  CCR5/CXCR4/CCR1/CCR2b/CCR3/CCR4_MVP5180_67_CM_...  geno2pheno  R5X4   \n",
       "2                                          RKF859742       newdb  CCR5   \n",
       "3                                          RAF009608   hivcopred  CCR5   \n",
       "4                                          RKF859743       newdb  CCR5   \n",
       "5                                          RAF009610   hivcopred  CCR5   \n",
       "6                                          RAM262120       newdb  CCR5   \n",
       "7                                          RAM262127       newdb  CCR5   \n",
       "8                                          RAM262126       newdb  CCR5   \n",
       "9                                          RAM262125       newdb  CCR5   \n",
       "\n",
       "                                            sequence  \n",
       "0  CTQTQQQY-KKKY---T----------SRTR-ASM-----V-CNRR...  \n",
       "1  CIREGIAE-VQDI---Y--T--G-P-----M-RWRSMTLKR-SNNT...  \n",
       "2  CERPTMDI-QDIH------I--G-P-----M-AWYSTYIER-QAKG...  \n",
       "3  CSRPEMDV-QEIR---N-----G-P-----M-AWYSMALAK-GGTT...  \n",
       "4  CRRPAMKV-QEMR---I----------G--PMAWY-----S-MALE...  \n",
       "5  CSRPAMEV--QEM---R--I--G-P-----M-AWYSMALER-GGTT...  \n",
       "6  CVRPGNNS-VQEM---R--V--G-P-----M-AWYSMELEK-NGSR...  \n",
       "7  CVRPGDNS-VKEM---R--A--G-P-----M-AWYSMELER-NGSR...  \n",
       "8  CVRPGNNS-VKEM---R--V--G-P-----M-ALYSMELER-NGSR...  \n",
       "9  CVRPGNNT-VKEM---R--V--G-P-----M-AWYSMELER-NGSR...  "
      ]
     },
     "execution_count": 86,
     "metadata": {},
     "output_type": "execute_result"
    }
   ],
   "source": [
    "df.head(10)"
   ]
  },
  {
   "cell_type": "code",
   "execution_count": 87,
   "metadata": {},
   "outputs": [],
   "source": [
    "df.drop_duplicates(subset='sequence', keep='first', inplace=True)"
   ]
  },
  {
   "cell_type": "code",
   "execution_count": 88,
   "metadata": {},
   "outputs": [
    {
     "name": "stdout",
     "output_type": "stream",
     "text": [
      "<class 'pandas.core.frame.DataFrame'>\n",
      "Int64Index: 3608 entries, 0 to 3607\n",
      "Data columns (total 4 columns):\n",
      "name        3608 non-null object\n",
      "dataset     3608 non-null object\n",
      "label       3608 non-null object\n",
      "sequence    3608 non-null object\n",
      "dtypes: object(4)\n",
      "memory usage: 140.9+ KB\n"
     ]
    }
   ],
   "source": [
    "df.info()"
   ]
  },
  {
   "cell_type": "code",
   "execution_count": 90,
   "metadata": {},
   "outputs": [],
   "source": [
    "# Function to call labels\n",
    "def tropism_label(row):\n",
    "    # For CCR5\n",
    "    if row.label == 'CCR5':\n",
    "        return 0\n",
    "    # For CXCR4\n",
    "    elif row.label == 'CXCR4':\n",
    "        return 1\n",
    "    # For R5X4\n",
    "    elif row.label == 'R5X4':\n",
    "        return 1"
   ]
  },
  {
   "cell_type": "code",
   "execution_count": 92,
   "metadata": {},
   "outputs": [
    {
     "data": {
      "text/html": [
       "<div>\n",
       "<style scoped>\n",
       "    .dataframe tbody tr th:only-of-type {\n",
       "        vertical-align: middle;\n",
       "    }\n",
       "\n",
       "    .dataframe tbody tr th {\n",
       "        vertical-align: top;\n",
       "    }\n",
       "\n",
       "    .dataframe thead th {\n",
       "        text-align: right;\n",
       "    }\n",
       "</style>\n",
       "<table border=\"1\" class=\"dataframe\">\n",
       "  <thead>\n",
       "    <tr style=\"text-align: right;\">\n",
       "      <th></th>\n",
       "      <th>name</th>\n",
       "      <th>dataset</th>\n",
       "      <th>label</th>\n",
       "      <th>sequence</th>\n",
       "    </tr>\n",
       "  </thead>\n",
       "  <tbody>\n",
       "    <tr>\n",
       "      <td>0</td>\n",
       "      <td>CCR5_1471_29187_CN_2003_B</td>\n",
       "      <td>geno2pheno</td>\n",
       "      <td>CCR5</td>\n",
       "      <td>CTQTQQQY-KKKY---T----------SRTR-ASM-----V-CNRR...</td>\n",
       "    </tr>\n",
       "    <tr>\n",
       "      <td>1</td>\n",
       "      <td>CCR5/CXCR4/CCR1/CCR2b/CCR3/CCR4_MVP5180_67_CM_...</td>\n",
       "      <td>geno2pheno</td>\n",
       "      <td>R5X4</td>\n",
       "      <td>CIREGIAE-VQDI---Y--T--G-P-----M-RWRSMTLKR-SNNT...</td>\n",
       "    </tr>\n",
       "    <tr>\n",
       "      <td>2</td>\n",
       "      <td>RKF859742</td>\n",
       "      <td>newdb</td>\n",
       "      <td>CCR5</td>\n",
       "      <td>CERPTMDI-QDIH------I--G-P-----M-AWYSTYIER-QAKG...</td>\n",
       "    </tr>\n",
       "    <tr>\n",
       "      <td>3</td>\n",
       "      <td>RAF009608</td>\n",
       "      <td>hivcopred</td>\n",
       "      <td>CCR5</td>\n",
       "      <td>CSRPEMDV-QEIR---N-----G-P-----M-AWYSMALAK-GGTT...</td>\n",
       "    </tr>\n",
       "    <tr>\n",
       "      <td>4</td>\n",
       "      <td>RKF859743</td>\n",
       "      <td>newdb</td>\n",
       "      <td>CCR5</td>\n",
       "      <td>CRRPAMKV-QEMR---I----------G--PMAWY-----S-MALE...</td>\n",
       "    </tr>\n",
       "    <tr>\n",
       "      <td>...</td>\n",
       "      <td>...</td>\n",
       "      <td>...</td>\n",
       "      <td>...</td>\n",
       "      <td>...</td>\n",
       "    </tr>\n",
       "    <tr>\n",
       "      <td>3603</td>\n",
       "      <td>REU853014</td>\n",
       "      <td>newdb</td>\n",
       "      <td>CCR5</td>\n",
       "      <td>CTRPNNNT-RQGV---H--I--G-P--G--Q-ALY---T-T---DI...</td>\n",
       "    </tr>\n",
       "    <tr>\n",
       "      <td>3604</td>\n",
       "      <td>REU853016</td>\n",
       "      <td>newdb</td>\n",
       "      <td>CCR5</td>\n",
       "      <td>CTRPNNNT-RQGV---H--I--G-P--G--Q-ALY---T-T---NI...</td>\n",
       "    </tr>\n",
       "    <tr>\n",
       "      <td>3605</td>\n",
       "      <td>DEF575482</td>\n",
       "      <td>newdb</td>\n",
       "      <td>R5X4</td>\n",
       "      <td>CTRPNNNT-RQGV---H--L--G-P--G--Q-ALY---T-T--KEI...</td>\n",
       "    </tr>\n",
       "    <tr>\n",
       "      <td>3606</td>\n",
       "      <td>DEF575470</td>\n",
       "      <td>newdb</td>\n",
       "      <td>R5X4</td>\n",
       "      <td>CTRPNNNT-RQST---H--L--G-P--G--Q-ALF---T-T--TKI...</td>\n",
       "    </tr>\n",
       "    <tr>\n",
       "      <td>3607</td>\n",
       "      <td>DEF575480</td>\n",
       "      <td>newdb</td>\n",
       "      <td>R5X4</td>\n",
       "      <td>CTRPNNNT-RQSV---H--L--G-P--G--Q-ALY---T-T--TGI...</td>\n",
       "    </tr>\n",
       "  </tbody>\n",
       "</table>\n",
       "<p>3608 rows × 4 columns</p>\n",
       "</div>"
      ],
      "text/plain": [
       "                                                   name     dataset label  \\\n",
       "0                             CCR5_1471_29187_CN_2003_B  geno2pheno  CCR5   \n",
       "1     CCR5/CXCR4/CCR1/CCR2b/CCR3/CCR4_MVP5180_67_CM_...  geno2pheno  R5X4   \n",
       "2                                             RKF859742       newdb  CCR5   \n",
       "3                                             RAF009608   hivcopred  CCR5   \n",
       "4                                             RKF859743       newdb  CCR5   \n",
       "...                                                 ...         ...   ...   \n",
       "3603                                          REU853014       newdb  CCR5   \n",
       "3604                                          REU853016       newdb  CCR5   \n",
       "3605                                          DEF575482       newdb  R5X4   \n",
       "3606                                          DEF575470       newdb  R5X4   \n",
       "3607                                          DEF575480       newdb  R5X4   \n",
       "\n",
       "                                               sequence  \n",
       "0     CTQTQQQY-KKKY---T----------SRTR-ASM-----V-CNRR...  \n",
       "1     CIREGIAE-VQDI---Y--T--G-P-----M-RWRSMTLKR-SNNT...  \n",
       "2     CERPTMDI-QDIH------I--G-P-----M-AWYSTYIER-QAKG...  \n",
       "3     CSRPEMDV-QEIR---N-----G-P-----M-AWYSMALAK-GGTT...  \n",
       "4     CRRPAMKV-QEMR---I----------G--PMAWY-----S-MALE...  \n",
       "...                                                 ...  \n",
       "3603  CTRPNNNT-RQGV---H--I--G-P--G--Q-ALY---T-T---DI...  \n",
       "3604  CTRPNNNT-RQGV---H--I--G-P--G--Q-ALY---T-T---NI...  \n",
       "3605  CTRPNNNT-RQGV---H--L--G-P--G--Q-ALY---T-T--KEI...  \n",
       "3606  CTRPNNNT-RQST---H--L--G-P--G--Q-ALF---T-T--TKI...  \n",
       "3607  CTRPNNNT-RQSV---H--L--G-P--G--Q-ALY---T-T--TGI...  \n",
       "\n",
       "[3608 rows x 4 columns]"
      ]
     },
     "execution_count": 92,
     "metadata": {},
     "output_type": "execute_result"
    }
   ],
   "source": [
    "df"
   ]
  },
  {
   "cell_type": "code",
   "execution_count": 93,
   "metadata": {},
   "outputs": [
    {
     "data": {
      "text/html": [
       "<div>\n",
       "<style scoped>\n",
       "    .dataframe tbody tr th:only-of-type {\n",
       "        vertical-align: middle;\n",
       "    }\n",
       "\n",
       "    .dataframe tbody tr th {\n",
       "        vertical-align: top;\n",
       "    }\n",
       "\n",
       "    .dataframe thead th {\n",
       "        text-align: right;\n",
       "    }\n",
       "</style>\n",
       "<table border=\"1\" class=\"dataframe\">\n",
       "  <thead>\n",
       "    <tr style=\"text-align: right;\">\n",
       "      <th></th>\n",
       "      <th>name</th>\n",
       "      <th>dataset</th>\n",
       "      <th>label</th>\n",
       "      <th>sequence</th>\n",
       "    </tr>\n",
       "  </thead>\n",
       "  <tbody>\n",
       "    <tr>\n",
       "      <td>93</td>\n",
       "      <td>C.ZW.01.TC19__phen_NSI</td>\n",
       "      <td>webpssm</td>\n",
       "      <td>validation</td>\n",
       "      <td>CIRPGNNT-RQSV---R--I--G-P--G--Q-TFY---A-T--GDI...</td>\n",
       "    </tr>\n",
       "    <tr>\n",
       "      <td>130</td>\n",
       "      <td>C.ZW.01.TC34__phen_NSI</td>\n",
       "      <td>webpssm</td>\n",
       "      <td>validation</td>\n",
       "      <td>CTRPNNNT-RKSI---R--I--G-P--G--Q-VFY---A-T--GEI...</td>\n",
       "    </tr>\n",
       "    <tr>\n",
       "      <td>131</td>\n",
       "      <td>C.ZW.01.TC27__phen_NSI</td>\n",
       "      <td>webpssm</td>\n",
       "      <td>validation</td>\n",
       "      <td>CTRPNNNT-RKSI---R--I--G-P--G--Q-VFY---A-P--GDI...</td>\n",
       "    </tr>\n",
       "    <tr>\n",
       "      <td>143</td>\n",
       "      <td>C.ZW.01.TC12__phen_NSI</td>\n",
       "      <td>webpssm</td>\n",
       "      <td>validation</td>\n",
       "      <td>CTRPNNNT-RESV---R--I--G-P--G--Q-VFY---A-T--GDI...</td>\n",
       "    </tr>\n",
       "    <tr>\n",
       "      <td>147</td>\n",
       "      <td>C.FR.90.FRMP19__phen_NSI</td>\n",
       "      <td>webpssm</td>\n",
       "      <td>validation</td>\n",
       "      <td>CTRPGNNT-RESI---R--I--G-P--G--Q-TFY---A-T--GDI...</td>\n",
       "    </tr>\n",
       "  </tbody>\n",
       "</table>\n",
       "</div>"
      ],
      "text/plain": [
       "                         name  dataset       label  \\\n",
       "93     C.ZW.01.TC19__phen_NSI  webpssm  validation   \n",
       "130    C.ZW.01.TC34__phen_NSI  webpssm  validation   \n",
       "131    C.ZW.01.TC27__phen_NSI  webpssm  validation   \n",
       "143    C.ZW.01.TC12__phen_NSI  webpssm  validation   \n",
       "147  C.FR.90.FRMP19__phen_NSI  webpssm  validation   \n",
       "\n",
       "                                              sequence  \n",
       "93   CIRPGNNT-RQSV---R--I--G-P--G--Q-TFY---A-T--GDI...  \n",
       "130  CTRPNNNT-RKSI---R--I--G-P--G--Q-VFY---A-T--GEI...  \n",
       "131  CTRPNNNT-RKSI---R--I--G-P--G--Q-VFY---A-P--GDI...  \n",
       "143  CTRPNNNT-RESV---R--I--G-P--G--Q-VFY---A-T--GDI...  \n",
       "147  CTRPGNNT-RESI---R--I--G-P--G--Q-TFY---A-T--GDI...  "
      ]
     },
     "execution_count": 93,
     "metadata": {},
     "output_type": "execute_result"
    }
   ],
   "source": [
    "df_validation = df[df.label == 'validation']\n",
    "df_validation.head()"
   ]
  },
  {
   "cell_type": "code",
   "execution_count": 95,
   "metadata": {},
   "outputs": [
    {
     "data": {
      "text/plain": [
       "(3608, 4)"
      ]
     },
     "execution_count": 95,
     "metadata": {},
     "output_type": "execute_result"
    }
   ],
   "source": [
    "df.shape"
   ]
  },
  {
   "cell_type": "code",
   "execution_count": 97,
   "metadata": {},
   "outputs": [],
   "source": [
    "# Remove the rows that are labeled as 'validation'\n",
    "df = df[~(df.label == 'validation')]"
   ]
  },
  {
   "cell_type": "code",
   "execution_count": 99,
   "metadata": {},
   "outputs": [
    {
     "data": {
      "text/plain": [
       "(3572, 4)"
      ]
     },
     "execution_count": 99,
     "metadata": {},
     "output_type": "execute_result"
    }
   ],
   "source": [
    "df.shape"
   ]
  },
  {
   "cell_type": "code",
   "execution_count": null,
   "metadata": {},
   "outputs": [],
   "source": []
  },
  {
   "cell_type": "markdown",
   "metadata": {},
   "source": [
    "## Define label_numeric to df"
   ]
  },
  {
   "cell_type": "code",
   "execution_count": 100,
   "metadata": {},
   "outputs": [
    {
     "name": "stderr",
     "output_type": "stream",
     "text": [
      "/home/gabriel/miniconda3/envs/deeptropism/lib/python3.7/site-packages/ipykernel_launcher.py:1: SettingWithCopyWarning: \n",
      "A value is trying to be set on a copy of a slice from a DataFrame.\n",
      "Try using .loc[row_indexer,col_indexer] = value instead\n",
      "\n",
      "See the caveats in the documentation: http://pandas.pydata.org/pandas-docs/stable/user_guide/indexing.html#returning-a-view-versus-a-copy\n",
      "  \"\"\"Entry point for launching an IPython kernel.\n"
     ]
    }
   ],
   "source": [
    "df['label_numeric'] = df.apply(tropism_label, axis=1)"
   ]
  },
  {
   "cell_type": "code",
   "execution_count": 101,
   "metadata": {},
   "outputs": [
    {
     "data": {
      "text/plain": [
       "CCR5     2757\n",
       "R5X4      484\n",
       "CXCR4     331\n",
       "Name: label, dtype: int64"
      ]
     },
     "execution_count": 101,
     "metadata": {},
     "output_type": "execute_result"
    }
   ],
   "source": [
    "df.label.value_counts()"
   ]
  },
  {
   "cell_type": "code",
   "execution_count": 103,
   "metadata": {},
   "outputs": [
    {
     "data": {
      "text/plain": [
       "CCR5     2757\n",
       "R5X4      484\n",
       "CXCR4     331\n",
       "Name: label, dtype: int64"
      ]
     },
     "execution_count": 103,
     "metadata": {},
     "output_type": "execute_result"
    }
   ],
   "source": [
    "df.label.value_counts()"
   ]
  },
  {
   "cell_type": "code",
   "execution_count": 104,
   "metadata": {},
   "outputs": [
    {
     "data": {
      "text/plain": [
       "0    2757\n",
       "1     815\n",
       "Name: label_numeric, dtype: int64"
      ]
     },
     "execution_count": 104,
     "metadata": {},
     "output_type": "execute_result"
    }
   ],
   "source": [
    "df.label_numeric.value_counts()"
   ]
  },
  {
   "cell_type": "code",
   "execution_count": 105,
   "metadata": {},
   "outputs": [
    {
     "data": {
      "text/plain": [
       "(3572, 5)"
      ]
     },
     "execution_count": 105,
     "metadata": {},
     "output_type": "execute_result"
    }
   ],
   "source": [
    "df.shape"
   ]
  },
  {
   "cell_type": "code",
   "execution_count": 197,
   "metadata": {},
   "outputs": [
    {
     "data": {
      "text/html": [
       "<div>\n",
       "<style scoped>\n",
       "    .dataframe tbody tr th:only-of-type {\n",
       "        vertical-align: middle;\n",
       "    }\n",
       "\n",
       "    .dataframe tbody tr th {\n",
       "        vertical-align: top;\n",
       "    }\n",
       "\n",
       "    .dataframe thead th {\n",
       "        text-align: right;\n",
       "    }\n",
       "</style>\n",
       "<table border=\"1\" class=\"dataframe\">\n",
       "  <thead>\n",
       "    <tr style=\"text-align: right;\">\n",
       "      <th></th>\n",
       "      <th>name</th>\n",
       "      <th>dataset</th>\n",
       "      <th>label</th>\n",
       "      <th>sequence</th>\n",
       "      <th>label_numeric</th>\n",
       "    </tr>\n",
       "  </thead>\n",
       "  <tbody>\n",
       "    <tr>\n",
       "      <td>0</td>\n",
       "      <td>CCR5_1471_29187_CN_2003_B</td>\n",
       "      <td>geno2pheno</td>\n",
       "      <td>CCR5</td>\n",
       "      <td>CTQTQQQY-KKKY---T----------SRTR-ASM-----V-CNRR...</td>\n",
       "      <td>0.0</td>\n",
       "    </tr>\n",
       "    <tr>\n",
       "      <td>1</td>\n",
       "      <td>CCR5/CXCR4/CCR1/CCR2b/CCR3/CCR4_MVP5180_67_CM_...</td>\n",
       "      <td>geno2pheno</td>\n",
       "      <td>R5X4</td>\n",
       "      <td>CIREGIAE-VQDI---Y--T--G-P-----M-RWRSMTLKR-SNNT...</td>\n",
       "      <td>1.0</td>\n",
       "    </tr>\n",
       "    <tr>\n",
       "      <td>2</td>\n",
       "      <td>RKF859742</td>\n",
       "      <td>newdb</td>\n",
       "      <td>CCR5</td>\n",
       "      <td>CERPTMDI-QDIH------I--G-P-----M-AWYSTYIER-QAKG...</td>\n",
       "      <td>0.0</td>\n",
       "    </tr>\n",
       "    <tr>\n",
       "      <td>3</td>\n",
       "      <td>RAF009608</td>\n",
       "      <td>hivcopred</td>\n",
       "      <td>CCR5</td>\n",
       "      <td>CSRPEMDV-QEIR---N-----G-P-----M-AWYSMALAK-GGTT...</td>\n",
       "      <td>0.0</td>\n",
       "    </tr>\n",
       "    <tr>\n",
       "      <td>4</td>\n",
       "      <td>RKF859743</td>\n",
       "      <td>newdb</td>\n",
       "      <td>CCR5</td>\n",
       "      <td>CRRPAMKV-QEMR---I----------G--PMAWY-----S-MALE...</td>\n",
       "      <td>0.0</td>\n",
       "    </tr>\n",
       "  </tbody>\n",
       "</table>\n",
       "</div>"
      ],
      "text/plain": [
       "                                                name     dataset label  \\\n",
       "0                          CCR5_1471_29187_CN_2003_B  geno2pheno  CCR5   \n",
       "1  CCR5/CXCR4/CCR1/CCR2b/CCR3/CCR4_MVP5180_67_CM_...  geno2pheno  R5X4   \n",
       "2                                          RKF859742       newdb  CCR5   \n",
       "3                                          RAF009608   hivcopred  CCR5   \n",
       "4                                          RKF859743       newdb  CCR5   \n",
       "\n",
       "                                            sequence  label_numeric  \n",
       "0  CTQTQQQY-KKKY---T----------SRTR-ASM-----V-CNRR...            0.0  \n",
       "1  CIREGIAE-VQDI---Y--T--G-P-----M-RWRSMTLKR-SNNT...            1.0  \n",
       "2  CERPTMDI-QDIH------I--G-P-----M-AWYSTYIER-QAKG...            0.0  \n",
       "3  CSRPEMDV-QEIR---N-----G-P-----M-AWYSMALAK-GGTT...            0.0  \n",
       "4  CRRPAMKV-QEMR---I----------G--PMAWY-----S-MALE...            0.0  "
      ]
     },
     "execution_count": 197,
     "metadata": {},
     "output_type": "execute_result"
    }
   ],
   "source": [
    "df.head()"
   ]
  },
  {
   "cell_type": "code",
   "execution_count": 106,
   "metadata": {},
   "outputs": [
    {
     "data": {
      "text/plain": [
       "{60}"
      ]
     },
     "execution_count": 106,
     "metadata": {},
     "output_type": "execute_result"
    }
   ],
   "source": [
    "# Check of len of sequence is the same for all rows\n",
    "set(df['sequence'].apply(len))"
   ]
  },
  {
   "cell_type": "code",
   "execution_count": 199,
   "metadata": {},
   "outputs": [],
   "source": [
    "# Save the Newdb processed dataset into TSV\n",
    "df.to_csv('newdb_wrangled.tsv', sep='\\t')"
   ]
  },
  {
   "cell_type": "markdown",
   "metadata": {},
   "source": [
    "## Converting Protein Sequence to Vectors"
   ]
  },
  {
   "cell_type": "code",
   "execution_count": 107,
   "metadata": {},
   "outputs": [],
   "source": [
    "df_aa = pd.read_csv('datasets/aminoacids_oneletter_code.csv', sep='\\t')"
   ]
  },
  {
   "cell_type": "code",
   "execution_count": 108,
   "metadata": {},
   "outputs": [
    {
     "data": {
      "text/html": [
       "<div>\n",
       "<style scoped>\n",
       "    .dataframe tbody tr th:only-of-type {\n",
       "        vertical-align: middle;\n",
       "    }\n",
       "\n",
       "    .dataframe tbody tr th {\n",
       "        vertical-align: top;\n",
       "    }\n",
       "\n",
       "    .dataframe thead th {\n",
       "        text-align: right;\n",
       "    }\n",
       "</style>\n",
       "<table border=\"1\" class=\"dataframe\">\n",
       "  <thead>\n",
       "    <tr style=\"text-align: right;\">\n",
       "      <th></th>\n",
       "      <th>Pos_array</th>\n",
       "      <th>3-letters-code</th>\n",
       "      <th>1-letter-code</th>\n",
       "      <th>Aminoacid</th>\n",
       "    </tr>\n",
       "  </thead>\n",
       "  <tbody>\n",
       "    <tr>\n",
       "      <td>0</td>\n",
       "      <td>1.0</td>\n",
       "      <td>Ala</td>\n",
       "      <td>A</td>\n",
       "      <td>Alanine</td>\n",
       "    </tr>\n",
       "    <tr>\n",
       "      <td>1</td>\n",
       "      <td>2.0</td>\n",
       "      <td>Asn</td>\n",
       "      <td>N</td>\n",
       "      <td>Asparagine</td>\n",
       "    </tr>\n",
       "    <tr>\n",
       "      <td>2</td>\n",
       "      <td>3.0</td>\n",
       "      <td>Asp</td>\n",
       "      <td>D</td>\n",
       "      <td>Aspartic acid</td>\n",
       "    </tr>\n",
       "    <tr>\n",
       "      <td>3</td>\n",
       "      <td>4.0</td>\n",
       "      <td>Cys</td>\n",
       "      <td>C</td>\n",
       "      <td>Cysteine</td>\n",
       "    </tr>\n",
       "    <tr>\n",
       "      <td>4</td>\n",
       "      <td>5.0</td>\n",
       "      <td>Gln</td>\n",
       "      <td>Q</td>\n",
       "      <td>Glutamine</td>\n",
       "    </tr>\n",
       "    <tr>\n",
       "      <td>5</td>\n",
       "      <td>6.0</td>\n",
       "      <td>Glu</td>\n",
       "      <td>E</td>\n",
       "      <td>Glutamic acid</td>\n",
       "    </tr>\n",
       "    <tr>\n",
       "      <td>6</td>\n",
       "      <td>7.0</td>\n",
       "      <td>Gly</td>\n",
       "      <td>G</td>\n",
       "      <td>Glycine</td>\n",
       "    </tr>\n",
       "    <tr>\n",
       "      <td>7</td>\n",
       "      <td>8.0</td>\n",
       "      <td>His</td>\n",
       "      <td>H</td>\n",
       "      <td>Histidine</td>\n",
       "    </tr>\n",
       "    <tr>\n",
       "      <td>8</td>\n",
       "      <td>9.0</td>\n",
       "      <td>Ile</td>\n",
       "      <td>I</td>\n",
       "      <td>Isoleucine</td>\n",
       "    </tr>\n",
       "    <tr>\n",
       "      <td>9</td>\n",
       "      <td>10.0</td>\n",
       "      <td>Leu</td>\n",
       "      <td>L</td>\n",
       "      <td>Leucine</td>\n",
       "    </tr>\n",
       "    <tr>\n",
       "      <td>10</td>\n",
       "      <td>11.0</td>\n",
       "      <td>Lys</td>\n",
       "      <td>K</td>\n",
       "      <td>Lysine</td>\n",
       "    </tr>\n",
       "    <tr>\n",
       "      <td>11</td>\n",
       "      <td>12.0</td>\n",
       "      <td>Met</td>\n",
       "      <td>M</td>\n",
       "      <td>Methionine</td>\n",
       "    </tr>\n",
       "    <tr>\n",
       "      <td>12</td>\n",
       "      <td>13.0</td>\n",
       "      <td>Phe</td>\n",
       "      <td>F</td>\n",
       "      <td>Phenylalanine</td>\n",
       "    </tr>\n",
       "    <tr>\n",
       "      <td>13</td>\n",
       "      <td>14.0</td>\n",
       "      <td>Pro</td>\n",
       "      <td>P</td>\n",
       "      <td>Proline</td>\n",
       "    </tr>\n",
       "    <tr>\n",
       "      <td>14</td>\n",
       "      <td>15.0</td>\n",
       "      <td>Pyl</td>\n",
       "      <td>O</td>\n",
       "      <td>Pyrrolysine</td>\n",
       "    </tr>\n",
       "    <tr>\n",
       "      <td>15</td>\n",
       "      <td>16.0</td>\n",
       "      <td>Ser</td>\n",
       "      <td>S</td>\n",
       "      <td>Serine</td>\n",
       "    </tr>\n",
       "    <tr>\n",
       "      <td>16</td>\n",
       "      <td>17.0</td>\n",
       "      <td>Sec</td>\n",
       "      <td>U</td>\n",
       "      <td>Selenocysteine</td>\n",
       "    </tr>\n",
       "    <tr>\n",
       "      <td>17</td>\n",
       "      <td>18.0</td>\n",
       "      <td>Thr</td>\n",
       "      <td>T</td>\n",
       "      <td>Threonine</td>\n",
       "    </tr>\n",
       "    <tr>\n",
       "      <td>18</td>\n",
       "      <td>19.0</td>\n",
       "      <td>Trp</td>\n",
       "      <td>W</td>\n",
       "      <td>Tryptophan</td>\n",
       "    </tr>\n",
       "    <tr>\n",
       "      <td>19</td>\n",
       "      <td>20.0</td>\n",
       "      <td>Tyr</td>\n",
       "      <td>Y</td>\n",
       "      <td>Tyrosine</td>\n",
       "    </tr>\n",
       "    <tr>\n",
       "      <td>20</td>\n",
       "      <td>21.0</td>\n",
       "      <td>Val</td>\n",
       "      <td>V</td>\n",
       "      <td>Valine</td>\n",
       "    </tr>\n",
       "    <tr>\n",
       "      <td>21</td>\n",
       "      <td>22.0</td>\n",
       "      <td>Asx</td>\n",
       "      <td>B</td>\n",
       "      <td>Aspartic acid or Asparagine</td>\n",
       "    </tr>\n",
       "    <tr>\n",
       "      <td>22</td>\n",
       "      <td>23.0</td>\n",
       "      <td>Glx</td>\n",
       "      <td>Z</td>\n",
       "      <td>Glutamic acid or Glutamine</td>\n",
       "    </tr>\n",
       "    <tr>\n",
       "      <td>23</td>\n",
       "      <td>24.0</td>\n",
       "      <td>Xaa</td>\n",
       "      <td>X</td>\n",
       "      <td>Any amino acid</td>\n",
       "    </tr>\n",
       "    <tr>\n",
       "      <td>24</td>\n",
       "      <td>25.0</td>\n",
       "      <td>Xle</td>\n",
       "      <td>J</td>\n",
       "      <td>Leucine or Isoleucine</td>\n",
       "    </tr>\n",
       "    <tr>\n",
       "      <td>25</td>\n",
       "      <td>NaN</td>\n",
       "      <td>Ept</td>\n",
       "      <td>-</td>\n",
       "      <td>Empty</td>\n",
       "    </tr>\n",
       "  </tbody>\n",
       "</table>\n",
       "</div>"
      ],
      "text/plain": [
       "    Pos_array 3-letters-code 1-letter-code                    Aminoacid\n",
       "0         1.0            Ala             A                      Alanine\n",
       "1         2.0            Asn             N                   Asparagine\n",
       "2         3.0            Asp             D                Aspartic acid\n",
       "3         4.0            Cys             C                     Cysteine\n",
       "4         5.0            Gln             Q                    Glutamine\n",
       "5         6.0            Glu             E                Glutamic acid\n",
       "6         7.0            Gly             G                      Glycine\n",
       "7         8.0            His             H                    Histidine\n",
       "8         9.0            Ile             I                   Isoleucine\n",
       "9        10.0            Leu             L                      Leucine\n",
       "10       11.0            Lys             K                       Lysine\n",
       "11       12.0            Met             M                   Methionine\n",
       "12       13.0            Phe             F                Phenylalanine\n",
       "13       14.0            Pro             P                      Proline\n",
       "14       15.0            Pyl             O                  Pyrrolysine\n",
       "15       16.0            Ser             S                       Serine\n",
       "16       17.0            Sec             U               Selenocysteine\n",
       "17       18.0            Thr             T                    Threonine\n",
       "18       19.0            Trp             W                   Tryptophan\n",
       "19       20.0            Tyr             Y                     Tyrosine\n",
       "20       21.0            Val             V                       Valine\n",
       "21       22.0            Asx             B  Aspartic acid or Asparagine\n",
       "22       23.0            Glx             Z   Glutamic acid or Glutamine\n",
       "23       24.0            Xaa             X               Any amino acid\n",
       "24       25.0            Xle             J        Leucine or Isoleucine\n",
       "25        NaN            Ept             -                        Empty"
      ]
     },
     "execution_count": 108,
     "metadata": {},
     "output_type": "execute_result"
    }
   ],
   "source": [
    "df_aa"
   ]
  },
  {
   "cell_type": "code",
   "execution_count": 109,
   "metadata": {},
   "outputs": [],
   "source": [
    "def get_array_from_sequence(protein_sequence):\n",
    "    \"\"\"\n",
    "    Function to convert a protein sequence into a tensor.\n",
    "    Each amino acid is represented by an numpy array of zeros of size 26,\n",
    "    and the dict_aa_pos defines the position to be converted to 1.\n",
    "    \n",
    "    The function iterates over the protein sequences and stacks the arrays.\n",
    "    At the end the arrays are linearized and converted to a tensor of size\n",
    "    n x 26, with n the size of the protein.\n",
    "    \n",
    "    If the character is not present on the dict_aa_pos (eg. '-') the respective\n",
    "    array is formed by zeros, and represents a missing value.\n",
    "    \"\"\"\n",
    "    dict_aa_pos = {\n",
    "    'A':1, 'R':2, 'N':3, 'D':4, 'C':5, 'Q':6, 'E':7, 'G':8,\n",
    "    'H':9, 'I':10, 'L':11, 'K':12, 'M':13, 'F':14, 'P':15, \n",
    "    'O':16, 'S':17, 'U':18, 'T':19, 'W':20, 'Y':21, 'V':22, \n",
    "    'B':23, 'Z':24, 'J':25, 'X':0}\n",
    "    \n",
    "    f_array = np.zeros(26)\n",
    "    for aa in protein_sequence:\n",
    "        arr = np.zeros(26)\n",
    "        if dict_aa_pos.get(aa):\n",
    "            arr[dict_aa_pos.get(aa)] = 1\n",
    "        f_array = np.vstack((f_array, arr))\n",
    "    f_array = np.delete(f_array, 0,0)\n",
    "    \n",
    "    #return torch.from_numpy((f_array.flatten()).astype(float))\n",
    "    return f_array.flatten().astype(float)\n",
    "    "
   ]
  },
  {
   "cell_type": "code",
   "execution_count": 110,
   "metadata": {},
   "outputs": [],
   "source": [
    "ex = get_array_from_sequence('CSRP-GNN-TR-TSI---PI--GP-GR--A-WF---AT--G----D--V-TGDPRKAHC')"
   ]
  },
  {
   "cell_type": "code",
   "execution_count": 111,
   "metadata": {},
   "outputs": [
    {
     "data": {
      "text/plain": [
       "35.0"
      ]
     },
     "execution_count": 111,
     "metadata": {},
     "output_type": "execute_result"
    }
   ],
   "source": [
    "sum(ex)"
   ]
  },
  {
   "cell_type": "code",
   "execution_count": 112,
   "metadata": {},
   "outputs": [
    {
     "data": {
      "text/html": [
       "<div>\n",
       "<style scoped>\n",
       "    .dataframe tbody tr th:only-of-type {\n",
       "        vertical-align: middle;\n",
       "    }\n",
       "\n",
       "    .dataframe tbody tr th {\n",
       "        vertical-align: top;\n",
       "    }\n",
       "\n",
       "    .dataframe thead th {\n",
       "        text-align: right;\n",
       "    }\n",
       "</style>\n",
       "<table border=\"1\" class=\"dataframe\">\n",
       "  <thead>\n",
       "    <tr style=\"text-align: right;\">\n",
       "      <th></th>\n",
       "      <th>name</th>\n",
       "      <th>dataset</th>\n",
       "      <th>label</th>\n",
       "      <th>sequence</th>\n",
       "      <th>label_numeric</th>\n",
       "    </tr>\n",
       "  </thead>\n",
       "  <tbody>\n",
       "    <tr>\n",
       "      <td>0</td>\n",
       "      <td>CCR5_1471_29187_CN_2003_B</td>\n",
       "      <td>geno2pheno</td>\n",
       "      <td>CCR5</td>\n",
       "      <td>CTQTQQQY-KKKY---T----------SRTR-ASM-----V-CNRR...</td>\n",
       "      <td>0</td>\n",
       "    </tr>\n",
       "    <tr>\n",
       "      <td>1</td>\n",
       "      <td>CCR5/CXCR4/CCR1/CCR2b/CCR3/CCR4_MVP5180_67_CM_...</td>\n",
       "      <td>geno2pheno</td>\n",
       "      <td>R5X4</td>\n",
       "      <td>CIREGIAE-VQDI---Y--T--G-P-----M-RWRSMTLKR-SNNT...</td>\n",
       "      <td>1</td>\n",
       "    </tr>\n",
       "    <tr>\n",
       "      <td>2</td>\n",
       "      <td>RKF859742</td>\n",
       "      <td>newdb</td>\n",
       "      <td>CCR5</td>\n",
       "      <td>CERPTMDI-QDIH------I--G-P-----M-AWYSTYIER-QAKG...</td>\n",
       "      <td>0</td>\n",
       "    </tr>\n",
       "    <tr>\n",
       "      <td>3</td>\n",
       "      <td>RAF009608</td>\n",
       "      <td>hivcopred</td>\n",
       "      <td>CCR5</td>\n",
       "      <td>CSRPEMDV-QEIR---N-----G-P-----M-AWYSMALAK-GGTT...</td>\n",
       "      <td>0</td>\n",
       "    </tr>\n",
       "    <tr>\n",
       "      <td>4</td>\n",
       "      <td>RKF859743</td>\n",
       "      <td>newdb</td>\n",
       "      <td>CCR5</td>\n",
       "      <td>CRRPAMKV-QEMR---I----------G--PMAWY-----S-MALE...</td>\n",
       "      <td>0</td>\n",
       "    </tr>\n",
       "    <tr>\n",
       "      <td>5</td>\n",
       "      <td>RAF009610</td>\n",
       "      <td>hivcopred</td>\n",
       "      <td>CCR5</td>\n",
       "      <td>CSRPAMEV--QEM---R--I--G-P-----M-AWYSMALER-GGTT...</td>\n",
       "      <td>0</td>\n",
       "    </tr>\n",
       "    <tr>\n",
       "      <td>6</td>\n",
       "      <td>RAM262120</td>\n",
       "      <td>newdb</td>\n",
       "      <td>CCR5</td>\n",
       "      <td>CVRPGNNS-VQEM---R--V--G-P-----M-AWYSMELEK-NGSR...</td>\n",
       "      <td>0</td>\n",
       "    </tr>\n",
       "    <tr>\n",
       "      <td>7</td>\n",
       "      <td>RAM262127</td>\n",
       "      <td>newdb</td>\n",
       "      <td>CCR5</td>\n",
       "      <td>CVRPGDNS-VKEM---R--A--G-P-----M-AWYSMELER-NGSR...</td>\n",
       "      <td>0</td>\n",
       "    </tr>\n",
       "    <tr>\n",
       "      <td>8</td>\n",
       "      <td>RAM262126</td>\n",
       "      <td>newdb</td>\n",
       "      <td>CCR5</td>\n",
       "      <td>CVRPGNNS-VKEM---R--V--G-P-----M-ALYSMELER-NGSR...</td>\n",
       "      <td>0</td>\n",
       "    </tr>\n",
       "    <tr>\n",
       "      <td>9</td>\n",
       "      <td>RAM262125</td>\n",
       "      <td>newdb</td>\n",
       "      <td>CCR5</td>\n",
       "      <td>CVRPGNNT-VKEM---R--V--G-P-----M-AWYSMELER-NGSR...</td>\n",
       "      <td>0</td>\n",
       "    </tr>\n",
       "    <tr>\n",
       "      <td>10</td>\n",
       "      <td>RAM262114</td>\n",
       "      <td>newdb</td>\n",
       "      <td>CCR5</td>\n",
       "      <td>CVRPGSNS-VQEI---K--I--G-P-----M-AWYSMQLEQ-DGKR...</td>\n",
       "      <td>0</td>\n",
       "    </tr>\n",
       "    <tr>\n",
       "      <td>11</td>\n",
       "      <td>RX84327</td>\n",
       "      <td>newdb</td>\n",
       "      <td>CCR5</td>\n",
       "      <td>CVRPGNNS-VQEI---K--I--G-P-----M-AWYSMQIER-EGKG...</td>\n",
       "      <td>0</td>\n",
       "    </tr>\n",
       "    <tr>\n",
       "      <td>12</td>\n",
       "      <td>RU24566</td>\n",
       "      <td>newdb</td>\n",
       "      <td>CCR5</td>\n",
       "      <td>CHRPGNLS-VQEM---K--I--G-P-----L-SWY-----SMGLAA...</td>\n",
       "      <td>0</td>\n",
       "    </tr>\n",
       "    <tr>\n",
       "      <td>13</td>\n",
       "      <td>RX96522</td>\n",
       "      <td>newdb</td>\n",
       "      <td>CCR5</td>\n",
       "      <td>CERPGNHT-VQEI---R--I--G-P-----L-AWY-----SMGIEK...</td>\n",
       "      <td>0</td>\n",
       "    </tr>\n",
       "    <tr>\n",
       "      <td>14</td>\n",
       "      <td>RU24562</td>\n",
       "      <td>newdb</td>\n",
       "      <td>CCR5</td>\n",
       "      <td>CQRPGHQT-VQEI---R--I--G-P-----M-AWYSMGLAA--GNG...</td>\n",
       "      <td>0</td>\n",
       "    </tr>\n",
       "    <tr>\n",
       "      <td>15</td>\n",
       "      <td>RKF859744</td>\n",
       "      <td>newdb</td>\n",
       "      <td>CCR5</td>\n",
       "      <td>CQRPGHQE-IQEI------K-TG-P-----L-AWY---SMY-LKEN...</td>\n",
       "      <td>0</td>\n",
       "    </tr>\n",
       "    <tr>\n",
       "      <td>16</td>\n",
       "      <td>RAF009612</td>\n",
       "      <td>hivcopred</td>\n",
       "      <td>CCR5</td>\n",
       "      <td>CQRPGHQE-VQEI------M-TG-P-----L-AWYSMDLRR--K-K...</td>\n",
       "      <td>0</td>\n",
       "    </tr>\n",
       "    <tr>\n",
       "      <td>17</td>\n",
       "      <td>CCR5_EDLFMON_B_-_AU_-_B</td>\n",
       "      <td>geno2pheno</td>\n",
       "      <td>CCR5</td>\n",
       "      <td>CTRPNNNT-RQVY-------------------LWD-----Q--GEQ...</td>\n",
       "      <td>0</td>\n",
       "    </tr>\n",
       "    <tr>\n",
       "      <td>18</td>\n",
       "      <td>CCR5_EDLOMON_B_-_AU_-_B</td>\n",
       "      <td>geno2pheno</td>\n",
       "      <td>CCR5</td>\n",
       "      <td>CTRPNNYT-RKVY------IWDQ----G----EHF-----------...</td>\n",
       "      <td>0</td>\n",
       "    </tr>\n",
       "    <tr>\n",
       "      <td>19</td>\n",
       "      <td>-.FJ375998.C.CCR5</td>\n",
       "      <td>cm</td>\n",
       "      <td>CCR5</td>\n",
       "      <td>CRPNNTRK-----------MRIG-P--G--Q-TYA-----T-----...</td>\n",
       "      <td>0</td>\n",
       "    </tr>\n",
       "  </tbody>\n",
       "</table>\n",
       "</div>"
      ],
      "text/plain": [
       "                                                 name     dataset label  \\\n",
       "0                           CCR5_1471_29187_CN_2003_B  geno2pheno  CCR5   \n",
       "1   CCR5/CXCR4/CCR1/CCR2b/CCR3/CCR4_MVP5180_67_CM_...  geno2pheno  R5X4   \n",
       "2                                           RKF859742       newdb  CCR5   \n",
       "3                                           RAF009608   hivcopred  CCR5   \n",
       "4                                           RKF859743       newdb  CCR5   \n",
       "5                                           RAF009610   hivcopred  CCR5   \n",
       "6                                           RAM262120       newdb  CCR5   \n",
       "7                                           RAM262127       newdb  CCR5   \n",
       "8                                           RAM262126       newdb  CCR5   \n",
       "9                                           RAM262125       newdb  CCR5   \n",
       "10                                          RAM262114       newdb  CCR5   \n",
       "11                                            RX84327       newdb  CCR5   \n",
       "12                                            RU24566       newdb  CCR5   \n",
       "13                                            RX96522       newdb  CCR5   \n",
       "14                                            RU24562       newdb  CCR5   \n",
       "15                                          RKF859744       newdb  CCR5   \n",
       "16                                          RAF009612   hivcopred  CCR5   \n",
       "17                            CCR5_EDLFMON_B_-_AU_-_B  geno2pheno  CCR5   \n",
       "18                            CCR5_EDLOMON_B_-_AU_-_B  geno2pheno  CCR5   \n",
       "19                                  -.FJ375998.C.CCR5          cm  CCR5   \n",
       "\n",
       "                                             sequence  label_numeric  \n",
       "0   CTQTQQQY-KKKY---T----------SRTR-ASM-----V-CNRR...              0  \n",
       "1   CIREGIAE-VQDI---Y--T--G-P-----M-RWRSMTLKR-SNNT...              1  \n",
       "2   CERPTMDI-QDIH------I--G-P-----M-AWYSTYIER-QAKG...              0  \n",
       "3   CSRPEMDV-QEIR---N-----G-P-----M-AWYSMALAK-GGTT...              0  \n",
       "4   CRRPAMKV-QEMR---I----------G--PMAWY-----S-MALE...              0  \n",
       "5   CSRPAMEV--QEM---R--I--G-P-----M-AWYSMALER-GGTT...              0  \n",
       "6   CVRPGNNS-VQEM---R--V--G-P-----M-AWYSMELEK-NGSR...              0  \n",
       "7   CVRPGDNS-VKEM---R--A--G-P-----M-AWYSMELER-NGSR...              0  \n",
       "8   CVRPGNNS-VKEM---R--V--G-P-----M-ALYSMELER-NGSR...              0  \n",
       "9   CVRPGNNT-VKEM---R--V--G-P-----M-AWYSMELER-NGSR...              0  \n",
       "10  CVRPGSNS-VQEI---K--I--G-P-----M-AWYSMQLEQ-DGKR...              0  \n",
       "11  CVRPGNNS-VQEI---K--I--G-P-----M-AWYSMQIER-EGKG...              0  \n",
       "12  CHRPGNLS-VQEM---K--I--G-P-----L-SWY-----SMGLAA...              0  \n",
       "13  CERPGNHT-VQEI---R--I--G-P-----L-AWY-----SMGIEK...              0  \n",
       "14  CQRPGHQT-VQEI---R--I--G-P-----M-AWYSMGLAA--GNG...              0  \n",
       "15  CQRPGHQE-IQEI------K-TG-P-----L-AWY---SMY-LKEN...              0  \n",
       "16  CQRPGHQE-VQEI------M-TG-P-----L-AWYSMDLRR--K-K...              0  \n",
       "17  CTRPNNNT-RQVY-------------------LWD-----Q--GEQ...              0  \n",
       "18  CTRPNNYT-RKVY------IWDQ----G----EHF-----------...              0  \n",
       "19  CRPNNTRK-----------MRIG-P--G--Q-TYA-----T-----...              0  "
      ]
     },
     "execution_count": 112,
     "metadata": {},
     "output_type": "execute_result"
    }
   ],
   "source": [
    "df.head(20)"
   ]
  },
  {
   "cell_type": "code",
   "execution_count": 113,
   "metadata": {},
   "outputs": [],
   "source": [
    "# Create list to append data from the df\n",
    "list_data = []\n",
    "list_labels = []\n",
    "\n",
    "# Convert the sequences and labels to arrays to use as data on pytorch\n",
    "for index, row in df.iterrows():\n",
    "    list_data.append(get_array_from_sequence(str(row.sequence)))\n",
    "    list_labels.append(int(row.label_numeric))\n",
    "    "
   ]
  },
  {
   "cell_type": "code",
   "execution_count": null,
   "metadata": {},
   "outputs": [],
   "source": []
  },
  {
   "cell_type": "code",
   "execution_count": 114,
   "metadata": {},
   "outputs": [
    {
     "data": {
      "text/plain": [
       "3572"
      ]
     },
     "execution_count": 114,
     "metadata": {},
     "output_type": "execute_result"
    }
   ],
   "source": [
    "len(list_labels)"
   ]
  },
  {
   "cell_type": "code",
   "execution_count": 115,
   "metadata": {},
   "outputs": [
    {
     "data": {
      "text/plain": [
       "3572"
      ]
     },
     "execution_count": 115,
     "metadata": {},
     "output_type": "execute_result"
    }
   ],
   "source": [
    "len(list_labels)"
   ]
  },
  {
   "cell_type": "code",
   "execution_count": 116,
   "metadata": {},
   "outputs": [],
   "source": [
    "batch_size = 32\n",
    "validation_split = .4\n",
    "shuffle_dataset = True\n",
    "random_seed= 5\n",
    "\n",
    "# Creating data indices for training and validation splits:\n",
    "dataset_size = len(list_data)\n",
    "indices = list(range(dataset_size))\n",
    "split = int(np.floor(validation_split * dataset_size))"
   ]
  },
  {
   "cell_type": "code",
   "execution_count": 117,
   "metadata": {},
   "outputs": [
    {
     "data": {
      "text/plain": [
       "1428"
      ]
     },
     "execution_count": 117,
     "metadata": {},
     "output_type": "execute_result"
    }
   ],
   "source": [
    "split"
   ]
  },
  {
   "cell_type": "code",
   "execution_count": 118,
   "metadata": {},
   "outputs": [],
   "source": [
    "if shuffle_dataset :\n",
    "    np.random.seed(random_seed)\n",
    "    np.random.shuffle(indices)\n",
    "train_indices, val_indices = indices[split:], indices[:split]"
   ]
  },
  {
   "cell_type": "code",
   "execution_count": 119,
   "metadata": {},
   "outputs": [
    {
     "data": {
      "text/plain": [
       "1428"
      ]
     },
     "execution_count": 119,
     "metadata": {},
     "output_type": "execute_result"
    }
   ],
   "source": [
    "len(val_indices)"
   ]
  },
  {
   "cell_type": "code",
   "execution_count": 120,
   "metadata": {},
   "outputs": [
    {
     "data": {
      "text/plain": [
       "2144"
      ]
     },
     "execution_count": 120,
     "metadata": {},
     "output_type": "execute_result"
    }
   ],
   "source": [
    "len(train_indices)"
   ]
  },
  {
   "cell_type": "code",
   "execution_count": 121,
   "metadata": {},
   "outputs": [
    {
     "ename": "NameError",
     "evalue": "name 'test_data' is not defined",
     "output_type": "error",
     "traceback": [
      "\u001b[0;31m---------------------------------------------------------------------------\u001b[0m",
      "\u001b[0;31mNameError\u001b[0m                                 Traceback (most recent call last)",
      "\u001b[0;32m<ipython-input-121-6f7966c92dea>\u001b[0m in \u001b[0;36m<module>\u001b[0;34m\u001b[0m\n\u001b[1;32m     15\u001b[0m \u001b[0mvalidation_data\u001b[0m \u001b[0;34m=\u001b[0m \u001b[0;34m[\u001b[0m\u001b[0;34m]\u001b[0m\u001b[0;34m\u001b[0m\u001b[0;34m\u001b[0m\u001b[0m\n\u001b[1;32m     16\u001b[0m \u001b[0;32mfor\u001b[0m \u001b[0mj\u001b[0m \u001b[0;32min\u001b[0m \u001b[0mval_indices\u001b[0m\u001b[0;34m:\u001b[0m\u001b[0;34m\u001b[0m\u001b[0;34m\u001b[0m\u001b[0m\n\u001b[0;32m---> 17\u001b[0;31m     \u001b[0mtest_data\u001b[0m\u001b[0;34m.\u001b[0m\u001b[0mappend\u001b[0m\u001b[0;34m(\u001b[0m\u001b[0;34m[\u001b[0m\u001b[0mlist_data\u001b[0m\u001b[0;34m[\u001b[0m\u001b[0mj\u001b[0m\u001b[0;34m]\u001b[0m\u001b[0;34m,\u001b[0m \u001b[0mlist_labels\u001b[0m\u001b[0;34m[\u001b[0m\u001b[0mj\u001b[0m\u001b[0;34m]\u001b[0m\u001b[0;34m]\u001b[0m\u001b[0;34m)\u001b[0m\u001b[0;34m\u001b[0m\u001b[0;34m\u001b[0m\u001b[0m\n\u001b[0m\u001b[1;32m     18\u001b[0m \u001b[0;34m\u001b[0m\u001b[0m\n\u001b[1;32m     19\u001b[0m \u001b[0mtest_loader\u001b[0m \u001b[0;34m=\u001b[0m \u001b[0mtorch\u001b[0m\u001b[0;34m.\u001b[0m\u001b[0mutils\u001b[0m\u001b[0;34m.\u001b[0m\u001b[0mdata\u001b[0m\u001b[0;34m.\u001b[0m\u001b[0mDataLoader\u001b[0m\u001b[0;34m(\u001b[0m\u001b[0mtest_data\u001b[0m\u001b[0;34m,\u001b[0m \u001b[0mshuffle\u001b[0m\u001b[0;34m=\u001b[0m\u001b[0;32mTrue\u001b[0m\u001b[0;34m,\u001b[0m \u001b[0mbatch_size\u001b[0m\u001b[0;34m=\u001b[0m\u001b[0;36m64\u001b[0m\u001b[0;34m)\u001b[0m\u001b[0;34m\u001b[0m\u001b[0;34m\u001b[0m\u001b[0m\n",
      "\u001b[0;31mNameError\u001b[0m: name 'test_data' is not defined"
     ]
    }
   ],
   "source": [
    "import torch\n",
    "from torch.utils.data import TensorDataset, DataLoader\n",
    "import torch.nn as nn\n",
    "\n",
    "# To transform list_data and list_labels on trainloader\n",
    "\n",
    "# For training\n",
    "train_data = []\n",
    "for i in train_indices:\n",
    "    train_data.append([list_data[i], list_labels[i]])\n",
    "\n",
    "train_loader = torch.utils.data.DataLoader(train_data, shuffle=True, batch_size=64)\n",
    "\n",
    "# For validation\n",
    "validation_data = []\n",
    "for j in val_indices:\n",
    "    test_data.append([list_data[j], list_labels[j]])\n",
    "\n",
    "test_loader = torch.utils.data.DataLoader(test_data, shuffle=True, batch_size=64)\n"
   ]
  },
  {
   "cell_type": "code",
   "execution_count": null,
   "metadata": {},
   "outputs": [],
   "source": []
  },
  {
   "cell_type": "markdown",
   "metadata": {},
   "source": [
    "## New approach to create Dataloader"
   ]
  },
  {
   "cell_type": "code",
   "execution_count": 122,
   "metadata": {},
   "outputs": [],
   "source": [
    "# For training\n",
    "train_data = []\n",
    "train_label = []\n",
    "for i in train_indices:\n",
    "    train_data.append(list_data[i])\n",
    "    train_label.append(np.array(list_labels[i]))\n",
    "    \n",
    "\n",
    "#train_loader = torch.utils.data.DataLoader(train_data, shuffle=True, batch_size=64)\n",
    "\n",
    "# For validation\n",
    "validation_data = []\n",
    "validation_label = []\n",
    "for j in val_indices:\n",
    "    validation_data.append(list_data[i])\n",
    "    validation_label.append(np.array(list_labels[i]))\n",
    "\n",
    "#test_loader = torch.utils.data.DataLoader(test_data, shuffle=True, batch_size=64)\n"
   ]
  },
  {
   "cell_type": "code",
   "execution_count": 227,
   "metadata": {},
   "outputs": [],
   "source": [
    "#train_label = [np.array(x) for x in train_label]"
   ]
  },
  {
   "cell_type": "code",
   "execution_count": 123,
   "metadata": {},
   "outputs": [],
   "source": [
    "# To transform list_data and list_labels on trainloader\n",
    "train_tensor_x = torch.stack([torch.from_numpy(i) for i in train_data]) # transform to torch tensors\n",
    "train_tensor_y = torch.stack([torch.from_numpy(i) for i in train_label])\n",
    "\n",
    "train_dataset = torch.utils.data.TensorDataset(train_tensor_x,train_tensor_y) # create your datset\n",
    "train_dataloader = torch.utils.data.DataLoader(train_dataset, batch_size=64) # create your dataloader\n",
    "\n",
    "# The same for validation\n",
    "validation_tensor_x = torch.stack([torch.from_numpy(i) for i in validation_data]) # transform to torch tensors\n",
    "validation_tensor_y = torch.stack([torch.from_numpy(i) for i in validation_label])\n",
    "\n",
    "validation_dataset = torch.utils.data.TensorDataset(validation_tensor_x,validation_tensor_y) # create your datset\n",
    "validation_dataloader = torch.utils.data.DataLoader(validation_dataset, batch_size=64) # create your dataloader\n"
   ]
  },
  {
   "cell_type": "code",
   "execution_count": null,
   "metadata": {},
   "outputs": [],
   "source": []
  },
  {
   "cell_type": "code",
   "execution_count": 92,
   "metadata": {},
   "outputs": [],
   "source": [
    "# For training\n",
    "train_data = []\n",
    "for i in train_indices:\n",
    "    train_data.append([list_data[i], list_labels[i]])\n",
    "\n",
    "train_loader = torch.utils.data.DataLoader(train_data, shuffle=True, batch_size=32)\n",
    "\n",
    "# For validation\n",
    "test_data = []\n",
    "for j in val_indices:\n",
    "    test_data.append([list_data[j], list_labels[j]])\n",
    "\n",
    "test_loader = torch.utils.data.DataLoader(test_data, shuffle=True, batch_size=32)"
   ]
  },
  {
   "cell_type": "code",
   "execution_count": null,
   "metadata": {},
   "outputs": [],
   "source": []
  },
  {
   "cell_type": "code",
   "execution_count": 126,
   "metadata": {},
   "outputs": [],
   "source": [
    "class DeepTropism_1(nn.Module):\n",
    "    def __init__(self):\n",
    "        super(DeepTropism_1, self).__init__()\n",
    "        self.linear1 = nn.Linear(1560,250)\n",
    "        self.linear2 = nn.Linear(250,100)\n",
    "        self.linear3 = nn.Linear(100,2)\n",
    "    \n",
    "    def forward(self,X):\n",
    "        X = F.relu(self.linear1(X))\n",
    "        X = F.relu(self.linear2(X))\n",
    "        X = self.linear3(X)\n",
    "        return F.log_softmax(X, dim=1)\n",
    " \n",
    "#mlp = MLP()\n",
    "#print(mlp)\n",
    "model = DeepTropism_1()\n",
    "model = model.float()"
   ]
  },
  {
   "cell_type": "code",
   "execution_count": 253,
   "metadata": {},
   "outputs": [],
   "source": [
    "import torch.nn as nn\n",
    "import torch.nn.functional as F\n",
    "\n",
    "# Define the class Net\n",
    "class Net(nn.Module):\n",
    "    def __init__(self):    \n",
    "        # Define all the parameters of the net\n",
    "        super(Net, self).__init__()\n",
    "        self.fc1 = nn.Linear(1560, 200)\n",
    "        self.fc2 = nn.Linear(200, 2)\n",
    "\n",
    "    def forward(self, x):   \n",
    "        # Do the forward pass\n",
    "        x = F.relu(self.fc1(x))\n",
    "        x = self.fc2(x)\n",
    "        return x\n",
    "model = Net()\n",
    "model = model.float()"
   ]
  },
  {
   "cell_type": "code",
   "execution_count": 42,
   "metadata": {},
   "outputs": [],
   "source": [
    "class AminoNet(nn.Module):\n",
    "    def __init__(self):\n",
    "        super(AminoNet, self).__init__()\n",
    "        #self.conv1 = nn.Conv2d(3, 6, 5)\n",
    "        #self.pool = nn.MaxPool2d(2, 2)\n",
    "        #self.conv2 = nn.Conv2d(6, 16, 5)\n",
    "        self.fc1 = nn.Linear(30, 150)\n",
    "        self.fc2 = nn.Linear(150, 50)\n",
    "        self.fc3 = nn.Linear(50, 2)\n",
    "        self.conv1 = nn.Conv1d(1560, 30, 52, 26)\n",
    "\n",
    "    def forward(self, x):\n",
    "        #x = self.pool(F.relu(self.conv1(x)))\n",
    "        #x = self.pool(F.relu(self.conv2(x)))\n",
    "        #x = x.view(-1, 16 * 5 * 5)\n",
    "        #x = F.relu(self.conv1(self.fc1(x)))\n",
    "        x = F.relu(self.conv1(x))\n",
    "        x = F.relu(self.fc1(x))\n",
    "        x = F.relu(self.fc2(x))\n",
    "        x = self.fc3(x)\n",
    "        return x\n",
    "\n",
    "model = AminoNet()\n",
    "model = model.float()"
   ]
  },
  {
   "cell_type": "code",
   "execution_count": 234,
   "metadata": {},
   "outputs": [],
   "source": [
    "import torch.nn as nn\n",
    "import torch.nn.functional as F\n",
    "\n",
    "\n",
    "class Net(nn.Module):\n",
    "    def __init__(self):\n",
    "        super(Net, self).__init__()\n",
    "        #self.conv1 = nn.Conv2d(3, 6, 5)\n",
    "        #self.pool = nn.MaxPool2d(2, 2)\n",
    "        #self.conv2 = nn.Conv2d(6, 16, 5)\n",
    "        self.fc1 = nn.Linear(1560, 780)\n",
    "        self.fc2 = nn.Linear(780, 300)\n",
    "        self.fc3 = nn.Linear(300, 600)\n",
    "        self.fc4 = nn.Linear(600, 200)\n",
    "        self.fc5 = nn.Linear(200, 50)\n",
    "        self.fc6 = nn.Linear(50, 2)\n",
    "        self.Drop1 = nn.Dropout(p=0.2)\n",
    "        self.Drop2 = nn.Dropout(p=0.4)\n",
    "\n",
    "    def forward(self, x):\n",
    "        #x = self.pool(F.relu(self.conv1(x)))\n",
    "        #x = self.pool(F.relu(self.conv2(x)))\n",
    "        #x = x.view(-1, 16 * 5 * 5)\n",
    "        x = F.relu(self.fc1(x))\n",
    "        x = F.relu(self.fc2(x))\n",
    "        x = self.Drop1(x)\n",
    "        x = F.relu(self.fc3(x))\n",
    "        x = F.relu(self.fc4(x))\n",
    "        x = self.Drop2(x)\n",
    "        x = F.relu(self.fc5(x))\n",
    "        x = self.fc6(x)\n",
    "        return x\n",
    "\n",
    "\n",
    "model = Net()\n",
    "model = model.float()"
   ]
  },
  {
   "cell_type": "code",
   "execution_count": 127,
   "metadata": {},
   "outputs": [
    {
     "data": {
      "text/plain": [
       "DeepTropism_1(\n",
       "  (linear1): Linear(in_features=1560, out_features=250, bias=True)\n",
       "  (linear2): Linear(in_features=250, out_features=100, bias=True)\n",
       "  (linear3): Linear(in_features=100, out_features=2, bias=True)\n",
       ")"
      ]
     },
     "execution_count": 127,
     "metadata": {},
     "output_type": "execute_result"
    }
   ],
   "source": [
    "model"
   ]
  },
  {
   "cell_type": "code",
   "execution_count": 128,
   "metadata": {},
   "outputs": [],
   "source": [
    "import torch.optim as optim\n",
    "\n",
    "criterion = nn.CrossEntropyLoss()\n",
    "optimizer = optim.SGD(model.parameters(), lr=0.002, momentum=0.9)"
   ]
  },
  {
   "cell_type": "code",
   "execution_count": 129,
   "metadata": {},
   "outputs": [
    {
     "name": "stdout",
     "output_type": "stream",
     "text": [
      "[1,     1] loss: 0.01365\n",
      "[2,     1] loss: 0.01162\n",
      "[3,     1] loss: 0.01043\n",
      "[4,     1] loss: 0.01012\n",
      "[5,     1] loss: 0.01001\n",
      "[6,     1] loss: 0.00992\n",
      "[7,     1] loss: 0.00981\n",
      "[8,     1] loss: 0.00969\n",
      "[9,     1] loss: 0.00955\n",
      "[10,     1] loss: 0.00939\n",
      "[11,     1] loss: 0.00920\n",
      "[12,     1] loss: 0.00900\n",
      "[13,     1] loss: 0.00878\n",
      "[14,     1] loss: 0.00856\n",
      "[15,     1] loss: 0.00834\n",
      "[16,     1] loss: 0.00814\n",
      "[17,     1] loss: 0.00795\n",
      "[18,     1] loss: 0.00777\n",
      "[19,     1] loss: 0.00760\n",
      "[20,     1] loss: 0.00744\n",
      "[21,     1] loss: 0.00728\n",
      "[22,     1] loss: 0.00713\n",
      "[23,     1] loss: 0.00699\n",
      "[24,     1] loss: 0.00685\n",
      "[25,     1] loss: 0.00672\n",
      "[26,     1] loss: 0.00660\n",
      "[27,     1] loss: 0.00648\n",
      "[28,     1] loss: 0.00636\n",
      "[29,     1] loss: 0.00625\n",
      "[30,     1] loss: 0.00615\n",
      "[31,     1] loss: 0.00604\n",
      "[32,     1] loss: 0.00594\n",
      "[33,     1] loss: 0.00585\n",
      "[34,     1] loss: 0.00576\n",
      "[35,     1] loss: 0.00567\n",
      "[36,     1] loss: 0.00558\n",
      "[37,     1] loss: 0.00550\n",
      "[38,     1] loss: 0.00543\n",
      "[39,     1] loss: 0.00535\n",
      "[40,     1] loss: 0.00528\n",
      "[41,     1] loss: 0.00522\n",
      "[42,     1] loss: 0.00516\n",
      "[43,     1] loss: 0.00510\n",
      "[44,     1] loss: 0.00504\n",
      "[45,     1] loss: 0.00498\n",
      "[46,     1] loss: 0.00493\n",
      "[47,     1] loss: 0.00488\n",
      "[48,     1] loss: 0.00483\n",
      "[49,     1] loss: 0.00479\n",
      "[50,     1] loss: 0.00474\n",
      "[51,     1] loss: 0.00470\n",
      "[52,     1] loss: 0.00466\n",
      "[53,     1] loss: 0.00462\n",
      "[54,     1] loss: 0.00458\n",
      "[55,     1] loss: 0.00455\n",
      "[56,     1] loss: 0.00451\n",
      "[57,     1] loss: 0.00448\n",
      "[58,     1] loss: 0.00445\n",
      "[59,     1] loss: 0.00442\n",
      "[60,     1] loss: 0.00439\n",
      "[61,     1] loss: 0.00436\n",
      "[62,     1] loss: 0.00433\n",
      "[63,     1] loss: 0.00430\n",
      "[64,     1] loss: 0.00428\n",
      "[65,     1] loss: 0.00425\n",
      "[66,     1] loss: 0.00423\n",
      "[67,     1] loss: 0.00420\n",
      "[68,     1] loss: 0.00418\n",
      "[69,     1] loss: 0.00416\n",
      "[70,     1] loss: 0.00413\n",
      "[71,     1] loss: 0.00411\n",
      "[72,     1] loss: 0.00409\n",
      "[73,     1] loss: 0.00407\n",
      "[74,     1] loss: 0.00405\n",
      "[75,     1] loss: 0.00403\n",
      "[76,     1] loss: 0.00401\n",
      "[77,     1] loss: 0.00399\n",
      "[78,     1] loss: 0.00397\n",
      "[79,     1] loss: 0.00395\n",
      "[80,     1] loss: 0.00393\n",
      "[81,     1] loss: 0.00392\n",
      "[82,     1] loss: 0.00390\n",
      "[83,     1] loss: 0.00388\n",
      "[84,     1] loss: 0.00386\n",
      "[85,     1] loss: 0.00384\n",
      "[86,     1] loss: 0.00383\n",
      "[87,     1] loss: 0.00381\n",
      "[88,     1] loss: 0.00379\n",
      "[89,     1] loss: 0.00378\n",
      "[90,     1] loss: 0.00376\n",
      "[91,     1] loss: 0.00374\n",
      "[92,     1] loss: 0.00372\n",
      "[93,     1] loss: 0.00370\n",
      "[94,     1] loss: 0.00369\n",
      "[95,     1] loss: 0.00367\n",
      "[96,     1] loss: 0.00366\n",
      "[97,     1] loss: 0.00364\n",
      "[98,     1] loss: 0.00362\n",
      "[99,     1] loss: 0.00361\n",
      "[100,     1] loss: 0.00359\n",
      "Finished Training\n"
     ]
    }
   ],
   "source": [
    "for epoch in range(100):  # loop over the dataset multiple times\n",
    "\n",
    "    running_loss = 0.0\n",
    "    for i, data in enumerate(train_dataloader, 0):\n",
    "        # get the inputs; data is a list of [inputs, labels]\n",
    "        inputs, labels = data\n",
    "\n",
    "        # zero the parameter gradients\n",
    "        optimizer.zero_grad()\n",
    "\n",
    "        # forward + backward + optimize\n",
    "        outputs = model(inputs.float())\n",
    "        loss = criterion(outputs, labels)\n",
    "        loss.backward()\n",
    "        optimizer.step()\n",
    "\n",
    "        # print statistics\n",
    "        running_loss += loss.item()\n",
    "        #print(running_loss)\n",
    "        if i % 3239 == 0:    # print every 3239 mini-batches\n",
    "            print('[%d, %5d] loss: %.5f' %\n",
    "                  (epoch + 1, i + 1, running_loss / 50))\n",
    "            running_loss = 0.0\n",
    "\n",
    "print('Finished Training')"
   ]
  },
  {
   "cell_type": "code",
   "execution_count": 137,
   "metadata": {},
   "outputs": [
    {
     "name": "stdout",
     "output_type": "stream",
     "text": [
      "Accuracy of the network on the 10000 test images: 100 %\n"
     ]
    }
   ],
   "source": [
    "correct = 0\n",
    "total = 0\n",
    "error = 0\n",
    "labels_array = np.empty([0])\n",
    "predict_array = np.empty([0])\n",
    "\n",
    "with torch.no_grad():\n",
    "    for data in validation_dataloader:\n",
    "        images, labels = data\n",
    "        outputs = model(images.float())\n",
    "        _, predicted = torch.max(outputs.data, 1)\n",
    "        \n",
    "        labels_array = np.concatenate([labels_array, labels])\n",
    "        predict_array = np.concatenate([predict_array, predicted])\n",
    "        \n",
    "        total += labels.size(0)\n",
    "        correct += (predicted == labels).sum().item()\n",
    "        error += (predicted != labels).sum().item()\n",
    "\n",
    "print('Accuracy of the network on the 10000 test images: %d %%' % (\n",
    "    100.0 * correct / total))"
   ]
  },
  {
   "cell_type": "code",
   "execution_count": 131,
   "metadata": {},
   "outputs": [],
   "source": [
    "def show_metrics(y_true, y_score):\n",
    "    # True positive\n",
    "    tp = np.sum(y_true * y_score)\n",
    "    # False positive\n",
    "    fp = np.sum((y_true == 0) * y_score)\n",
    "    # True negative\n",
    "    tn = np.sum((y_true==0) * (y_score==0))\n",
    "    # False negative\n",
    "    fn = np.sum(y_true * (y_score==0))\n",
    "\n",
    "    # True positive rate (sensitivity or recall)\n",
    "    tpr = tp / (tp + fn)\n",
    "    # False positive rate (fall-out)\n",
    "    fpr = fp / (fp + tn)\n",
    "    # Precision\n",
    "    precision = tp / (tp + fp)\n",
    "    # True negatvie tate (specificity)\n",
    "    tnr = 1 - fpr\n",
    "    # F1 score\n",
    "    f1 = 2*tp / (2*tp + fp + fn)\n",
    "    # ROC-AUC for binary classification\n",
    "    auc = (tpr+tnr) / 2\n",
    "    # MCC\n",
    "    mcc = (tp * tn - fp * fn) / np.sqrt((tp + fp) * (tp + fn) * (tn + fp) * (tn + fn))\n",
    "\n",
    "    print(\"True positive: \", tp)\n",
    "    print(\"False positive: \", fp)\n",
    "    print(\"True negative: \", tn)\n",
    "    print(\"False negative: \", fn)\n",
    "\n",
    "    print(\"True positive rate (recall): \", tpr)\n",
    "    print(\"False positive rate: \", fpr)\n",
    "    print(\"Precision: \", precision)\n",
    "    print(\"True negative rate: \", tnr)\n",
    "    print(\"F1: \", f1)\n",
    "    print(\"ROC-AUC: \", auc)\n",
    "    print(\"MCC: \", mcc)"
   ]
  },
  {
   "cell_type": "code",
   "execution_count": 132,
   "metadata": {},
   "outputs": [
    {
     "name": "stdout",
     "output_type": "stream",
     "text": [
      "True positive:  0.0\n",
      "False positive:  0.0\n",
      "True negative:  1428\n",
      "False negative:  0.0\n",
      "True positive rate (recall):  nan\n",
      "False positive rate:  0.0\n",
      "Precision:  nan\n",
      "True negative rate:  1.0\n",
      "F1:  nan\n",
      "ROC-AUC:  nan\n",
      "MCC:  nan\n"
     ]
    },
    {
     "name": "stderr",
     "output_type": "stream",
     "text": [
      "/home/gabriel/miniconda3/envs/deeptropism/lib/python3.7/site-packages/ipykernel_launcher.py:12: RuntimeWarning: invalid value encountered in double_scalars\n",
      "  if sys.path[0] == '':\n",
      "/home/gabriel/miniconda3/envs/deeptropism/lib/python3.7/site-packages/ipykernel_launcher.py:16: RuntimeWarning: invalid value encountered in double_scalars\n",
      "  app.launch_new_instance()\n",
      "/home/gabriel/miniconda3/envs/deeptropism/lib/python3.7/site-packages/ipykernel_launcher.py:20: RuntimeWarning: invalid value encountered in double_scalars\n",
      "/home/gabriel/miniconda3/envs/deeptropism/lib/python3.7/site-packages/ipykernel_launcher.py:24: RuntimeWarning: invalid value encountered in double_scalars\n"
     ]
    }
   ],
   "source": [
    "show_metrics(labels_array, predict_array)"
   ]
  },
  {
   "cell_type": "markdown",
   "metadata": {},
   "source": [
    "# Processing CM dataset"
   ]
  },
  {
   "cell_type": "code",
   "execution_count": 164,
   "metadata": {},
   "outputs": [],
   "source": [
    "df_cm = pd.read_csv('datasets/cm_aligned.tsv', sep='\\t', names=['name','sequence'])"
   ]
  },
  {
   "cell_type": "code",
   "execution_count": 167,
   "metadata": {},
   "outputs": [
    {
     "data": {
      "text/html": [
       "<div>\n",
       "<style scoped>\n",
       "    .dataframe tbody tr th:only-of-type {\n",
       "        vertical-align: middle;\n",
       "    }\n",
       "\n",
       "    .dataframe tbody tr th {\n",
       "        vertical-align: top;\n",
       "    }\n",
       "\n",
       "    .dataframe thead th {\n",
       "        text-align: right;\n",
       "    }\n",
       "</style>\n",
       "<table border=\"1\" class=\"dataframe\">\n",
       "  <thead>\n",
       "    <tr style=\"text-align: right;\">\n",
       "      <th></th>\n",
       "      <th>name</th>\n",
       "      <th>sequence</th>\n",
       "    </tr>\n",
       "  </thead>\n",
       "  <tbody>\n",
       "    <tr>\n",
       "      <th>0</th>\n",
       "      <td>1432.KF859742.O.CCR5</td>\n",
       "      <td>C-ERPTMD--I-QD---I-H--IGP----MA-WY--STYIER-QAK...</td>\n",
       "    </tr>\n",
       "    <tr>\n",
       "      <th>1</th>\n",
       "      <td>MD47.KF859744.O.CCR5</td>\n",
       "      <td>C-QRPGHQ-EI-QE---I-K--TGP-----LAWY--SMYLKE-NTT...</td>\n",
       "    </tr>\n",
       "    <tr>\n",
       "      <th>2</th>\n",
       "      <td>BCF02.U24562.O.CCR5</td>\n",
       "      <td>C-QRPGHQ-TV-QE---I-R--IGP-----MAWY--SM---G-LAA...</td>\n",
       "    </tr>\n",
       "    <tr>\n",
       "      <th>3</th>\n",
       "      <td>152.KF859743.O.CCR5</td>\n",
       "      <td>C-RRPAMK--V-QE---M-R--IGP----MA-WY--SMALEE-GNN...</td>\n",
       "    </tr>\n",
       "    <tr>\n",
       "      <th>4</th>\n",
       "      <td>DUR.X84327.O.CCR5</td>\n",
       "      <td>C-VRPGNN-SV-QE---I-K--IGP-----MAWY--SM-----QIE...</td>\n",
       "    </tr>\n",
       "    <tr>\n",
       "      <th>5</th>\n",
       "      <td>DUR.AM262121.O.CCR5</td>\n",
       "      <td>C-VRPGNN-SV-QE---M-R--VGP--M--A-WY--SM-----ELE...</td>\n",
       "    </tr>\n",
       "    <tr>\n",
       "      <th>6</th>\n",
       "      <td>DUR.AM262130.O.CCR5</td>\n",
       "      <td>C-VRPGNN-SV-KE---M-R--VGP--M--A-LY--SM-----ELE...</td>\n",
       "    </tr>\n",
       "    <tr>\n",
       "      <th>7</th>\n",
       "      <td>DUR.AM262127.O.CCR5</td>\n",
       "      <td>C-VRPGDN-SV-KE---M-R--AGP-----MAWY--SM-----ELE...</td>\n",
       "    </tr>\n",
       "    <tr>\n",
       "      <th>8</th>\n",
       "      <td>CA9.X96522.O.CCR5</td>\n",
       "      <td>C-ERPGNH-TV-QE---I-R--IGP-LA----WY--SM---G-IEK...</td>\n",
       "    </tr>\n",
       "    <tr>\n",
       "      <th>9</th>\n",
       "      <td>BCF01.U24566.O.CCR5</td>\n",
       "      <td>C-HRPGNL-SV-QE---M-K--IGP--LS---WY--SM---G-LAA...</td>\n",
       "    </tr>\n",
       "  </tbody>\n",
       "</table>\n",
       "</div>"
      ],
      "text/plain": [
       "                   name                                           sequence\n",
       "0  1432.KF859742.O.CCR5  C-ERPTMD--I-QD---I-H--IGP----MA-WY--STYIER-QAK...\n",
       "1  MD47.KF859744.O.CCR5  C-QRPGHQ-EI-QE---I-K--TGP-----LAWY--SMYLKE-NTT...\n",
       "2   BCF02.U24562.O.CCR5  C-QRPGHQ-TV-QE---I-R--IGP-----MAWY--SM---G-LAA...\n",
       "3   152.KF859743.O.CCR5  C-RRPAMK--V-QE---M-R--IGP----MA-WY--SMALEE-GNN...\n",
       "4     DUR.X84327.O.CCR5  C-VRPGNN-SV-QE---I-K--IGP-----MAWY--SM-----QIE...\n",
       "5   DUR.AM262121.O.CCR5  C-VRPGNN-SV-QE---M-R--VGP--M--A-WY--SM-----ELE...\n",
       "6   DUR.AM262130.O.CCR5  C-VRPGNN-SV-KE---M-R--VGP--M--A-LY--SM-----ELE...\n",
       "7   DUR.AM262127.O.CCR5  C-VRPGDN-SV-KE---M-R--AGP-----MAWY--SM-----ELE...\n",
       "8     CA9.X96522.O.CCR5  C-ERPGNH-TV-QE---I-R--IGP-LA----WY--SM---G-IEK...\n",
       "9   BCF01.U24566.O.CCR5  C-HRPGNL-SV-QE---M-K--IGP--LS---WY--SM---G-LAA..."
      ]
     },
     "execution_count": 167,
     "metadata": {},
     "output_type": "execute_result"
    }
   ],
   "source": [
    "df_cm.head(10)"
   ]
  },
  {
   "cell_type": "code",
   "execution_count": 29,
   "metadata": {},
   "outputs": [],
   "source": []
  },
  {
   "cell_type": "code",
   "execution_count": 186,
   "metadata": {},
   "outputs": [
    {
     "data": {
      "text/plain": [
       "0             1432.KF859742.O.CCR5\n",
       "1             MD47.KF859744.O.CCR5\n",
       "2              BCF02.U24562.O.CCR5\n",
       "3              152.KF859743.O.CCR5\n",
       "4                DUR.X84327.O.CCR5\n",
       "                   ...            \n",
       "2674    H13988_DS2.JF508074.B.CCR5\n",
       "2675    H13988_DS2.JF508043.B.CCR5\n",
       "2676            39.AF022258.B.CCR5\n",
       "2677           122.DQ002264.B.CCR5\n",
       "2678          Pat1.AF541016.B.CCR5\n",
       "Name: name, Length: 2679, dtype: object"
      ]
     },
     "execution_count": 186,
     "metadata": {},
     "output_type": "execute_result"
    }
   ],
   "source": [
    "df_cm.name"
   ]
  },
  {
   "cell_type": "code",
   "execution_count": 187,
   "metadata": {},
   "outputs": [
    {
     "data": {
      "text/plain": [
       "'RKF859742'"
      ]
     },
     "execution_count": 187,
     "metadata": {},
     "output_type": "execute_result"
    }
   ],
   "source": [
    "df.loc[0]['name']"
   ]
  },
  {
   "cell_type": "code",
   "execution_count": 193,
   "metadata": {},
   "outputs": [],
   "source": [
    "df_cm['label'] = df_cm.apply(get_label, axis=1)"
   ]
  },
  {
   "cell_type": "code",
   "execution_count": 194,
   "metadata": {},
   "outputs": [],
   "source": [
    "df_cm['label_numeric'] = df_cm.apply(tropism_label, axis=1)"
   ]
  },
  {
   "cell_type": "code",
   "execution_count": 196,
   "metadata": {},
   "outputs": [
    {
     "data": {
      "text/html": [
       "<div>\n",
       "<style scoped>\n",
       "    .dataframe tbody tr th:only-of-type {\n",
       "        vertical-align: middle;\n",
       "    }\n",
       "\n",
       "    .dataframe tbody tr th {\n",
       "        vertical-align: top;\n",
       "    }\n",
       "\n",
       "    .dataframe thead th {\n",
       "        text-align: right;\n",
       "    }\n",
       "</style>\n",
       "<table border=\"1\" class=\"dataframe\">\n",
       "  <thead>\n",
       "    <tr style=\"text-align: right;\">\n",
       "      <th></th>\n",
       "      <th>name</th>\n",
       "      <th>sequence</th>\n",
       "      <th>label</th>\n",
       "      <th>label_numeric</th>\n",
       "    </tr>\n",
       "  </thead>\n",
       "  <tbody>\n",
       "    <tr>\n",
       "      <th>0</th>\n",
       "      <td>1432.KF859742.O.CCR5</td>\n",
       "      <td>C-ERPTMD--I-QD---I-H--IGP----MA-WY--STYIER-QAK...</td>\n",
       "      <td>CCR5</td>\n",
       "      <td>0</td>\n",
       "    </tr>\n",
       "    <tr>\n",
       "      <th>1</th>\n",
       "      <td>MD47.KF859744.O.CCR5</td>\n",
       "      <td>C-QRPGHQ-EI-QE---I-K--TGP-----LAWY--SMYLKE-NTT...</td>\n",
       "      <td>CCR5</td>\n",
       "      <td>0</td>\n",
       "    </tr>\n",
       "    <tr>\n",
       "      <th>2</th>\n",
       "      <td>BCF02.U24562.O.CCR5</td>\n",
       "      <td>C-QRPGHQ-TV-QE---I-R--IGP-----MAWY--SM---G-LAA...</td>\n",
       "      <td>CCR5</td>\n",
       "      <td>0</td>\n",
       "    </tr>\n",
       "    <tr>\n",
       "      <th>3</th>\n",
       "      <td>152.KF859743.O.CCR5</td>\n",
       "      <td>C-RRPAMK--V-QE---M-R--IGP----MA-WY--SMALEE-GNN...</td>\n",
       "      <td>CCR5</td>\n",
       "      <td>0</td>\n",
       "    </tr>\n",
       "    <tr>\n",
       "      <th>4</th>\n",
       "      <td>DUR.X84327.O.CCR5</td>\n",
       "      <td>C-VRPGNN-SV-QE---I-K--IGP-----MAWY--SM-----QIE...</td>\n",
       "      <td>CCR5</td>\n",
       "      <td>0</td>\n",
       "    </tr>\n",
       "    <tr>\n",
       "      <th>5</th>\n",
       "      <td>DUR.AM262121.O.CCR5</td>\n",
       "      <td>C-VRPGNN-SV-QE---M-R--VGP--M--A-WY--SM-----ELE...</td>\n",
       "      <td>CCR5</td>\n",
       "      <td>0</td>\n",
       "    </tr>\n",
       "    <tr>\n",
       "      <th>6</th>\n",
       "      <td>DUR.AM262130.O.CCR5</td>\n",
       "      <td>C-VRPGNN-SV-KE---M-R--VGP--M--A-LY--SM-----ELE...</td>\n",
       "      <td>CCR5</td>\n",
       "      <td>0</td>\n",
       "    </tr>\n",
       "    <tr>\n",
       "      <th>7</th>\n",
       "      <td>DUR.AM262127.O.CCR5</td>\n",
       "      <td>C-VRPGDN-SV-KE---M-R--AGP-----MAWY--SM-----ELE...</td>\n",
       "      <td>CCR5</td>\n",
       "      <td>0</td>\n",
       "    </tr>\n",
       "    <tr>\n",
       "      <th>8</th>\n",
       "      <td>CA9.X96522.O.CCR5</td>\n",
       "      <td>C-ERPGNH-TV-QE---I-R--IGP-LA----WY--SM---G-IEK...</td>\n",
       "      <td>CCR5</td>\n",
       "      <td>0</td>\n",
       "    </tr>\n",
       "    <tr>\n",
       "      <th>9</th>\n",
       "      <td>BCF01.U24566.O.CCR5</td>\n",
       "      <td>C-HRPGNL-SV-QE---M-K--IGP--LS---WY--SM---G-LAA...</td>\n",
       "      <td>CCR5</td>\n",
       "      <td>0</td>\n",
       "    </tr>\n",
       "    <tr>\n",
       "      <th>10</th>\n",
       "      <td>UG070.AY669756.D.CXCR4</td>\n",
       "      <td>C-ARPYIKIWR-RT-----H--IGS-GQ----AY--ST---K-RIQ...</td>\n",
       "      <td>CXCR4</td>\n",
       "      <td>1</td>\n",
       "    </tr>\n",
       "    <tr>\n",
       "      <th>11</th>\n",
       "      <td>-.EF688451.B.CXCR4</td>\n",
       "      <td>C-TRPNNK-KI-EG---I-R--IGP-GS--A-YF--TR-----QIK...</td>\n",
       "      <td>CXCR4</td>\n",
       "      <td>1</td>\n",
       "    </tr>\n",
       "    <tr>\n",
       "      <th>12</th>\n",
       "      <td>VI761.AM156912.D.CXCR4</td>\n",
       "      <td>C-IRPFYK-TR-KS---V-R--VGL-GR--A--Y--LT---E-RIR...</td>\n",
       "      <td>CXCR4</td>\n",
       "      <td>1</td>\n",
       "    </tr>\n",
       "    <tr>\n",
       "      <th>13</th>\n",
       "      <td>-.AY887865.C.CCR5</td>\n",
       "      <td>C-IRPGIN-KR-KR---I-R--IGL-RY--A-FF--AT---D-NRI...</td>\n",
       "      <td>CCR5</td>\n",
       "      <td>0</td>\n",
       "    </tr>\n",
       "    <tr>\n",
       "      <th>14</th>\n",
       "      <td>TC28.AY265949.C.CXCR4</td>\n",
       "      <td>C-GRPNNH-RI-KG---L-R--IGP-GR--A-FF--AM---G-AIG...</td>\n",
       "      <td>CXCR4</td>\n",
       "      <td>1</td>\n",
       "    </tr>\n",
       "    <tr>\n",
       "      <th>15</th>\n",
       "      <td>TC28.FJ541295.C.CXCR4</td>\n",
       "      <td>C-GRPNNH-RI-KG---L-R--IGP-GR--A-FF--AM---G-AIR...</td>\n",
       "      <td>CXCR4</td>\n",
       "      <td>1</td>\n",
       "    </tr>\n",
       "    <tr>\n",
       "      <th>16</th>\n",
       "      <td>FV14.DQ382372.C.CXCR4</td>\n",
       "      <td>C-TRPANT-RI-KR---L-G--IGP-GQ--A-FR--TV---K-QII...</td>\n",
       "      <td>CXCR4</td>\n",
       "      <td>1</td>\n",
       "    </tr>\n",
       "    <tr>\n",
       "      <th>17</th>\n",
       "      <td>159.KF770412.C.CXCR4</td>\n",
       "      <td>C-TRPNIN-NV-RN---V-R--IGP-GR--A-LF--KT---G-KMT...</td>\n",
       "      <td>CXCR4</td>\n",
       "      <td>1</td>\n",
       "    </tr>\n",
       "    <tr>\n",
       "      <th>18</th>\n",
       "      <td>159.KF770413.C.CXCR4</td>\n",
       "      <td>C-TRPNIN-RE-RN---V-R--IGP-GR--A-FF--RT---G-QMT...</td>\n",
       "      <td>CXCR4</td>\n",
       "      <td>1</td>\n",
       "    </tr>\n",
       "    <tr>\n",
       "      <th>19</th>\n",
       "      <td>159.KF770411.C.CXCR4</td>\n",
       "      <td>C-TRPNIN-RE-RK---V-R--IGP-GR--A-FF--RT---G-QMT...</td>\n",
       "      <td>CXCR4</td>\n",
       "      <td>1</td>\n",
       "    </tr>\n",
       "  </tbody>\n",
       "</table>\n",
       "</div>"
      ],
      "text/plain": [
       "                      name                                           sequence  \\\n",
       "0     1432.KF859742.O.CCR5  C-ERPTMD--I-QD---I-H--IGP----MA-WY--STYIER-QAK...   \n",
       "1     MD47.KF859744.O.CCR5  C-QRPGHQ-EI-QE---I-K--TGP-----LAWY--SMYLKE-NTT...   \n",
       "2      BCF02.U24562.O.CCR5  C-QRPGHQ-TV-QE---I-R--IGP-----MAWY--SM---G-LAA...   \n",
       "3      152.KF859743.O.CCR5  C-RRPAMK--V-QE---M-R--IGP----MA-WY--SMALEE-GNN...   \n",
       "4        DUR.X84327.O.CCR5  C-VRPGNN-SV-QE---I-K--IGP-----MAWY--SM-----QIE...   \n",
       "5      DUR.AM262121.O.CCR5  C-VRPGNN-SV-QE---M-R--VGP--M--A-WY--SM-----ELE...   \n",
       "6      DUR.AM262130.O.CCR5  C-VRPGNN-SV-KE---M-R--VGP--M--A-LY--SM-----ELE...   \n",
       "7      DUR.AM262127.O.CCR5  C-VRPGDN-SV-KE---M-R--AGP-----MAWY--SM-----ELE...   \n",
       "8        CA9.X96522.O.CCR5  C-ERPGNH-TV-QE---I-R--IGP-LA----WY--SM---G-IEK...   \n",
       "9      BCF01.U24566.O.CCR5  C-HRPGNL-SV-QE---M-K--IGP--LS---WY--SM---G-LAA...   \n",
       "10  UG070.AY669756.D.CXCR4  C-ARPYIKIWR-RT-----H--IGS-GQ----AY--ST---K-RIQ...   \n",
       "11      -.EF688451.B.CXCR4  C-TRPNNK-KI-EG---I-R--IGP-GS--A-YF--TR-----QIK...   \n",
       "12  VI761.AM156912.D.CXCR4  C-IRPFYK-TR-KS---V-R--VGL-GR--A--Y--LT---E-RIR...   \n",
       "13       -.AY887865.C.CCR5  C-IRPGIN-KR-KR---I-R--IGL-RY--A-FF--AT---D-NRI...   \n",
       "14   TC28.AY265949.C.CXCR4  C-GRPNNH-RI-KG---L-R--IGP-GR--A-FF--AM---G-AIG...   \n",
       "15   TC28.FJ541295.C.CXCR4  C-GRPNNH-RI-KG---L-R--IGP-GR--A-FF--AM---G-AIR...   \n",
       "16   FV14.DQ382372.C.CXCR4  C-TRPANT-RI-KR---L-G--IGP-GQ--A-FR--TV---K-QII...   \n",
       "17    159.KF770412.C.CXCR4  C-TRPNIN-NV-RN---V-R--IGP-GR--A-LF--KT---G-KMT...   \n",
       "18    159.KF770413.C.CXCR4  C-TRPNIN-RE-RN---V-R--IGP-GR--A-FF--RT---G-QMT...   \n",
       "19    159.KF770411.C.CXCR4  C-TRPNIN-RE-RK---V-R--IGP-GR--A-FF--RT---G-QMT...   \n",
       "\n",
       "    label  label_numeric  \n",
       "0    CCR5              0  \n",
       "1    CCR5              0  \n",
       "2    CCR5              0  \n",
       "3    CCR5              0  \n",
       "4    CCR5              0  \n",
       "5    CCR5              0  \n",
       "6    CCR5              0  \n",
       "7    CCR5              0  \n",
       "8    CCR5              0  \n",
       "9    CCR5              0  \n",
       "10  CXCR4              1  \n",
       "11  CXCR4              1  \n",
       "12  CXCR4              1  \n",
       "13   CCR5              0  \n",
       "14  CXCR4              1  \n",
       "15  CXCR4              1  \n",
       "16  CXCR4              1  \n",
       "17  CXCR4              1  \n",
       "18  CXCR4              1  \n",
       "19  CXCR4              1  "
      ]
     },
     "execution_count": 196,
     "metadata": {},
     "output_type": "execute_result"
    }
   ],
   "source": [
    "df_cm.head(20)"
   ]
  },
  {
   "cell_type": "markdown",
   "metadata": {},
   "source": [
    "## Testing DeepSea architecture\n",
    "https://github.com/PuYuQian/PyDeepSEAm"
   ]
  },
  {
   "cell_type": "markdown",
   "metadata": {},
   "source": [
    "### Testing Random Shuffle"
   ]
  },
  {
   "cell_type": "code",
   "execution_count": 145,
   "metadata": {},
   "outputs": [],
   "source": [
    "import random\n",
    "random.seed(23)"
   ]
  },
  {
   "cell_type": "code",
   "execution_count": 146,
   "metadata": {},
   "outputs": [],
   "source": [
    "list_1 = list(range(10))"
   ]
  },
  {
   "cell_type": "code",
   "execution_count": 147,
   "metadata": {},
   "outputs": [
    {
     "data": {
      "text/plain": [
       "[0, 1, 2, 3, 4, 5, 6, 7, 8, 9]"
      ]
     },
     "execution_count": 147,
     "metadata": {},
     "output_type": "execute_result"
    }
   ],
   "source": [
    "list_1"
   ]
  },
  {
   "cell_type": "code",
   "execution_count": 152,
   "metadata": {},
   "outputs": [],
   "source": [
    "random.shuffle(list_1)"
   ]
  },
  {
   "cell_type": "code",
   "execution_count": 153,
   "metadata": {},
   "outputs": [
    {
     "data": {
      "text/plain": [
       "[5, 7, 6, 2, 9, 8, 0, 1, 3, 4]"
      ]
     },
     "execution_count": 153,
     "metadata": {},
     "output_type": "execute_result"
    }
   ],
   "source": [
    "list_1"
   ]
  },
  {
   "cell_type": "code",
   "execution_count": null,
   "metadata": {},
   "outputs": [],
   "source": []
  }
 ],
 "metadata": {
  "kernelspec": {
   "display_name": "deeptropism",
   "language": "python",
   "name": "deeptropism"
  },
  "language_info": {
   "codemirror_mode": {
    "name": "ipython",
    "version": 3
   },
   "file_extension": ".py",
   "mimetype": "text/x-python",
   "name": "python",
   "nbconvert_exporter": "python",
   "pygments_lexer": "ipython3",
   "version": "3.7.4"
  }
 },
 "nbformat": 4,
 "nbformat_minor": 4
}
