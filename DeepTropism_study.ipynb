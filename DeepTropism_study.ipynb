{
 "cells": [
  {
   "cell_type": "code",
   "execution_count": 1,
   "metadata": {},
   "outputs": [],
   "source": [
    "import pandas as pd\n",
    "import numpy as np\n",
    "import torch\n",
    "import torchvision\n",
    "import matplotlib.pyplot as plt"
   ]
  },
  {
   "cell_type": "code",
   "execution_count": 2,
   "metadata": {},
   "outputs": [
    {
     "name": "stdout",
     "output_type": "stream",
     "text": [
      "41598_2019_46420_MOESM2_ESM.xlsx   newdb_all_hxb2_aligned.fasta\n",
      "aminoacids_oneletter_code.csv      newdb_all_hxb2.fasta\n",
      "cm_aligned.fasta                   newdb_and_hivcopred_aligned.fasta\n",
      "cm_aligned.tsv                     newdb_and_hivcopred_aligned_refined.fasta\n",
      "cm.fasta                           newdb_and_hivcopred_aligned.tsv\n",
      "dataset_chen.csv                   newdb_and_hivcopred.fasta\n",
      "dataset_chen.fasta                 newdb_ccr5.fasta\n",
      "hivcopred_all.fasta                newdb_ccr5.tsv\n",
      "hivcopred_ccr5.fasta               newdb_cxcr4.fasta\n",
      "hivcopred_cxcr4.fasta              newdb_cxcr4.tsv\n",
      "hivcopred_r5x4.fasta               newdb_dualtropic.fasta\n",
      "muscle_aligner_test_aligned.fasta  newdb_dualtropic.tsv\n",
      "muscle_aligner_test.fasta          newdb_wrangled.tsv\n",
      "newdb_aligned_all_labels.tsv       \u001b[0m\u001b[01;34msrep21280\u001b[0m/\n",
      "newdb_aligned.csv                  teste_1seq_to_all_aligned.fasta\n",
      "newdb_aligned_muscle.fasta         teste_1seq_to_all.fasta\n",
      "newdb_all_hxb2_aligned_2.fasta\n"
     ]
    }
   ],
   "source": [
    "ls datasets"
   ]
  },
  {
   "cell_type": "code",
   "execution_count": 3,
   "metadata": {},
   "outputs": [],
   "source": [
    "df = pd.read_csv('datasets/newdb_and_hivcopred_aligned.tsv', sep='\\t', names=['name', 'label','sequence'])"
   ]
  },
  {
   "cell_type": "code",
   "execution_count": 4,
   "metadata": {},
   "outputs": [
    {
     "name": "stdout",
     "output_type": "stream",
     "text": [
      "<class 'pandas.core.frame.DataFrame'>\n",
      "RangeIndex: 5333 entries, 0 to 5332\n",
      "Data columns (total 3 columns):\n",
      "name        5333 non-null object\n",
      "label       5333 non-null object\n",
      "sequence    5333 non-null object\n",
      "dtypes: object(3)\n",
      "memory usage: 125.1+ KB\n"
     ]
    }
   ],
   "source": [
    "df.info()"
   ]
  },
  {
   "cell_type": "code",
   "execution_count": 5,
   "metadata": {},
   "outputs": [
    {
     "data": {
      "text/html": [
       "<div>\n",
       "<style scoped>\n",
       "    .dataframe tbody tr th:only-of-type {\n",
       "        vertical-align: middle;\n",
       "    }\n",
       "\n",
       "    .dataframe tbody tr th {\n",
       "        vertical-align: top;\n",
       "    }\n",
       "\n",
       "    .dataframe thead th {\n",
       "        text-align: right;\n",
       "    }\n",
       "</style>\n",
       "<table border=\"1\" class=\"dataframe\">\n",
       "  <thead>\n",
       "    <tr style=\"text-align: right;\">\n",
       "      <th></th>\n",
       "      <th>name</th>\n",
       "      <th>label</th>\n",
       "      <th>sequence</th>\n",
       "    </tr>\n",
       "  </thead>\n",
       "  <tbody>\n",
       "    <tr>\n",
       "      <td>0</td>\n",
       "      <td>RKF859742</td>\n",
       "      <td>CCR5</td>\n",
       "      <td>CERPTMD-I--QDI---H--I--GP----M--A-WY---S-TYIER...</td>\n",
       "    </tr>\n",
       "    <tr>\n",
       "      <td>1</td>\n",
       "      <td>RAM262120</td>\n",
       "      <td>CCR5</td>\n",
       "      <td>CVRPGNN-SV-QEM---R--V--GP----M--A-WY-----S-MEL...</td>\n",
       "    </tr>\n",
       "    <tr>\n",
       "      <td>2</td>\n",
       "      <td>RAM262127</td>\n",
       "      <td>CCR5</td>\n",
       "      <td>CVRPGDN-SV-KEM---R--A--GP----M--A-WY-----S-MEL...</td>\n",
       "    </tr>\n",
       "    <tr>\n",
       "      <td>3</td>\n",
       "      <td>RAM262126</td>\n",
       "      <td>CCR5</td>\n",
       "      <td>CVRPGNN-SV-KEM---R--V--GP----M--A-LY-----S-MEL...</td>\n",
       "    </tr>\n",
       "    <tr>\n",
       "      <td>4</td>\n",
       "      <td>RAM262125</td>\n",
       "      <td>CCR5</td>\n",
       "      <td>CVRPGNN-TV-KEM---R--V--GP----M--A-WY-----S-MEL...</td>\n",
       "    </tr>\n",
       "    <tr>\n",
       "      <td>5</td>\n",
       "      <td>RAM262114</td>\n",
       "      <td>CCR5</td>\n",
       "      <td>CVRPGSN-SV-QEI---K--I--GP----M--A-WY-----S-MQL...</td>\n",
       "    </tr>\n",
       "    <tr>\n",
       "      <td>6</td>\n",
       "      <td>RX84327</td>\n",
       "      <td>CCR5</td>\n",
       "      <td>CVRPGNN-SV-QEI---K--I--GP----M--A-WY-----S-MQI...</td>\n",
       "    </tr>\n",
       "    <tr>\n",
       "      <td>7</td>\n",
       "      <td>RX84327</td>\n",
       "      <td>CCR5</td>\n",
       "      <td>CVRPGNN-SV-QEI---K--I--GP----M--A-WY-----S-MQI...</td>\n",
       "    </tr>\n",
       "    <tr>\n",
       "      <td>8</td>\n",
       "      <td>RU24566</td>\n",
       "      <td>CCR5</td>\n",
       "      <td>CHRPGNL-SV-QEM---K--I--GP----L--S-WY-----SMGLA...</td>\n",
       "    </tr>\n",
       "    <tr>\n",
       "      <td>9</td>\n",
       "      <td>RU24566</td>\n",
       "      <td>CCR5</td>\n",
       "      <td>CHRPGNL-SV-QEM---K--I--GP----L--S-WY-----SMGLA...</td>\n",
       "    </tr>\n",
       "  </tbody>\n",
       "</table>\n",
       "</div>"
      ],
      "text/plain": [
       "        name label                                           sequence\n",
       "0  RKF859742  CCR5  CERPTMD-I--QDI---H--I--GP----M--A-WY---S-TYIER...\n",
       "1  RAM262120  CCR5  CVRPGNN-SV-QEM---R--V--GP----M--A-WY-----S-MEL...\n",
       "2  RAM262127  CCR5  CVRPGDN-SV-KEM---R--A--GP----M--A-WY-----S-MEL...\n",
       "3  RAM262126  CCR5  CVRPGNN-SV-KEM---R--V--GP----M--A-LY-----S-MEL...\n",
       "4  RAM262125  CCR5  CVRPGNN-TV-KEM---R--V--GP----M--A-WY-----S-MEL...\n",
       "5  RAM262114  CCR5  CVRPGSN-SV-QEI---K--I--GP----M--A-WY-----S-MQL...\n",
       "6    RX84327  CCR5  CVRPGNN-SV-QEI---K--I--GP----M--A-WY-----S-MQI...\n",
       "7    RX84327  CCR5  CVRPGNN-SV-QEI---K--I--GP----M--A-WY-----S-MQI...\n",
       "8    RU24566  CCR5  CHRPGNL-SV-QEM---K--I--GP----L--S-WY-----SMGLA...\n",
       "9    RU24566  CCR5  CHRPGNL-SV-QEM---K--I--GP----L--S-WY-----SMGLA..."
      ]
     },
     "execution_count": 5,
     "metadata": {},
     "output_type": "execute_result"
    }
   ],
   "source": [
    "df.head(10)"
   ]
  },
  {
   "cell_type": "code",
   "execution_count": 6,
   "metadata": {},
   "outputs": [],
   "source": [
    "df.drop_duplicates(subset='sequence', keep='first', inplace=True)"
   ]
  },
  {
   "cell_type": "code",
   "execution_count": 7,
   "metadata": {},
   "outputs": [
    {
     "name": "stdout",
     "output_type": "stream",
     "text": [
      "<class 'pandas.core.frame.DataFrame'>\n",
      "Int64Index: 3239 entries, 0 to 5331\n",
      "Data columns (total 3 columns):\n",
      "name        3239 non-null object\n",
      "label       3239 non-null object\n",
      "sequence    3239 non-null object\n",
      "dtypes: object(3)\n",
      "memory usage: 101.2+ KB\n"
     ]
    }
   ],
   "source": [
    "df.info()"
   ]
  },
  {
   "cell_type": "code",
   "execution_count": 8,
   "metadata": {},
   "outputs": [],
   "source": [
    "seq = df.loc[0, 'sequence']"
   ]
  },
  {
   "cell_type": "code",
   "execution_count": 9,
   "metadata": {},
   "outputs": [],
   "source": [
    "# Function to call labels\n",
    "def tropism_label(row):\n",
    "    # For CCR5\n",
    "    if row.label == 'CCR5':\n",
    "        return 0\n",
    "    # For CXCR4\n",
    "    elif row.label == 'CXCR4':\n",
    "        return 1\n",
    "    # For R5X4\n",
    "    elif row.label == 'R5X4':\n",
    "        return 1"
   ]
  },
  {
   "cell_type": "code",
   "execution_count": 10,
   "metadata": {},
   "outputs": [],
   "source": [
    "df['label_numeric'] = df.apply(tropism_label, axis=1)"
   ]
  },
  {
   "cell_type": "code",
   "execution_count": 11,
   "metadata": {},
   "outputs": [
    {
     "data": {
      "text/plain": [
       "CCR5     2490\n",
       "R5X4      465\n",
       "CXCR4     284\n",
       "Name: label, dtype: int64"
      ]
     },
     "execution_count": 11,
     "metadata": {},
     "output_type": "execute_result"
    }
   ],
   "source": [
    "df.label.value_counts()"
   ]
  },
  {
   "cell_type": "code",
   "execution_count": 12,
   "metadata": {},
   "outputs": [
    {
     "data": {
      "text/plain": [
       "0    2490\n",
       "1     749\n",
       "Name: label_numeric, dtype: int64"
      ]
     },
     "execution_count": 12,
     "metadata": {},
     "output_type": "execute_result"
    }
   ],
   "source": [
    "df.label_numeric.value_counts()"
   ]
  },
  {
   "cell_type": "code",
   "execution_count": 13,
   "metadata": {},
   "outputs": [
    {
     "data": {
      "text/plain": [
       "(3239, 4)"
      ]
     },
     "execution_count": 13,
     "metadata": {},
     "output_type": "execute_result"
    }
   ],
   "source": [
    "df.shape"
   ]
  },
  {
   "cell_type": "code",
   "execution_count": 14,
   "metadata": {},
   "outputs": [
    {
     "data": {
      "text/html": [
       "<div>\n",
       "<style scoped>\n",
       "    .dataframe tbody tr th:only-of-type {\n",
       "        vertical-align: middle;\n",
       "    }\n",
       "\n",
       "    .dataframe tbody tr th {\n",
       "        vertical-align: top;\n",
       "    }\n",
       "\n",
       "    .dataframe thead th {\n",
       "        text-align: right;\n",
       "    }\n",
       "</style>\n",
       "<table border=\"1\" class=\"dataframe\">\n",
       "  <thead>\n",
       "    <tr style=\"text-align: right;\">\n",
       "      <th></th>\n",
       "      <th>name</th>\n",
       "      <th>label</th>\n",
       "      <th>sequence</th>\n",
       "      <th>label_numeric</th>\n",
       "    </tr>\n",
       "  </thead>\n",
       "  <tbody>\n",
       "    <tr>\n",
       "      <td>0</td>\n",
       "      <td>RKF859742</td>\n",
       "      <td>CCR5</td>\n",
       "      <td>CERPTMD-I--QDI---H--I--GP----M--A-WY---S-TYIER...</td>\n",
       "      <td>0</td>\n",
       "    </tr>\n",
       "    <tr>\n",
       "      <td>1</td>\n",
       "      <td>RAM262120</td>\n",
       "      <td>CCR5</td>\n",
       "      <td>CVRPGNN-SV-QEM---R--V--GP----M--A-WY-----S-MEL...</td>\n",
       "      <td>0</td>\n",
       "    </tr>\n",
       "    <tr>\n",
       "      <td>2</td>\n",
       "      <td>RAM262127</td>\n",
       "      <td>CCR5</td>\n",
       "      <td>CVRPGDN-SV-KEM---R--A--GP----M--A-WY-----S-MEL...</td>\n",
       "      <td>0</td>\n",
       "    </tr>\n",
       "    <tr>\n",
       "      <td>3</td>\n",
       "      <td>RAM262126</td>\n",
       "      <td>CCR5</td>\n",
       "      <td>CVRPGNN-SV-KEM---R--V--GP----M--A-LY-----S-MEL...</td>\n",
       "      <td>0</td>\n",
       "    </tr>\n",
       "    <tr>\n",
       "      <td>4</td>\n",
       "      <td>RAM262125</td>\n",
       "      <td>CCR5</td>\n",
       "      <td>CVRPGNN-TV-KEM---R--V--GP----M--A-WY-----S-MEL...</td>\n",
       "      <td>0</td>\n",
       "    </tr>\n",
       "    <tr>\n",
       "      <td>...</td>\n",
       "      <td>...</td>\n",
       "      <td>...</td>\n",
       "      <td>...</td>\n",
       "      <td>...</td>\n",
       "    </tr>\n",
       "    <tr>\n",
       "      <td>5324</td>\n",
       "      <td>RAJ418520</td>\n",
       "      <td>CCR5</td>\n",
       "      <td>CTRPDNN-TR-KSI---H--I--GP-G--R--A-FY---A-T-GDI...</td>\n",
       "      <td>0</td>\n",
       "    </tr>\n",
       "    <tr>\n",
       "      <td>5326</td>\n",
       "      <td>RHM239628</td>\n",
       "      <td>CCR5</td>\n",
       "      <td>CTRPNNN-TR-KSI---N--I--GP-G--R--A-FY---A-T-GDI...</td>\n",
       "      <td>0</td>\n",
       "    </tr>\n",
       "    <tr>\n",
       "      <td>5328</td>\n",
       "      <td>RJN002043</td>\n",
       "      <td>CCR5</td>\n",
       "      <td>CTRPNNN-TR-KSI---P--I--GP-G--R--A-FY---A-T-GDI...</td>\n",
       "      <td>0</td>\n",
       "    </tr>\n",
       "    <tr>\n",
       "      <td>5330</td>\n",
       "      <td>RAJ418518</td>\n",
       "      <td>CCR5</td>\n",
       "      <td>CTRPNNN-TR-KSI---H--I--GP-G--R--A-FY---A-T-GDI...</td>\n",
       "      <td>0</td>\n",
       "    </tr>\n",
       "    <tr>\n",
       "      <td>5331</td>\n",
       "      <td>RDQ002107</td>\n",
       "      <td>CCR5</td>\n",
       "      <td>CTRPNNN-TR-KSI---T--I--GP-G--R--A-FY---A-T-GDI...</td>\n",
       "      <td>0</td>\n",
       "    </tr>\n",
       "  </tbody>\n",
       "</table>\n",
       "<p>3239 rows × 4 columns</p>\n",
       "</div>"
      ],
      "text/plain": [
       "           name label                                           sequence  \\\n",
       "0     RKF859742  CCR5  CERPTMD-I--QDI---H--I--GP----M--A-WY---S-TYIER...   \n",
       "1     RAM262120  CCR5  CVRPGNN-SV-QEM---R--V--GP----M--A-WY-----S-MEL...   \n",
       "2     RAM262127  CCR5  CVRPGDN-SV-KEM---R--A--GP----M--A-WY-----S-MEL...   \n",
       "3     RAM262126  CCR5  CVRPGNN-SV-KEM---R--V--GP----M--A-LY-----S-MEL...   \n",
       "4     RAM262125  CCR5  CVRPGNN-TV-KEM---R--V--GP----M--A-WY-----S-MEL...   \n",
       "...         ...   ...                                                ...   \n",
       "5324  RAJ418520  CCR5  CTRPDNN-TR-KSI---H--I--GP-G--R--A-FY---A-T-GDI...   \n",
       "5326  RHM239628  CCR5  CTRPNNN-TR-KSI---N--I--GP-G--R--A-FY---A-T-GDI...   \n",
       "5328  RJN002043  CCR5  CTRPNNN-TR-KSI---P--I--GP-G--R--A-FY---A-T-GDI...   \n",
       "5330  RAJ418518  CCR5  CTRPNNN-TR-KSI---H--I--GP-G--R--A-FY---A-T-GDI...   \n",
       "5331  RDQ002107  CCR5  CTRPNNN-TR-KSI---T--I--GP-G--R--A-FY---A-T-GDI...   \n",
       "\n",
       "      label_numeric  \n",
       "0                 0  \n",
       "1                 0  \n",
       "2                 0  \n",
       "3                 0  \n",
       "4                 0  \n",
       "...             ...  \n",
       "5324              0  \n",
       "5326              0  \n",
       "5328              0  \n",
       "5330              0  \n",
       "5331              0  \n",
       "\n",
       "[3239 rows x 4 columns]"
      ]
     },
     "execution_count": 14,
     "metadata": {},
     "output_type": "execute_result"
    }
   ],
   "source": [
    "df"
   ]
  },
  {
   "cell_type": "code",
   "execution_count": 15,
   "metadata": {},
   "outputs": [
    {
     "data": {
      "text/plain": [
       "{60}"
      ]
     },
     "execution_count": 15,
     "metadata": {},
     "output_type": "execute_result"
    }
   ],
   "source": [
    "# Check of len of sequence is the same for all rows\n",
    "set(df['sequence'].apply(len))"
   ]
  },
  {
   "cell_type": "code",
   "execution_count": 16,
   "metadata": {},
   "outputs": [],
   "source": [
    "# Save the Newdb processed dataset into TSV\n",
    "df.to_csv('newdb_wrangled.tsv', sep='\\t')"
   ]
  },
  {
   "cell_type": "markdown",
   "metadata": {},
   "source": [
    "## Converting Protein Sequence to Vectors"
   ]
  },
  {
   "cell_type": "code",
   "execution_count": 17,
   "metadata": {},
   "outputs": [],
   "source": [
    "df_aa = pd.read_csv('datasets/aminoacids_oneletter_code.csv', sep='\\t')"
   ]
  },
  {
   "cell_type": "code",
   "execution_count": 18,
   "metadata": {},
   "outputs": [
    {
     "data": {
      "text/html": [
       "<div>\n",
       "<style scoped>\n",
       "    .dataframe tbody tr th:only-of-type {\n",
       "        vertical-align: middle;\n",
       "    }\n",
       "\n",
       "    .dataframe tbody tr th {\n",
       "        vertical-align: top;\n",
       "    }\n",
       "\n",
       "    .dataframe thead th {\n",
       "        text-align: right;\n",
       "    }\n",
       "</style>\n",
       "<table border=\"1\" class=\"dataframe\">\n",
       "  <thead>\n",
       "    <tr style=\"text-align: right;\">\n",
       "      <th></th>\n",
       "      <th>Pos_array</th>\n",
       "      <th>3-letters-code</th>\n",
       "      <th>1-letter-code</th>\n",
       "      <th>Aminoacid</th>\n",
       "    </tr>\n",
       "  </thead>\n",
       "  <tbody>\n",
       "    <tr>\n",
       "      <td>0</td>\n",
       "      <td>1.0</td>\n",
       "      <td>Ala</td>\n",
       "      <td>A</td>\n",
       "      <td>Alanine</td>\n",
       "    </tr>\n",
       "    <tr>\n",
       "      <td>1</td>\n",
       "      <td>2.0</td>\n",
       "      <td>Asn</td>\n",
       "      <td>N</td>\n",
       "      <td>Asparagine</td>\n",
       "    </tr>\n",
       "    <tr>\n",
       "      <td>2</td>\n",
       "      <td>3.0</td>\n",
       "      <td>Asp</td>\n",
       "      <td>D</td>\n",
       "      <td>Aspartic acid</td>\n",
       "    </tr>\n",
       "    <tr>\n",
       "      <td>3</td>\n",
       "      <td>4.0</td>\n",
       "      <td>Cys</td>\n",
       "      <td>C</td>\n",
       "      <td>Cysteine</td>\n",
       "    </tr>\n",
       "    <tr>\n",
       "      <td>4</td>\n",
       "      <td>5.0</td>\n",
       "      <td>Gln</td>\n",
       "      <td>Q</td>\n",
       "      <td>Glutamine</td>\n",
       "    </tr>\n",
       "    <tr>\n",
       "      <td>5</td>\n",
       "      <td>6.0</td>\n",
       "      <td>Glu</td>\n",
       "      <td>E</td>\n",
       "      <td>Glutamic acid</td>\n",
       "    </tr>\n",
       "    <tr>\n",
       "      <td>6</td>\n",
       "      <td>7.0</td>\n",
       "      <td>Gly</td>\n",
       "      <td>G</td>\n",
       "      <td>Glycine</td>\n",
       "    </tr>\n",
       "    <tr>\n",
       "      <td>7</td>\n",
       "      <td>8.0</td>\n",
       "      <td>His</td>\n",
       "      <td>H</td>\n",
       "      <td>Histidine</td>\n",
       "    </tr>\n",
       "    <tr>\n",
       "      <td>8</td>\n",
       "      <td>9.0</td>\n",
       "      <td>Ile</td>\n",
       "      <td>I</td>\n",
       "      <td>Isoleucine</td>\n",
       "    </tr>\n",
       "    <tr>\n",
       "      <td>9</td>\n",
       "      <td>10.0</td>\n",
       "      <td>Leu</td>\n",
       "      <td>L</td>\n",
       "      <td>Leucine</td>\n",
       "    </tr>\n",
       "    <tr>\n",
       "      <td>10</td>\n",
       "      <td>11.0</td>\n",
       "      <td>Lys</td>\n",
       "      <td>K</td>\n",
       "      <td>Lysine</td>\n",
       "    </tr>\n",
       "    <tr>\n",
       "      <td>11</td>\n",
       "      <td>12.0</td>\n",
       "      <td>Met</td>\n",
       "      <td>M</td>\n",
       "      <td>Methionine</td>\n",
       "    </tr>\n",
       "    <tr>\n",
       "      <td>12</td>\n",
       "      <td>13.0</td>\n",
       "      <td>Phe</td>\n",
       "      <td>F</td>\n",
       "      <td>Phenylalanine</td>\n",
       "    </tr>\n",
       "    <tr>\n",
       "      <td>13</td>\n",
       "      <td>14.0</td>\n",
       "      <td>Pro</td>\n",
       "      <td>P</td>\n",
       "      <td>Proline</td>\n",
       "    </tr>\n",
       "    <tr>\n",
       "      <td>14</td>\n",
       "      <td>15.0</td>\n",
       "      <td>Pyl</td>\n",
       "      <td>O</td>\n",
       "      <td>Pyrrolysine</td>\n",
       "    </tr>\n",
       "    <tr>\n",
       "      <td>15</td>\n",
       "      <td>16.0</td>\n",
       "      <td>Ser</td>\n",
       "      <td>S</td>\n",
       "      <td>Serine</td>\n",
       "    </tr>\n",
       "    <tr>\n",
       "      <td>16</td>\n",
       "      <td>17.0</td>\n",
       "      <td>Sec</td>\n",
       "      <td>U</td>\n",
       "      <td>Selenocysteine</td>\n",
       "    </tr>\n",
       "    <tr>\n",
       "      <td>17</td>\n",
       "      <td>18.0</td>\n",
       "      <td>Thr</td>\n",
       "      <td>T</td>\n",
       "      <td>Threonine</td>\n",
       "    </tr>\n",
       "    <tr>\n",
       "      <td>18</td>\n",
       "      <td>19.0</td>\n",
       "      <td>Trp</td>\n",
       "      <td>W</td>\n",
       "      <td>Tryptophan</td>\n",
       "    </tr>\n",
       "    <tr>\n",
       "      <td>19</td>\n",
       "      <td>20.0</td>\n",
       "      <td>Tyr</td>\n",
       "      <td>Y</td>\n",
       "      <td>Tyrosine</td>\n",
       "    </tr>\n",
       "    <tr>\n",
       "      <td>20</td>\n",
       "      <td>21.0</td>\n",
       "      <td>Val</td>\n",
       "      <td>V</td>\n",
       "      <td>Valine</td>\n",
       "    </tr>\n",
       "    <tr>\n",
       "      <td>21</td>\n",
       "      <td>22.0</td>\n",
       "      <td>Asx</td>\n",
       "      <td>B</td>\n",
       "      <td>Aspartic acid or Asparagine</td>\n",
       "    </tr>\n",
       "    <tr>\n",
       "      <td>22</td>\n",
       "      <td>23.0</td>\n",
       "      <td>Glx</td>\n",
       "      <td>Z</td>\n",
       "      <td>Glutamic acid or Glutamine</td>\n",
       "    </tr>\n",
       "    <tr>\n",
       "      <td>23</td>\n",
       "      <td>24.0</td>\n",
       "      <td>Xaa</td>\n",
       "      <td>X</td>\n",
       "      <td>Any amino acid</td>\n",
       "    </tr>\n",
       "    <tr>\n",
       "      <td>24</td>\n",
       "      <td>25.0</td>\n",
       "      <td>Xle</td>\n",
       "      <td>J</td>\n",
       "      <td>Leucine or Isoleucine</td>\n",
       "    </tr>\n",
       "    <tr>\n",
       "      <td>25</td>\n",
       "      <td>NaN</td>\n",
       "      <td>Ept</td>\n",
       "      <td>-</td>\n",
       "      <td>Empty</td>\n",
       "    </tr>\n",
       "  </tbody>\n",
       "</table>\n",
       "</div>"
      ],
      "text/plain": [
       "    Pos_array 3-letters-code 1-letter-code                    Aminoacid\n",
       "0         1.0            Ala             A                      Alanine\n",
       "1         2.0            Asn             N                   Asparagine\n",
       "2         3.0            Asp             D                Aspartic acid\n",
       "3         4.0            Cys             C                     Cysteine\n",
       "4         5.0            Gln             Q                    Glutamine\n",
       "5         6.0            Glu             E                Glutamic acid\n",
       "6         7.0            Gly             G                      Glycine\n",
       "7         8.0            His             H                    Histidine\n",
       "8         9.0            Ile             I                   Isoleucine\n",
       "9        10.0            Leu             L                      Leucine\n",
       "10       11.0            Lys             K                       Lysine\n",
       "11       12.0            Met             M                   Methionine\n",
       "12       13.0            Phe             F                Phenylalanine\n",
       "13       14.0            Pro             P                      Proline\n",
       "14       15.0            Pyl             O                  Pyrrolysine\n",
       "15       16.0            Ser             S                       Serine\n",
       "16       17.0            Sec             U               Selenocysteine\n",
       "17       18.0            Thr             T                    Threonine\n",
       "18       19.0            Trp             W                   Tryptophan\n",
       "19       20.0            Tyr             Y                     Tyrosine\n",
       "20       21.0            Val             V                       Valine\n",
       "21       22.0            Asx             B  Aspartic acid or Asparagine\n",
       "22       23.0            Glx             Z   Glutamic acid or Glutamine\n",
       "23       24.0            Xaa             X               Any amino acid\n",
       "24       25.0            Xle             J        Leucine or Isoleucine\n",
       "25        NaN            Ept             -                        Empty"
      ]
     },
     "execution_count": 18,
     "metadata": {},
     "output_type": "execute_result"
    }
   ],
   "source": [
    "df_aa"
   ]
  },
  {
   "cell_type": "code",
   "execution_count": 19,
   "metadata": {},
   "outputs": [
    {
     "data": {
      "text/plain": [
       "['A',\n",
       " 'N',\n",
       " 'D',\n",
       " 'C',\n",
       " 'Q',\n",
       " 'E',\n",
       " 'G',\n",
       " 'H',\n",
       " 'I',\n",
       " 'L',\n",
       " 'K',\n",
       " 'M',\n",
       " 'F',\n",
       " 'P',\n",
       " 'O',\n",
       " 'S',\n",
       " 'U',\n",
       " 'T',\n",
       " 'W',\n",
       " 'Y',\n",
       " 'V',\n",
       " 'B',\n",
       " 'Z',\n",
       " 'X',\n",
       " 'J',\n",
       " '-']"
      ]
     },
     "execution_count": 19,
     "metadata": {},
     "output_type": "execute_result"
    }
   ],
   "source": [
    "df_aa['1-letter-code'].to_list()"
   ]
  },
  {
   "cell_type": "code",
   "execution_count": 20,
   "metadata": {},
   "outputs": [],
   "source": [
    "def get_array_from_sequence(seq):\n",
    "    dict_aa_pos = {\n",
    "    'A':1, 'R':2, 'N':3, 'D':4, 'C':5, 'Q':6, 'E':7, 'G':8,\n",
    "    'H':9, 'I':10, 'L':11, 'K':12, 'M':13, 'F':14, 'P':15, \n",
    "    'O':16, 'S':17, 'U':18, 'T':19, 'W':20, 'Y':21, 'V':22, \n",
    "    'B':23, 'Z':24, 'J':25, 'X':0}\n",
    "    \n",
    "    f_array = np.zeros(26)\n",
    "    for aa in seq:\n",
    "        arr = np.zeros(26)\n",
    "        if dict_aa_pos.get(aa):\n",
    "            arr[dict_aa_pos.get(aa)] = 1\n",
    "        f_array = np.vstack((f_array, arr))\n",
    "    f_array = np.delete(f_array, 0,0)\n",
    "    \n",
    "    return torch.from_numpy((f_array.flatten()).astype(float))\n",
    "    "
   ]
  },
  {
   "cell_type": "code",
   "execution_count": 21,
   "metadata": {},
   "outputs": [],
   "source": [
    "ex = get_array_from_sequence('CSRP-GNN-TR-TSI---PI--GP-GR--A-WF---AT--G----D--V-TGDPRKAHC')"
   ]
  },
  {
   "cell_type": "code",
   "execution_count": 22,
   "metadata": {},
   "outputs": [
    {
     "data": {
      "text/plain": [
       "tensor(35., dtype=torch.float64)"
      ]
     },
     "execution_count": 22,
     "metadata": {},
     "output_type": "execute_result"
    }
   ],
   "source": [
    "sum(ex)"
   ]
  },
  {
   "cell_type": "code",
   "execution_count": null,
   "metadata": {},
   "outputs": [],
   "source": []
  },
  {
   "cell_type": "code",
   "execution_count": 23,
   "metadata": {},
   "outputs": [],
   "source": [
    "# Create list to append data from the df\n",
    "list_data = []\n",
    "list_labels = []\n",
    "\n",
    "# Convert the sequences and labels to arrays to use as data on pytorch\n",
    "for index, row in df.iterrows():\n",
    "    list_data.append(get_array_from_sequence(str(row.sequence)))\n",
    "    list_labels.append(int(row.label_numeric))\n",
    "    "
   ]
  },
  {
   "cell_type": "code",
   "execution_count": 24,
   "metadata": {},
   "outputs": [
    {
     "data": {
      "text/plain": [
       "tensor([0., 0., 0.,  ..., 0., 0., 0.], dtype=torch.float64)"
      ]
     },
     "execution_count": 24,
     "metadata": {},
     "output_type": "execute_result"
    }
   ],
   "source": [
    "list_data[0]"
   ]
  },
  {
   "cell_type": "code",
   "execution_count": 25,
   "metadata": {},
   "outputs": [
    {
     "data": {
      "text/plain": [
       "torch.Size([1560])"
      ]
     },
     "execution_count": 25,
     "metadata": {},
     "output_type": "execute_result"
    }
   ],
   "source": [
    "list_data[0].shape"
   ]
  },
  {
   "cell_type": "code",
   "execution_count": 26,
   "metadata": {},
   "outputs": [
    {
     "data": {
      "text/plain": [
       "3239"
      ]
     },
     "execution_count": 26,
     "metadata": {},
     "output_type": "execute_result"
    }
   ],
   "source": [
    "len(list_labels)"
   ]
  },
  {
   "cell_type": "code",
   "execution_count": 27,
   "metadata": {},
   "outputs": [],
   "source": [
    "batch_size = 32\n",
    "validation_split = .5\n",
    "shuffle_dataset = True\n",
    "random_seed= 5\n",
    "\n",
    "# Creating data indices for training and validation splits:\n",
    "dataset_size = len(list_data)\n",
    "indices = list(range(dataset_size))\n",
    "split = int(np.floor(validation_split * dataset_size))"
   ]
  },
  {
   "cell_type": "code",
   "execution_count": 28,
   "metadata": {},
   "outputs": [
    {
     "data": {
      "text/plain": [
       "1619"
      ]
     },
     "execution_count": 28,
     "metadata": {},
     "output_type": "execute_result"
    }
   ],
   "source": [
    "split"
   ]
  },
  {
   "cell_type": "code",
   "execution_count": 29,
   "metadata": {},
   "outputs": [],
   "source": [
    "if shuffle_dataset :\n",
    "    np.random.seed(random_seed)\n",
    "    np.random.shuffle(indices)\n",
    "train_indices, val_indices = indices[split:], indices[:split]"
   ]
  },
  {
   "cell_type": "code",
   "execution_count": 30,
   "metadata": {},
   "outputs": [
    {
     "data": {
      "text/plain": [
       "1619"
      ]
     },
     "execution_count": 30,
     "metadata": {},
     "output_type": "execute_result"
    }
   ],
   "source": [
    "len(val_indices)"
   ]
  },
  {
   "cell_type": "code",
   "execution_count": 31,
   "metadata": {},
   "outputs": [],
   "source": [
    "import torch\n",
    "from torch.utils.data import TensorDataset, DataLoader\n",
    "import torch.nn as nn\n",
    "\n",
    "# To transform list_data and list_labels on trainloader\n",
    "\n",
    "# For training\n",
    "train_data = []\n",
    "for i in train_indices:\n",
    "    train_data.append([list_data[i], list_labels[i]])\n",
    "\n",
    "train_loader = torch.utils.data.DataLoader(train_data, shuffle=True, batch_size=32)\n",
    "\n",
    "# For validation\n",
    "test_data = []\n",
    "for j in val_indices:\n",
    "    test_data.append([list_data[j], list_labels[j]])\n",
    "\n",
    "test_loader = torch.utils.data.DataLoader(test_data, shuffle=True, batch_size=32)\n"
   ]
  },
  {
   "cell_type": "code",
   "execution_count": 37,
   "metadata": {},
   "outputs": [],
   "source": [
    "import torch.nn as nn\n",
    "import torch.nn.functional as F\n",
    "\n",
    "# Define the class Net\n",
    "class Net(nn.Module):\n",
    "    def __init__(self):    \n",
    "        # Define all the parameters of the net\n",
    "        super(Net, self).__init__()\n",
    "        self.fc1 = nn.Linear(1560, 200)\n",
    "        self.fc2 = nn.Linear(200, 2)\n",
    "\n",
    "    def forward(self, x):   \n",
    "        # Do the forward pass\n",
    "        x = F.relu(self.fc1(x))\n",
    "        x = self.fc2(x)\n",
    "        return x\n",
    "model = Net()\n",
    "model = model.float()"
   ]
  },
  {
   "cell_type": "code",
   "execution_count": 38,
   "metadata": {},
   "outputs": [],
   "source": [
    "## Creating e new Neural Network based on LeNet"
   ]
  },
  {
   "cell_type": "code",
   "execution_count": 39,
   "metadata": {},
   "outputs": [
    {
     "data": {
      "text/plain": [
       "30.0"
      ]
     },
     "execution_count": 39,
     "metadata": {},
     "output_type": "execute_result"
    }
   ],
   "source": [
    "1560 / 52"
   ]
  },
  {
   "cell_type": "code",
   "execution_count": 42,
   "metadata": {},
   "outputs": [],
   "source": [
    "class AminoNet(nn.Module):\n",
    "    def __init__(self):\n",
    "        super(AminoNet, self).__init__()\n",
    "        #self.conv1 = nn.Conv2d(3, 6, 5)\n",
    "        #self.pool = nn.MaxPool2d(2, 2)\n",
    "        #self.conv2 = nn.Conv2d(6, 16, 5)\n",
    "        self.fc1 = nn.Linear(30, 150)\n",
    "        self.fc2 = nn.Linear(150, 50)\n",
    "        self.fc3 = nn.Linear(50, 2)\n",
    "        self.conv1 = nn.Conv1d(1560, 30, 52, 26)\n",
    "\n",
    "    def forward(self, x):\n",
    "        #x = self.pool(F.relu(self.conv1(x)))\n",
    "        #x = self.pool(F.relu(self.conv2(x)))\n",
    "        #x = x.view(-1, 16 * 5 * 5)\n",
    "        #x = F.relu(self.conv1(self.fc1(x)))\n",
    "        x = F.relu(self.conv1(x))\n",
    "        x = F.relu(self.fc1(x))\n",
    "        x = F.relu(self.fc2(x))\n",
    "        x = self.fc3(x)\n",
    "        return x\n",
    "\n",
    "model = AminoNet()\n",
    "model = model.float()"
   ]
  },
  {
   "cell_type": "code",
   "execution_count": 40,
   "metadata": {},
   "outputs": [],
   "source": [
    "class LeNet(nn.Module):\n",
    "    def __init__(self):\n",
    "        super(LeNet, self).__init__()\n",
    "\n",
    "        # input channel = 1, output channel = 6, kernel_size = 5\n",
    "        # input size = (32, 32), output size = (28, 28)\n",
    "        self.conv1 = nn.Conv1d(1, 6, 3)\n",
    "        # input channel = 6, output channel = 16, kernel_size = 5\n",
    "        # input size = (14, 14), output size = (10, 10)\n",
    "        self.conv2 = nn.Conv1d(6, 16, 3)\n",
    "        # input dim = 16*5*5, output dim = 120\n",
    "        self.fc1 = nn.Linear(1534, 120)\n",
    "        # input dim = 120, output dim = 84\n",
    "        self.fc2 = nn.Linear(120, 84)\n",
    "        # input dim = 84, output dim = 10\n",
    "        self.fc3 = nn.Linear(84, 2)\n",
    "\n",
    "    def forward(self, x):\n",
    "        # pool size = 2\n",
    "        # input size = (28, 28), output size = (14, 14), output channel = 6\n",
    "        x = F.max_pool2d(F.relu(self.conv1(x)), 1)\n",
    "        # pool size = 2\n",
    "        # input size = (10, 10), output size = (5, 5), output channel = 16\n",
    "        x = F.max_pool2d(F.relu(self.conv2(x)), 1)\n",
    "        # flatten as one dimension\n",
    "        x = x.view(x.size()[0], -1)\n",
    "        # input dim = 16*5*5, output dim = 120\n",
    "        x = F.relu(self.fc1(x))\n",
    "        # input dim = 120, output dim = 84\n",
    "        x = F.relu(self.fc2(x))\n",
    "        # input dim = 84, output dim = 10\n",
    "        x = self.fc3(x)\n",
    "        return x\n",
    "\n",
    "model = LeNet()\n",
    "model = model.float()"
   ]
  },
  {
   "cell_type": "code",
   "execution_count": 228,
   "metadata": {},
   "outputs": [],
   "source": [
    "class Net(nn.Module):\n",
    "    \n",
    "    def __init__(self):\n",
    "        super(Net, self).__init__()\n",
    "        self.conv1 = nn.Conv2d(1, 10, kernel_size=5)\n",
    "        self.conv2 = nn.Conv2d(10, 20, kernel_size=5)\n",
    "        self.conv2_drop = nn.Dropout2d()\n",
    "        self.fc1 = nn.Linear(320, 50)\n",
    "        self.fc2 = nn.Linear(50, 10)\n",
    "\n",
    "    def forward(self, x):\n",
    "        x = F.relu(F.max_pool2d(self.conv1(x), 2))\n",
    "        x = F.relu(F.max_pool2d(self.conv2_drop(self.conv2(x)), 2))\n",
    "        x = x.view(-1, 320)\n",
    "        x = F.relu(self.fc1(x))\n",
    "        x = F.dropout(x, training=self.training)\n",
    "        x = self.fc2(x)\n",
    "        return F.log_softmax(x, dim=-1)\n",
    "\n",
    "model = Net()\n",
    "model = model.float()"
   ]
  },
  {
   "cell_type": "code",
   "execution_count": 233,
   "metadata": {},
   "outputs": [],
   "source": [
    "import torch.nn as nn\n",
    "import torch.nn.functional as F\n",
    "\n",
    "\n",
    "class Net(nn.Module):\n",
    "    def __init__(self):\n",
    "        super(Net, self).__init__()\n",
    "        #self.conv1 = nn.Conv2d(3, 6, 5)\n",
    "        #self.pool = nn.MaxPool2d(2, 2)\n",
    "        #self.conv2 = nn.Conv2d(6, 16, 5)\n",
    "        self.fc1 = nn.Linear(1560, 767)\n",
    "        self.fc2 = nn.Linear(767, 300)\n",
    "        self.fc3 = nn.Linear(300, 600)\n",
    "        self.fc4 = nn.Linear(600, 200)\n",
    "        self.fc5 = nn.Linear(200, 100)\n",
    "        self.fc6 = nn.Linear(100, 2)\n",
    "\n",
    "    def forward(self, x):\n",
    "        #x = self.pool(F.relu(self.conv1(x)))\n",
    "        #x = self.pool(F.relu(self.conv2(x)))\n",
    "        #x = x.view(-1, 16 * 5 * 5)\n",
    "        x = F.relu(self.fc1(x))\n",
    "        x = F.relu(self.fc2(x))\n",
    "        x = F.dropout(x, training=self.training)\n",
    "        x = F.relu(self.fc3(x))\n",
    "        x = F.relu(self.fc4(x))\n",
    "        x = F.relu(self.fc5(x))\n",
    "        x = self.fc6(x)\n",
    "        return x\n",
    "\n",
    "\n",
    "model = Net()\n",
    "model = model.float()"
   ]
  },
  {
   "cell_type": "code",
   "execution_count": 43,
   "metadata": {},
   "outputs": [
    {
     "data": {
      "text/plain": [
       "AminoNet(\n",
       "  (fc1): Linear(in_features=30, out_features=150, bias=True)\n",
       "  (fc2): Linear(in_features=150, out_features=50, bias=True)\n",
       "  (fc3): Linear(in_features=50, out_features=2, bias=True)\n",
       "  (conv1): Conv1d(1560, 30, kernel_size=(52,), stride=(26,))\n",
       ")"
      ]
     },
     "execution_count": 43,
     "metadata": {},
     "output_type": "execute_result"
    }
   ],
   "source": [
    "model"
   ]
  },
  {
   "cell_type": "code",
   "execution_count": 44,
   "metadata": {},
   "outputs": [],
   "source": [
    "import torch.optim as optim\n",
    "\n",
    "criterion = nn.CrossEntropyLoss()\n",
    "optimizer = optim.SGD(model.parameters(), lr=0.001, momentum=0.9)"
   ]
  },
  {
   "cell_type": "code",
   "execution_count": 45,
   "metadata": {},
   "outputs": [
    {
     "ename": "RuntimeError",
     "evalue": "Expected 3-dimensional input for 3-dimensional weight 30 1560, but got 2-dimensional input of size [32, 1560] instead",
     "output_type": "error",
     "traceback": [
      "\u001b[0;31m---------------------------------------------------------------------------\u001b[0m",
      "\u001b[0;31mRuntimeError\u001b[0m                              Traceback (most recent call last)",
      "\u001b[0;32m<ipython-input-45-086bea4efdc7>\u001b[0m in \u001b[0;36m<module>\u001b[0;34m\u001b[0m\n\u001b[1;32m     10\u001b[0m \u001b[0;34m\u001b[0m\u001b[0m\n\u001b[1;32m     11\u001b[0m         \u001b[0;31m# forward + backward + optimize\u001b[0m\u001b[0;34m\u001b[0m\u001b[0;34m\u001b[0m\u001b[0;34m\u001b[0m\u001b[0m\n\u001b[0;32m---> 12\u001b[0;31m         \u001b[0moutputs\u001b[0m \u001b[0;34m=\u001b[0m \u001b[0mmodel\u001b[0m\u001b[0;34m(\u001b[0m\u001b[0minputs\u001b[0m\u001b[0;34m.\u001b[0m\u001b[0mfloat\u001b[0m\u001b[0;34m(\u001b[0m\u001b[0;34m)\u001b[0m\u001b[0;34m)\u001b[0m\u001b[0;34m\u001b[0m\u001b[0;34m\u001b[0m\u001b[0m\n\u001b[0m\u001b[1;32m     13\u001b[0m         \u001b[0mloss\u001b[0m \u001b[0;34m=\u001b[0m \u001b[0mcriterion\u001b[0m\u001b[0;34m(\u001b[0m\u001b[0moutputs\u001b[0m\u001b[0;34m,\u001b[0m \u001b[0mlabels\u001b[0m\u001b[0;34m)\u001b[0m\u001b[0;34m\u001b[0m\u001b[0;34m\u001b[0m\u001b[0m\n\u001b[1;32m     14\u001b[0m         \u001b[0mloss\u001b[0m\u001b[0;34m.\u001b[0m\u001b[0mbackward\u001b[0m\u001b[0;34m(\u001b[0m\u001b[0;34m)\u001b[0m\u001b[0;34m\u001b[0m\u001b[0;34m\u001b[0m\u001b[0m\n",
      "\u001b[0;32m~/miniconda3/envs/deeptropism/lib/python3.7/site-packages/torch/nn/modules/module.py\u001b[0m in \u001b[0;36m__call__\u001b[0;34m(self, *input, **kwargs)\u001b[0m\n\u001b[1;32m    545\u001b[0m             \u001b[0mresult\u001b[0m \u001b[0;34m=\u001b[0m \u001b[0mself\u001b[0m\u001b[0;34m.\u001b[0m\u001b[0m_slow_forward\u001b[0m\u001b[0;34m(\u001b[0m\u001b[0;34m*\u001b[0m\u001b[0minput\u001b[0m\u001b[0;34m,\u001b[0m \u001b[0;34m**\u001b[0m\u001b[0mkwargs\u001b[0m\u001b[0;34m)\u001b[0m\u001b[0;34m\u001b[0m\u001b[0;34m\u001b[0m\u001b[0m\n\u001b[1;32m    546\u001b[0m         \u001b[0;32melse\u001b[0m\u001b[0;34m:\u001b[0m\u001b[0;34m\u001b[0m\u001b[0;34m\u001b[0m\u001b[0m\n\u001b[0;32m--> 547\u001b[0;31m             \u001b[0mresult\u001b[0m \u001b[0;34m=\u001b[0m \u001b[0mself\u001b[0m\u001b[0;34m.\u001b[0m\u001b[0mforward\u001b[0m\u001b[0;34m(\u001b[0m\u001b[0;34m*\u001b[0m\u001b[0minput\u001b[0m\u001b[0;34m,\u001b[0m \u001b[0;34m**\u001b[0m\u001b[0mkwargs\u001b[0m\u001b[0;34m)\u001b[0m\u001b[0;34m\u001b[0m\u001b[0;34m\u001b[0m\u001b[0m\n\u001b[0m\u001b[1;32m    548\u001b[0m         \u001b[0;32mfor\u001b[0m \u001b[0mhook\u001b[0m \u001b[0;32min\u001b[0m \u001b[0mself\u001b[0m\u001b[0;34m.\u001b[0m\u001b[0m_forward_hooks\u001b[0m\u001b[0;34m.\u001b[0m\u001b[0mvalues\u001b[0m\u001b[0;34m(\u001b[0m\u001b[0;34m)\u001b[0m\u001b[0;34m:\u001b[0m\u001b[0;34m\u001b[0m\u001b[0;34m\u001b[0m\u001b[0m\n\u001b[1;32m    549\u001b[0m             \u001b[0mhook_result\u001b[0m \u001b[0;34m=\u001b[0m \u001b[0mhook\u001b[0m\u001b[0;34m(\u001b[0m\u001b[0mself\u001b[0m\u001b[0;34m,\u001b[0m \u001b[0minput\u001b[0m\u001b[0;34m,\u001b[0m \u001b[0mresult\u001b[0m\u001b[0;34m)\u001b[0m\u001b[0;34m\u001b[0m\u001b[0;34m\u001b[0m\u001b[0m\n",
      "\u001b[0;32m<ipython-input-42-b101bfaf2cad>\u001b[0m in \u001b[0;36mforward\u001b[0;34m(self, x)\u001b[0m\n\u001b[1;32m     15\u001b[0m         \u001b[0;31m#x = x.view(-1, 16 * 5 * 5)\u001b[0m\u001b[0;34m\u001b[0m\u001b[0;34m\u001b[0m\u001b[0;34m\u001b[0m\u001b[0m\n\u001b[1;32m     16\u001b[0m         \u001b[0;31m#x = F.relu(self.conv1(self.fc1(x)))\u001b[0m\u001b[0;34m\u001b[0m\u001b[0;34m\u001b[0m\u001b[0;34m\u001b[0m\u001b[0m\n\u001b[0;32m---> 17\u001b[0;31m         \u001b[0mx\u001b[0m \u001b[0;34m=\u001b[0m \u001b[0mF\u001b[0m\u001b[0;34m.\u001b[0m\u001b[0mrelu\u001b[0m\u001b[0;34m(\u001b[0m\u001b[0mself\u001b[0m\u001b[0;34m.\u001b[0m\u001b[0mconv1\u001b[0m\u001b[0;34m(\u001b[0m\u001b[0mx\u001b[0m\u001b[0;34m)\u001b[0m\u001b[0;34m)\u001b[0m\u001b[0;34m\u001b[0m\u001b[0;34m\u001b[0m\u001b[0m\n\u001b[0m\u001b[1;32m     18\u001b[0m         \u001b[0mx\u001b[0m \u001b[0;34m=\u001b[0m \u001b[0mF\u001b[0m\u001b[0;34m.\u001b[0m\u001b[0mrelu\u001b[0m\u001b[0;34m(\u001b[0m\u001b[0mself\u001b[0m\u001b[0;34m.\u001b[0m\u001b[0mfc1\u001b[0m\u001b[0;34m(\u001b[0m\u001b[0mx\u001b[0m\u001b[0;34m)\u001b[0m\u001b[0;34m)\u001b[0m\u001b[0;34m\u001b[0m\u001b[0;34m\u001b[0m\u001b[0m\n\u001b[1;32m     19\u001b[0m         \u001b[0mx\u001b[0m \u001b[0;34m=\u001b[0m \u001b[0mF\u001b[0m\u001b[0;34m.\u001b[0m\u001b[0mrelu\u001b[0m\u001b[0;34m(\u001b[0m\u001b[0mself\u001b[0m\u001b[0;34m.\u001b[0m\u001b[0mfc2\u001b[0m\u001b[0;34m(\u001b[0m\u001b[0mx\u001b[0m\u001b[0;34m)\u001b[0m\u001b[0;34m)\u001b[0m\u001b[0;34m\u001b[0m\u001b[0;34m\u001b[0m\u001b[0m\n",
      "\u001b[0;32m~/miniconda3/envs/deeptropism/lib/python3.7/site-packages/torch/nn/modules/module.py\u001b[0m in \u001b[0;36m__call__\u001b[0;34m(self, *input, **kwargs)\u001b[0m\n\u001b[1;32m    545\u001b[0m             \u001b[0mresult\u001b[0m \u001b[0;34m=\u001b[0m \u001b[0mself\u001b[0m\u001b[0;34m.\u001b[0m\u001b[0m_slow_forward\u001b[0m\u001b[0;34m(\u001b[0m\u001b[0;34m*\u001b[0m\u001b[0minput\u001b[0m\u001b[0;34m,\u001b[0m \u001b[0;34m**\u001b[0m\u001b[0mkwargs\u001b[0m\u001b[0;34m)\u001b[0m\u001b[0;34m\u001b[0m\u001b[0;34m\u001b[0m\u001b[0m\n\u001b[1;32m    546\u001b[0m         \u001b[0;32melse\u001b[0m\u001b[0;34m:\u001b[0m\u001b[0;34m\u001b[0m\u001b[0;34m\u001b[0m\u001b[0m\n\u001b[0;32m--> 547\u001b[0;31m             \u001b[0mresult\u001b[0m \u001b[0;34m=\u001b[0m \u001b[0mself\u001b[0m\u001b[0;34m.\u001b[0m\u001b[0mforward\u001b[0m\u001b[0;34m(\u001b[0m\u001b[0;34m*\u001b[0m\u001b[0minput\u001b[0m\u001b[0;34m,\u001b[0m \u001b[0;34m**\u001b[0m\u001b[0mkwargs\u001b[0m\u001b[0;34m)\u001b[0m\u001b[0;34m\u001b[0m\u001b[0;34m\u001b[0m\u001b[0m\n\u001b[0m\u001b[1;32m    548\u001b[0m         \u001b[0;32mfor\u001b[0m \u001b[0mhook\u001b[0m \u001b[0;32min\u001b[0m \u001b[0mself\u001b[0m\u001b[0;34m.\u001b[0m\u001b[0m_forward_hooks\u001b[0m\u001b[0;34m.\u001b[0m\u001b[0mvalues\u001b[0m\u001b[0;34m(\u001b[0m\u001b[0;34m)\u001b[0m\u001b[0;34m:\u001b[0m\u001b[0;34m\u001b[0m\u001b[0;34m\u001b[0m\u001b[0m\n\u001b[1;32m    549\u001b[0m             \u001b[0mhook_result\u001b[0m \u001b[0;34m=\u001b[0m \u001b[0mhook\u001b[0m\u001b[0;34m(\u001b[0m\u001b[0mself\u001b[0m\u001b[0;34m,\u001b[0m \u001b[0minput\u001b[0m\u001b[0;34m,\u001b[0m \u001b[0mresult\u001b[0m\u001b[0;34m)\u001b[0m\u001b[0;34m\u001b[0m\u001b[0;34m\u001b[0m\u001b[0m\n",
      "\u001b[0;32m~/miniconda3/envs/deeptropism/lib/python3.7/site-packages/torch/nn/modules/conv.py\u001b[0m in \u001b[0;36mforward\u001b[0;34m(self, input)\u001b[0m\n\u001b[1;32m    198\u001b[0m                             _single(0), self.dilation, self.groups)\n\u001b[1;32m    199\u001b[0m         return F.conv1d(input, self.weight, self.bias, self.stride,\n\u001b[0;32m--> 200\u001b[0;31m                         self.padding, self.dilation, self.groups)\n\u001b[0m\u001b[1;32m    201\u001b[0m \u001b[0;34m\u001b[0m\u001b[0m\n\u001b[1;32m    202\u001b[0m \u001b[0;34m\u001b[0m\u001b[0m\n",
      "\u001b[0;31mRuntimeError\u001b[0m: Expected 3-dimensional input for 3-dimensional weight 30 1560, but got 2-dimensional input of size [32, 1560] instead"
     ]
    }
   ],
   "source": [
    "for epoch in range(500):  # loop over the dataset multiple times\n",
    "\n",
    "    running_loss = 0.0\n",
    "    for i, data in enumerate(train_loader, 0):\n",
    "        # get the inputs; data is a list of [inputs, labels]\n",
    "        inputs, labels = data\n",
    "\n",
    "        # zero the parameter gradients\n",
    "        optimizer.zero_grad()\n",
    "\n",
    "        # forward + backward + optimize\n",
    "        outputs = model(inputs.float())\n",
    "        loss = criterion(outputs, labels)\n",
    "        loss.backward()\n",
    "        optimizer.step()\n",
    "\n",
    "        # print statistics\n",
    "        running_loss += loss.item()\n",
    "        #print(running_loss)\n",
    "        if i % 1000 == 0:    # print every 2000 mini-batches\n",
    "            print('[%d, %5d] loss: %.3f' %\n",
    "                  (epoch + 1, i + 1, running_loss / 50))\n",
    "            running_loss = 0.0\n",
    "\n",
    "print('Finished Training')"
   ]
  },
  {
   "cell_type": "code",
   "execution_count": 313,
   "metadata": {},
   "outputs": [
    {
     "name": "stdout",
     "output_type": "stream",
     "text": [
      "Accuracy of the network on the 10000 test images: 87 %\n"
     ]
    }
   ],
   "source": [
    "correct = 0\n",
    "total = 0\n",
    "with torch.no_grad():\n",
    "    for data in test_loader:\n",
    "        images, labels = data\n",
    "        outputs = model(images.float())\n",
    "        _, predicted = torch.max(outputs.data, 1)\n",
    "        total += labels.size(0)\n",
    "        correct += (predicted == labels).sum().item()\n",
    "\n",
    "print('Accuracy of the network on the 10000 test images: %d %%' % (\n",
    "    100 * correct / total))"
   ]
  },
  {
   "cell_type": "code",
   "execution_count": 299,
   "metadata": {},
   "outputs": [
    {
     "data": {
      "text/plain": [
       "1295"
      ]
     },
     "execution_count": 299,
     "metadata": {},
     "output_type": "execute_result"
    }
   ],
   "source": [
    "correct"
   ]
  },
  {
   "cell_type": "code",
   "execution_count": 300,
   "metadata": {},
   "outputs": [
    {
     "data": {
      "text/plain": [
       "1339"
      ]
     },
     "execution_count": 300,
     "metadata": {},
     "output_type": "execute_result"
    }
   ],
   "source": [
    "total"
   ]
  },
  {
   "cell_type": "markdown",
   "metadata": {},
   "source": [
    "# Processing CM dataset"
   ]
  },
  {
   "cell_type": "code",
   "execution_count": 164,
   "metadata": {},
   "outputs": [],
   "source": [
    "df_cm = pd.read_csv('datasets/cm_aligned.tsv', sep='\\t', names=['name','sequence'])"
   ]
  },
  {
   "cell_type": "code",
   "execution_count": 167,
   "metadata": {},
   "outputs": [
    {
     "data": {
      "text/html": [
       "<div>\n",
       "<style scoped>\n",
       "    .dataframe tbody tr th:only-of-type {\n",
       "        vertical-align: middle;\n",
       "    }\n",
       "\n",
       "    .dataframe tbody tr th {\n",
       "        vertical-align: top;\n",
       "    }\n",
       "\n",
       "    .dataframe thead th {\n",
       "        text-align: right;\n",
       "    }\n",
       "</style>\n",
       "<table border=\"1\" class=\"dataframe\">\n",
       "  <thead>\n",
       "    <tr style=\"text-align: right;\">\n",
       "      <th></th>\n",
       "      <th>name</th>\n",
       "      <th>sequence</th>\n",
       "    </tr>\n",
       "  </thead>\n",
       "  <tbody>\n",
       "    <tr>\n",
       "      <th>0</th>\n",
       "      <td>1432.KF859742.O.CCR5</td>\n",
       "      <td>C-ERPTMD--I-QD---I-H--IGP----MA-WY--STYIER-QAK...</td>\n",
       "    </tr>\n",
       "    <tr>\n",
       "      <th>1</th>\n",
       "      <td>MD47.KF859744.O.CCR5</td>\n",
       "      <td>C-QRPGHQ-EI-QE---I-K--TGP-----LAWY--SMYLKE-NTT...</td>\n",
       "    </tr>\n",
       "    <tr>\n",
       "      <th>2</th>\n",
       "      <td>BCF02.U24562.O.CCR5</td>\n",
       "      <td>C-QRPGHQ-TV-QE---I-R--IGP-----MAWY--SM---G-LAA...</td>\n",
       "    </tr>\n",
       "    <tr>\n",
       "      <th>3</th>\n",
       "      <td>152.KF859743.O.CCR5</td>\n",
       "      <td>C-RRPAMK--V-QE---M-R--IGP----MA-WY--SMALEE-GNN...</td>\n",
       "    </tr>\n",
       "    <tr>\n",
       "      <th>4</th>\n",
       "      <td>DUR.X84327.O.CCR5</td>\n",
       "      <td>C-VRPGNN-SV-QE---I-K--IGP-----MAWY--SM-----QIE...</td>\n",
       "    </tr>\n",
       "    <tr>\n",
       "      <th>5</th>\n",
       "      <td>DUR.AM262121.O.CCR5</td>\n",
       "      <td>C-VRPGNN-SV-QE---M-R--VGP--M--A-WY--SM-----ELE...</td>\n",
       "    </tr>\n",
       "    <tr>\n",
       "      <th>6</th>\n",
       "      <td>DUR.AM262130.O.CCR5</td>\n",
       "      <td>C-VRPGNN-SV-KE---M-R--VGP--M--A-LY--SM-----ELE...</td>\n",
       "    </tr>\n",
       "    <tr>\n",
       "      <th>7</th>\n",
       "      <td>DUR.AM262127.O.CCR5</td>\n",
       "      <td>C-VRPGDN-SV-KE---M-R--AGP-----MAWY--SM-----ELE...</td>\n",
       "    </tr>\n",
       "    <tr>\n",
       "      <th>8</th>\n",
       "      <td>CA9.X96522.O.CCR5</td>\n",
       "      <td>C-ERPGNH-TV-QE---I-R--IGP-LA----WY--SM---G-IEK...</td>\n",
       "    </tr>\n",
       "    <tr>\n",
       "      <th>9</th>\n",
       "      <td>BCF01.U24566.O.CCR5</td>\n",
       "      <td>C-HRPGNL-SV-QE---M-K--IGP--LS---WY--SM---G-LAA...</td>\n",
       "    </tr>\n",
       "  </tbody>\n",
       "</table>\n",
       "</div>"
      ],
      "text/plain": [
       "                   name                                           sequence\n",
       "0  1432.KF859742.O.CCR5  C-ERPTMD--I-QD---I-H--IGP----MA-WY--STYIER-QAK...\n",
       "1  MD47.KF859744.O.CCR5  C-QRPGHQ-EI-QE---I-K--TGP-----LAWY--SMYLKE-NTT...\n",
       "2   BCF02.U24562.O.CCR5  C-QRPGHQ-TV-QE---I-R--IGP-----MAWY--SM---G-LAA...\n",
       "3   152.KF859743.O.CCR5  C-RRPAMK--V-QE---M-R--IGP----MA-WY--SMALEE-GNN...\n",
       "4     DUR.X84327.O.CCR5  C-VRPGNN-SV-QE---I-K--IGP-----MAWY--SM-----QIE...\n",
       "5   DUR.AM262121.O.CCR5  C-VRPGNN-SV-QE---M-R--VGP--M--A-WY--SM-----ELE...\n",
       "6   DUR.AM262130.O.CCR5  C-VRPGNN-SV-KE---M-R--VGP--M--A-LY--SM-----ELE...\n",
       "7   DUR.AM262127.O.CCR5  C-VRPGDN-SV-KE---M-R--AGP-----MAWY--SM-----ELE...\n",
       "8     CA9.X96522.O.CCR5  C-ERPGNH-TV-QE---I-R--IGP-LA----WY--SM---G-IEK...\n",
       "9   BCF01.U24566.O.CCR5  C-HRPGNL-SV-QE---M-K--IGP--LS---WY--SM---G-LAA..."
      ]
     },
     "execution_count": 167,
     "metadata": {},
     "output_type": "execute_result"
    }
   ],
   "source": [
    "df_cm.head(10)"
   ]
  },
  {
   "cell_type": "code",
   "execution_count": 185,
   "metadata": {},
   "outputs": [],
   "source": [
    "def get_label(row):\n",
    "    if 'CCR5' in row['name'] and 'CXCR4' in row['name']:\n",
    "        return 'R5X4'\n",
    "    elif 'CCR5' in row['name']:\n",
    "        return 'CCR5'\n",
    "    elif 'CXCR4' in row['name']:\n",
    "        return 'CXCR4'"
   ]
  },
  {
   "cell_type": "code",
   "execution_count": 186,
   "metadata": {},
   "outputs": [
    {
     "data": {
      "text/plain": [
       "0             1432.KF859742.O.CCR5\n",
       "1             MD47.KF859744.O.CCR5\n",
       "2              BCF02.U24562.O.CCR5\n",
       "3              152.KF859743.O.CCR5\n",
       "4                DUR.X84327.O.CCR5\n",
       "                   ...            \n",
       "2674    H13988_DS2.JF508074.B.CCR5\n",
       "2675    H13988_DS2.JF508043.B.CCR5\n",
       "2676            39.AF022258.B.CCR5\n",
       "2677           122.DQ002264.B.CCR5\n",
       "2678          Pat1.AF541016.B.CCR5\n",
       "Name: name, Length: 2679, dtype: object"
      ]
     },
     "execution_count": 186,
     "metadata": {},
     "output_type": "execute_result"
    }
   ],
   "source": [
    "df_cm.name"
   ]
  },
  {
   "cell_type": "code",
   "execution_count": 187,
   "metadata": {},
   "outputs": [
    {
     "data": {
      "text/plain": [
       "'RKF859742'"
      ]
     },
     "execution_count": 187,
     "metadata": {},
     "output_type": "execute_result"
    }
   ],
   "source": [
    "df.loc[0]['name']"
   ]
  },
  {
   "cell_type": "code",
   "execution_count": 193,
   "metadata": {},
   "outputs": [],
   "source": [
    "df_cm['label'] = df_cm.apply(get_label, axis=1)"
   ]
  },
  {
   "cell_type": "code",
   "execution_count": 194,
   "metadata": {},
   "outputs": [],
   "source": [
    "df_cm['label_numeric'] = df_cm.apply(tropism_label, axis=1)"
   ]
  },
  {
   "cell_type": "code",
   "execution_count": 196,
   "metadata": {},
   "outputs": [
    {
     "data": {
      "text/html": [
       "<div>\n",
       "<style scoped>\n",
       "    .dataframe tbody tr th:only-of-type {\n",
       "        vertical-align: middle;\n",
       "    }\n",
       "\n",
       "    .dataframe tbody tr th {\n",
       "        vertical-align: top;\n",
       "    }\n",
       "\n",
       "    .dataframe thead th {\n",
       "        text-align: right;\n",
       "    }\n",
       "</style>\n",
       "<table border=\"1\" class=\"dataframe\">\n",
       "  <thead>\n",
       "    <tr style=\"text-align: right;\">\n",
       "      <th></th>\n",
       "      <th>name</th>\n",
       "      <th>sequence</th>\n",
       "      <th>label</th>\n",
       "      <th>label_numeric</th>\n",
       "    </tr>\n",
       "  </thead>\n",
       "  <tbody>\n",
       "    <tr>\n",
       "      <th>0</th>\n",
       "      <td>1432.KF859742.O.CCR5</td>\n",
       "      <td>C-ERPTMD--I-QD---I-H--IGP----MA-WY--STYIER-QAK...</td>\n",
       "      <td>CCR5</td>\n",
       "      <td>0</td>\n",
       "    </tr>\n",
       "    <tr>\n",
       "      <th>1</th>\n",
       "      <td>MD47.KF859744.O.CCR5</td>\n",
       "      <td>C-QRPGHQ-EI-QE---I-K--TGP-----LAWY--SMYLKE-NTT...</td>\n",
       "      <td>CCR5</td>\n",
       "      <td>0</td>\n",
       "    </tr>\n",
       "    <tr>\n",
       "      <th>2</th>\n",
       "      <td>BCF02.U24562.O.CCR5</td>\n",
       "      <td>C-QRPGHQ-TV-QE---I-R--IGP-----MAWY--SM---G-LAA...</td>\n",
       "      <td>CCR5</td>\n",
       "      <td>0</td>\n",
       "    </tr>\n",
       "    <tr>\n",
       "      <th>3</th>\n",
       "      <td>152.KF859743.O.CCR5</td>\n",
       "      <td>C-RRPAMK--V-QE---M-R--IGP----MA-WY--SMALEE-GNN...</td>\n",
       "      <td>CCR5</td>\n",
       "      <td>0</td>\n",
       "    </tr>\n",
       "    <tr>\n",
       "      <th>4</th>\n",
       "      <td>DUR.X84327.O.CCR5</td>\n",
       "      <td>C-VRPGNN-SV-QE---I-K--IGP-----MAWY--SM-----QIE...</td>\n",
       "      <td>CCR5</td>\n",
       "      <td>0</td>\n",
       "    </tr>\n",
       "    <tr>\n",
       "      <th>5</th>\n",
       "      <td>DUR.AM262121.O.CCR5</td>\n",
       "      <td>C-VRPGNN-SV-QE---M-R--VGP--M--A-WY--SM-----ELE...</td>\n",
       "      <td>CCR5</td>\n",
       "      <td>0</td>\n",
       "    </tr>\n",
       "    <tr>\n",
       "      <th>6</th>\n",
       "      <td>DUR.AM262130.O.CCR5</td>\n",
       "      <td>C-VRPGNN-SV-KE---M-R--VGP--M--A-LY--SM-----ELE...</td>\n",
       "      <td>CCR5</td>\n",
       "      <td>0</td>\n",
       "    </tr>\n",
       "    <tr>\n",
       "      <th>7</th>\n",
       "      <td>DUR.AM262127.O.CCR5</td>\n",
       "      <td>C-VRPGDN-SV-KE---M-R--AGP-----MAWY--SM-----ELE...</td>\n",
       "      <td>CCR5</td>\n",
       "      <td>0</td>\n",
       "    </tr>\n",
       "    <tr>\n",
       "      <th>8</th>\n",
       "      <td>CA9.X96522.O.CCR5</td>\n",
       "      <td>C-ERPGNH-TV-QE---I-R--IGP-LA----WY--SM---G-IEK...</td>\n",
       "      <td>CCR5</td>\n",
       "      <td>0</td>\n",
       "    </tr>\n",
       "    <tr>\n",
       "      <th>9</th>\n",
       "      <td>BCF01.U24566.O.CCR5</td>\n",
       "      <td>C-HRPGNL-SV-QE---M-K--IGP--LS---WY--SM---G-LAA...</td>\n",
       "      <td>CCR5</td>\n",
       "      <td>0</td>\n",
       "    </tr>\n",
       "    <tr>\n",
       "      <th>10</th>\n",
       "      <td>UG070.AY669756.D.CXCR4</td>\n",
       "      <td>C-ARPYIKIWR-RT-----H--IGS-GQ----AY--ST---K-RIQ...</td>\n",
       "      <td>CXCR4</td>\n",
       "      <td>1</td>\n",
       "    </tr>\n",
       "    <tr>\n",
       "      <th>11</th>\n",
       "      <td>-.EF688451.B.CXCR4</td>\n",
       "      <td>C-TRPNNK-KI-EG---I-R--IGP-GS--A-YF--TR-----QIK...</td>\n",
       "      <td>CXCR4</td>\n",
       "      <td>1</td>\n",
       "    </tr>\n",
       "    <tr>\n",
       "      <th>12</th>\n",
       "      <td>VI761.AM156912.D.CXCR4</td>\n",
       "      <td>C-IRPFYK-TR-KS---V-R--VGL-GR--A--Y--LT---E-RIR...</td>\n",
       "      <td>CXCR4</td>\n",
       "      <td>1</td>\n",
       "    </tr>\n",
       "    <tr>\n",
       "      <th>13</th>\n",
       "      <td>-.AY887865.C.CCR5</td>\n",
       "      <td>C-IRPGIN-KR-KR---I-R--IGL-RY--A-FF--AT---D-NRI...</td>\n",
       "      <td>CCR5</td>\n",
       "      <td>0</td>\n",
       "    </tr>\n",
       "    <tr>\n",
       "      <th>14</th>\n",
       "      <td>TC28.AY265949.C.CXCR4</td>\n",
       "      <td>C-GRPNNH-RI-KG---L-R--IGP-GR--A-FF--AM---G-AIG...</td>\n",
       "      <td>CXCR4</td>\n",
       "      <td>1</td>\n",
       "    </tr>\n",
       "    <tr>\n",
       "      <th>15</th>\n",
       "      <td>TC28.FJ541295.C.CXCR4</td>\n",
       "      <td>C-GRPNNH-RI-KG---L-R--IGP-GR--A-FF--AM---G-AIR...</td>\n",
       "      <td>CXCR4</td>\n",
       "      <td>1</td>\n",
       "    </tr>\n",
       "    <tr>\n",
       "      <th>16</th>\n",
       "      <td>FV14.DQ382372.C.CXCR4</td>\n",
       "      <td>C-TRPANT-RI-KR---L-G--IGP-GQ--A-FR--TV---K-QII...</td>\n",
       "      <td>CXCR4</td>\n",
       "      <td>1</td>\n",
       "    </tr>\n",
       "    <tr>\n",
       "      <th>17</th>\n",
       "      <td>159.KF770412.C.CXCR4</td>\n",
       "      <td>C-TRPNIN-NV-RN---V-R--IGP-GR--A-LF--KT---G-KMT...</td>\n",
       "      <td>CXCR4</td>\n",
       "      <td>1</td>\n",
       "    </tr>\n",
       "    <tr>\n",
       "      <th>18</th>\n",
       "      <td>159.KF770413.C.CXCR4</td>\n",
       "      <td>C-TRPNIN-RE-RN---V-R--IGP-GR--A-FF--RT---G-QMT...</td>\n",
       "      <td>CXCR4</td>\n",
       "      <td>1</td>\n",
       "    </tr>\n",
       "    <tr>\n",
       "      <th>19</th>\n",
       "      <td>159.KF770411.C.CXCR4</td>\n",
       "      <td>C-TRPNIN-RE-RK---V-R--IGP-GR--A-FF--RT---G-QMT...</td>\n",
       "      <td>CXCR4</td>\n",
       "      <td>1</td>\n",
       "    </tr>\n",
       "  </tbody>\n",
       "</table>\n",
       "</div>"
      ],
      "text/plain": [
       "                      name                                           sequence  \\\n",
       "0     1432.KF859742.O.CCR5  C-ERPTMD--I-QD---I-H--IGP----MA-WY--STYIER-QAK...   \n",
       "1     MD47.KF859744.O.CCR5  C-QRPGHQ-EI-QE---I-K--TGP-----LAWY--SMYLKE-NTT...   \n",
       "2      BCF02.U24562.O.CCR5  C-QRPGHQ-TV-QE---I-R--IGP-----MAWY--SM---G-LAA...   \n",
       "3      152.KF859743.O.CCR5  C-RRPAMK--V-QE---M-R--IGP----MA-WY--SMALEE-GNN...   \n",
       "4        DUR.X84327.O.CCR5  C-VRPGNN-SV-QE---I-K--IGP-----MAWY--SM-----QIE...   \n",
       "5      DUR.AM262121.O.CCR5  C-VRPGNN-SV-QE---M-R--VGP--M--A-WY--SM-----ELE...   \n",
       "6      DUR.AM262130.O.CCR5  C-VRPGNN-SV-KE---M-R--VGP--M--A-LY--SM-----ELE...   \n",
       "7      DUR.AM262127.O.CCR5  C-VRPGDN-SV-KE---M-R--AGP-----MAWY--SM-----ELE...   \n",
       "8        CA9.X96522.O.CCR5  C-ERPGNH-TV-QE---I-R--IGP-LA----WY--SM---G-IEK...   \n",
       "9      BCF01.U24566.O.CCR5  C-HRPGNL-SV-QE---M-K--IGP--LS---WY--SM---G-LAA...   \n",
       "10  UG070.AY669756.D.CXCR4  C-ARPYIKIWR-RT-----H--IGS-GQ----AY--ST---K-RIQ...   \n",
       "11      -.EF688451.B.CXCR4  C-TRPNNK-KI-EG---I-R--IGP-GS--A-YF--TR-----QIK...   \n",
       "12  VI761.AM156912.D.CXCR4  C-IRPFYK-TR-KS---V-R--VGL-GR--A--Y--LT---E-RIR...   \n",
       "13       -.AY887865.C.CCR5  C-IRPGIN-KR-KR---I-R--IGL-RY--A-FF--AT---D-NRI...   \n",
       "14   TC28.AY265949.C.CXCR4  C-GRPNNH-RI-KG---L-R--IGP-GR--A-FF--AM---G-AIG...   \n",
       "15   TC28.FJ541295.C.CXCR4  C-GRPNNH-RI-KG---L-R--IGP-GR--A-FF--AM---G-AIR...   \n",
       "16   FV14.DQ382372.C.CXCR4  C-TRPANT-RI-KR---L-G--IGP-GQ--A-FR--TV---K-QII...   \n",
       "17    159.KF770412.C.CXCR4  C-TRPNIN-NV-RN---V-R--IGP-GR--A-LF--KT---G-KMT...   \n",
       "18    159.KF770413.C.CXCR4  C-TRPNIN-RE-RN---V-R--IGP-GR--A-FF--RT---G-QMT...   \n",
       "19    159.KF770411.C.CXCR4  C-TRPNIN-RE-RK---V-R--IGP-GR--A-FF--RT---G-QMT...   \n",
       "\n",
       "    label  label_numeric  \n",
       "0    CCR5              0  \n",
       "1    CCR5              0  \n",
       "2    CCR5              0  \n",
       "3    CCR5              0  \n",
       "4    CCR5              0  \n",
       "5    CCR5              0  \n",
       "6    CCR5              0  \n",
       "7    CCR5              0  \n",
       "8    CCR5              0  \n",
       "9    CCR5              0  \n",
       "10  CXCR4              1  \n",
       "11  CXCR4              1  \n",
       "12  CXCR4              1  \n",
       "13   CCR5              0  \n",
       "14  CXCR4              1  \n",
       "15  CXCR4              1  \n",
       "16  CXCR4              1  \n",
       "17  CXCR4              1  \n",
       "18  CXCR4              1  \n",
       "19  CXCR4              1  "
      ]
     },
     "execution_count": 196,
     "metadata": {},
     "output_type": "execute_result"
    }
   ],
   "source": [
    "df_cm.head(20)"
   ]
  },
  {
   "cell_type": "code",
   "execution_count": null,
   "metadata": {},
   "outputs": [],
   "source": []
  }
 ],
 "metadata": {
  "kernelspec": {
   "display_name": "deeptropism",
   "language": "python",
   "name": "deeptropism"
  },
  "language_info": {
   "codemirror_mode": {
    "name": "ipython",
    "version": 3
   },
   "file_extension": ".py",
   "mimetype": "text/x-python",
   "name": "python",
   "nbconvert_exporter": "python",
   "pygments_lexer": "ipython3",
   "version": "3.7.4"
  }
 },
 "nbformat": 4,
 "nbformat_minor": 4
}
